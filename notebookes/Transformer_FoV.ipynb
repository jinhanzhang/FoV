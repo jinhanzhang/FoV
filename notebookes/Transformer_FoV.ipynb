{
 "cells": [
  {
   "cell_type": "code",
   "execution_count": 14,
   "metadata": {},
   "outputs": [],
   "source": [
    "# %load_ext autoreload\n",
    "# %autoreload 2\n",
    "# from utils import *\n",
    "# from Network import *\n",
    "# basic packages\n",
    "import numpy as np\n",
    "import glob\n",
    "# import h5py\n",
    "import math\n",
    "%matplotlib notebook\n",
    "%matplotlib inline\n",
    "import matplotlib.pyplot as plt\n",
    "import scipy.io\n",
    "from scipy import stats\n",
    "import os\n",
    "import copy\n",
    "import time\n",
    "from easydict import EasyDict as edict\n",
    "# from tempfile import TemporaryDirectory\n",
    "# torch packages\n",
    "import torch\n",
    "from torch import nn, Tensor\n",
    "import torch.nn.functional as F\n",
    "from torch.nn import TransformerEncoder, TransformerEncoderLayer\n",
    "from torch.utils.data import DataLoader, Dataset, Subset, random_split\n",
    "from torchvision.transforms import ToTensor\n",
    "from torch.utils.tensorboard import SummaryWriter\n",
    "import torch.optim as optim\n",
    "from sklearn.model_selection import train_test_split\n",
    "from tqdm.autonotebook import tqdm"
   ]
  },
  {
   "cell_type": "code",
   "execution_count": 2,
   "metadata": {},
   "outputs": [],
   "source": [
    "class FoVDataset(Dataset):\n",
    "    def __init__(self, x_data, y_data):\n",
    "        self.x_data = x_data\n",
    "        self.y_data = y_data\n",
    "\n",
    "    def __len__(self):\n",
    "        return len(self.x_data)\n",
    "\n",
    "    def __getitem__(self, idx):\n",
    "        x = torch.tensor(self.x_data[idx])\n",
    "        y = torch.tensor(self.y_data[idx])\n",
    "        return x,y\n",
    "\n",
    "def a_norm(Q, K, mask = None):\n",
    "    m = torch.matmul(Q, K.transpose(2,1).float())\n",
    "    m /= torch.sqrt(torch.tensor(Q.shape[-1]).float())\n",
    "    \n",
    "    \n",
    "    if mask is not None:\n",
    "        m.masked_fill(mask == 0, float(\"-1e20\"))\n",
    "    \n",
    "    return torch.softmax(m , -1) #(batch_size, seq_length, seq_length)\n",
    "\n",
    "\n",
    "def attention(Q, K, V, mask = None):\n",
    "    #Attention(Q, K, V) = norm(QK)V\n",
    "    a = a_norm(Q, K, mask) #(batch_size, seq_length, seq_length)\n",
    "    \n",
    "    return  torch.matmul(a,  V) #(batch_size, seq_length, head_dim)\n",
    "\n",
    "class AttentionBlock(torch.nn.Module):\n",
    "    def __init__(self, dim_val, head_dim):\n",
    "        super(AttentionBlock, self).__init__()\n",
    "        self.value = Value(dim_val, head_dim)\n",
    "        self.key = Key(dim_val, head_dim)\n",
    "        self.query = Query(dim_val, head_dim)\n",
    "    \n",
    "    def forward(self, x, kv = None, mask = None):\n",
    "        if(kv is None):\n",
    "            #Attention with x connected to Q,K and V (For encoder)\n",
    "            output =  attention(self.query(x), self.key(x), self.value(x), mask)\n",
    "        else:\n",
    "            #Attention with x as Q, external vector kv as K an V (For decoder)\n",
    "            output = attention(self.query(x), self.key(kv), self.value(kv), mask)\n",
    "        \n",
    "        return output #(batch_size, seq_length, head_dim)\n",
    "    \n",
    "class MultiHeadAttentionBlock(torch.nn.Module):\n",
    "    def __init__(self, dim_val, head_dim, n_heads):\n",
    "        super(MultiHeadAttentionBlock, self).__init__()\n",
    "        self.heads = []\n",
    "        for i in range(n_heads):\n",
    "            self.heads.append(AttentionBlock(dim_val, head_dim))\n",
    "        self.heads = nn.ModuleList(self.heads)\n",
    "        self.fc = nn.Linear(n_heads * head_dim, dim_val, bias = False)\n",
    "                      \n",
    "    def forward(self, x, kv = None, mask = None):\n",
    "        a = []\n",
    "        for h in self.heads:\n",
    "            a.append(h(x, kv = kv, mask = mask))\n",
    "            \n",
    "        a = torch.stack(a, dim = -1) #combine heads\n",
    "        a = a.flatten(start_dim = 2) #flatten all head outputs [N, seq_len, dim_val]        \n",
    "        x = self.fc(a)\n",
    "        \n",
    "        return x\n",
    "    \n",
    "class Value(torch.nn.Module):\n",
    "    def __init__(self, dim_val, head_dim):\n",
    "        super(Value, self).__init__()\n",
    "        self.fc1 = nn.Linear(dim_val, head_dim, bias = False) # [N,seq_len,head_dim]\n",
    "    \n",
    "    def forward(self, x):\n",
    "        x = self.fc1(x)\n",
    "        return x\n",
    "\n",
    "class Key(torch.nn.Module):\n",
    "    def __init__(self, dim_val, head_dim):\n",
    "        super(Key, self).__init__()\n",
    "        self.fc1 = nn.Linear(dim_val, head_dim, bias = False) # [N,seq_len,head_dim]\n",
    "    \n",
    "    def forward(self, x):\n",
    "        x = self.fc1(x)\n",
    "        return x\n",
    "\n",
    "class Query(torch.nn.Module):\n",
    "    def __init__(self, dim_val, head_dim):\n",
    "        super(Query, self).__init__()        \n",
    "        self.fc1 = nn.Linear(dim_val, head_dim, bias = False)\n",
    "    \n",
    "    def forward(self, x):\n",
    "        x = self.fc1(x)        \n",
    "        return x\n",
    "\n",
    "# https://pytorch.org/tutorials/beginner/transformer_tutorial.html\n",
    "class PositionalEncoding(nn.Module):\n",
    "    def __init__(self, d_model, dropout=0.1, max_len=600):\n",
    "        super(PositionalEncoding, self).__init__()\n",
    "        pe = torch.zeros(max_len, d_model)\n",
    "        position = torch.arange(0, max_len, dtype=torch.float).unsqueeze(1)\n",
    "        div_term = torch.exp(torch.arange(0, d_model, 2).float() * (-math.log(10000.0) / d_model))\n",
    "        \n",
    "        pe[:, 0::2] = torch.sin(position * div_term)\n",
    "        pe[:, 1::2] = torch.cos(position * div_term)\n",
    "        \n",
    "        pe = pe.unsqueeze(0).transpose(0, 1)\n",
    "        \n",
    "        self.register_buffer('pe', pe) # [seq_len, dim_val]\n",
    "        \n",
    "    def forward(self, x):\n",
    "        x = x + self.pe[:x.size(1), :].squeeze(1) # x + [seq_len, dim_val]\n",
    "        return x  \n",
    "\n",
    "#TODO\n",
    "class RelativePositionalEncoding(nn.Module):\n",
    "    def __init__(self, seq_len, dropout=0.1, max_len=5000):\n",
    "        super(RelativePositionalEncoding, self).__init__()\n",
    "        self.seq_len = seq_len\n",
    "        self.table = nn.Linear(seq_len, 2*seq_len)\n",
    "        \n",
    "\n",
    "    def forward(self, x):\n",
    "        x = table(x)\n",
    "        return x \n",
    "\n",
    "# checkpointing\n",
    "def save_ckpt(path, model, optimizer, epoch, train_losses, val_losses):\n",
    "    \n",
    "#     torch.save({'net': network.state_dict(), 'opt': optimizer.state_dict()}, fn)\n",
    "    path = f'{path}/epoch_{epoch}_batch_{BATCH_SIZE}_ckpts.pt'\n",
    "    torch.save({\n",
    "            'epoch': epoch,\n",
    "            'model_state_dict': model.state_dict(),\n",
    "            'optimizer_state_dict': optimizer.state_dict(),\n",
    "            'train_losses': train_losses,\n",
    "            'val_losses': val_losses,\n",
    "            }, path)\n",
    "\n",
    "def load_ckpt(path, model, optimizer, device='cuda'):\n",
    "    if device == 'cpu':\n",
    "        checkpoint = torch.load(path,map_location=torch.device('cpu'))\n",
    "    else:\n",
    "        checkpoint = torch.load(path)\n",
    "    model.load_state_dict(checkpoint['model_state_dict'])\n",
    "    optimizer.load_state_dict(checkpoint['optimizer_state_dict'])\n",
    "    epoch = checkpoint['epoch']\n",
    "    train_losses = checkpoint['train_losses']\n",
    "    val_losses = checkpoint['val_losses']\n",
    "\n",
    "    model.eval()\n",
    "    return model, optimizer"
   ]
  },
  {
   "cell_type": "code",
   "execution_count": 3,
   "metadata": {},
   "outputs": [],
   "source": [
    "class EncoderLayer(torch.nn.Module):\n",
    "    def __init__(self, dim_val, head_dim, n_heads = 1):\n",
    "        super(EncoderLayer, self).__init__()\n",
    "        self.attn = MultiHeadAttentionBlock(dim_val, head_dim , n_heads)\n",
    "        self.fc1 = nn.Linear(dim_val, dim_val)\n",
    "        self.fc2 = nn.Linear(dim_val, dim_val)\n",
    "        self.norm1 = nn.LayerNorm(dim_val)\n",
    "        self.norm2 = nn.LayerNorm(dim_val)\n",
    "    \n",
    "    def forward(self, x):\n",
    "        # x: [N, enc_seq_len, dim_val]\n",
    "        a = self.attn(x)\n",
    "        x = self.norm1(x + a)\n",
    "        a = self.fc1(F.elu(self.fc2(x)))\n",
    "        x = self.norm2(x + a) # [N, enc_seq_len, dim_val]\n",
    "        return x\n",
    "\n",
    "class DecoderLayer(torch.nn.Module):\n",
    "    def __init__(self, dim_val, head_dim, n_heads = 1):\n",
    "        super(DecoderLayer, self).__init__()\n",
    "        self.attn1 = MultiHeadAttentionBlock(dim_val, head_dim, n_heads)\n",
    "        self.attn2 = MultiHeadAttentionBlock(dim_val, head_dim, n_heads)\n",
    "        self.fc1 = nn.Linear(dim_val, dim_val)\n",
    "        self.fc2 = nn.Linear(dim_val, dim_val)\n",
    "        self.norm1 = nn.LayerNorm(dim_val)\n",
    "        self.norm2 = nn.LayerNorm(dim_val)\n",
    "        self.norm3 = nn.LayerNorm(dim_val)\n",
    "        \n",
    "    def forward(self, x, enc, mask):\n",
    "        # x: [N, dec_seq_len, dim_val]\n",
    "        a = self.attn1(x, kv=None, mask = mask)\n",
    "        x = self.norm1(a + x)\n",
    "        a = self.attn2(x, kv = enc, mask = mask) # TODO check does this need mask?\n",
    "        x = self.norm2(a + x)\n",
    "        a = self.fc1(F.elu(self.fc2(x)))\n",
    "        x = self.norm3(x + a) # x: [N, dec_seq_len, dim_val]\n",
    "        return x\n",
    "\n",
    "class Transformer(torch.nn.Module):\n",
    "    def __init__(self, dim_val, head_dim, feature_size, dec_seq_len, out_seq_len, n_decoder_layers = 1, n_encoder_layers = 1, n_heads = 1, pe_mode = 'standard', device='cuda'):\n",
    "        \"\"\"\n",
    "            dim_val: d_model - 64\n",
    "            head_dim: 16\n",
    "            feature_size: feature size - 9\n",
    "            dec_seq_len: length of decoder input sequence - 600\n",
    "            out_seq_len: decoder output sequence length - 1 or 600?\n",
    "            pe_mode: positional encoding mode - 'relative' or 'standard'\n",
    "        \"\"\"\n",
    "        self.device=device\n",
    "        super(Transformer, self).__init__()\n",
    "        self.dec_seq_len = dec_seq_len\n",
    "        \n",
    "        #Initiate encoder and Decoder layers\n",
    "        self.encs = nn.ModuleList()\n",
    "        for i in range(n_encoder_layers):\n",
    "            self.encs.append(EncoderLayer(dim_val, head_dim, n_heads))\n",
    "        \n",
    "        self.decs = nn.ModuleList()\n",
    "        for i in range(n_decoder_layers):\n",
    "            self.decs.append(DecoderLayer(dim_val, head_dim, n_heads))\n",
    "        \n",
    "        if pe_mode == 'relative':\n",
    "            self.pos = RelativePositionalEncoding(dim_val)\n",
    "        else:\n",
    "            self.pos = PositionalEncoding(dim_val)\n",
    "        \n",
    "        #Dense layers for managing network inputs and outputs\n",
    "#         self.enc_input_fc = nn.Linear(feature_size, dim_val)\n",
    "        self.enc_input_fc = nn.Sequential(\n",
    "          nn.Linear(feature_size, dim_val//2),\n",
    "          nn.ReLU(),\n",
    "          nn.Linear(dim_val//2, dim_val),\n",
    "        )\n",
    "        self.dec_input_fc = nn.Linear(feature_size, dim_val)\n",
    "#         self.out_fc = nn.Linear(dec_seq_len * dim_val, out_seq_len)\n",
    "        self.out_fc = nn.Linear(dim_val, feature_size)\n",
    "\n",
    "        \n",
    "    def make_trg_mask(self, N, trg_len):\n",
    "        trg_mask = torch.tril(torch.ones((trg_len, trg_len))).expand(\n",
    "           N, 1, trg_len, trg_len\n",
    "        )\n",
    "        return trg_mask.to(self.device)\n",
    "    \n",
    "    def forward(self, x, target=None):\n",
    "        # x: [N, enc_seq_len, feature_size] = [8, 600, 9]\n",
    "        # dec_input = [N, dec_seq_len, feature_size]\n",
    "        \n",
    "        # MLP\n",
    "        mlp = self.enc_input_fc(x) # [N, enc_seq_len, dim_val]\n",
    "        #encoder\n",
    "        e = self.encs[0](self.pos(mlp))\n",
    "        for enc in self.encs[1:]:\n",
    "            e = enc(e) # [N, enc_seq_len, dim_val]\n",
    "        \n",
    "        #decoder\n",
    "        # mask\n",
    "        mask = self.make_trg_mask(x.shape[0],dec_seq_len) # [N, dec_seq_len, dec_seq_len]\n",
    "        if target == None:\n",
    "#             dec_input = torch.zeros(x.shape)\n",
    "#             dec_input[:,0,:] = x[:,-1,:]\n",
    "            dec_input = x\n",
    "        else:\n",
    "            dec_input = torch.zeros(x.shape).to(self.device)\n",
    "            dec_input[:,0,:] = x[:,-1,:]\n",
    "            dec_input[:,1:,:] = target[:,:-1,:]\n",
    "        d = self.enc_input_fc(dec_input)\n",
    "        d = self.decs[0](self.pos(d), e, mask)\n",
    "        for dec in self.decs[1:]:\n",
    "            d = dec(d, e, mask) # [N, dec_seq_len, dim_val]\n",
    "        #output\n",
    "#         x = self.out_fc(d.flatten(start_dim=1))\n",
    "        x = self.out_fc(d) # [N, dec_seq_len, feature_size]\n",
    "        \n",
    "        return x"
   ]
  },
  {
   "cell_type": "code",
   "execution_count": 4,
   "metadata": {},
   "outputs": [
    {
     "name": "stdout",
     "output_type": "stream",
     "text": [
      "cuda\n"
     ]
    }
   ],
   "source": [
    "# config\n",
    "FRAME_RATE = 60 # 60 frames/sec\n",
    "HISTORY_TIME = 10\n",
    "PREDICTION_TIME = 10\n",
    "HISTORY_LENGTH = HISTORY_TIME*FRAME_RATE\n",
    "PREDICTION_LENGTH = PREDICTION_TIME*FRAME_RATE\n",
    "DEVICE = \"cuda\" if torch.cuda.is_available() else \"cpu\"\n",
    "print(DEVICE)\n",
    "FEATURE_SIZE = 9\n",
    "BATCH_SIZE = 16"
   ]
  },
  {
   "cell_type": "code",
   "execution_count": 5,
   "metadata": {},
   "outputs": [],
   "source": [
    "# data\n",
    "x_train = np.loadtxt('processed_data/x_train.csv', dtype='float32', delimiter=',').reshape((-1,HISTORY_LENGTH,FEATURE_SIZE))\n",
    "y_train = np.loadtxt('processed_data/y_train.csv', dtype='float32', delimiter=',').reshape((-1,HISTORY_LENGTH,FEATURE_SIZE))\n",
    "x_val = np.loadtxt('processed_data/x_val.csv', dtype='float32', delimiter=',').reshape((-1,HISTORY_LENGTH,FEATURE_SIZE))\n",
    "y_val = np.loadtxt('processed_data/x_val.csv', dtype='float32', delimiter=',').reshape((-1,HISTORY_LENGTH,FEATURE_SIZE))\n",
    "x_test = np.loadtxt('processed_data/x_test.csv', dtype='float32', delimiter=',').reshape((-1,HISTORY_LENGTH,FEATURE_SIZE))\n",
    "y_test = np.loadtxt('processed_data/y_test.csv', dtype='float32', delimiter=',').reshape((-1,HISTORY_LENGTH,FEATURE_SIZE))"
   ]
  },
  {
   "cell_type": "code",
   "execution_count": 6,
   "metadata": {},
   "outputs": [
    {
     "data": {
      "text/plain": [
       "(2528, 600, 9)"
      ]
     },
     "execution_count": 6,
     "metadata": {},
     "output_type": "execute_result"
    }
   ],
   "source": [
    "x_train.shape"
   ]
  },
  {
   "cell_type": "code",
   "execution_count": 7,
   "metadata": {},
   "outputs": [],
   "source": [
    "train_data = FoVDataset(x_train, y_train)\n",
    "val_data = FoVDataset(x_val, y_val)\n",
    "test_data = FoVDataset(x_test, y_test)\n",
    "train_dataloader = DataLoader(train_data, batch_size=BATCH_SIZE, shuffle=True)\n",
    "val_dataloader = DataLoader(val_data, batch_size=BATCH_SIZE, shuffle=False)\n",
    "test_dataloader = DataLoader(test_data, batch_size=BATCH_SIZE, shuffle=False)"
   ]
  },
  {
   "cell_type": "code",
   "execution_count": 8,
   "metadata": {},
   "outputs": [
    {
     "data": {
      "text/plain": [
       "158"
      ]
     },
     "execution_count": 8,
     "metadata": {},
     "output_type": "execute_result"
    }
   ],
   "source": [
    "len(train_dataloader)"
   ]
  },
  {
   "cell_type": "code",
   "execution_count": 9,
   "metadata": {},
   "outputs": [
    {
     "data": {
      "text/plain": [
       "torch.Size([600, 9])"
      ]
     },
     "execution_count": 9,
     "metadata": {},
     "output_type": "execute_result"
    }
   ],
   "source": [
    "train_data[0][0].shape"
   ]
  },
  {
   "cell_type": "code",
   "execution_count": 10,
   "metadata": {},
   "outputs": [],
   "source": [
    "#training hyperparams\n",
    "enc_seq_len = HISTORY_LENGTH\n",
    "dec_seq_len = PREDICTION_LENGTH\n",
    "output_sequence_length = PREDICTION_LENGTH\n",
    "\n",
    "n_heads = 5\n",
    "head_dim = 32 # dimension of each head, not total\n",
    "dim_val = n_heads*head_dim # embedding dimension, all heads together\n",
    "lr = 0.001\n",
    "tf_rate = 0.5\n",
    "epochs = 20\n",
    "n_decoder_layers = 3\n",
    "n_encoder_layers = 3\n",
    "batch_size = BATCH_SIZE\n",
    "n_batches = len(train_dataloader)\n",
    "\n",
    "#init network and optimizer\n",
    "model = Transformer(dim_val, head_dim, FEATURE_SIZE, dec_seq_len, output_sequence_length, n_decoder_layers, n_encoder_layers, n_heads, device=DEVICE).to(device=DEVICE)\n",
    "optimizer = torch.optim.Adam(model.parameters(), lr=lr)\n",
    "scheduler = torch.optim.lr_scheduler.StepLR(optimizer, 1.0, gamma=0.95)\n",
    "#keep track of loss for graph\n",
    "train_losses = []\n",
    "val_losses = []\n",
    "test_losses = []\n",
    "train_pearsonr_arr = []\n",
    "val_pearsonr_arr = []\n",
    "test_pearsonr_arr = []"
   ]
  },
  {
   "cell_type": "code",
   "execution_count": 11,
   "metadata": {},
   "outputs": [],
   "source": [
    "def my_loss(output, target):\n",
    "    loss = torch.mean((output - target) ** 2)\n",
    "    return loss"
   ]
  },
  {
   "cell_type": "code",
   "execution_count": 12,
   "metadata": {},
   "outputs": [],
   "source": [
    "def train(model: nn.Module, data_loader, optimizer, scaler, writer, step) -> None:\n",
    "    progress_bar = tqdm(data_loader)\n",
    "    model.train() # turn on train mode\n",
    "    total_loss = 0.\n",
    "    start_time = time.time()\n",
    "    num_batches = len(data_loader)\n",
    "    log_interval = num_batches // 5\n",
    "    return_loss = 0.\n",
    "    for batch_idx, (data, targets) in enumerate(progress_bar):\n",
    "#         print(\"batch index: \", batch_idx)\n",
    "        data = data.to(device=DEVICE)\n",
    "        targets = targets.to(device=DEVICE)\n",
    "        # with torch.cuda.amp.autocast():\n",
    "        output = model(data,targets)\n",
    "        optimizer.zero_grad()\n",
    "        # loss = criterion(output, targets)\n",
    "        loss = my_loss(output, targets)\n",
    "        train_pearsonr = stats.pearsonr(output.detach().cpu().numpy().flatten(), targets.detach().cpu().numpy().flatten())\n",
    "        # print(loss)\n",
    "        # scaler.scale(loss).backward()\n",
    "        loss.backward()\n",
    "        torch.nn.utils.clip_grad_norm_(model.parameters(), max_norm=1)\n",
    "        # scaler.step(optimizer)\n",
    "        optimizer.step()\n",
    "        # scaler.update()\n",
    "        writer.add_scalar(\"Training Loss\", loss, global_step=step)\n",
    "        step += 1\n",
    "        total_loss += loss.item()\n",
    "        return_loss += loss.item()\n",
    "        progress_bar.set_postfix_str(f\"training loss={loss.item():.3e}|avg training loss={total_loss/(batch_idx+1):.3e}\")\n",
    "        if batch_idx % log_interval == 0 and batch_idx > 0:\n",
    "            lr = scheduler.get_last_lr()[0]\n",
    "            ms_per_batch = (time.time() - start_time) * 1000 / log_interval\n",
    "            cur_loss = total_loss / log_interval\n",
    "            print(f'| epoch {epoch:3d} | {batch_idx:5d}/{num_batches:5d} batches | '\n",
    "                  f'lr {lr:02.2f} | ms/batch {ms_per_batch:5.2f} | '\n",
    "                  f'loss {cur_loss:5.2f}')\n",
    "            total_loss = 0\n",
    "            start_time = time.time()\n",
    "    return return_loss/(batch_idx+1), train_pearsonr\n",
    "\n",
    "def validate(model: nn.Module, dataloader: DataLoader) -> float:\n",
    "    model.eval()\n",
    "    total_loss = 0.\n",
    "    with torch.no_grad():\n",
    "        for (data, targets) in dataloader:\n",
    "            data = data.to(device=DEVICE) # [N, seq_len, feature_size]\n",
    "            targets = targets.to(device=DEVICE) # [N, seq_len, feature_size]\n",
    "            output = model(data,targets)\n",
    "            total_loss += my_loss(output, targets)\n",
    "    return total_loss/(len(dataloader) - 1)\n",
    "    \n",
    "\n",
    "def inference(model: nn.Module, dataloader: DataLoader) -> float:\n",
    "    model.eval()  # turn on evaluation mode\n",
    "    total_loss = 0.\n",
    "    o = []\n",
    "    with torch.no_grad():\n",
    "        for (data, targets) in dataloader:\n",
    "            data = data.to(device=DEVICE) # [N, seq_len, feature_size]\n",
    "            targets = targets.to(device=DEVICE) # [N, seq_len, feature_size]\n",
    "            N, seq_len, feature_size = targets.shape\n",
    "            dec_input = torch.zeros(targets.shape)\n",
    "            for i in range(seq_len):\n",
    "                if i == 0:\n",
    "                    dec_input = data\n",
    "                    output = model(data, dec_input)\n",
    "                    o = output\n",
    "                else:\n",
    "                    dec_input[:,:seq_len-i,:] = data[:,i:,:]\n",
    "                    dec_input[:,seq_len-i:,:] = o\n",
    "                    output = model(data, dec_input)\n",
    "                    o = torch.hstack(o, output[:,-1,:])\n",
    "                \n",
    "            total_loss += my_loss(o, targets).item()\n",
    "            # print(\"val loss: \", total_loss)\n",
    "            # data = data.permute(1, 0, 2) #.detach().cpu().numpy()\n",
    "            # output = output.permute(1, 0, 2) #.detach().cpu().numpy()\n",
    "            # print(\"output2: \", output[0][0])\n",
    "    return total_loss / (len(dataloader) - 1)"
   ]
  },
  {
   "cell_type": "code",
   "execution_count": 16,
   "metadata": {},
   "outputs": [
    {
     "name": "stdout",
     "output_type": "stream",
     "text": [
      "<torch.cuda.amp.grad_scaler.GradScaler object at 0x14b5282c4150>\n",
      "Epoch #1\n"
     ]
    },
    {
     "name": "stderr",
     "output_type": "stream",
     "text": [
      "/state/partition1/job-40856468/ipykernel_1220131/1090552727.py:6: UserWarning: FigureCanvasAgg is non-interactive, and thus cannot be shown\n",
      "  fig.show()\n"
     ]
    },
    {
     "data": {
      "application/vnd.jupyter.widget-view+json": {
       "model_id": "6aeab1030ee846ff86a4cf145f917f35",
       "version_major": 2,
       "version_minor": 0
      },
      "text/plain": [
       "  0%|          | 0/158 [00:00<?, ?it/s]"
      ]
     },
     "metadata": {},
     "output_type": "display_data"
    },
    {
     "name": "stdout",
     "output_type": "stream",
     "text": [
      "| epoch   1 |    31/  158 batches | lr 0.00 | ms/batch 278.33 | loss  0.40\n",
      "| epoch   1 |    62/  158 batches | lr 0.00 | ms/batch 140.28 | loss  0.07\n",
      "| epoch   1 |    93/  158 batches | lr 0.00 | ms/batch 143.04 | loss  0.02\n",
      "| epoch   1 |   124/  158 batches | lr 0.00 | ms/batch 140.65 | loss  0.01\n",
      "| epoch   1 |   155/  158 batches | lr 0.00 | ms/batch 142.43 | loss  0.01\n",
      "-----------------------------------------------------------------------------------------\n",
      "| end of epoch   1 | time: 28.71s | valid loss 0.0151 | mean loss   0.0997\n",
      "-----------------------------------------------------------------------------------------\n",
      "Epoch #2\n"
     ]
    },
    {
     "data": {
      "application/vnd.jupyter.widget-view+json": {
       "model_id": "54add3f6579a41b9bf52751a5e81465c",
       "version_major": 2,
       "version_minor": 0
      },
      "text/plain": [
       "  0%|          | 0/158 [00:00<?, ?it/s]"
      ]
     },
     "metadata": {},
     "output_type": "display_data"
    },
    {
     "name": "stdout",
     "output_type": "stream",
     "text": [
      "| epoch   2 |    31/  158 batches | lr 0.00 | ms/batch 145.69 | loss  0.01\n",
      "| epoch   2 |    62/  158 batches | lr 0.00 | ms/batch 140.49 | loss  0.00\n",
      "| epoch   2 |    93/  158 batches | lr 0.00 | ms/batch 140.93 | loss  0.00\n",
      "| epoch   2 |   124/  158 batches | lr 0.00 | ms/batch 139.18 | loss  0.00\n",
      "| epoch   2 |   155/  158 batches | lr 0.00 | ms/batch 139.97 | loss  0.00\n",
      "-----------------------------------------------------------------------------------------\n",
      "| end of epoch   2 | time: 24.42s | valid loss 0.0102 | mean loss   0.0519\n",
      "-----------------------------------------------------------------------------------------\n",
      "Epoch #3\n"
     ]
    },
    {
     "data": {
      "application/vnd.jupyter.widget-view+json": {
       "model_id": "344289220a6f4d4699648e756f15be3a",
       "version_major": 2,
       "version_minor": 0
      },
      "text/plain": [
       "  0%|          | 0/158 [00:00<?, ?it/s]"
      ]
     },
     "metadata": {},
     "output_type": "display_data"
    },
    {
     "name": "stdout",
     "output_type": "stream",
     "text": [
      "| epoch   3 |    31/  158 batches | lr 0.00 | ms/batch 146.35 | loss  0.00\n",
      "| epoch   3 |    62/  158 batches | lr 0.00 | ms/batch 140.80 | loss  0.00\n",
      "| epoch   3 |    93/  158 batches | lr 0.00 | ms/batch 139.77 | loss  0.00\n",
      "| epoch   3 |   124/  158 batches | lr 0.00 | ms/batch 138.92 | loss  0.00\n",
      "| epoch   3 |   155/  158 batches | lr 0.00 | ms/batch 139.70 | loss  0.00\n",
      "-----------------------------------------------------------------------------------------\n",
      "| end of epoch   3 | time: 24.40s | valid loss 0.0060 | mean loss   0.0354\n",
      "-----------------------------------------------------------------------------------------\n",
      "Epoch #4\n"
     ]
    },
    {
     "data": {
      "application/vnd.jupyter.widget-view+json": {
       "model_id": "e4fbbe80153d4ebfb6428719600a3066",
       "version_major": 2,
       "version_minor": 0
      },
      "text/plain": [
       "  0%|          | 0/158 [00:00<?, ?it/s]"
      ]
     },
     "metadata": {},
     "output_type": "display_data"
    },
    {
     "name": "stdout",
     "output_type": "stream",
     "text": [
      "| epoch   4 |    31/  158 batches | lr 0.00 | ms/batch 145.76 | loss  0.00\n",
      "| epoch   4 |    62/  158 batches | lr 0.00 | ms/batch 139.74 | loss  0.00\n",
      "| epoch   4 |    93/  158 batches | lr 0.00 | ms/batch 139.13 | loss  0.00\n",
      "| epoch   4 |   124/  158 batches | lr 0.00 | ms/batch 139.95 | loss  0.00\n",
      "| epoch   4 |   155/  158 batches | lr 0.00 | ms/batch 139.85 | loss  0.00\n",
      "-----------------------------------------------------------------------------------------\n",
      "| end of epoch   4 | time: 24.41s | valid loss 0.0050 | mean loss   0.0269\n",
      "-----------------------------------------------------------------------------------------\n",
      "Epoch #5\n"
     ]
    },
    {
     "data": {
      "application/vnd.jupyter.widget-view+json": {
       "model_id": "e6d6c03dbffc4807ba7deb277c79f44f",
       "version_major": 2,
       "version_minor": 0
      },
      "text/plain": [
       "  0%|          | 0/158 [00:00<?, ?it/s]"
      ]
     },
     "metadata": {},
     "output_type": "display_data"
    },
    {
     "name": "stdout",
     "output_type": "stream",
     "text": [
      "| epoch   5 |    31/  158 batches | lr 0.00 | ms/batch 145.36 | loss  0.00\n",
      "| epoch   5 |    62/  158 batches | lr 0.00 | ms/batch 141.51 | loss  0.00\n",
      "| epoch   5 |    93/  158 batches | lr 0.00 | ms/batch 141.87 | loss  0.00\n",
      "| epoch   5 |   124/  158 batches | lr 0.00 | ms/batch 140.15 | loss  0.00\n",
      "| epoch   5 |   155/  158 batches | lr 0.00 | ms/batch 140.62 | loss  0.00\n",
      "-----------------------------------------------------------------------------------------\n",
      "| end of epoch   5 | time: 24.52s | valid loss 0.0048 | mean loss   0.0218\n",
      "-----------------------------------------------------------------------------------------\n",
      "Epoch #6\n"
     ]
    },
    {
     "data": {
      "application/vnd.jupyter.widget-view+json": {
       "model_id": "71e255a9114d4235903c42dcc0e4ee16",
       "version_major": 2,
       "version_minor": 0
      },
      "text/plain": [
       "  0%|          | 0/158 [00:00<?, ?it/s]"
      ]
     },
     "metadata": {},
     "output_type": "display_data"
    },
    {
     "name": "stdout",
     "output_type": "stream",
     "text": [
      "| epoch   6 |    31/  158 batches | lr 0.00 | ms/batch 144.36 | loss  0.00\n",
      "| epoch   6 |    62/  158 batches | lr 0.00 | ms/batch 139.66 | loss  0.00\n",
      "| epoch   6 |    93/  158 batches | lr 0.00 | ms/batch 140.17 | loss  0.00\n",
      "| epoch   6 |   124/  158 batches | lr 0.00 | ms/batch 140.58 | loss  0.00\n",
      "| epoch   6 |   155/  158 batches | lr 0.00 | ms/batch 140.02 | loss  0.00\n",
      "-----------------------------------------------------------------------------------------\n",
      "| end of epoch   6 | time: 24.38s | valid loss 0.0083 | mean loss   0.0184\n",
      "-----------------------------------------------------------------------------------------\n",
      "Epoch #7\n"
     ]
    },
    {
     "data": {
      "application/vnd.jupyter.widget-view+json": {
       "model_id": "7ebb11b172564fafa864d433ae1c24ab",
       "version_major": 2,
       "version_minor": 0
      },
      "text/plain": [
       "  0%|          | 0/158 [00:00<?, ?it/s]"
      ]
     },
     "metadata": {},
     "output_type": "display_data"
    },
    {
     "name": "stdout",
     "output_type": "stream",
     "text": [
      "| epoch   7 |    31/  158 batches | lr 0.00 | ms/batch 145.13 | loss  0.00\n",
      "| epoch   7 |    62/  158 batches | lr 0.00 | ms/batch 141.35 | loss  0.00\n",
      "| epoch   7 |    93/  158 batches | lr 0.00 | ms/batch 141.97 | loss  0.00\n",
      "| epoch   7 |   124/  158 batches | lr 0.00 | ms/batch 140.86 | loss  0.00\n",
      "| epoch   7 |   155/  158 batches | lr 0.00 | ms/batch 142.08 | loss  0.00\n",
      "-----------------------------------------------------------------------------------------\n",
      "| end of epoch   7 | time: 24.58s | valid loss 0.0036 | mean loss   0.0161\n",
      "-----------------------------------------------------------------------------------------\n",
      "Epoch #8\n"
     ]
    },
    {
     "data": {
      "application/vnd.jupyter.widget-view+json": {
       "model_id": "a5170ef7525143b4aeedbd4fd5d82cb1",
       "version_major": 2,
       "version_minor": 0
      },
      "text/plain": [
       "  0%|          | 0/158 [00:00<?, ?it/s]"
      ]
     },
     "metadata": {},
     "output_type": "display_data"
    },
    {
     "name": "stdout",
     "output_type": "stream",
     "text": [
      "| epoch   8 |    31/  158 batches | lr 0.00 | ms/batch 147.84 | loss  0.00\n",
      "| epoch   8 |    62/  158 batches | lr 0.00 | ms/batch 139.52 | loss  0.00\n",
      "| epoch   8 |    93/  158 batches | lr 0.00 | ms/batch 139.52 | loss  0.00\n",
      "| epoch   8 |   124/  158 batches | lr 0.00 | ms/batch 141.19 | loss  0.00\n",
      "| epoch   8 |   155/  158 batches | lr 0.00 | ms/batch 141.64 | loss  0.00\n",
      "-----------------------------------------------------------------------------------------\n",
      "| end of epoch   8 | time: 24.54s | valid loss 0.0032 | mean loss   0.0141\n",
      "-----------------------------------------------------------------------------------------\n",
      "Epoch #9\n"
     ]
    },
    {
     "data": {
      "application/vnd.jupyter.widget-view+json": {
       "model_id": "dbefe9884f9c4b6f9770a90025ee42db",
       "version_major": 2,
       "version_minor": 0
      },
      "text/plain": [
       "  0%|          | 0/158 [00:00<?, ?it/s]"
      ]
     },
     "metadata": {},
     "output_type": "display_data"
    },
    {
     "name": "stdout",
     "output_type": "stream",
     "text": [
      "| epoch   9 |    31/  158 batches | lr 0.00 | ms/batch 145.77 | loss  0.00\n",
      "| epoch   9 |    62/  158 batches | lr 0.00 | ms/batch 139.93 | loss  0.00\n",
      "| epoch   9 |    93/  158 batches | lr 0.00 | ms/batch 140.43 | loss  0.00\n",
      "| epoch   9 |   124/  158 batches | lr 0.00 | ms/batch 141.18 | loss  0.00\n",
      "| epoch   9 |   155/  158 batches | lr 0.00 | ms/batch 141.00 | loss  0.00\n",
      "-----------------------------------------------------------------------------------------\n",
      "| end of epoch   9 | time: 24.48s | valid loss 0.0033 | mean loss   0.0126\n",
      "-----------------------------------------------------------------------------------------\n",
      "Epoch #10\n"
     ]
    },
    {
     "data": {
      "application/vnd.jupyter.widget-view+json": {
       "model_id": "6ab94c197b7d40df84cf88bbce65269d",
       "version_major": 2,
       "version_minor": 0
      },
      "text/plain": [
       "  0%|          | 0/158 [00:00<?, ?it/s]"
      ]
     },
     "metadata": {},
     "output_type": "display_data"
    },
    {
     "name": "stdout",
     "output_type": "stream",
     "text": [
      "| epoch  10 |    31/  158 batches | lr 0.00 | ms/batch 146.73 | loss  0.00\n",
      "| epoch  10 |    62/  158 batches | lr 0.00 | ms/batch 142.14 | loss  0.00\n",
      "| epoch  10 |    93/  158 batches | lr 0.00 | ms/batch 141.70 | loss  0.00\n",
      "| epoch  10 |   124/  158 batches | lr 0.00 | ms/batch 141.84 | loss  0.00\n",
      "| epoch  10 |   155/  158 batches | lr 0.00 | ms/batch 140.90 | loss  0.00\n",
      "-----------------------------------------------------------------------------------------\n",
      "| end of epoch  10 | time: 24.64s | valid loss 0.0034 | mean loss   0.0114\n",
      "-----------------------------------------------------------------------------------------\n",
      "Epoch #11\n"
     ]
    },
    {
     "data": {
      "application/vnd.jupyter.widget-view+json": {
       "model_id": "1ee6da4cc64f456fb184b1f67f18b0ed",
       "version_major": 2,
       "version_minor": 0
      },
      "text/plain": [
       "  0%|          | 0/158 [00:00<?, ?it/s]"
      ]
     },
     "metadata": {},
     "output_type": "display_data"
    },
    {
     "name": "stdout",
     "output_type": "stream",
     "text": [
      "| epoch  11 |    31/  158 batches | lr 0.00 | ms/batch 146.46 | loss  0.00\n",
      "| epoch  11 |    62/  158 batches | lr 0.00 | ms/batch 139.87 | loss  0.00\n",
      "| epoch  11 |    93/  158 batches | lr 0.00 | ms/batch 141.38 | loss  0.00\n",
      "| epoch  11 |   124/  158 batches | lr 0.00 | ms/batch 141.99 | loss  0.00\n",
      "| epoch  11 |   155/  158 batches | lr 0.00 | ms/batch 140.97 | loss  0.00\n",
      "-----------------------------------------------------------------------------------------\n",
      "| end of epoch  11 | time: 24.56s | valid loss 0.0029 | mean loss   0.0104\n",
      "-----------------------------------------------------------------------------------------\n",
      "Epoch #12\n"
     ]
    },
    {
     "data": {
      "application/vnd.jupyter.widget-view+json": {
       "model_id": "78d98ac6611a41079d7ee1a445a4e80d",
       "version_major": 2,
       "version_minor": 0
      },
      "text/plain": [
       "  0%|          | 0/158 [00:00<?, ?it/s]"
      ]
     },
     "metadata": {},
     "output_type": "display_data"
    },
    {
     "name": "stdout",
     "output_type": "stream",
     "text": [
      "| epoch  12 |    31/  158 batches | lr 0.00 | ms/batch 145.68 | loss  0.00\n",
      "| epoch  12 |    62/  158 batches | lr 0.00 | ms/batch 142.18 | loss  0.00\n",
      "| epoch  12 |    93/  158 batches | lr 0.00 | ms/batch 141.94 | loss  0.00\n",
      "| epoch  12 |   124/  158 batches | lr 0.00 | ms/batch 141.06 | loss  0.00\n",
      "| epoch  12 |   155/  158 batches | lr 0.00 | ms/batch 140.67 | loss  0.00\n",
      "-----------------------------------------------------------------------------------------\n",
      "| end of epoch  12 | time: 24.59s | valid loss 0.0037 | mean loss   0.0096\n",
      "-----------------------------------------------------------------------------------------\n",
      "Epoch #13\n"
     ]
    },
    {
     "data": {
      "application/vnd.jupyter.widget-view+json": {
       "model_id": "35509429698e4256ac67b003af52fa27",
       "version_major": 2,
       "version_minor": 0
      },
      "text/plain": [
       "  0%|          | 0/158 [00:00<?, ?it/s]"
      ]
     },
     "metadata": {},
     "output_type": "display_data"
    },
    {
     "name": "stdout",
     "output_type": "stream",
     "text": [
      "| epoch  13 |    31/  158 batches | lr 0.00 | ms/batch 146.20 | loss  0.00\n",
      "| epoch  13 |    62/  158 batches | lr 0.00 | ms/batch 140.31 | loss  0.00\n",
      "| epoch  13 |    93/  158 batches | lr 0.00 | ms/batch 139.93 | loss  0.00\n",
      "| epoch  13 |   124/  158 batches | lr 0.00 | ms/batch 140.86 | loss  0.00\n",
      "| epoch  13 |   155/  158 batches | lr 0.00 | ms/batch 140.12 | loss  0.00\n",
      "-----------------------------------------------------------------------------------------\n",
      "| end of epoch  13 | time: 24.47s | valid loss 0.0028 | mean loss   0.0089\n",
      "-----------------------------------------------------------------------------------------\n",
      "Epoch #14\n"
     ]
    },
    {
     "data": {
      "application/vnd.jupyter.widget-view+json": {
       "model_id": "76128e1a5a1a46b684b0faa06ba86193",
       "version_major": 2,
       "version_minor": 0
      },
      "text/plain": [
       "  0%|          | 0/158 [00:00<?, ?it/s]"
      ]
     },
     "metadata": {},
     "output_type": "display_data"
    },
    {
     "name": "stdout",
     "output_type": "stream",
     "text": [
      "| epoch  14 |    31/  158 batches | lr 0.00 | ms/batch 145.62 | loss  0.00\n",
      "| epoch  14 |    62/  158 batches | lr 0.00 | ms/batch 139.91 | loss  0.00\n",
      "| epoch  14 |    93/  158 batches | lr 0.00 | ms/batch 140.88 | loss  0.00\n",
      "| epoch  14 |   124/  158 batches | lr 0.00 | ms/batch 140.32 | loss  0.00\n",
      "| epoch  14 |   155/  158 batches | lr 0.00 | ms/batch 141.66 | loss  0.00\n",
      "-----------------------------------------------------------------------------------------\n",
      "| end of epoch  14 | time: 24.49s | valid loss 0.0032 | mean loss   0.0083\n",
      "-----------------------------------------------------------------------------------------\n",
      "Epoch #15\n"
     ]
    },
    {
     "data": {
      "application/vnd.jupyter.widget-view+json": {
       "model_id": "657dfe12a2b94131b65585c4c8311915",
       "version_major": 2,
       "version_minor": 0
      },
      "text/plain": [
       "  0%|          | 0/158 [00:00<?, ?it/s]"
      ]
     },
     "metadata": {},
     "output_type": "display_data"
    },
    {
     "name": "stdout",
     "output_type": "stream",
     "text": [
      "| epoch  15 |    31/  158 batches | lr 0.00 | ms/batch 150.76 | loss  0.00\n",
      "| epoch  15 |    62/  158 batches | lr 0.00 | ms/batch 140.27 | loss  0.00\n",
      "| epoch  15 |    93/  158 batches | lr 0.00 | ms/batch 140.13 | loss  0.00\n",
      "| epoch  15 |   124/  158 batches | lr 0.00 | ms/batch 139.66 | loss  0.00\n",
      "| epoch  15 |   155/  158 batches | lr 0.00 | ms/batch 139.88 | loss  0.00\n",
      "-----------------------------------------------------------------------------------------\n",
      "| end of epoch  15 | time: 24.57s | valid loss 0.0026 | mean loss   0.0078\n",
      "-----------------------------------------------------------------------------------------\n",
      "Epoch #16\n"
     ]
    },
    {
     "data": {
      "application/vnd.jupyter.widget-view+json": {
       "model_id": "439fa7619a064ca3969936b7fe57c504",
       "version_major": 2,
       "version_minor": 0
      },
      "text/plain": [
       "  0%|          | 0/158 [00:00<?, ?it/s]"
      ]
     },
     "metadata": {},
     "output_type": "display_data"
    },
    {
     "name": "stdout",
     "output_type": "stream",
     "text": [
      "| epoch  16 |    31/  158 batches | lr 0.00 | ms/batch 143.80 | loss  0.00\n",
      "| epoch  16 |    62/  158 batches | lr 0.00 | ms/batch 139.43 | loss  0.00\n",
      "| epoch  16 |    93/  158 batches | lr 0.00 | ms/batch 141.85 | loss  0.00\n",
      "| epoch  16 |   124/  158 batches | lr 0.00 | ms/batch 140.27 | loss  0.00\n",
      "| epoch  16 |   155/  158 batches | lr 0.00 | ms/batch 141.10 | loss  0.00\n",
      "-----------------------------------------------------------------------------------------\n",
      "| end of epoch  16 | time: 24.43s | valid loss 0.0025 | mean loss   0.0074\n",
      "-----------------------------------------------------------------------------------------\n",
      "Epoch #17\n"
     ]
    },
    {
     "data": {
      "application/vnd.jupyter.widget-view+json": {
       "model_id": "d50f606bbfa848c5bfe66a2868b3ba30",
       "version_major": 2,
       "version_minor": 0
      },
      "text/plain": [
       "  0%|          | 0/158 [00:00<?, ?it/s]"
      ]
     },
     "metadata": {},
     "output_type": "display_data"
    },
    {
     "name": "stdout",
     "output_type": "stream",
     "text": [
      "| epoch  17 |    31/  158 batches | lr 0.00 | ms/batch 146.52 | loss  0.00\n",
      "| epoch  17 |    62/  158 batches | lr 0.00 | ms/batch 139.04 | loss  0.00\n",
      "| epoch  17 |    93/  158 batches | lr 0.00 | ms/batch 139.65 | loss  0.00\n",
      "| epoch  17 |   124/  158 batches | lr 0.00 | ms/batch 139.25 | loss  0.00\n",
      "| epoch  17 |   155/  158 batches | lr 0.00 | ms/batch 139.65 | loss  0.00\n",
      "-----------------------------------------------------------------------------------------\n",
      "| end of epoch  17 | time: 24.37s | valid loss 0.0024 | mean loss   0.0069\n",
      "-----------------------------------------------------------------------------------------\n",
      "Epoch #18\n"
     ]
    },
    {
     "data": {
      "application/vnd.jupyter.widget-view+json": {
       "model_id": "5b5d28f8512444308f381bcfbee0cfab",
       "version_major": 2,
       "version_minor": 0
      },
      "text/plain": [
       "  0%|          | 0/158 [00:00<?, ?it/s]"
      ]
     },
     "metadata": {},
     "output_type": "display_data"
    },
    {
     "name": "stdout",
     "output_type": "stream",
     "text": [
      "| epoch  18 |    31/  158 batches | lr 0.00 | ms/batch 145.09 | loss  0.00\n",
      "| epoch  18 |    62/  158 batches | lr 0.00 | ms/batch 139.66 | loss  0.00\n",
      "| epoch  18 |    93/  158 batches | lr 0.00 | ms/batch 140.35 | loss  0.00\n",
      "| epoch  18 |   124/  158 batches | lr 0.00 | ms/batch 139.99 | loss  0.00\n",
      "| epoch  18 |   155/  158 batches | lr 0.00 | ms/batch 141.37 | loss  0.00\n",
      "-----------------------------------------------------------------------------------------\n",
      "| end of epoch  18 | time: 24.42s | valid loss 0.0024 | mean loss   0.0066\n",
      "-----------------------------------------------------------------------------------------\n",
      "Epoch #19\n"
     ]
    },
    {
     "data": {
      "application/vnd.jupyter.widget-view+json": {
       "model_id": "a46e828e835b456fbcf973f6633292b1",
       "version_major": 2,
       "version_minor": 0
      },
      "text/plain": [
       "  0%|          | 0/158 [00:00<?, ?it/s]"
      ]
     },
     "metadata": {},
     "output_type": "display_data"
    },
    {
     "name": "stdout",
     "output_type": "stream",
     "text": [
      "| epoch  19 |    31/  158 batches | lr 0.00 | ms/batch 145.12 | loss  0.00\n",
      "| epoch  19 |    62/  158 batches | lr 0.00 | ms/batch 140.18 | loss  0.00\n",
      "| epoch  19 |    93/  158 batches | lr 0.00 | ms/batch 140.05 | loss  0.00\n",
      "| epoch  19 |   124/  158 batches | lr 0.00 | ms/batch 140.48 | loss  0.00\n",
      "| epoch  19 |   155/  158 batches | lr 0.00 | ms/batch 140.22 | loss  0.00\n",
      "-----------------------------------------------------------------------------------------\n",
      "| end of epoch  19 | time: 24.41s | valid loss 0.0024 | mean loss   0.0063\n",
      "-----------------------------------------------------------------------------------------\n",
      "Epoch #20\n"
     ]
    },
    {
     "data": {
      "application/vnd.jupyter.widget-view+json": {
       "model_id": "00fe01e7a9aa49ca988cd73dda17e52e",
       "version_major": 2,
       "version_minor": 0
      },
      "text/plain": [
       "  0%|          | 0/158 [00:00<?, ?it/s]"
      ]
     },
     "metadata": {},
     "output_type": "display_data"
    },
    {
     "name": "stdout",
     "output_type": "stream",
     "text": [
      "| epoch  20 |    31/  158 batches | lr 0.00 | ms/batch 147.21 | loss  0.00\n",
      "| epoch  20 |    62/  158 batches | lr 0.00 | ms/batch 140.28 | loss  0.00\n",
      "| epoch  20 |    93/  158 batches | lr 0.00 | ms/batch 140.15 | loss  0.00\n",
      "| epoch  20 |   124/  158 batches | lr 0.00 | ms/batch 141.08 | loss  0.00\n",
      "| epoch  20 |   155/  158 batches | lr 0.00 | ms/batch 140.35 | loss  0.00\n",
      "-----------------------------------------------------------------------------------------\n",
      "| end of epoch  20 | time: 24.51s | valid loss 0.0086 | mean loss   0.0060\n",
      "-----------------------------------------------------------------------------------------\n"
     ]
    },
    {
     "data": {
      "image/png": "[encoded data removed]",
      "text/plain": [
       "<Figure size 640x480 with 1 Axes>"
      ]
     },
     "metadata": {},
     "output_type": "display_data"
    }
   ],
   "source": [
    "# Trainig\n",
    "#build live matplotlib fig\n",
    "fig = plt.figure()\n",
    "ax = fig.add_subplot(111)\n",
    "plt.ion()\n",
    "fig.show()\n",
    "fig.canvas.draw()\n",
    "\n",
    "LOAD_MODEL = False\n",
    "if LOAD_MODEL:\n",
    "    load_ckpt(\"{}/checkpoints/epoch_{}_ckpts.pt\".format(os.getcwd(), epoch), model, optimizer)\n",
    "scaler = torch.cuda.amp.GradScaler()\n",
    "print(scaler)\n",
    "best_val_loss = float('inf')\n",
    "writer = SummaryWriter(\"run/loss_plot\")\n",
    "step = 0\n",
    "for epoch in range(1, epochs+1):\n",
    "    print(f'Epoch #{epoch}')\n",
    "    epoch_start_time = time.time()\n",
    "    train_loss, train_pearsonr = train(model, train_dataloader, optimizer, scaler, writer, step)\n",
    "#     print(train_loss)\n",
    "    train_losses.append(train_loss)\n",
    "    mean_loss = sum(train_losses)/len(train_losses)\n",
    "    val_loss = validate(model, val_dataloader)\n",
    "    val_losses.append(val_loss)\n",
    "    elapsed = time.time() - epoch_start_time\n",
    "    print('-' * 89)\n",
    "    print(f'| end of epoch {epoch:3d} | time: {elapsed:5.2f}s | '\n",
    "        f'valid loss {val_loss:5.4f} | mean loss {mean_loss:8.4f}')\n",
    "    print('-' * 89)\n",
    "    ax.clear()\n",
    "    ax.plot(mean_loss, label='train loss')\n",
    "    ax.plot(val_loss.cpu(), label='validation loss')\n",
    "    ax.set_title(\"Mean Squared Error\")\n",
    "    ax.legend()\n",
    "    fig.canvas.draw()\n",
    "    if val_loss < best_val_loss:\n",
    "        best_val_loss = val_loss\n",
    "        # save model\n",
    "#         save_ckpt(\"{}/checkpoints/epoch_{}_ckpts.pt\".format(os.getcwd(), epoch), model, optimizer,epochs, val_loss)\n",
    "        save_ckpt(\"{}/checkpoints\".format(os.getcwd(), epoch), model, optimizer,epochs, train_losses, val_losses)\n",
    "\n",
    "    # scheduler.step(mean_loss)\n",
    "    scheduler.step()\n",
    "# load_ckpt(\"/content/drive/MyDrive/checkpoints.pt\", model, optimizer)\n"
   ]
  },
  {
   "cell_type": "code",
   "execution_count": 30,
   "metadata": {},
   "outputs": [
    {
     "data": {
      "image/png": "[encoded data removed]",
      "text/plain": [
       "<Figure size 640x480 with 1 Axes>"
      ]
     },
     "metadata": {},
     "output_type": "display_data"
    }
   ],
   "source": [
    "plt.figure\n",
    "plt.plot(train_losses)\n",
    "plt.show()"
   ]
  },
  {
   "cell_type": "code",
   "execution_count": 34,
   "metadata": {},
   "outputs": [
    {
     "ename": "AttributeError",
     "evalue": "'list' object has no attribute 'cpu'",
     "output_type": "error",
     "traceback": [
      "\u001b[0;31m---------------------------------------------------------------------------\u001b[0m",
      "\u001b[0;31mAttributeError\u001b[0m                            Traceback (most recent call last)",
      "Cell \u001b[0;32mIn[34], line 1\u001b[0m\n\u001b[0;32m----> 1\u001b[0m val_losses\u001b[38;5;241m.\u001b[39mcpu()\n",
      "\u001b[0;31mAttributeError\u001b[0m: 'list' object has no attribute 'cpu'"
     ]
    }
   ],
   "source": [
    "val_losses.cpu()"
   ]
  },
  {
   "cell_type": "code",
   "execution_count": null,
   "metadata": {},
   "outputs": [],
   "source": []
  }
 ],
 "metadata": {
  "kernelspec": {
   "display_name": "Python 3",
   "language": "python",
   "name": "python3"
  },
  "language_info": {
   "codemirror_mode": {
    "name": "ipython",
    "version": 3
   },
   "file_extension": ".py",
   "mimetype": "text/x-python",
   "name": "python",
   "nbconvert_exporter": "python",
   "pygments_lexer": "ipython3",
   "version": "3.8.6"
  }
 },
 "nbformat": 4,
 "nbformat_minor": 4
}
