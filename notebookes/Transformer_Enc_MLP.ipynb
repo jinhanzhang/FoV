{
 "cells": [
  {
   "cell_type": "code",
   "execution_count": 65,
   "metadata": {},
   "outputs": [
    {
     "data": {
      "text/plain": [
       "'0.16.1'"
      ]
     },
     "execution_count": 65,
     "metadata": {},
     "output_type": "execute_result"
    }
   ],
   "source": [
    "# %load_ext autoreload\n",
    "# %autoreload 2 \n",
    "# from utils import *\n",
    "# from Network import *\n",
    "# basic packages\n",
    "import numpy as np\n",
    "import glob\n",
    "# import h5py\n",
    "import math\n",
    "%matplotlib notebook\n",
    "%matplotlib inline\n",
    "import matplotlib.pyplot as plt\n",
    "import scipy.io\n",
    "from scipy import stats\n",
    "import os\n",
    "import copy\n",
    "import time\n",
    "import torch\n",
    "from torch import nn, Tensor\n",
    "import torch.nn.functional as F\n",
    "from torch.nn import TransformerEncoder, TransformerEncoderLayer\n",
    "from torch.utils.data import DataLoader, Dataset, Subset, random_split\n",
    "from torchvision.transforms import ToTensor\n",
    "#from torch.utils.tensorboard import SummaryWriter\n",
    "import torch.optim as optim\n",
    "from sklearn.model_selection import train_test_split\n",
    "from tqdm.autonotebook import tqdm\n",
    "import sys\n",
    "# sys.path.append('/scratch/xc1490/projects/tmp/python_packages')\n",
    "import wandb\n",
    "wandb.__version__"
   ]
  },
  {
   "cell_type": "code",
   "execution_count": null,
   "metadata": {},
   "outputs": [],
   "source": [
    "os.environ['WANDB_DISABLE_SERVICE'] = 'True'"
   ]
  },
  {
   "cell_type": "code",
   "execution_count": null,
   "metadata": {},
   "outputs": [],
   "source": [
    "# !wandb login"
   ]
  },
  {
   "cell_type": "code",
   "execution_count": null,
   "metadata": {},
   "outputs": [],
   "source": [
    "#!pip install --target=/home/xc1490/home/projects/tmp/python_packages wandb\n",
    "#!pip install --target=/home/xc1490/home/projects/tmp/python_packages click"
   ]
  },
  {
   "cell_type": "code",
   "execution_count": 66,
   "metadata": {},
   "outputs": [],
   "source": [
    "class FoVDataset(Dataset):\n",
    "    def __init__(self, x_data, y_data):\n",
    "        self.x_data = x_data\n",
    "        self.y_data = y_data\n",
    "\n",
    "    def __len__(self):\n",
    "        return len(self.x_data)\n",
    "\n",
    "    def __getitem__(self, idx):\n",
    "        x = torch.tensor(self.x_data[idx])\n",
    "        y = torch.tensor(self.y_data[idx])\n",
    "        return x,y\n",
    "\n",
    "def a_norm(Q, K, mask = None):\n",
    "    m = torch.matmul(Q, K.transpose(2,1).float())\n",
    "    m /= torch.sqrt(torch.tensor(Q.shape[-1]).float())\n",
    "    \n",
    "    \n",
    "    if mask is not None:\n",
    "        m.masked_fill(mask == 0, float(\"-1e20\"))\n",
    "    \n",
    "    return torch.softmax(m , -1) #(batch_size, seq_length, seq_length)\n",
    "\n",
    "\n",
    "def attention(Q, K, V, mask = None):\n",
    "    #Attention(Q, K, V) = norm(QK)V\n",
    "    a = a_norm(Q, K, mask) #(batch_size, seq_length, seq_length)\n",
    "    \n",
    "    return  torch.matmul(a,  V) #(batch_size, seq_length, head_dim)\n",
    "\n",
    "class AttentionBlock(torch.nn.Module):\n",
    "    def __init__(self, dim_val, head_dim):\n",
    "        super(AttentionBlock, self).__init__()\n",
    "        self.value = Value(dim_val, head_dim)\n",
    "        self.key = Key(dim_val, head_dim)\n",
    "        self.query = Query(dim_val, head_dim)\n",
    "    \n",
    "    def forward(self, x, kv = None, mask = None):\n",
    "        if(kv is None):\n",
    "            #Attention with x connected to Q,K and V (For encoder)\n",
    "            output =  attention(self.query(x), self.key(x), self.value(x), mask)\n",
    "        else:\n",
    "            #Attention with x as Q, external vector kv as K an V (For decoder)\n",
    "            output = attention(self.query(x), self.key(kv), self.value(kv), mask)\n",
    "        \n",
    "        return output #(batch_size, seq_length, head_dim)\n",
    "    \n",
    "class MultiHeadAttentionBlock(torch.nn.Module):\n",
    "    def __init__(self, dim_val, head_dim, n_heads):\n",
    "        super(MultiHeadAttentionBlock, self).__init__()\n",
    "        self.heads = []\n",
    "        for i in range(n_heads):\n",
    "            self.heads.append(AttentionBlock(dim_val, head_dim))\n",
    "        self.heads = nn.ModuleList(self.heads)\n",
    "        self.fc = nn.Linear(n_heads * head_dim, dim_val, bias = False)\n",
    "                      \n",
    "    def forward(self, x, kv = None, mask = None):\n",
    "        a = []\n",
    "        for h in self.heads:\n",
    "            a.append(h(x, kv = kv, mask = mask))\n",
    "            \n",
    "        a = torch.stack(a, dim = -1) #combine heads\n",
    "        a = a.flatten(start_dim = 2) #flatten all head outputs [N, seq_len, dim_val]        \n",
    "        x = self.fc(a)\n",
    "        \n",
    "        return x\n",
    "    \n",
    "class Value(torch.nn.Module):\n",
    "    def __init__(self, dim_val, head_dim):\n",
    "        super(Value, self).__init__()\n",
    "        self.fc1 = nn.Linear(dim_val, head_dim, bias = False) # [N,seq_len,head_dim]\n",
    "    \n",
    "    def forward(self, x):\n",
    "        x = self.fc1(x)\n",
    "        return x\n",
    "\n",
    "class Key(torch.nn.Module):\n",
    "    def __init__(self, dim_val, head_dim):\n",
    "        super(Key, self).__init__()\n",
    "        self.fc1 = nn.Linear(dim_val, head_dim, bias = False) # [N,seq_len,head_dim]\n",
    "    \n",
    "    def forward(self, x):\n",
    "        x = self.fc1(x)\n",
    "        return x\n",
    "\n",
    "class Query(torch.nn.Module):\n",
    "    def __init__(self, dim_val, head_dim):\n",
    "        super(Query, self).__init__()        \n",
    "        self.fc1 = nn.Linear(dim_val, head_dim, bias = False)\n",
    "    \n",
    "    def forward(self, x):\n",
    "        x = self.fc1(x)        \n",
    "        return x\n",
    "\n",
    "# https://pytorch.org/tutorials/beginner/transformer_tutorial.html\n",
    "class PositionalEncoding(nn.Module):\n",
    "    def __init__(self, d_model, dropout=0.1, max_len=600):\n",
    "        super(PositionalEncoding, self).__init__()\n",
    "        pe = torch.zeros(max_len, d_model)\n",
    "        position = torch.arange(0, max_len, dtype=torch.float).unsqueeze(1)\n",
    "        div_term = torch.exp(torch.arange(0, d_model, 2).float() * (-math.log(10000.0) / d_model))\n",
    "        \n",
    "        pe[:, 0::2] = torch.sin(position * div_term)\n",
    "        pe[:, 1::2] = torch.cos(position * div_term)\n",
    "        \n",
    "        pe = pe.unsqueeze(0).transpose(0, 1)\n",
    "        \n",
    "        self.register_buffer('pe', pe) # [seq_len, dim_val]\n",
    "        \n",
    "    def forward(self, x):\n",
    "        x = x + self.pe[:x.size(1), :].squeeze(1) # x + [seq_len, dim_val]\n",
    "        return x  \n",
    "\n",
    "#TODO\n",
    "class RelativePositionalEncoding(nn.Module):\n",
    "    def __init__(self, seq_len, dropout=0.1, max_len=5000):\n",
    "        super(RelativePositionalEncoding, self).__init__()\n",
    "        self.seq_len = seq_len\n",
    "        self.table = nn.Linear(seq_len, 2*seq_len)\n",
    "        \n",
    "\n",
    "    def forward(self, x):\n",
    "        x = table(x)\n",
    "        return x \n",
    "\n",
    "# checkpointing\n",
    "def save_ckpt(path, model, optimizer, epoch, train_losses, val_losses):\n",
    "    \n",
    "#     torch.save({'net': network.state_dict(), 'opt': optimizer.state_dict()}, fn)\n",
    "    path = f'{path}/epoch_{epoch}_batch_{BATCH_SIZE}_ckpts.pt'\n",
    "    torch.save({\n",
    "            'epoch': epoch,\n",
    "            'model_state_dict': model.state_dict(),\n",
    "            'optimizer_state_dict': optimizer.state_dict(),\n",
    "            'train_losses': train_losses,\n",
    "            'val_losses': val_losses,\n",
    "            'lr': lr\n",
    "            }, path)\n",
    "\n",
    "def load_ckpt(path, model, optimizer, device='cuda'):\n",
    "    if device == 'cpu':\n",
    "        checkpoint = torch.load(path,map_location=torch.device('cpu'))\n",
    "    else:\n",
    "        checkpoint = torch.load(path)\n",
    "    model.load_state_dict(checkpoint['model_state_dict'])\n",
    "    optimizer.load_state_dict(checkpoint['optimizer_state_dict'])\n",
    "    epoch = checkpoint['epoch']\n",
    "    train_losses = checkpoint['train_losses']\n",
    "    val_losses = checkpoint['val_losses']\n",
    "#     lr = checkpoint['lr']\n",
    "    model.eval()\n",
    "    return model, optimizer, train_losses, val_losses"
   ]
  },
  {
   "cell_type": "code",
   "execution_count": 67,
   "metadata": {},
   "outputs": [],
   "source": [
    "class EncoderLayer(torch.nn.Module):\n",
    "    def __init__(self, dim_val, head_dim, n_heads = 1):\n",
    "        super(EncoderLayer, self).__init__()\n",
    "        self.attn = MultiHeadAttentionBlock(dim_val, head_dim , n_heads)\n",
    "        self.fc1 = nn.Linear(dim_val, dim_val)\n",
    "        self.fc2 = nn.Linear(dim_val, dim_val)\n",
    "        self.norm1 = nn.LayerNorm(dim_val)\n",
    "        self.norm2 = nn.LayerNorm(dim_val)\n",
    "    \n",
    "    def forward(self, x):\n",
    "        # x: [N, enc_seq_len, dim_val]\n",
    "        a = self.attn(x)\n",
    "        x = self.norm1(x + a)\n",
    "        a = self.fc1(F.elu(self.fc2(x)))\n",
    "        x = self.norm2(x + a) # [N, enc_seq_len, dim_val]\n",
    "        return x\n",
    "\n",
    "class DecoderLayer(torch.nn.Module):\n",
    "    def __init__(self, dim_val, head_dim, n_heads = 1):\n",
    "        super(DecoderLayer, self).__init__()\n",
    "        self.attn1 = MultiHeadAttentionBlock(dim_val, head_dim, n_heads)\n",
    "        self.attn2 = MultiHeadAttentionBlock(dim_val, head_dim, n_heads)\n",
    "        self.fc1 = nn.Linear(dim_val, dim_val)\n",
    "        self.fc2 = nn.Linear(dim_val, dim_val)\n",
    "        self.norm1 = nn.LayerNorm(dim_val)\n",
    "        self.norm2 = nn.LayerNorm(dim_val)\n",
    "        self.norm3 = nn.LayerNorm(dim_val)\n",
    "        \n",
    "    def forward(self, x, enc, mask):\n",
    "        # x: [N, dec_seq_len, dim_val]\n",
    "        a = self.attn1(x, kv=None, mask = mask)\n",
    "        x = self.norm1(a + x)\n",
    "        a = self.attn2(x, kv = enc, mask = mask) # TODO check does this need mask?\n",
    "        x = self.norm2(a + x)\n",
    "        a = self.fc1(F.elu(self.fc2(x)))\n",
    "        x = self.norm3(x + a) # x: [N, dec_seq_len, dim_val]\n",
    "        return x\n",
    "\n",
    "class Transformer(torch.nn.Module):\n",
    "    def __init__(self, dim_val, head_dim, feature_size, dec_seq_len, out_seq_len, n_decoder_layers = 1, n_encoder_layers = 1, n_heads = 1, pe_mode = 'standard', device='cuda'):\n",
    "        \"\"\"\n",
    "            dim_val: d_model - 64\n",
    "            head_dim: 16\n",
    "            feature_size: input feature size - 9\n",
    "            dec_seq_len: length of decoder input sequence - 600\n",
    "            out_seq_len: decoder output sequence length - 1 or 600?\n",
    "            pe_mode: positional encoding mode - 'relative' or 'standard'\n",
    "        \"\"\"\n",
    "        self.device=device\n",
    "        super(Transformer, self).__init__()\n",
    "        self.dec_seq_len = dec_seq_len\n",
    "        \n",
    "        #Initiate encoder and Decoder layers\n",
    "        self.encs = nn.ModuleList()\n",
    "        for i in range(n_encoder_layers):\n",
    "            self.encs.append(EncoderLayer(dim_val, head_dim, n_heads))\n",
    "        \n",
    "#         self.decs = nn.ModuleList()\n",
    "#         for i in range(n_decoder_layers):\n",
    "#             self.decs.append(DecoderLayer(dim_val, head_dim, n_heads))\n",
    "        self.pos = PositionalEncoding(dim_val)\n",
    "        #Dense layers for managing network inputs and outputs\n",
    "#         self.enc_input_fc = nn.Linear(feature_size, dim_val)\n",
    "        self.enc_input_fc = nn.Sequential(\n",
    "            nn.Linear(feature_size, dim_val//2),\n",
    "            nn.LeakyReLU(),\n",
    "            nn.Linear(dim_val//2, dim_val),\n",
    "        )\n",
    "        self.dec_input_fc = nn.Linear(feature_size, dim_val)\n",
    "#         self.out_fc = nn.Linear(dec_seq_len * dim_val, out_seq_len)\n",
    "        self.out_fc = nn.Sequential(\n",
    "            nn.Linear(dim_val, int(dim_val/2)),\n",
    "            nn.LeakyReLU(),\n",
    "            nn.Linear(int(dim_val/2), int(dim_val/4)),\n",
    "            nn.LeakyReLU(),\n",
    "            nn.Linear(int(dim_val/4), int(dim_val/8)),\n",
    "            nn.LeakyReLU(),\n",
    "            nn.Linear(int(dim_val/8), feature_size),\n",
    "        )\n",
    "\n",
    "        \n",
    "    def make_trg_mask(self, N, trg_len):\n",
    "        trg_mask = torch.tril(torch.ones((trg_len, trg_len))).expand(\n",
    "           N, 1, trg_len, trg_len\n",
    "        )\n",
    "        return trg_mask.to(self.device)\n",
    "    \n",
    "    def forward(self, x, target=None):\n",
    "        # x: [N, enc_seq_len, feature_size] = [8, 600, 9]\n",
    "        # dec_input = [N, dec_seq_len, feature_size]\n",
    "        \n",
    "        # MLP\n",
    "        mlp = self.enc_input_fc(x) # [N, enc_seq_len, dim_val]\n",
    "        #encoder\n",
    "        e = self.encs[0](self.pos(mlp))\n",
    "        for enc in self.encs[1:]:\n",
    "            e = enc(e) # [N, enc_seq_len, dim_val]\n",
    "        #decoder\n",
    "        x = self.out_fc(e) # [N, enc_seq_len, feature_size]\n",
    "        \n",
    "        return x"
   ]
  },
  {
   "cell_type": "code",
   "execution_count": 68,
   "metadata": {},
   "outputs": [
    {
     "name": "stdout",
     "output_type": "stream",
     "text": [
      "cuda\n"
     ]
    }
   ],
   "source": [
    "# config\n",
    "FRAME_RATE = 60 # 60 frames/sec\n",
    "MAX_HISTORY_TIME = 10\n",
    "MAX_PREDICTION_TIME = 10\n",
    "HISTORY_TIME = 2\n",
    "PREDICTION_TIME = 2\n",
    "HISTORY_LENGTH = HISTORY_TIME*FRAME_RATE\n",
    "PREDICTION_LENGTH = PREDICTION_TIME*FRAME_RATE\n",
    "MAX_HISTORY_LENGTH = MAX_HISTORY_TIME*FRAME_RATE\n",
    "MAX_PREDICTION_LENGTH = MAX_PREDICTION_TIME*FRAME_RATE\n",
    "DEVICE = \"cuda\" if torch.cuda.is_available() else \"cpu\"\n",
    "print(DEVICE)\n",
    "FEATURE_SIZE = 9\n",
    "BATCH_SIZE = 16"
   ]
  },
  {
   "cell_type": "code",
   "execution_count": 69,
   "metadata": {},
   "outputs": [],
   "source": [
    "# data\n",
    "x_train = np.loadtxt('processed_data/x_train.csv', dtype='float32', delimiter=',').reshape((-1,MAX_HISTORY_LENGTH,FEATURE_SIZE))[:,:HISTORY_LENGTH,:]\n",
    "y_train = np.loadtxt('processed_data/y_train.csv', dtype='float32', delimiter=',').reshape((-1,MAX_PREDICTION_LENGTH,FEATURE_SIZE))[:,:PREDICTION_LENGTH,:]\n",
    "x_val = np.loadtxt('processed_data/x_val.csv', dtype='float32', delimiter=',').reshape((-1,MAX_HISTORY_LENGTH,FEATURE_SIZE))[:,:HISTORY_LENGTH,:]\n",
    "y_val = np.loadtxt('processed_data/x_val.csv', dtype='float32', delimiter=',').reshape((-1,MAX_PREDICTION_LENGTH,FEATURE_SIZE))[:,:PREDICTION_LENGTH,:]\n",
    "x_test = np.loadtxt('processed_data/x_test.csv', dtype='float32', delimiter=',').reshape((-1,MAX_HISTORY_LENGTH,FEATURE_SIZE))[:,:HISTORY_LENGTH,:]\n",
    "y_test = np.loadtxt('processed_data/y_test.csv', dtype='float32', delimiter=',').reshape((-1,MAX_PREDICTION_LENGTH,FEATURE_SIZE))[:,:PREDICTION_LENGTH,:]\n",
    "mean_std = np.loadtxt('processed_data/xyz_mean_std.csv', dtype='float32', delimiter=',').reshape((3, -1))"
   ]
  },
  {
   "cell_type": "code",
   "execution_count": 70,
   "metadata": {},
   "outputs": [
    {
     "data": {
      "text/plain": [
       "((2528, 120, 9),\n",
       " array([[-0.18793215,  1.5261388 , -0.13073014,  0.6257753 ,  0.15468523,\n",
       "          0.60360074],\n",
       "        [-0.62449   ,  1.5019501 ,  0.02522216,  0.5530124 ,  0.03978195,\n",
       "          0.72023517],\n",
       "        [-0.3388281 ,  1.5143266 ,  0.12828556,  0.20926948,  0.03762233,\n",
       "          0.37227112]], dtype=float32))"
      ]
     },
     "execution_count": 70,
     "metadata": {},
     "output_type": "execute_result"
    }
   ],
   "source": [
    "x_train.shape, mean_std"
   ]
  },
  {
   "cell_type": "code",
   "execution_count": 71,
   "metadata": {},
   "outputs": [],
   "source": [
    "train_data = FoVDataset(x_train, y_train)\n",
    "val_data = FoVDataset(x_val, y_val)\n",
    "test_data = FoVDataset(x_test, y_test)\n",
    "train_dataloader = DataLoader(train_data, batch_size=BATCH_SIZE, shuffle=True)\n",
    "val_dataloader = DataLoader(val_data, batch_size=BATCH_SIZE, shuffle=False)\n",
    "test_dataloader = DataLoader(test_data, batch_size=BATCH_SIZE, shuffle=False)"
   ]
  },
  {
   "cell_type": "code",
   "execution_count": 72,
   "metadata": {},
   "outputs": [
    {
     "data": {
      "text/plain": [
       "158"
      ]
     },
     "execution_count": 72,
     "metadata": {},
     "output_type": "execute_result"
    }
   ],
   "source": [
    "len(train_dataloader)"
   ]
  },
  {
   "cell_type": "code",
   "execution_count": 73,
   "metadata": {},
   "outputs": [
    {
     "data": {
      "text/plain": [
       "torch.Size([120, 9])"
      ]
     },
     "execution_count": 73,
     "metadata": {},
     "output_type": "execute_result"
    }
   ],
   "source": [
    "train_data[0][0].shape"
   ]
  },
  {
   "cell_type": "code",
   "execution_count": 74,
   "metadata": {},
   "outputs": [],
   "source": [
    "#training hyperparams\n",
    "enc_seq_len = HISTORY_LENGTH\n",
    "dec_seq_len = PREDICTION_LENGTH\n",
    "output_sequence_length = PREDICTION_LENGTH\n",
    "\n",
    "n_heads = 5\n",
    "head_dim = 32 # dimension of each head, not total\n",
    "dim_val = n_heads*head_dim # embedding dimension, all heads together\n",
    "lr = 0.1\n",
    "tf_rate = 0.5\n",
    "epochs = 400\n",
    "n_decoder_layers = 3\n",
    "n_encoder_layers = 3\n",
    "batch_size = BATCH_SIZE\n",
    "n_batches = len(train_dataloader)\n",
    "\n",
    "#init network and optimizer\n",
    "model = Transformer(dim_val, head_dim, FEATURE_SIZE, dec_seq_len, output_sequence_length, n_decoder_layers, n_encoder_layers, n_heads, device=DEVICE).to(device=DEVICE)\n",
    "optimizer = torch.optim.Adam(model.parameters(), lr=lr)\n",
    "scheduler = torch.optim.lr_scheduler.StepLR(optimizer, 1.0, gamma=0.95)\n",
    "#keep track of loss for graph\n",
    "train_losses = []\n",
    "val_losses = []\n",
    "test_losses = []\n",
    "sep_train_losses = []\n",
    "sep_val_losses = []\n",
    "sep_test_losses = []\n",
    "train_pearsonr_arr = []\n",
    "val_pearsonr_arr = []\n",
    "test_pearsonr_arr = []"
   ]
  },
  {
   "cell_type": "code",
   "execution_count": 75,
   "metadata": {},
   "outputs": [],
   "source": [
    "def my_loss(output, target):\n",
    "    # compute loss for each feature\n",
    "    # output/target: [N, seq_len, 9]\n",
    "    # change sin cos back to angle ?\n",
    "    output_rx = torch.atan2(output[:,:,3], output[:,:,4]).unsqueeze(2)\n",
    "    output_ry = torch.atan2(output[:,:,5], output[:,:,6]).unsqueeze(2)\n",
    "    output_rz = torch.atan2(output[:,:,7], output[:,:,8]).unsqueeze(2)\n",
    "    target_rx = torch.atan2(target[:,:,3], target[:,:,4]).unsqueeze(2)\n",
    "    target_ry = torch.atan2(target[:,:,5], target[:,:,6]).unsqueeze(2)\n",
    "    target_rz = torch.atan2(target[:,:,7], target[:,:,8]).unsqueeze(2)\n",
    "    output = torch.cat((output,output_rx,output_ry,output_rz),-1)\n",
    "    target = torch.cat((target,target_rx,target_ry,target_rz),-1)\n",
    "    \n",
    "    loss = torch.mean((output - target) ** 2, [0,1])\n",
    "    pearsonr = stats.pearsonr(output.detach().cpu().flatten(), target.detach().cpu().flatten())\n",
    "    return loss, pearsonr"
   ]
  },
  {
   "cell_type": "code",
   "execution_count": 78,
   "metadata": {},
   "outputs": [],
   "source": [
    "def train(model: nn.Module, data_loader, optimizer, scaler, writer, step) -> None:\n",
    "    progress_bar = tqdm(data_loader)\n",
    "    model.train() # turn on train mode\n",
    "    total_loss = 0.\n",
    "    start_time = time.time()\n",
    "    num_batches = len(data_loader)\n",
    "    log_interval = num_batches // 5\n",
    "    return_loss = 0.\n",
    "    sep_return_loss = np.zeros((1,12))\n",
    "    loss_dict_train = {}\n",
    "#     total_sep_loss = np.zeros((1,6))\n",
    "    for batch_idx, (data, targets) in enumerate(progress_bar):\n",
    "#         print(\"batch index: \", batch_idx)\n",
    "        data = data.to(device=DEVICE)\n",
    "        targets = targets.to(device=DEVICE)\n",
    "        # with torch.cuda.amp.autocast():\n",
    "        output = model(data)\n",
    "        optimizer.zero_grad()\n",
    "        # loss = criterion(output, targets)\n",
    "        sep_loss, train_pearsonr = my_loss(output, targets)\n",
    "#         print(\"sep_loss shape: \", sep_loss.unsqueeze(0).shape)\n",
    "        # scaler.scale(loss).backward()\n",
    "        loss = torch.sum(sep_loss[:9])\n",
    "        loss.backward()\n",
    "        torch.nn.utils.clip_grad_norm_(model.parameters(), max_norm=1)\n",
    "        # scaler.step(optimizer)\n",
    "        optimizer.step()\n",
    "        # scaler.update()\n",
    "        #writer.add_scalar(\"Training Loss\", loss, global_step=step)\n",
    "        step += 1\n",
    "        total_loss += loss.item()\n",
    "        return_loss += loss.item()\n",
    "        sep_return_loss += sep_loss.detach().cpu().numpy()\n",
    "        progress_bar.set_postfix_str(f\"training loss={loss.item():.4e}|avg training loss={total_loss/(batch_idx+1):.4e}\")\n",
    "        loss_dict_train['training loss'] = loss.item()\n",
    "        loss_dict_train['x loss'] = sep_loss[0]\n",
    "        loss_dict_train['y loss'] = sep_loss[1]\n",
    "        loss_dict_train['z loss'] = sep_loss[2]\n",
    "        loss_dict_train['r_sin loss'] = sep_loss[3]\n",
    "        loss_dict_train['r_cos loss'] = sep_loss[4]\n",
    "        loss_dict_train['p_sin loss'] = sep_loss[5]\n",
    "        loss_dict_train['p_cos loss'] = sep_loss[6]      \n",
    "        loss_dict_train['y_sin loss'] = sep_loss[7]      \n",
    "        loss_dict_train['y_cos loss'] = sep_loss[8]\n",
    "        loss_dict_train['rx loss'] = sep_loss[9]    \n",
    "        loss_dict_train['ry loss'] = sep_loss[10]\n",
    "        loss_dict_train['rz loss'] = sep_loss[11]\n",
    "        \n",
    "        loss_dict_train['avg training loss'] = total_loss/(batch_idx+1)\n",
    "        loss_dict_train['train pearsonr'] = train_pearsonr\n",
    "        wandb.log(loss_dict_train) \n",
    "        if batch_idx % log_interval == 0 and batch_idx > 0:\n",
    "            lr = scheduler.get_last_lr()[0]\n",
    "            ms_per_batch = (time.time() - start_time) * 1000 / log_interval\n",
    "            cur_loss = total_loss / log_interval\n",
    "            print(f'| epoch {epoch:3d} | {batch_idx:5d}/{num_batches:5d} batches | '\n",
    "                  f'lr {lr:02.5f} | ms/batch {ms_per_batch:5.5f} | '\n",
    "                  f'loss {cur_loss:5.5f}')\n",
    "            total_loss = 0\n",
    "            start_time = time.time()\n",
    "    return return_loss/(batch_idx+1), sep_return_loss/(batch_idx+1), train_pearsonr\n",
    "\n",
    "def validate(model: nn.Module, dataloader: DataLoader) -> float:\n",
    "    model.eval()\n",
    "    total_loss = 0.\n",
    "    sep_total_loss = np.zeros((1,12))\n",
    "    loss_dict_valid = {}\n",
    "    with torch.no_grad():\n",
    "        for (data, targets) in dataloader:\n",
    "            data = data.to(device=DEVICE) # [N, seq_len, feature_size]\n",
    "            targets = targets.to(device=DEVICE) # [N, seq_len, feature_size]\n",
    "            output = model(data)\n",
    "#             plt.figure()\n",
    "#             plt.plot(targets.detach().cpu().numpy()[0,:,8])\n",
    "#             plt.plot(output.detach().cpu().numpy()[0,:,8])\n",
    "#             plt.legend(['target','output'])\n",
    "#             plt.show()\n",
    "#             print(\"output: \", output)\n",
    "            sep_valid_loss, valid_pearsonr = my_loss(output, targets)\n",
    "            total_loss += torch.sum(sep_valid_loss)\n",
    "            sep_total_loss += sep_valid_loss.detach().cpu().numpy()\n",
    "            loss_dict_valid['valid loss'] = sep_valid_loss\n",
    "            loss_dict_valid['valid pearsonr'] = valid_pearsonr\n",
    "            wandb.log(loss_dict_valid) \n",
    "    return total_loss/(len(dataloader) - 1), sep_total_loss/(len(dataloader) - 1), valid_pearsonr\n",
    "    \n",
    "\n",
    "# def inference(model: nn.Module, dataloader: DataLoader) -> float:\n",
    "#     model.eval()  # turn on evaluation mode\n",
    "#     total_loss = 0.\n",
    "#     o = []\n",
    "#     loss_dict_test = {}\n",
    "#     with torch.no_grad():\n",
    "#         for (data, targets) in dataloader:\n",
    "#             data = data.to(device=DEVICE) # [N, seq_len, feature_size]\n",
    "#             targets = targets.to(device=DEVICE) # [N, seq_len, feature_size]\n",
    "#             N, seq_len, feature_size = targets.shape\n",
    "#             dec_input = torch.zeros(targets.shape)\n",
    "#             for i in range(seq_len):\n",
    "#                 if i == 0:\n",
    "#                     dec_input = data\n",
    "#                     output = model(data, dec_input)\n",
    "#                     o = output\n",
    "#                 else:\n",
    "#                     dec_input[:,:seq_len-i,:] = data[:,i:,:]\n",
    "#                     dec_input[:,seq_len-i:,:] = o\n",
    "#                     output = model(data, dec_input)\n",
    "#                     o = torch.hstack(o, output[:,-1,:])\n",
    "#             test_loss = my_loss(o, targets).item()\n",
    "#             total_loss += test_loss\n",
    "#             loss_dict_test['test loss'] = test_loss\n",
    "#             wandb.log(loss_dict_test) \n",
    "#             # print(\"val loss: \", total_loss)\n",
    "#             # data = data.permute(1, 0, 2) #.detach().cpu().numpy()\n",
    "#             # output = output.permute(1, 0, 2) #.detach().cpu().numpy()\n",
    "#             # print(\"output2: \", output[0][0])\n",
    "#     return total_loss / (len(dataloader) - 1)"
   ]
  },
  {
   "cell_type": "code",
   "execution_count": null,
   "metadata": {},
   "outputs": [],
   "source": [
    "wandb.init(\n",
    "        project=\"Transformer_Enc_MLP\",\n",
    "        # track hyperparameters and run metadata\n",
    "        #config=vars(args)\n",
    "        config={\n",
    "            \"epochs\": epochs,\n",
    "            \"batch_size\": batch_size,\n",
    "            \"history_time\": HISTORY_TIME,\n",
    "            \"prediction_time\": PREDICTION_TIME,\n",
    "            \"learning_rate\": lr,\n",
    "            \"dim_val\": dim_val,\n",
    "            \"decoder\": \"MLP\"\n",
    "        }\n",
    "    )"
   ]
  },
  {
   "cell_type": "code",
   "execution_count": null,
   "metadata": {},
   "outputs": [],
   "source": [
    "model, optimizer, train_losses, val_losses = load_ckpt(\"{}/checkpoints/epoch_{}_batch_{}_ckpts.pt\".format(os.getcwd(), 50, batch_size), model, optimizer)"
   ]
  },
  {
   "cell_type": "code",
   "execution_count": null,
   "metadata": {},
   "outputs": [],
   "source": [
    "len(train_losses)"
   ]
  },
  {
   "cell_type": "code",
   "execution_count": null,
   "metadata": {},
   "outputs": [],
   "source": [
    "total_train_loss, sep_train_loss, train_pearsonr = validate(model, train_dataloader)"
   ]
  },
  {
   "cell_type": "code",
   "execution_count": null,
   "metadata": {},
   "outputs": [],
   "source": [
    "train_data[0][0].shape"
   ]
  },
  {
   "cell_type": "code",
   "execution_count": null,
   "metadata": {},
   "outputs": [],
   "source": [
    "model.eval()\n",
    "predict = model(train)"
   ]
  },
  {
   "cell_type": "code",
   "execution_count": 79,
   "metadata": {
    "scrolled": true
   },
   "outputs": [
    {
     "name": "stdout",
     "output_type": "stream",
     "text": [
      "<torch.cuda.amp.grad_scaler.GradScaler object at 0x153b17a3e690>\n"
     ]
    },
    {
     "name": "stderr",
     "output_type": "stream",
     "text": [
      "/state/partition1/job-41022835/ipykernel_2594365/1876996118.py:7: UserWarning: FigureCanvasAgg is non-interactive, and thus cannot be shown\n",
      "  fig.show()\n"
     ]
    },
    {
     "data": {
      "application/vnd.jupyter.widget-view+json": {
       "model_id": "6796f65f5bf94ad893337781e0b4ad5f",
       "version_major": 2,
       "version_minor": 0
      },
      "text/plain": [
       "  0%|          | 0/400 [00:00<?, ?it/s]"
      ]
     },
     "metadata": {},
     "output_type": "display_data"
    },
    {
     "name": "stdout",
     "output_type": "stream",
     "text": [
      "Epoch #1\n"
     ]
    },
    {
     "data": {
      "application/vnd.jupyter.widget-view+json": {
       "model_id": "33628c9db3164f17b5294152d5ec9ef6",
       "version_major": 2,
       "version_minor": 0
      },
      "text/plain": [
       "  0%|          | 0/158 [00:00<?, ?it/s]"
      ]
     },
     "metadata": {},
     "output_type": "display_data"
    },
    {
     "name": "stdout",
     "output_type": "stream",
     "text": [
      "| epoch   1 |    31/  158 batches | lr 0.00731 | ms/batch 31.48423 | loss 36.14170\n",
      "| epoch   1 |    62/  158 batches | lr 0.00731 | ms/batch 28.24861 | loss 3.80782\n",
      "| epoch   1 |    93/  158 batches | lr 0.00731 | ms/batch 29.10827 | loss 3.86703\n",
      "| epoch   1 |   124/  158 batches | lr 0.00731 | ms/batch 28.98542 | loss 3.93991\n",
      "| epoch   1 |   155/  158 batches | lr 0.00731 | ms/batch 28.80838 | loss 3.70218\n",
      "-----------------------------------------------------------------------------------------\n",
      "| end of epoch   1 | time:  4.88s | valid loss 7.8070 | mean loss   7.8723\n",
      "-----------------------------------------------------------------------------------------\n",
      "Epoch #2\n"
     ]
    },
    {
     "data": {
      "application/vnd.jupyter.widget-view+json": {
       "model_id": "e9c5c2ca2bda47be9a91d6f8740f4b42",
       "version_major": 2,
       "version_minor": 0
      },
      "text/plain": [
       "  0%|          | 0/158 [00:00<?, ?it/s]"
      ]
     },
     "metadata": {},
     "output_type": "display_data"
    },
    {
     "name": "stdout",
     "output_type": "stream",
     "text": [
      "| epoch   2 |    31/  158 batches | lr 0.00731 | ms/batch 30.36274 | loss 4.04221\n",
      "| epoch   2 |    62/  158 batches | lr 0.00731 | ms/batch 29.61493 | loss 3.67399\n",
      "| epoch   2 |    93/  158 batches | lr 0.00731 | ms/batch 29.18490 | loss 3.77086\n",
      "| epoch   2 |   124/  158 batches | lr 0.00731 | ms/batch 30.16318 | loss 3.72676\n",
      "| epoch   2 |   155/  158 batches | lr 0.00731 | ms/batch 29.26553 | loss 3.88743\n",
      "-----------------------------------------------------------------------------------------\n",
      "| end of epoch   2 | time:  4.96s | valid loss 7.7605 | mean loss   6.5116\n",
      "-----------------------------------------------------------------------------------------\n",
      "Epoch #3\n"
     ]
    },
    {
     "data": {
      "application/vnd.jupyter.widget-view+json": {
       "model_id": "36780c76feb94a0d8f674e1a6c1ba591",
       "version_major": 2,
       "version_minor": 0
      },
      "text/plain": [
       "  0%|          | 0/158 [00:00<?, ?it/s]"
      ]
     },
     "metadata": {},
     "output_type": "display_data"
    },
    {
     "name": "stdout",
     "output_type": "stream",
     "text": [
      "| epoch   3 |    31/  158 batches | lr 0.00694 | ms/batch 30.48968 | loss 3.95506\n",
      "| epoch   3 |    62/  158 batches | lr 0.00694 | ms/batch 29.20656 | loss 3.77170\n",
      "| epoch   3 |    93/  158 batches | lr 0.00694 | ms/batch 29.98917 | loss 3.70846\n",
      "| epoch   3 |   124/  158 batches | lr 0.00694 | ms/batch 29.64139 | loss 3.87442\n",
      "| epoch   3 |   155/  158 batches | lr 0.00694 | ms/batch 29.84318 | loss 3.75822\n",
      "-----------------------------------------------------------------------------------------\n",
      "| end of epoch   3 | time:  4.98s | valid loss 7.7784 | mean loss   5.8306\n",
      "-----------------------------------------------------------------------------------------\n",
      "Epoch #4\n"
     ]
    },
    {
     "data": {
      "application/vnd.jupyter.widget-view+json": {
       "model_id": "2198cc0341d04b2e9e20a2dec0d2d7fb",
       "version_major": 2,
       "version_minor": 0
      },
      "text/plain": [
       "  0%|          | 0/158 [00:00<?, ?it/s]"
      ]
     },
     "metadata": {},
     "output_type": "display_data"
    },
    {
     "name": "stdout",
     "output_type": "stream",
     "text": [
      "| epoch   4 |    31/  158 batches | lr 0.00660 | ms/batch 31.06125 | loss 3.90109\n",
      "| epoch   4 |    62/  158 batches | lr 0.00660 | ms/batch 29.14025 | loss 3.86148\n",
      "| epoch   4 |    93/  158 batches | lr 0.00660 | ms/batch 29.36276 | loss 3.86078\n",
      "| epoch   4 |   124/  158 batches | lr 0.00660 | ms/batch 30.28528 | loss 3.65474\n",
      "| epoch   4 |   155/  158 batches | lr 0.00660 | ms/batch 29.51644 | loss 5.21400\n",
      "-----------------------------------------------------------------------------------------\n",
      "| end of epoch   4 | time:  4.99s | valid loss 8.0027 | mean loss   5.4986\n",
      "-----------------------------------------------------------------------------------------\n",
      "Epoch #5\n"
     ]
    },
    {
     "data": {
      "application/vnd.jupyter.widget-view+json": {
       "model_id": "b934852326764a94b7cccc1efe5bc81e",
       "version_major": 2,
       "version_minor": 0
      },
      "text/plain": [
       "  0%|          | 0/158 [00:00<?, ?it/s]"
      ]
     },
     "metadata": {},
     "output_type": "display_data"
    },
    {
     "name": "stdout",
     "output_type": "stream",
     "text": [
      "| epoch   5 |    31/  158 batches | lr 0.00627 | ms/batch 30.47562 | loss 3.96954\n",
      "| epoch   5 |    62/  158 batches | lr 0.00627 | ms/batch 28.98498 | loss 3.80506\n",
      "| epoch   5 |    93/  158 batches | lr 0.00627 | ms/batch 29.83619 | loss 3.86300\n",
      "| epoch   5 |   124/  158 batches | lr 0.00627 | ms/batch 29.56637 | loss 3.68534\n",
      "| epoch   5 |   155/  158 batches | lr 0.00627 | ms/batch 29.67533 | loss 3.78637\n",
      "-----------------------------------------------------------------------------------------\n",
      "| end of epoch   5 | time:  4.96s | valid loss 7.8868 | mean loss   5.2144\n",
      "-----------------------------------------------------------------------------------------\n",
      "Epoch #6\n"
     ]
    },
    {
     "data": {
      "application/vnd.jupyter.widget-view+json": {
       "model_id": "a9255aff87f64dd09cd4338477a4db5d",
       "version_major": 2,
       "version_minor": 0
      },
      "text/plain": [
       "  0%|          | 0/158 [00:00<?, ?it/s]"
      ]
     },
     "metadata": {},
     "output_type": "display_data"
    },
    {
     "name": "stdout",
     "output_type": "stream",
     "text": [
      "| epoch   6 |    31/  158 batches | lr 0.00595 | ms/batch 30.57075 | loss 3.74068\n",
      "| epoch   6 |    62/  158 batches | lr 0.00595 | ms/batch 29.16208 | loss 3.75043\n",
      "| epoch   6 |    93/  158 batches | lr 0.00595 | ms/batch 29.71177 | loss 3.81260\n",
      "| epoch   6 |   124/  158 batches | lr 0.00595 | ms/batch 29.58676 | loss 3.80624\n",
      "| epoch   6 |   155/  158 batches | lr 0.00595 | ms/batch 29.27504 | loss 3.88726\n",
      "-----------------------------------------------------------------------------------------\n",
      "| end of epoch   6 | time:  5.01s | valid loss 7.8220 | mean loss   5.0106\n",
      "-----------------------------------------------------------------------------------------\n",
      "Epoch #7\n"
     ]
    },
    {
     "data": {
      "application/vnd.jupyter.widget-view+json": {
       "model_id": "54091286a1b241299d63d6fb82f742eb",
       "version_major": 2,
       "version_minor": 0
      },
      "text/plain": [
       "  0%|          | 0/158 [00:00<?, ?it/s]"
      ]
     },
     "metadata": {},
     "output_type": "display_data"
    },
    {
     "name": "stdout",
     "output_type": "stream",
     "text": [
      "| epoch   7 |    31/  158 batches | lr 0.00566 | ms/batch 30.57850 | loss 3.99857\n",
      "| epoch   7 |    62/  158 batches | lr 0.00566 | ms/batch 29.44703 | loss 3.75955\n",
      "| epoch   7 |    93/  158 batches | lr 0.00566 | ms/batch 29.43395 | loss 3.77196\n",
      "| epoch   7 |   124/  158 batches | lr 0.00566 | ms/batch 29.19120 | loss 3.73684\n",
      "| epoch   7 |   155/  158 batches | lr 0.00566 | ms/batch 29.96402 | loss 3.80725\n",
      "-----------------------------------------------------------------------------------------\n",
      "| end of epoch   7 | time:  4.96s | valid loss 7.8058 | mean loss   4.8578\n",
      "-----------------------------------------------------------------------------------------\n",
      "Epoch #8\n"
     ]
    },
    {
     "data": {
      "application/vnd.jupyter.widget-view+json": {
       "model_id": "95cae3c3ba474cb9817100d8fc83b9a6",
       "version_major": 2,
       "version_minor": 0
      },
      "text/plain": [
       "  0%|          | 0/158 [00:00<?, ?it/s]"
      ]
     },
     "metadata": {},
     "output_type": "display_data"
    },
    {
     "name": "stdout",
     "output_type": "stream",
     "text": [
      "| epoch   8 |    31/  158 batches | lr 0.00537 | ms/batch 30.79492 | loss 3.82423\n",
      "| epoch   8 |    62/  158 batches | lr 0.00537 | ms/batch 29.05056 | loss 3.83602\n",
      "| epoch   8 |    93/  158 batches | lr 0.00537 | ms/batch 29.24057 | loss 3.80112\n",
      "| epoch   8 |   124/  158 batches | lr 0.00537 | ms/batch 29.13445 | loss 3.83023\n",
      "| epoch   8 |   155/  158 batches | lr 0.00537 | ms/batch 29.52368 | loss 3.73548\n",
      "-----------------------------------------------------------------------------------------\n",
      "| end of epoch   8 | time:  4.94s | valid loss 7.7567 | mean loss   4.7390\n",
      "-----------------------------------------------------------------------------------------\n",
      "Epoch #9\n"
     ]
    },
    {
     "data": {
      "application/vnd.jupyter.widget-view+json": {
       "model_id": "17a9a13ae18e4576b41be5bba4eccfed",
       "version_major": 2,
       "version_minor": 0
      },
      "text/plain": [
       "  0%|          | 0/158 [00:00<?, ?it/s]"
      ]
     },
     "metadata": {},
     "output_type": "display_data"
    },
    {
     "name": "stdout",
     "output_type": "stream",
     "text": [
      "| epoch   9 |    31/  158 batches | lr 0.00510 | ms/batch 30.52419 | loss 3.81741\n",
      "| epoch   9 |    62/  158 batches | lr 0.00510 | ms/batch 29.62895 | loss 3.64442\n",
      "| epoch   9 |    93/  158 batches | lr 0.00510 | ms/batch 29.56890 | loss 3.98014\n",
      "| epoch   9 |   124/  158 batches | lr 0.00510 | ms/batch 29.43543 | loss 3.85490\n",
      "| epoch   9 |   155/  158 batches | lr 0.00510 | ms/batch 29.87304 | loss 3.77495\n",
      "-----------------------------------------------------------------------------------------\n",
      "| end of epoch   9 | time:  4.97s | valid loss 7.7568 | mean loss   4.6442\n",
      "-----------------------------------------------------------------------------------------\n",
      "Epoch #10\n"
     ]
    },
    {
     "data": {
      "application/vnd.jupyter.widget-view+json": {
       "model_id": "43d032c0313247e1b51c13253236b4ba",
       "version_major": 2,
       "version_minor": 0
      },
      "text/plain": [
       "  0%|          | 0/158 [00:00<?, ?it/s]"
      ]
     },
     "metadata": {},
     "output_type": "display_data"
    },
    {
     "name": "stdout",
     "output_type": "stream",
     "text": [
      "| epoch  10 |    31/  158 batches | lr 0.00485 | ms/batch 31.08191 | loss 3.94633\n",
      "| epoch  10 |    62/  158 batches | lr 0.00485 | ms/batch 29.41420 | loss 3.83993\n",
      "| epoch  10 |    93/  158 batches | lr 0.00485 | ms/batch 29.26367 | loss 3.99310\n",
      "| epoch  10 |   124/  158 batches | lr 0.00485 | ms/batch 29.57418 | loss 3.66111\n",
      "| epoch  10 |   155/  158 batches | lr 0.00485 | ms/batch 29.53115 | loss 3.60382\n",
      "-----------------------------------------------------------------------------------------\n",
      "| end of epoch  10 | time:  4.98s | valid loss 7.7450 | mean loss   4.5664\n",
      "-----------------------------------------------------------------------------------------\n",
      "Epoch #11\n"
     ]
    },
    {
     "data": {
      "application/vnd.jupyter.widget-view+json": {
       "model_id": "aec144a80fe4489d9923e36dc56e1b1d",
       "version_major": 2,
       "version_minor": 0
      },
      "text/plain": [
       "  0%|          | 0/158 [00:00<?, ?it/s]"
      ]
     },
     "metadata": {},
     "output_type": "display_data"
    },
    {
     "name": "stdout",
     "output_type": "stream",
     "text": [
      "| epoch  11 |    31/  158 batches | lr 0.00461 | ms/batch 30.29107 | loss 4.00095\n",
      "| epoch  11 |    62/  158 batches | lr 0.00461 | ms/batch 29.34944 | loss 3.71509\n",
      "| epoch  11 |    93/  158 batches | lr 0.00461 | ms/batch 29.35349 | loss 3.84317\n",
      "| epoch  11 |   124/  158 batches | lr 0.00461 | ms/batch 29.23680 | loss 3.82545\n",
      "| epoch  11 |   155/  158 batches | lr 0.00461 | ms/batch 29.53389 | loss 3.64787\n",
      "-----------------------------------------------------------------------------------------\n",
      "| end of epoch  11 | time:  4.93s | valid loss 7.7839 | mean loss   4.5015\n",
      "-----------------------------------------------------------------------------------------\n",
      "Epoch #12\n"
     ]
    },
    {
     "data": {
      "application/vnd.jupyter.widget-view+json": {
       "model_id": "cb8db8efa2a743a0b266cf173212cbcd",
       "version_major": 2,
       "version_minor": 0
      },
      "text/plain": [
       "  0%|          | 0/158 [00:00<?, ?it/s]"
      ]
     },
     "metadata": {},
     "output_type": "display_data"
    },
    {
     "name": "stdout",
     "output_type": "stream",
     "text": [
      "| epoch  12 |    31/  158 batches | lr 0.00438 | ms/batch 31.71502 | loss 4.11551\n",
      "| epoch  12 |    62/  158 batches | lr 0.00438 | ms/batch 29.09430 | loss 3.78737\n",
      "| epoch  12 |    93/  158 batches | lr 0.00438 | ms/batch 29.52037 | loss 3.83849\n",
      "| epoch  12 |   124/  158 batches | lr 0.00438 | ms/batch 29.20344 | loss 3.62109\n",
      "| epoch  12 |   155/  158 batches | lr 0.00438 | ms/batch 29.35543 | loss 3.70185\n",
      "-----------------------------------------------------------------------------------------\n",
      "| end of epoch  12 | time:  4.98s | valid loss 7.7689 | mean loss   4.4466\n",
      "-----------------------------------------------------------------------------------------\n",
      "Epoch #13\n"
     ]
    },
    {
     "data": {
      "application/vnd.jupyter.widget-view+json": {
       "model_id": "eba225f378d44b6caff88a0f3a4bbaf4",
       "version_major": 2,
       "version_minor": 0
      },
      "text/plain": [
       "  0%|          | 0/158 [00:00<?, ?it/s]"
      ]
     },
     "metadata": {},
     "output_type": "display_data"
    },
    {
     "name": "stdout",
     "output_type": "stream",
     "text": [
      "| epoch  13 |    31/  158 batches | lr 0.00416 | ms/batch 30.38816 | loss 3.85319\n",
      "| epoch  13 |    62/  158 batches | lr 0.00416 | ms/batch 29.03495 | loss 3.79916\n",
      "| epoch  13 |    93/  158 batches | lr 0.00416 | ms/batch 28.69514 | loss 3.79283\n",
      "| epoch  13 |   124/  158 batches | lr 0.00416 | ms/batch 29.20063 | loss 3.86006\n",
      "| epoch  13 |   155/  158 batches | lr 0.00416 | ms/batch 29.16767 | loss 3.72587\n",
      "-----------------------------------------------------------------------------------------\n",
      "| end of epoch  13 | time:  4.91s | valid loss 7.7800 | mean loss   4.3996\n",
      "-----------------------------------------------------------------------------------------\n",
      "Epoch #14\n"
     ]
    },
    {
     "data": {
      "application/vnd.jupyter.widget-view+json": {
       "model_id": "b828a3a3e474478dbd09a15911007d89",
       "version_major": 2,
       "version_minor": 0
      },
      "text/plain": [
       "  0%|          | 0/158 [00:00<?, ?it/s]"
      ]
     },
     "metadata": {},
     "output_type": "display_data"
    },
    {
     "name": "stdout",
     "output_type": "stream",
     "text": [
      "| epoch  14 |    31/  158 batches | lr 0.00395 | ms/batch 30.45879 | loss 4.02686\n",
      "| epoch  14 |    62/  158 batches | lr 0.00395 | ms/batch 28.93559 | loss 3.91188\n",
      "| epoch  14 |    93/  158 batches | lr 0.00395 | ms/batch 28.89411 | loss 3.73950\n",
      "| epoch  14 |   124/  158 batches | lr 0.00395 | ms/batch 28.56442 | loss 3.83411\n",
      "| epoch  14 |   155/  158 batches | lr 0.00395 | ms/batch 28.39734 | loss 3.59601\n",
      "-----------------------------------------------------------------------------------------\n",
      "| end of epoch  14 | time:  4.86s | valid loss 7.7635 | mean loss   4.3588\n",
      "-----------------------------------------------------------------------------------------\n",
      "Epoch #15\n"
     ]
    },
    {
     "data": {
      "application/vnd.jupyter.widget-view+json": {
       "model_id": "d702baa75ae544979a918bddaeabab94",
       "version_major": 2,
       "version_minor": 0
      },
      "text/plain": [
       "  0%|          | 0/158 [00:00<?, ?it/s]"
      ]
     },
     "metadata": {},
     "output_type": "display_data"
    },
    {
     "name": "stdout",
     "output_type": "stream",
     "text": [
      "| epoch  15 |    31/  158 batches | lr 0.00375 | ms/batch 30.34907 | loss 3.96722\n",
      "| epoch  15 |    62/  158 batches | lr 0.00375 | ms/batch 28.90691 | loss 3.67862\n",
      "| epoch  15 |    93/  158 batches | lr 0.00375 | ms/batch 29.62742 | loss 3.75049\n",
      "| epoch  15 |   124/  158 batches | lr 0.00375 | ms/batch 29.45098 | loss 3.89731\n",
      "| epoch  15 |   155/  158 batches | lr 0.00375 | ms/batch 29.18455 | loss 3.80133\n",
      "-----------------------------------------------------------------------------------------\n",
      "| end of epoch  15 | time:  4.93s | valid loss 7.7493 | mean loss   4.3230\n",
      "-----------------------------------------------------------------------------------------\n",
      "Epoch #16\n"
     ]
    },
    {
     "data": {
      "application/vnd.jupyter.widget-view+json": {
       "model_id": "9ca1eb2e32ee407d818eb890b9e6e4fc",
       "version_major": 2,
       "version_minor": 0
      },
      "text/plain": [
       "  0%|          | 0/158 [00:00<?, ?it/s]"
      ]
     },
     "metadata": {},
     "output_type": "display_data"
    },
    {
     "name": "stdout",
     "output_type": "stream",
     "text": [
      "| epoch  16 |    31/  158 batches | lr 0.00356 | ms/batch 30.18841 | loss 3.85379\n",
      "| epoch  16 |    62/  158 batches | lr 0.00356 | ms/batch 29.35316 | loss 3.71453\n",
      "| epoch  16 |    93/  158 batches | lr 0.00356 | ms/batch 29.85342 | loss 3.76477\n",
      "| epoch  16 |   124/  158 batches | lr 0.00356 | ms/batch 29.46083 | loss 3.85721\n",
      "| epoch  16 |   155/  158 batches | lr 0.00356 | ms/batch 29.64599 | loss 3.88029\n",
      "-----------------------------------------------------------------------------------------\n",
      "| end of epoch  16 | time:  4.95s | valid loss 7.7992 | mean loss   4.2915\n",
      "-----------------------------------------------------------------------------------------\n",
      "Epoch #17\n"
     ]
    },
    {
     "data": {
      "application/vnd.jupyter.widget-view+json": {
       "model_id": "713e0e503d4f4f44b91451995c4b1544",
       "version_major": 2,
       "version_minor": 0
      },
      "text/plain": [
       "  0%|          | 0/158 [00:00<?, ?it/s]"
      ]
     },
     "metadata": {},
     "output_type": "display_data"
    },
    {
     "name": "stdout",
     "output_type": "stream",
     "text": [
      "| epoch  17 |    31/  158 batches | lr 0.00339 | ms/batch 29.55269 | loss 4.02165\n",
      "| epoch  17 |    62/  158 batches | lr 0.00339 | ms/batch 29.19908 | loss 3.68995\n",
      "| epoch  17 |    93/  158 batches | lr 0.00339 | ms/batch 29.38921 | loss 3.88952\n",
      "| epoch  17 |   124/  158 batches | lr 0.00339 | ms/batch 28.76428 | loss 3.75359\n",
      "| epoch  17 |   155/  158 batches | lr 0.00339 | ms/batch 29.53356 | loss 3.67960\n",
      "-----------------------------------------------------------------------------------------\n",
      "| end of epoch  17 | time:  4.89s | valid loss 7.8020 | mean loss   4.2635\n",
      "-----------------------------------------------------------------------------------------\n",
      "Epoch #18\n"
     ]
    },
    {
     "data": {
      "application/vnd.jupyter.widget-view+json": {
       "model_id": "8d7152fdba0648c2980873d1c10a4d46",
       "version_major": 2,
       "version_minor": 0
      },
      "text/plain": [
       "  0%|          | 0/158 [00:00<?, ?it/s]"
      ]
     },
     "metadata": {},
     "output_type": "display_data"
    },
    {
     "name": "stdout",
     "output_type": "stream",
     "text": [
      "| epoch  18 |    31/  158 batches | lr 0.00322 | ms/batch 30.68432 | loss 3.93810\n",
      "| epoch  18 |    62/  158 batches | lr 0.00322 | ms/batch 29.10819 | loss 3.72310\n",
      "| epoch  18 |    93/  158 batches | lr 0.00322 | ms/batch 29.48549 | loss 3.81797\n",
      "| epoch  18 |   124/  158 batches | lr 0.00322 | ms/batch 29.49206 | loss 3.93610\n",
      "| epoch  18 |   155/  158 batches | lr 0.00322 | ms/batch 29.08026 | loss 3.64444\n",
      "-----------------------------------------------------------------------------------------\n",
      "| end of epoch  18 | time:  4.94s | valid loss 7.7977 | mean loss   4.2383\n",
      "-----------------------------------------------------------------------------------------\n",
      "Epoch #19\n"
     ]
    },
    {
     "data": {
      "application/vnd.jupyter.widget-view+json": {
       "model_id": "745151d44e12469e93151540a8f411a0",
       "version_major": 2,
       "version_minor": 0
      },
      "text/plain": [
       "  0%|          | 0/158 [00:00<?, ?it/s]"
      ]
     },
     "metadata": {},
     "output_type": "display_data"
    },
    {
     "name": "stdout",
     "output_type": "stream",
     "text": [
      "| epoch  19 |    31/  158 batches | lr 0.00306 | ms/batch 33.92675 | loss 3.96125\n",
      "| epoch  19 |    62/  158 batches | lr 0.00306 | ms/batch 29.32851 | loss 3.78947\n",
      "| epoch  19 |    93/  158 batches | lr 0.00306 | ms/batch 30.76971 | loss 3.64724\n",
      "| epoch  19 |   124/  158 batches | lr 0.00306 | ms/batch 29.23054 | loss 3.89946\n",
      "| epoch  19 |   155/  158 batches | lr 0.00306 | ms/batch 29.73908 | loss 3.75345\n",
      "-----------------------------------------------------------------------------------------\n",
      "| end of epoch  19 | time:  5.10s | valid loss 7.8256 | mean loss   4.2157\n",
      "-----------------------------------------------------------------------------------------\n",
      "Epoch #20\n"
     ]
    },
    {
     "data": {
      "application/vnd.jupyter.widget-view+json": {
       "model_id": "ac65ffa61180434e9e51b6ca1d552d76",
       "version_major": 2,
       "version_minor": 0
      },
      "text/plain": [
       "  0%|          | 0/158 [00:00<?, ?it/s]"
      ]
     },
     "metadata": {},
     "output_type": "display_data"
    },
    {
     "name": "stdout",
     "output_type": "stream",
     "text": [
      "| epoch  20 |    31/  158 batches | lr 0.00290 | ms/batch 30.03697 | loss 3.80314\n",
      "| epoch  20 |    62/  158 batches | lr 0.00290 | ms/batch 28.40423 | loss 3.73666\n",
      "| epoch  20 |    93/  158 batches | lr 0.00290 | ms/batch 29.38918 | loss 3.79971\n",
      "| epoch  20 |   124/  158 batches | lr 0.00290 | ms/batch 29.80441 | loss 3.75127\n",
      "| epoch  20 |   155/  158 batches | lr 0.00290 | ms/batch 29.09295 | loss 3.93735\n",
      "-----------------------------------------------------------------------------------------\n",
      "| end of epoch  20 | time:  4.91s | valid loss 7.7605 | mean loss   4.1953\n",
      "-----------------------------------------------------------------------------------------\n",
      "Epoch #21\n"
     ]
    },
    {
     "data": {
      "application/vnd.jupyter.widget-view+json": {
       "model_id": "b0487a6f91b742b09b02ce5024096332",
       "version_major": 2,
       "version_minor": 0
      },
      "text/plain": [
       "  0%|          | 0/158 [00:00<?, ?it/s]"
      ]
     },
     "metadata": {},
     "output_type": "display_data"
    },
    {
     "name": "stdout",
     "output_type": "stream",
     "text": [
      "| epoch  21 |    31/  158 batches | lr 0.00276 | ms/batch 29.96999 | loss 3.97416\n",
      "| epoch  21 |    62/  158 batches | lr 0.00276 | ms/batch 28.60442 | loss 3.71474\n",
      "| epoch  21 |    93/  158 batches | lr 0.00276 | ms/batch 29.42957 | loss 3.86332\n",
      "| epoch  21 |   124/  158 batches | lr 0.00276 | ms/batch 29.50348 | loss 3.67343\n",
      "| epoch  21 |   155/  158 batches | lr 0.00276 | ms/batch 29.67115 | loss 3.83616\n",
      "-----------------------------------------------------------------------------------------\n",
      "| end of epoch  21 | time:  4.90s | valid loss 7.7938 | mean loss   4.1767\n",
      "-----------------------------------------------------------------------------------------\n",
      "Epoch #22\n"
     ]
    },
    {
     "data": {
      "application/vnd.jupyter.widget-view+json": {
       "model_id": "5c43abb5ff6b459c81c1485a35957a7a",
       "version_major": 2,
       "version_minor": 0
      },
      "text/plain": [
       "  0%|          | 0/158 [00:00<?, ?it/s]"
      ]
     },
     "metadata": {},
     "output_type": "display_data"
    },
    {
     "name": "stdout",
     "output_type": "stream",
     "text": [
      "| epoch  22 |    31/  158 batches | lr 0.00262 | ms/batch 30.60746 | loss 3.85265\n",
      "| epoch  22 |    62/  158 batches | lr 0.00262 | ms/batch 28.52881 | loss 3.85287\n",
      "| epoch  22 |    93/  158 batches | lr 0.00262 | ms/batch 29.74153 | loss 3.69939\n",
      "| epoch  22 |   124/  158 batches | lr 0.00262 | ms/batch 29.64231 | loss 3.75021\n",
      "| epoch  22 |   155/  158 batches | lr 0.00262 | ms/batch 29.23699 | loss 3.88850\n",
      "-----------------------------------------------------------------------------------------\n",
      "| end of epoch  22 | time:  4.92s | valid loss 7.8283 | mean loss   4.1597\n",
      "-----------------------------------------------------------------------------------------\n",
      "Epoch #23\n"
     ]
    },
    {
     "data": {
      "application/vnd.jupyter.widget-view+json": {
       "model_id": "b5508f0755cf479d9f978f169d8b8904",
       "version_major": 2,
       "version_minor": 0
      },
      "text/plain": [
       "  0%|          | 0/158 [00:00<?, ?it/s]"
      ]
     },
     "metadata": {},
     "output_type": "display_data"
    },
    {
     "name": "stdout",
     "output_type": "stream",
     "text": [
      "| epoch  23 |    31/  158 batches | lr 0.00249 | ms/batch 30.50610 | loss 4.00382\n",
      "| epoch  23 |    62/  158 batches | lr 0.00249 | ms/batch 29.00565 | loss 3.56018\n",
      "| epoch  23 |    93/  158 batches | lr 0.00249 | ms/batch 28.64722 | loss 3.80205\n",
      "| epoch  23 |   124/  158 batches | lr 0.00249 | ms/batch 29.85808 | loss 3.82888\n",
      "| epoch  23 |   155/  158 batches | lr 0.00249 | ms/batch 28.43139 | loss 3.89716\n",
      "-----------------------------------------------------------------------------------------\n",
      "| end of epoch  23 | time:  4.90s | valid loss 7.7910 | mean loss   4.1442\n",
      "-----------------------------------------------------------------------------------------\n",
      "Epoch #24\n"
     ]
    },
    {
     "data": {
      "application/vnd.jupyter.widget-view+json": {
       "model_id": "a020213565b14f1b81d417e2c8dda70e",
       "version_major": 2,
       "version_minor": 0
      },
      "text/plain": [
       "  0%|          | 0/158 [00:00<?, ?it/s]"
      ]
     },
     "metadata": {},
     "output_type": "display_data"
    },
    {
     "name": "stdout",
     "output_type": "stream",
     "text": [
      "| epoch  24 |    31/  158 batches | lr 0.00236 | ms/batch 30.70445 | loss 3.95872\n",
      "| epoch  24 |    62/  158 batches | lr 0.00236 | ms/batch 31.27914 | loss 3.66980\n",
      "| epoch  24 |    93/  158 batches | lr 0.00236 | ms/batch 29.74654 | loss 3.84287\n",
      "| epoch  24 |   124/  158 batches | lr 0.00236 | ms/batch 28.65040 | loss 3.74930\n",
      "| epoch  24 |   155/  158 batches | lr 0.00236 | ms/batch 29.19548 | loss 3.80683\n",
      "-----------------------------------------------------------------------------------------\n",
      "| end of epoch  24 | time:  4.99s | valid loss 7.7825 | mean loss   4.1298\n",
      "-----------------------------------------------------------------------------------------\n",
      "Epoch #25\n"
     ]
    },
    {
     "data": {
      "application/vnd.jupyter.widget-view+json": {
       "model_id": "f09623504fe34c1ba180d6c45774d801",
       "version_major": 2,
       "version_minor": 0
      },
      "text/plain": [
       "  0%|          | 0/158 [00:00<?, ?it/s]"
      ]
     },
     "metadata": {},
     "output_type": "display_data"
    },
    {
     "name": "stdout",
     "output_type": "stream",
     "text": [
      "| epoch  25 |    31/  158 batches | lr 0.00225 | ms/batch 32.77974 | loss 3.93058\n",
      "| epoch  25 |    62/  158 batches | lr 0.00225 | ms/batch 29.06156 | loss 3.63536\n",
      "| epoch  25 |    93/  158 batches | lr 0.00225 | ms/batch 29.17680 | loss 3.96439\n",
      "| epoch  25 |   124/  158 batches | lr 0.00225 | ms/batch 29.21179 | loss 3.79057\n",
      "| epoch  25 |   155/  158 batches | lr 0.00225 | ms/batch 29.40265 | loss 3.73502\n",
      "-----------------------------------------------------------------------------------------\n",
      "| end of epoch  25 | time:  4.99s | valid loss 7.8321 | mean loss   4.1166\n",
      "-----------------------------------------------------------------------------------------\n",
      "Epoch #26\n"
     ]
    },
    {
     "data": {
      "application/vnd.jupyter.widget-view+json": {
       "model_id": "3c2b5bbc17dc4e549f271dab6194ce14",
       "version_major": 2,
       "version_minor": 0
      },
      "text/plain": [
       "  0%|          | 0/158 [00:00<?, ?it/s]"
      ]
     },
     "metadata": {},
     "output_type": "display_data"
    },
    {
     "name": "stdout",
     "output_type": "stream",
     "text": [
      "| epoch  26 |    31/  158 batches | lr 0.00213 | ms/batch 30.55856 | loss 4.00169\n",
      "| epoch  26 |    62/  158 batches | lr 0.00213 | ms/batch 29.56983 | loss 3.74614\n",
      "| epoch  26 |    93/  158 batches | lr 0.00213 | ms/batch 29.67851 | loss 3.82561\n",
      "| epoch  26 |   124/  158 batches | lr 0.00213 | ms/batch 29.50826 | loss 3.74417\n",
      "| epoch  26 |   155/  158 batches | lr 0.00213 | ms/batch 29.02488 | loss 3.76403\n",
      "-----------------------------------------------------------------------------------------\n",
      "| end of epoch  26 | time:  4.95s | valid loss 7.8443 | mean loss   4.1044\n",
      "-----------------------------------------------------------------------------------------\n",
      "Epoch #27\n"
     ]
    },
    {
     "data": {
      "application/vnd.jupyter.widget-view+json": {
       "model_id": "4dfbef84ff1243d68946618f480ed63b",
       "version_major": 2,
       "version_minor": 0
      },
      "text/plain": [
       "  0%|          | 0/158 [00:00<?, ?it/s]"
      ]
     },
     "metadata": {},
     "output_type": "display_data"
    },
    {
     "name": "stdout",
     "output_type": "stream",
     "text": [
      "| epoch  27 |    31/  158 batches | lr 0.00203 | ms/batch 30.81398 | loss 3.89239\n",
      "| epoch  27 |    62/  158 batches | lr 0.00203 | ms/batch 29.21985 | loss 3.88840\n",
      "| epoch  27 |    93/  158 batches | lr 0.00203 | ms/batch 29.42741 | loss 3.68398\n",
      "| epoch  27 |   124/  158 batches | lr 0.00203 | ms/batch 29.56295 | loss 3.81871\n",
      "| epoch  27 |   155/  158 batches | lr 0.00203 | ms/batch 29.09110 | loss 3.77737\n",
      "-----------------------------------------------------------------------------------------\n",
      "| end of epoch  27 | time:  4.95s | valid loss 7.8401 | mean loss   4.0930\n",
      "-----------------------------------------------------------------------------------------\n",
      "Epoch #28\n"
     ]
    },
    {
     "data": {
      "application/vnd.jupyter.widget-view+json": {
       "model_id": "0e7f81f53f2f4303b8094aa871540e8b",
       "version_major": 2,
       "version_minor": 0
      },
      "text/plain": [
       "  0%|          | 0/158 [00:00<?, ?it/s]"
      ]
     },
     "metadata": {},
     "output_type": "display_data"
    },
    {
     "name": "stdout",
     "output_type": "stream",
     "text": [
      "| epoch  28 |    31/  158 batches | lr 0.00193 | ms/batch 30.53899 | loss 3.79717\n",
      "| epoch  28 |    62/  158 batches | lr 0.00193 | ms/batch 30.24017 | loss 3.95386\n",
      "| epoch  28 |    93/  158 batches | lr 0.00193 | ms/batch 29.69466 | loss 3.83175\n",
      "| epoch  28 |   124/  158 batches | lr 0.00193 | ms/batch 30.14318 | loss 3.80420\n",
      "| epoch  28 |   155/  158 batches | lr 0.00193 | ms/batch 30.41165 | loss 3.63106\n",
      "-----------------------------------------------------------------------------------------\n",
      "| end of epoch  28 | time:  5.04s | valid loss 7.8159 | mean loss   4.0824\n",
      "-----------------------------------------------------------------------------------------\n",
      "Epoch #29\n"
     ]
    },
    {
     "data": {
      "application/vnd.jupyter.widget-view+json": {
       "model_id": "49a9fe6074a04988b30aa3ea09689e62",
       "version_major": 2,
       "version_minor": 0
      },
      "text/plain": [
       "  0%|          | 0/158 [00:00<?, ?it/s]"
      ]
     },
     "metadata": {},
     "output_type": "display_data"
    },
    {
     "name": "stdout",
     "output_type": "stream",
     "text": [
      "| epoch  29 |    31/  158 batches | lr 0.00183 | ms/batch 30.62041 | loss 3.82087\n",
      "| epoch  29 |    62/  158 batches | lr 0.00183 | ms/batch 29.25926 | loss 3.73507\n",
      "| epoch  29 |    93/  158 batches | lr 0.00183 | ms/batch 29.09832 | loss 3.75722\n",
      "| epoch  29 |   124/  158 batches | lr 0.00183 | ms/batch 28.85869 | loss 3.84372\n",
      "| epoch  29 |   155/  158 batches | lr 0.00183 | ms/batch 29.53163 | loss 3.90937\n",
      "-----------------------------------------------------------------------------------------\n",
      "| end of epoch  29 | time:  4.93s | valid loss 7.8181 | mean loss   4.0725\n",
      "-----------------------------------------------------------------------------------------\n",
      "Epoch #30\n"
     ]
    },
    {
     "data": {
      "application/vnd.jupyter.widget-view+json": {
       "model_id": "3b6bc03ec7d34d998133e4603c0ccf40",
       "version_major": 2,
       "version_minor": 0
      },
      "text/plain": [
       "  0%|          | 0/158 [00:00<?, ?it/s]"
      ]
     },
     "metadata": {},
     "output_type": "display_data"
    },
    {
     "name": "stdout",
     "output_type": "stream",
     "text": [
      "| epoch  30 |    31/  158 batches | lr 0.00174 | ms/batch 30.02254 | loss 4.05996\n",
      "| epoch  30 |    62/  158 batches | lr 0.00174 | ms/batch 29.32740 | loss 3.73842\n",
      "| epoch  30 |    93/  158 batches | lr 0.00174 | ms/batch 29.79876 | loss 3.71975\n",
      "| epoch  30 |   124/  158 batches | lr 0.00174 | ms/batch 29.06691 | loss 3.80160\n",
      "| epoch  30 |   155/  158 batches | lr 0.00174 | ms/batch 29.14789 | loss 3.71680\n",
      "-----------------------------------------------------------------------------------------\n",
      "| end of epoch  30 | time:  4.92s | valid loss 7.7749 | mean loss   4.0632\n",
      "-----------------------------------------------------------------------------------------\n",
      "Epoch #31\n"
     ]
    },
    {
     "data": {
      "application/vnd.jupyter.widget-view+json": {
       "model_id": "c82bbb1a8f344d24b79a0dc7fed2d5be",
       "version_major": 2,
       "version_minor": 0
      },
      "text/plain": [
       "  0%|          | 0/158 [00:00<?, ?it/s]"
      ]
     },
     "metadata": {},
     "output_type": "display_data"
    },
    {
     "name": "stdout",
     "output_type": "stream",
     "text": [
      "| epoch  31 |    31/  158 batches | lr 0.00165 | ms/batch 31.76429 | loss 3.76726\n",
      "| epoch  31 |    62/  158 batches | lr 0.00165 | ms/batch 31.58129 | loss 3.58964\n",
      "| epoch  31 |    93/  158 batches | lr 0.00165 | ms/batch 29.31937 | loss 4.04990\n",
      "| epoch  31 |   124/  158 batches | lr 0.00165 | ms/batch 29.04568 | loss 3.67468\n",
      "| epoch  31 |   155/  158 batches | lr 0.00165 | ms/batch 29.31262 | loss 3.97100\n",
      "-----------------------------------------------------------------------------------------\n",
      "| end of epoch  31 | time:  5.03s | valid loss 7.7958 | mean loss   4.0545\n",
      "-----------------------------------------------------------------------------------------\n",
      "Epoch #32\n"
     ]
    },
    {
     "data": {
      "application/vnd.jupyter.widget-view+json": {
       "model_id": "d58a82e3124742abb9ffe71c0b165307",
       "version_major": 2,
       "version_minor": 0
      },
      "text/plain": [
       "  0%|          | 0/158 [00:00<?, ?it/s]"
      ]
     },
     "metadata": {},
     "output_type": "display_data"
    },
    {
     "name": "stdout",
     "output_type": "stream",
     "text": [
      "| epoch  32 |    31/  158 batches | lr 0.00157 | ms/batch 30.05425 | loss 3.85412\n",
      "| epoch  32 |    62/  158 batches | lr 0.00157 | ms/batch 29.10246 | loss 3.73804\n",
      "| epoch  32 |    93/  158 batches | lr 0.00157 | ms/batch 29.16921 | loss 3.78553\n",
      "| epoch  32 |   124/  158 batches | lr 0.00157 | ms/batch 29.82361 | loss 3.76104\n",
      "| epoch  32 |   155/  158 batches | lr 0.00157 | ms/batch 29.12598 | loss 3.92795\n",
      "-----------------------------------------------------------------------------------------\n",
      "| end of epoch  32 | time:  4.91s | valid loss 7.8059 | mean loss   4.0464\n",
      "-----------------------------------------------------------------------------------------\n",
      "Epoch #33\n"
     ]
    },
    {
     "data": {
      "application/vnd.jupyter.widget-view+json": {
       "model_id": "ff7cce9905354f76a3c37e12af27d76a",
       "version_major": 2,
       "version_minor": 0
      },
      "text/plain": [
       "  0%|          | 0/158 [00:00<?, ?it/s]"
      ]
     },
     "metadata": {},
     "output_type": "display_data"
    },
    {
     "name": "stdout",
     "output_type": "stream",
     "text": [
      "| epoch  33 |    31/  158 batches | lr 0.00149 | ms/batch 30.08053 | loss 3.79244\n",
      "| epoch  33 |    62/  158 batches | lr 0.00149 | ms/batch 29.12644 | loss 3.93503\n",
      "| epoch  33 |    93/  158 batches | lr 0.00149 | ms/batch 28.49987 | loss 3.84265\n",
      "| epoch  33 |   124/  158 batches | lr 0.00149 | ms/batch 29.42311 | loss 3.80692\n",
      "| epoch  33 |   155/  158 batches | lr 0.00149 | ms/batch 28.96870 | loss 3.68002\n",
      "-----------------------------------------------------------------------------------------\n",
      "| end of epoch  33 | time:  4.89s | valid loss 7.8127 | mean loss   4.0387\n",
      "-----------------------------------------------------------------------------------------\n",
      "Epoch #34\n"
     ]
    },
    {
     "data": {
      "application/vnd.jupyter.widget-view+json": {
       "model_id": "40ef3f7d6d8e476fa236844584bb936a",
       "version_major": 2,
       "version_minor": 0
      },
      "text/plain": [
       "  0%|          | 0/158 [00:00<?, ?it/s]"
      ]
     },
     "metadata": {},
     "output_type": "display_data"
    },
    {
     "name": "stdout",
     "output_type": "stream",
     "text": [
      "| epoch  34 |    31/  158 batches | lr 0.00142 | ms/batch 30.92109 | loss 3.76988\n",
      "| epoch  34 |    62/  158 batches | lr 0.00142 | ms/batch 29.16643 | loss 3.85817\n",
      "| epoch  34 |    93/  158 batches | lr 0.00142 | ms/batch 29.45926 | loss 3.63211\n",
      "| epoch  34 |   124/  158 batches | lr 0.00142 | ms/batch 29.47414 | loss 4.08789\n",
      "| epoch  34 |   155/  158 batches | lr 0.00142 | ms/batch 28.79801 | loss 3.73699\n",
      "-----------------------------------------------------------------------------------------\n",
      "| end of epoch  34 | time:  4.93s | valid loss 7.7953 | mean loss   4.0315\n",
      "-----------------------------------------------------------------------------------------\n",
      "Epoch #35\n"
     ]
    },
    {
     "data": {
      "application/vnd.jupyter.widget-view+json": {
       "model_id": "7746ad9b348b4231a70d6d18afcccd98",
       "version_major": 2,
       "version_minor": 0
      },
      "text/plain": [
       "  0%|          | 0/158 [00:00<?, ?it/s]"
      ]
     },
     "metadata": {},
     "output_type": "display_data"
    },
    {
     "name": "stdout",
     "output_type": "stream",
     "text": [
      "| epoch  35 |    31/  158 batches | lr 0.00135 | ms/batch 30.29700 | loss 3.96390\n",
      "| epoch  35 |    62/  158 batches | lr 0.00135 | ms/batch 29.31456 | loss 3.69900\n",
      "| epoch  35 |    93/  158 batches | lr 0.00135 | ms/batch 29.24245 | loss 3.68421\n",
      "| epoch  35 |   124/  158 batches | lr 0.00135 | ms/batch 28.94195 | loss 4.05077\n",
      "| epoch  35 |   155/  158 batches | lr 0.00135 | ms/batch 28.95315 | loss 3.63669\n",
      "-----------------------------------------------------------------------------------------\n",
      "| end of epoch  35 | time:  4.90s | valid loss 7.7746 | mean loss   4.0246\n",
      "-----------------------------------------------------------------------------------------\n",
      "Epoch #36\n"
     ]
    },
    {
     "data": {
      "application/vnd.jupyter.widget-view+json": {
       "model_id": "d04f66cfd20b41a1a25b9d57a6654011",
       "version_major": 2,
       "version_minor": 0
      },
      "text/plain": [
       "  0%|          | 0/158 [00:00<?, ?it/s]"
      ]
     },
     "metadata": {},
     "output_type": "display_data"
    },
    {
     "name": "stdout",
     "output_type": "stream",
     "text": [
      "| epoch  36 |    31/  158 batches | lr 0.00128 | ms/batch 30.80529 | loss 3.75896\n",
      "| epoch  36 |    62/  158 batches | lr 0.00128 | ms/batch 29.00867 | loss 3.74063\n",
      "| epoch  36 |    93/  158 batches | lr 0.00128 | ms/batch 37.97540 | loss 3.82061\n",
      "| epoch  36 |   124/  158 batches | lr 0.00128 | ms/batch 29.44423 | loss 3.77909\n",
      "| epoch  36 |   155/  158 batches | lr 0.00128 | ms/batch 29.95019 | loss 3.95151\n",
      "-----------------------------------------------------------------------------------------\n",
      "| end of epoch  36 | time:  5.23s | valid loss 7.7775 | mean loss   4.0181\n",
      "-----------------------------------------------------------------------------------------\n",
      "Epoch #37\n"
     ]
    },
    {
     "data": {
      "application/vnd.jupyter.widget-view+json": {
       "model_id": "8f615b1671cd403d8d9b140e9938e46f",
       "version_major": 2,
       "version_minor": 0
      },
      "text/plain": [
       "  0%|          | 0/158 [00:00<?, ?it/s]"
      ]
     },
     "metadata": {},
     "output_type": "display_data"
    },
    {
     "name": "stdout",
     "output_type": "stream",
     "text": [
      "| epoch  37 |    31/  158 batches | lr 0.00121 | ms/batch 30.37687 | loss 3.87515\n",
      "| epoch  37 |    62/  158 batches | lr 0.00121 | ms/batch 32.67382 | loss 3.74941\n",
      "| epoch  37 |    93/  158 batches | lr 0.00121 | ms/batch 29.19756 | loss 3.81969\n",
      "| epoch  37 |   124/  158 batches | lr 0.00121 | ms/batch 29.26107 | loss 3.72885\n",
      "| epoch  37 |   155/  158 batches | lr 0.00121 | ms/batch 29.64429 | loss 3.92032\n",
      "-----------------------------------------------------------------------------------------\n",
      "| end of epoch  37 | time:  5.05s | valid loss 7.8070 | mean loss   4.0120\n",
      "-----------------------------------------------------------------------------------------\n",
      "Epoch #38\n"
     ]
    },
    {
     "data": {
      "application/vnd.jupyter.widget-view+json": {
       "model_id": "9e22950d54ab4d239ffb16b99d07d5fc",
       "version_major": 2,
       "version_minor": 0
      },
      "text/plain": [
       "  0%|          | 0/158 [00:00<?, ?it/s]"
      ]
     },
     "metadata": {},
     "output_type": "display_data"
    },
    {
     "name": "stdout",
     "output_type": "stream",
     "text": [
      "| epoch  38 |    31/  158 batches | lr 0.00115 | ms/batch 30.76768 | loss 3.97606\n",
      "| epoch  38 |    62/  158 batches | lr 0.00115 | ms/batch 29.23396 | loss 3.71445\n",
      "| epoch  38 |    93/  158 batches | lr 0.00115 | ms/batch 29.74179 | loss 3.74113\n",
      "| epoch  38 |   124/  158 batches | lr 0.00115 | ms/batch 29.34946 | loss 3.91366\n",
      "| epoch  38 |   155/  158 batches | lr 0.00115 | ms/batch 29.14114 | loss 3.74662\n",
      "-----------------------------------------------------------------------------------------\n",
      "| end of epoch  38 | time:  4.95s | valid loss 7.7900 | mean loss   4.0062\n",
      "-----------------------------------------------------------------------------------------\n",
      "Epoch #39\n"
     ]
    },
    {
     "data": {
      "application/vnd.jupyter.widget-view+json": {
       "model_id": "d01c40b9e2f548d89dbcc5addb98d17f",
       "version_major": 2,
       "version_minor": 0
      },
      "text/plain": [
       "  0%|          | 0/158 [00:00<?, ?it/s]"
      ]
     },
     "metadata": {},
     "output_type": "display_data"
    },
    {
     "name": "stdout",
     "output_type": "stream",
     "text": [
      "| epoch  39 |    31/  158 batches | lr 0.00110 | ms/batch 30.58796 | loss 3.96835\n",
      "| epoch  39 |    62/  158 batches | lr 0.00110 | ms/batch 28.70295 | loss 3.69882\n",
      "| epoch  39 |    93/  158 batches | lr 0.00110 | ms/batch 29.02622 | loss 3.56822\n",
      "| epoch  39 |   124/  158 batches | lr 0.00110 | ms/batch 29.42793 | loss 3.95137\n",
      "| epoch  39 |   155/  158 batches | lr 0.00110 | ms/batch 29.23902 | loss 3.88124\n",
      "-----------------------------------------------------------------------------------------\n",
      "| end of epoch  39 | time:  4.92s | valid loss 7.7857 | mean loss   4.0006\n",
      "-----------------------------------------------------------------------------------------\n",
      "Epoch #40\n"
     ]
    },
    {
     "data": {
      "application/vnd.jupyter.widget-view+json": {
       "model_id": "10b910dc88d24f3a8f1a9027d793c1be",
       "version_major": 2,
       "version_minor": 0
      },
      "text/plain": [
       "  0%|          | 0/158 [00:00<?, ?it/s]"
      ]
     },
     "metadata": {},
     "output_type": "display_data"
    },
    {
     "name": "stdout",
     "output_type": "stream",
     "text": [
      "| epoch  40 |    31/  158 batches | lr 0.00104 | ms/batch 30.16083 | loss 3.81195\n",
      "| epoch  40 |    62/  158 batches | lr 0.00104 | ms/batch 28.53286 | loss 3.76823\n",
      "| epoch  40 |    93/  158 batches | lr 0.00104 | ms/batch 28.88581 | loss 3.79762\n",
      "| epoch  40 |   124/  158 batches | lr 0.00104 | ms/batch 29.92102 | loss 3.58403\n",
      "| epoch  40 |   155/  158 batches | lr 0.00104 | ms/batch 28.65287 | loss 4.09099\n",
      "-----------------------------------------------------------------------------------------\n",
      "| end of epoch  40 | time:  4.88s | valid loss 7.8125 | mean loss   3.9954\n",
      "-----------------------------------------------------------------------------------------\n",
      "Epoch #41\n"
     ]
    },
    {
     "data": {
      "application/vnd.jupyter.widget-view+json": {
       "model_id": "65e8fb5adb3e4223a75ec77ba1639734",
       "version_major": 2,
       "version_minor": 0
      },
      "text/plain": [
       "  0%|          | 0/158 [00:00<?, ?it/s]"
      ]
     },
     "metadata": {},
     "output_type": "display_data"
    },
    {
     "name": "stdout",
     "output_type": "stream",
     "text": [
      "| epoch  41 |    31/  158 batches | lr 0.00099 | ms/batch 29.86127 | loss 3.84892\n",
      "| epoch  41 |    62/  158 batches | lr 0.00099 | ms/batch 29.41908 | loss 3.73661\n",
      "| epoch  41 |    93/  158 batches | lr 0.00099 | ms/batch 28.42449 | loss 3.74193\n",
      "| epoch  41 |   124/  158 batches | lr 0.00099 | ms/batch 29.36745 | loss 4.01662\n",
      "| epoch  41 |   155/  158 batches | lr 0.00099 | ms/batch 29.02468 | loss 3.71274\n",
      "-----------------------------------------------------------------------------------------\n",
      "| end of epoch  41 | time:  4.87s | valid loss 7.8021 | mean loss   3.9904\n",
      "-----------------------------------------------------------------------------------------\n",
      "Epoch #42\n"
     ]
    },
    {
     "data": {
      "application/vnd.jupyter.widget-view+json": {
       "model_id": "11ed78e62ac448b29f44fee2df196c59",
       "version_major": 2,
       "version_minor": 0
      },
      "text/plain": [
       "  0%|          | 0/158 [00:00<?, ?it/s]"
      ]
     },
     "metadata": {},
     "output_type": "display_data"
    },
    {
     "name": "stdout",
     "output_type": "stream",
     "text": [
      "| epoch  42 |    31/  158 batches | lr 0.00094 | ms/batch 30.18321 | loss 3.99388\n",
      "| epoch  42 |    62/  158 batches | lr 0.00094 | ms/batch 29.29112 | loss 3.80945\n",
      "| epoch  42 |    93/  158 batches | lr 0.00094 | ms/batch 29.39142 | loss 3.75620\n",
      "| epoch  42 |   124/  158 batches | lr 0.00094 | ms/batch 28.27614 | loss 3.73820\n",
      "| epoch  42 |   155/  158 batches | lr 0.00094 | ms/batch 29.02321 | loss 3.79328\n",
      "-----------------------------------------------------------------------------------------\n",
      "| end of epoch  42 | time:  4.87s | valid loss 7.7961 | mean loss   3.9856\n",
      "-----------------------------------------------------------------------------------------\n",
      "Epoch #43\n"
     ]
    },
    {
     "data": {
      "application/vnd.jupyter.widget-view+json": {
       "model_id": "b2e133edac3f450098a85b3d0c97bcbf",
       "version_major": 2,
       "version_minor": 0
      },
      "text/plain": [
       "  0%|          | 0/158 [00:00<?, ?it/s]"
      ]
     },
     "metadata": {},
     "output_type": "display_data"
    },
    {
     "name": "stdout",
     "output_type": "stream",
     "text": [
      "| epoch  43 |    31/  158 batches | lr 0.00089 | ms/batch 29.93822 | loss 3.78946\n",
      "| epoch  43 |    62/  158 batches | lr 0.00089 | ms/batch 31.66734 | loss 3.60006\n",
      "| epoch  43 |    93/  158 batches | lr 0.00089 | ms/batch 29.42693 | loss 4.02820\n",
      "| epoch  43 |   124/  158 batches | lr 0.00089 | ms/batch 28.92534 | loss 3.89377\n",
      "| epoch  43 |   155/  158 batches | lr 0.00089 | ms/batch 29.58526 | loss 3.73707\n",
      "-----------------------------------------------------------------------------------------\n",
      "| end of epoch  43 | time:  4.98s | valid loss 7.7900 | mean loss   3.9810\n",
      "-----------------------------------------------------------------------------------------\n",
      "Epoch #44\n"
     ]
    },
    {
     "data": {
      "application/vnd.jupyter.widget-view+json": {
       "model_id": "21aba74a71a7422084c3a69503a520a0",
       "version_major": 2,
       "version_minor": 0
      },
      "text/plain": [
       "  0%|          | 0/158 [00:00<?, ?it/s]"
      ]
     },
     "metadata": {},
     "output_type": "display_data"
    },
    {
     "name": "stdout",
     "output_type": "stream",
     "text": [
      "| epoch  44 |    31/  158 batches | lr 0.00085 | ms/batch 29.77290 | loss 4.01325\n",
      "| epoch  44 |    62/  158 batches | lr 0.00085 | ms/batch 28.74757 | loss 3.79037\n",
      "| epoch  44 |    93/  158 batches | lr 0.00085 | ms/batch 28.87660 | loss 3.81347\n",
      "| epoch  44 |   124/  158 batches | lr 0.00085 | ms/batch 29.47064 | loss 3.80980\n",
      "| epoch  44 |   155/  158 batches | lr 0.00085 | ms/batch 29.06159 | loss 3.63784\n",
      "-----------------------------------------------------------------------------------------\n",
      "| end of epoch  44 | time:  4.88s | valid loss 7.7928 | mean loss   3.9767\n",
      "-----------------------------------------------------------------------------------------\n",
      "Epoch #45\n"
     ]
    },
    {
     "data": {
      "application/vnd.jupyter.widget-view+json": {
       "model_id": "7b24628490db49f38613038e30584656",
       "version_major": 2,
       "version_minor": 0
      },
      "text/plain": [
       "  0%|          | 0/158 [00:00<?, ?it/s]"
      ]
     },
     "metadata": {},
     "output_type": "display_data"
    },
    {
     "name": "stdout",
     "output_type": "stream",
     "text": [
      "| epoch  45 |    31/  158 batches | lr 0.00081 | ms/batch 29.55900 | loss 3.84465\n",
      "| epoch  45 |    62/  158 batches | lr 0.00081 | ms/batch 28.65554 | loss 3.87151\n",
      "| epoch  45 |    93/  158 batches | lr 0.00081 | ms/batch 29.12241 | loss 3.80318\n",
      "| epoch  45 |   124/  158 batches | lr 0.00081 | ms/batch 28.54083 | loss 3.74259\n",
      "| epoch  45 |   155/  158 batches | lr 0.00081 | ms/batch 28.99278 | loss 3.81159\n",
      "-----------------------------------------------------------------------------------------\n",
      "| end of epoch  45 | time:  4.84s | valid loss 7.7865 | mean loss   3.9725\n",
      "-----------------------------------------------------------------------------------------\n",
      "Epoch #46\n"
     ]
    },
    {
     "data": {
      "application/vnd.jupyter.widget-view+json": {
       "model_id": "47a3f41ebf9e4f858b39ffb58d352a87",
       "version_major": 2,
       "version_minor": 0
      },
      "text/plain": [
       "  0%|          | 0/158 [00:00<?, ?it/s]"
      ]
     },
     "metadata": {},
     "output_type": "display_data"
    },
    {
     "name": "stdout",
     "output_type": "stream",
     "text": [
      "| epoch  46 |    31/  158 batches | lr 0.00077 | ms/batch 29.94437 | loss 3.75572\n",
      "| epoch  46 |    62/  158 batches | lr 0.00077 | ms/batch 28.36686 | loss 3.78745\n",
      "| epoch  46 |    93/  158 batches | lr 0.00077 | ms/batch 28.89435 | loss 3.86098\n",
      "| epoch  46 |   124/  158 batches | lr 0.00077 | ms/batch 28.79569 | loss 3.83243\n",
      "| epoch  46 |   155/  158 batches | lr 0.00077 | ms/batch 28.85778 | loss 3.79128\n",
      "-----------------------------------------------------------------------------------------\n",
      "| end of epoch  46 | time:  4.85s | valid loss 7.7938 | mean loss   3.9685\n",
      "-----------------------------------------------------------------------------------------\n",
      "Epoch #47\n"
     ]
    },
    {
     "data": {
      "application/vnd.jupyter.widget-view+json": {
       "model_id": "097922b448b04519b27adc0409196d74",
       "version_major": 2,
       "version_minor": 0
      },
      "text/plain": [
       "  0%|          | 0/158 [00:00<?, ?it/s]"
      ]
     },
     "metadata": {},
     "output_type": "display_data"
    },
    {
     "name": "stdout",
     "output_type": "stream",
     "text": [
      "| epoch  47 |    31/  158 batches | lr 0.00073 | ms/batch 30.46761 | loss 3.84797\n",
      "| epoch  47 |    62/  158 batches | lr 0.00073 | ms/batch 29.05386 | loss 3.91000\n",
      "| epoch  47 |    93/  158 batches | lr 0.00073 | ms/batch 28.88048 | loss 3.69853\n",
      "| epoch  47 |   124/  158 batches | lr 0.00073 | ms/batch 28.51909 | loss 3.82073\n",
      "| epoch  47 |   155/  158 batches | lr 0.00073 | ms/batch 29.02647 | loss 3.73693\n",
      "-----------------------------------------------------------------------------------------\n",
      "| end of epoch  47 | time:  4.88s | valid loss 7.8086 | mean loss   3.9646\n",
      "-----------------------------------------------------------------------------------------\n",
      "Epoch #48\n"
     ]
    },
    {
     "data": {
      "application/vnd.jupyter.widget-view+json": {
       "model_id": "cddda9b6b5024aeeba965a3e85ace203",
       "version_major": 2,
       "version_minor": 0
      },
      "text/plain": [
       "  0%|          | 0/158 [00:00<?, ?it/s]"
      ]
     },
     "metadata": {},
     "output_type": "display_data"
    },
    {
     "name": "stdout",
     "output_type": "stream",
     "text": [
      "| epoch  48 |    31/  158 batches | lr 0.00069 | ms/batch 30.26971 | loss 3.80468\n",
      "| epoch  48 |    62/  158 batches | lr 0.00069 | ms/batch 32.34338 | loss 3.73442\n",
      "| epoch  48 |    93/  158 batches | lr 0.00069 | ms/batch 28.99806 | loss 3.81859\n",
      "| epoch  48 |   124/  158 batches | lr 0.00069 | ms/batch 29.15728 | loss 3.86573\n",
      "| epoch  48 |   155/  158 batches | lr 0.00069 | ms/batch 29.01729 | loss 3.80418\n",
      "-----------------------------------------------------------------------------------------\n",
      "| end of epoch  48 | time:  5.00s | valid loss 7.7978 | mean loss   3.9610\n",
      "-----------------------------------------------------------------------------------------\n",
      "Epoch #49\n"
     ]
    },
    {
     "data": {
      "application/vnd.jupyter.widget-view+json": {
       "model_id": "70e64f36ff7a49d786805e8e87e804d9",
       "version_major": 2,
       "version_minor": 0
      },
      "text/plain": [
       "  0%|          | 0/158 [00:00<?, ?it/s]"
      ]
     },
     "metadata": {},
     "output_type": "display_data"
    },
    {
     "name": "stdout",
     "output_type": "stream",
     "text": [
      "| epoch  49 |    31/  158 batches | lr 0.00066 | ms/batch 30.07665 | loss 3.91133\n",
      "| epoch  49 |    62/  158 batches | lr 0.00066 | ms/batch 28.98936 | loss 3.77359\n",
      "| epoch  49 |    93/  158 batches | lr 0.00066 | ms/batch 31.79517 | loss 3.80025\n",
      "| epoch  49 |   124/  158 batches | lr 0.00066 | ms/batch 28.64454 | loss 3.76173\n",
      "| epoch  49 |   155/  158 batches | lr 0.00066 | ms/batch 29.84861 | loss 3.82033\n",
      "-----------------------------------------------------------------------------------------\n",
      "| end of epoch  49 | time:  4.99s | valid loss 7.7939 | mean loss   3.9574\n",
      "-----------------------------------------------------------------------------------------\n",
      "Epoch #50\n"
     ]
    },
    {
     "data": {
      "application/vnd.jupyter.widget-view+json": {
       "model_id": "3091bb5435f94fe7935fd7507a78b2c7",
       "version_major": 2,
       "version_minor": 0
      },
      "text/plain": [
       "  0%|          | 0/158 [00:00<?, ?it/s]"
      ]
     },
     "metadata": {},
     "output_type": "display_data"
    },
    {
     "name": "stdout",
     "output_type": "stream",
     "text": [
      "| epoch  50 |    31/  158 batches | lr 0.00062 | ms/batch 30.61339 | loss 3.79348\n",
      "| epoch  50 |    62/  158 batches | lr 0.00062 | ms/batch 29.84854 | loss 3.86904\n",
      "| epoch  50 |    93/  158 batches | lr 0.00062 | ms/batch 29.51341 | loss 3.75213\n",
      "| epoch  50 |   124/  158 batches | lr 0.00062 | ms/batch 29.11442 | loss 3.85793\n",
      "| epoch  50 |   155/  158 batches | lr 0.00062 | ms/batch 29.70715 | loss 3.71004\n",
      "-----------------------------------------------------------------------------------------\n",
      "| end of epoch  50 | time:  4.96s | valid loss 7.7975 | mean loss   3.9541\n",
      "-----------------------------------------------------------------------------------------\n",
      "Epoch #51\n"
     ]
    },
    {
     "data": {
      "application/vnd.jupyter.widget-view+json": {
       "model_id": "5edbcc0595ab42799c9769cf0458bd2e",
       "version_major": 2,
       "version_minor": 0
      },
      "text/plain": [
       "  0%|          | 0/158 [00:00<?, ?it/s]"
      ]
     },
     "metadata": {},
     "output_type": "display_data"
    },
    {
     "name": "stdout",
     "output_type": "stream",
     "text": [
      "| epoch  51 |    31/  158 batches | lr 0.00059 | ms/batch 30.56967 | loss 3.88489\n",
      "| epoch  51 |    62/  158 batches | lr 0.00059 | ms/batch 29.36902 | loss 3.66009\n",
      "| epoch  51 |    93/  158 batches | lr 0.00059 | ms/batch 29.81401 | loss 3.73401\n",
      "| epoch  51 |   124/  158 batches | lr 0.00059 | ms/batch 29.35949 | loss 3.94293\n",
      "| epoch  51 |   155/  158 batches | lr 0.00059 | ms/batch 29.53643 | loss 3.79381\n",
      "-----------------------------------------------------------------------------------------\n",
      "| end of epoch  51 | time:  4.97s | valid loss 7.7961 | mean loss   3.9508\n",
      "-----------------------------------------------------------------------------------------\n",
      "Epoch #52\n"
     ]
    },
    {
     "data": {
      "application/vnd.jupyter.widget-view+json": {
       "model_id": "a2b82f06c90e405ab10ae9bcddf2b785",
       "version_major": 2,
       "version_minor": 0
      },
      "text/plain": [
       "  0%|          | 0/158 [00:00<?, ?it/s]"
      ]
     },
     "metadata": {},
     "output_type": "display_data"
    },
    {
     "name": "stdout",
     "output_type": "stream",
     "text": [
      "| epoch  52 |    31/  158 batches | lr 0.00056 | ms/batch 30.53498 | loss 3.83803\n",
      "| epoch  52 |    62/  158 batches | lr 0.00056 | ms/batch 29.40134 | loss 3.75115\n",
      "| epoch  52 |    93/  158 batches | lr 0.00056 | ms/batch 29.74732 | loss 3.83243\n",
      "| epoch  52 |   124/  158 batches | lr 0.00056 | ms/batch 29.75876 | loss 3.79692\n",
      "| epoch  52 |   155/  158 batches | lr 0.00056 | ms/batch 29.58274 | loss 3.87773\n",
      "-----------------------------------------------------------------------------------------\n",
      "| end of epoch  52 | time:  4.97s | valid loss 7.7981 | mean loss   3.9477\n",
      "-----------------------------------------------------------------------------------------\n",
      "Epoch #53\n"
     ]
    },
    {
     "data": {
      "application/vnd.jupyter.widget-view+json": {
       "model_id": "429aa4a247b1486583e20ac7370631a4",
       "version_major": 2,
       "version_minor": 0
      },
      "text/plain": [
       "  0%|          | 0/158 [00:00<?, ?it/s]"
      ]
     },
     "metadata": {},
     "output_type": "display_data"
    },
    {
     "name": "stdout",
     "output_type": "stream",
     "text": [
      "| epoch  53 |    31/  158 batches | lr 0.00053 | ms/batch 30.21739 | loss 3.90384\n",
      "| epoch  53 |    62/  158 batches | lr 0.00053 | ms/batch 29.25388 | loss 3.81838\n",
      "| epoch  53 |    93/  158 batches | lr 0.00053 | ms/batch 30.20918 | loss 3.75268\n",
      "| epoch  53 |   124/  158 batches | lr 0.00053 | ms/batch 29.35890 | loss 3.80665\n",
      "| epoch  53 |   155/  158 batches | lr 0.00053 | ms/batch 29.45319 | loss 3.79019\n",
      "-----------------------------------------------------------------------------------------\n",
      "| end of epoch  53 | time:  4.95s | valid loss 7.7921 | mean loss   3.9446\n",
      "-----------------------------------------------------------------------------------------\n",
      "Epoch #54\n"
     ]
    },
    {
     "data": {
      "application/vnd.jupyter.widget-view+json": {
       "model_id": "833febff35fb46218bfb46aee0d6e920",
       "version_major": 2,
       "version_minor": 0
      },
      "text/plain": [
       "  0%|          | 0/158 [00:00<?, ?it/s]"
      ]
     },
     "metadata": {},
     "output_type": "display_data"
    },
    {
     "name": "stdout",
     "output_type": "stream",
     "text": [
      "| epoch  54 |    31/  158 batches | lr 0.00051 | ms/batch 30.35046 | loss 3.81264\n",
      "| epoch  54 |    62/  158 batches | lr 0.00051 | ms/batch 29.74435 | loss 3.91064\n",
      "| epoch  54 |    93/  158 batches | lr 0.00051 | ms/batch 29.38316 | loss 3.85195\n",
      "| epoch  54 |   124/  158 batches | lr 0.00051 | ms/batch 29.61949 | loss 3.61702\n",
      "| epoch  54 |   155/  158 batches | lr 0.00051 | ms/batch 29.70161 | loss 3.83829\n",
      "-----------------------------------------------------------------------------------------\n",
      "| end of epoch  54 | time:  4.98s | valid loss 7.7866 | mean loss   3.9417\n",
      "-----------------------------------------------------------------------------------------\n",
      "Epoch #55\n"
     ]
    },
    {
     "data": {
      "application/vnd.jupyter.widget-view+json": {
       "model_id": "65d5387259a84c61827d91d3b8ac1366",
       "version_major": 2,
       "version_minor": 0
      },
      "text/plain": [
       "  0%|          | 0/158 [00:00<?, ?it/s]"
      ]
     },
     "metadata": {},
     "output_type": "display_data"
    },
    {
     "name": "stdout",
     "output_type": "stream",
     "text": [
      "| epoch  55 |    31/  158 batches | lr 0.00048 | ms/batch 30.45664 | loss 3.90399\n",
      "| epoch  55 |    62/  158 batches | lr 0.00048 | ms/batch 29.08376 | loss 3.81994\n",
      "| epoch  55 |    93/  158 batches | lr 0.00048 | ms/batch 32.69695 | loss 3.74762\n",
      "| epoch  55 |   124/  158 batches | lr 0.00048 | ms/batch 29.37787 | loss 3.82800\n",
      "| epoch  55 |   155/  158 batches | lr 0.00048 | ms/batch 29.68423 | loss 3.71627\n",
      "-----------------------------------------------------------------------------------------\n",
      "| end of epoch  55 | time:  5.04s | valid loss 7.7938 | mean loss   3.9389\n",
      "-----------------------------------------------------------------------------------------\n",
      "Epoch #56\n"
     ]
    },
    {
     "data": {
      "application/vnd.jupyter.widget-view+json": {
       "model_id": "10b2284b31f647aab819bc3c665fd4cc",
       "version_major": 2,
       "version_minor": 0
      },
      "text/plain": [
       "  0%|          | 0/158 [00:00<?, ?it/s]"
      ]
     },
     "metadata": {},
     "output_type": "display_data"
    },
    {
     "name": "stdout",
     "output_type": "stream",
     "text": [
      "| epoch  56 |    31/  158 batches | lr 0.00046 | ms/batch 30.24778 | loss 3.88378\n",
      "| epoch  56 |    62/  158 batches | lr 0.00046 | ms/batch 29.23136 | loss 3.85628\n",
      "| epoch  56 |    93/  158 batches | lr 0.00046 | ms/batch 29.36039 | loss 3.85667\n",
      "| epoch  56 |   124/  158 batches | lr 0.00046 | ms/batch 29.68083 | loss 3.80546\n",
      "| epoch  56 |   155/  158 batches | lr 0.00046 | ms/batch 29.20200 | loss 3.65728\n",
      "-----------------------------------------------------------------------------------------\n",
      "| end of epoch  56 | time:  4.94s | valid loss 7.7925 | mean loss   3.9362\n",
      "-----------------------------------------------------------------------------------------\n",
      "Epoch #57\n"
     ]
    },
    {
     "data": {
      "application/vnd.jupyter.widget-view+json": {
       "model_id": "f3ba38f993ad4529a8d739d66a859dd6",
       "version_major": 2,
       "version_minor": 0
      },
      "text/plain": [
       "  0%|          | 0/158 [00:00<?, ?it/s]"
      ]
     },
     "metadata": {},
     "output_type": "display_data"
    },
    {
     "name": "stdout",
     "output_type": "stream",
     "text": [
      "| epoch  57 |    31/  158 batches | lr 0.00044 | ms/batch 30.87793 | loss 3.94767\n",
      "| epoch  57 |    62/  158 batches | lr 0.00044 | ms/batch 29.24701 | loss 3.92290\n",
      "| epoch  57 |    93/  158 batches | lr 0.00044 | ms/batch 29.74490 | loss 3.76310\n",
      "| epoch  57 |   124/  158 batches | lr 0.00044 | ms/batch 29.22171 | loss 3.82208\n",
      "| epoch  57 |   155/  158 batches | lr 0.00044 | ms/batch 29.72537 | loss 3.62359\n",
      "-----------------------------------------------------------------------------------------\n",
      "| end of epoch  57 | time:  4.97s | valid loss 7.7932 | mean loss   3.9336\n",
      "-----------------------------------------------------------------------------------------\n",
      "Epoch #58\n"
     ]
    },
    {
     "data": {
      "application/vnd.jupyter.widget-view+json": {
       "model_id": "cb26074e33e84759bafc9d0ec952528c",
       "version_major": 2,
       "version_minor": 0
      },
      "text/plain": [
       "  0%|          | 0/158 [00:00<?, ?it/s]"
      ]
     },
     "metadata": {},
     "output_type": "display_data"
    },
    {
     "name": "stdout",
     "output_type": "stream",
     "text": [
      "| epoch  58 |    31/  158 batches | lr 0.00041 | ms/batch 29.96309 | loss 3.81190\n",
      "| epoch  58 |    62/  158 batches | lr 0.00041 | ms/batch 29.79553 | loss 3.76202\n",
      "| epoch  58 |    93/  158 batches | lr 0.00041 | ms/batch 29.27298 | loss 3.73714\n",
      "| epoch  58 |   124/  158 batches | lr 0.00041 | ms/batch 29.63801 | loss 3.84748\n",
      "| epoch  58 |   155/  158 batches | lr 0.00041 | ms/batch 28.71830 | loss 3.82426\n",
      "-----------------------------------------------------------------------------------------\n",
      "| end of epoch  58 | time:  4.93s | valid loss 7.7947 | mean loss   3.9310\n",
      "-----------------------------------------------------------------------------------------\n",
      "Epoch #59\n"
     ]
    },
    {
     "data": {
      "application/vnd.jupyter.widget-view+json": {
       "model_id": "f539498fc45642809a438589a8dca10b",
       "version_major": 2,
       "version_minor": 0
      },
      "text/plain": [
       "  0%|          | 0/158 [00:00<?, ?it/s]"
      ]
     },
     "metadata": {},
     "output_type": "display_data"
    },
    {
     "name": "stdout",
     "output_type": "stream",
     "text": [
      "| epoch  59 |    31/  158 batches | lr 0.00039 | ms/batch 30.74102 | loss 3.87833\n",
      "| epoch  59 |    62/  158 batches | lr 0.00039 | ms/batch 29.10447 | loss 3.61515\n",
      "| epoch  59 |    93/  158 batches | lr 0.00039 | ms/batch 29.49732 | loss 3.73510\n",
      "| epoch  59 |   124/  158 batches | lr 0.00039 | ms/batch 29.29751 | loss 3.96607\n",
      "| epoch  59 |   155/  158 batches | lr 0.00039 | ms/batch 29.59415 | loss 3.81442\n",
      "-----------------------------------------------------------------------------------------\n",
      "| end of epoch  59 | time:  4.95s | valid loss 7.7931 | mean loss   3.9286\n",
      "-----------------------------------------------------------------------------------------\n",
      "Epoch #60\n"
     ]
    },
    {
     "data": {
      "application/vnd.jupyter.widget-view+json": {
       "model_id": "a22b247634ad4e0d82a168e90337342e",
       "version_major": 2,
       "version_minor": 0
      },
      "text/plain": [
       "  0%|          | 0/158 [00:00<?, ?it/s]"
      ]
     },
     "metadata": {},
     "output_type": "display_data"
    },
    {
     "name": "stdout",
     "output_type": "stream",
     "text": [
      "| epoch  60 |    31/  158 batches | lr 0.00037 | ms/batch 30.48425 | loss 3.84930\n",
      "| epoch  60 |    62/  158 batches | lr 0.00037 | ms/batch 29.55550 | loss 3.93734\n",
      "| epoch  60 |    93/  158 batches | lr 0.00037 | ms/batch 29.21374 | loss 3.72698\n",
      "| epoch  60 |   124/  158 batches | lr 0.00037 | ms/batch 29.12071 | loss 3.80834\n",
      "| epoch  60 |   155/  158 batches | lr 0.00037 | ms/batch 28.70718 | loss 3.76903\n",
      "-----------------------------------------------------------------------------------------\n",
      "| end of epoch  60 | time:  4.92s | valid loss 7.7927 | mean loss   3.9262\n",
      "-----------------------------------------------------------------------------------------\n",
      "Epoch #61\n"
     ]
    },
    {
     "data": {
      "application/vnd.jupyter.widget-view+json": {
       "model_id": "5268b649f8d4407e80e0717a96bb29fb",
       "version_major": 2,
       "version_minor": 0
      },
      "text/plain": [
       "  0%|          | 0/158 [00:00<?, ?it/s]"
      ]
     },
     "metadata": {},
     "output_type": "display_data"
    },
    {
     "name": "stdout",
     "output_type": "stream",
     "text": [
      "| epoch  61 |    31/  158 batches | lr 0.00035 | ms/batch 30.33606 | loss 3.91652\n",
      "| epoch  61 |    62/  158 batches | lr 0.00035 | ms/batch 29.11928 | loss 3.81761\n",
      "| epoch  61 |    93/  158 batches | lr 0.00035 | ms/batch 31.72502 | loss 3.76250\n",
      "| epoch  61 |   124/  158 batches | lr 0.00035 | ms/batch 29.55008 | loss 3.61707\n",
      "| epoch  61 |   155/  158 batches | lr 0.00035 | ms/batch 28.96076 | loss 3.93950\n",
      "-----------------------------------------------------------------------------------------\n",
      "| end of epoch  61 | time:  4.99s | valid loss 7.7899 | mean loss   3.9239\n",
      "-----------------------------------------------------------------------------------------\n",
      "Epoch #62\n"
     ]
    },
    {
     "data": {
      "application/vnd.jupyter.widget-view+json": {
       "model_id": "cae7da8c6c0c441f81d583bcec8de13d",
       "version_major": 2,
       "version_minor": 0
      },
      "text/plain": [
       "  0%|          | 0/158 [00:00<?, ?it/s]"
      ]
     },
     "metadata": {},
     "output_type": "display_data"
    },
    {
     "name": "stdout",
     "output_type": "stream",
     "text": [
      "| epoch  62 |    31/  158 batches | lr 0.00034 | ms/batch 30.09187 | loss 3.85348\n",
      "| epoch  62 |    62/  158 batches | lr 0.00034 | ms/batch 28.99186 | loss 3.95219\n",
      "| epoch  62 |    93/  158 batches | lr 0.00034 | ms/batch 29.27135 | loss 3.64502\n",
      "| epoch  62 |   124/  158 batches | lr 0.00034 | ms/batch 29.29934 | loss 3.77142\n",
      "| epoch  62 |   155/  158 batches | lr 0.00034 | ms/batch 29.05384 | loss 3.80612\n",
      "-----------------------------------------------------------------------------------------\n",
      "| end of epoch  62 | time:  4.91s | valid loss 7.7941 | mean loss   3.9217\n",
      "-----------------------------------------------------------------------------------------\n",
      "Epoch #63\n"
     ]
    },
    {
     "data": {
      "application/vnd.jupyter.widget-view+json": {
       "model_id": "3b4724ade477492a99ec68ec83a12f0c",
       "version_major": 2,
       "version_minor": 0
      },
      "text/plain": [
       "  0%|          | 0/158 [00:00<?, ?it/s]"
      ]
     },
     "metadata": {},
     "output_type": "display_data"
    },
    {
     "name": "stdout",
     "output_type": "stream",
     "text": [
      "| epoch  63 |    31/  158 batches | lr 0.00032 | ms/batch 30.42683 | loss 4.08267\n",
      "| epoch  63 |    62/  158 batches | lr 0.00032 | ms/batch 29.39135 | loss 3.71784\n",
      "| epoch  63 |    93/  158 batches | lr 0.00032 | ms/batch 29.21317 | loss 3.81570\n",
      "| epoch  63 |   124/  158 batches | lr 0.00032 | ms/batch 29.43680 | loss 3.69152\n",
      "| epoch  63 |   155/  158 batches | lr 0.00032 | ms/batch 29.37447 | loss 3.69365\n",
      "-----------------------------------------------------------------------------------------\n",
      "| end of epoch  63 | time:  4.95s | valid loss 7.7909 | mean loss   3.9196\n",
      "-----------------------------------------------------------------------------------------\n",
      "Epoch #64\n"
     ]
    },
    {
     "data": {
      "application/vnd.jupyter.widget-view+json": {
       "model_id": "fe5775bcdd5648e28029a159636713f9",
       "version_major": 2,
       "version_minor": 0
      },
      "text/plain": [
       "  0%|          | 0/158 [00:00<?, ?it/s]"
      ]
     },
     "metadata": {},
     "output_type": "display_data"
    },
    {
     "name": "stdout",
     "output_type": "stream",
     "text": [
      "| epoch  64 |    31/  158 batches | lr 0.00030 | ms/batch 30.55733 | loss 4.04160\n",
      "| epoch  64 |    62/  158 batches | lr 0.00030 | ms/batch 28.47660 | loss 3.85012\n",
      "| epoch  64 |    93/  158 batches | lr 0.00030 | ms/batch 29.25960 | loss 3.79231\n",
      "| epoch  64 |   124/  158 batches | lr 0.00030 | ms/batch 29.40274 | loss 3.72983\n",
      "| epoch  64 |   155/  158 batches | lr 0.00030 | ms/batch 29.20960 | loss 3.66415\n",
      "-----------------------------------------------------------------------------------------\n",
      "| end of epoch  64 | time:  4.91s | valid loss 7.7924 | mean loss   3.9175\n",
      "-----------------------------------------------------------------------------------------\n",
      "Epoch #65\n"
     ]
    },
    {
     "data": {
      "application/vnd.jupyter.widget-view+json": {
       "model_id": "f1a666c3b48e4082af547effaa283f5d",
       "version_major": 2,
       "version_minor": 0
      },
      "text/plain": [
       "  0%|          | 0/158 [00:00<?, ?it/s]"
      ]
     },
     "metadata": {},
     "output_type": "display_data"
    },
    {
     "name": "stdout",
     "output_type": "stream",
     "text": [
      "| epoch  65 |    31/  158 batches | lr 0.00029 | ms/batch 30.70969 | loss 3.92489\n",
      "| epoch  65 |    62/  158 batches | lr 0.00029 | ms/batch 28.98774 | loss 3.78507\n",
      "| epoch  65 |    93/  158 batches | lr 0.00029 | ms/batch 29.89274 | loss 3.61806\n",
      "| epoch  65 |   124/  158 batches | lr 0.00029 | ms/batch 29.20896 | loss 3.82543\n",
      "| epoch  65 |   155/  158 batches | lr 0.00029 | ms/batch 29.17148 | loss 3.89714\n",
      "-----------------------------------------------------------------------------------------\n",
      "| end of epoch  65 | time:  4.95s | valid loss 7.7928 | mean loss   3.9155\n",
      "-----------------------------------------------------------------------------------------\n",
      "Epoch #66\n"
     ]
    },
    {
     "data": {
      "application/vnd.jupyter.widget-view+json": {
       "model_id": "a184eec4b99748d5b7702aea2be4291e",
       "version_major": 2,
       "version_minor": 0
      },
      "text/plain": [
       "  0%|          | 0/158 [00:00<?, ?it/s]"
      ]
     },
     "metadata": {},
     "output_type": "display_data"
    },
    {
     "name": "stdout",
     "output_type": "stream",
     "text": [
      "| epoch  66 |    31/  158 batches | lr 0.00027 | ms/batch 30.68261 | loss 3.89332\n",
      "| epoch  66 |    62/  158 batches | lr 0.00027 | ms/batch 28.61792 | loss 3.69865\n",
      "| epoch  66 |    93/  158 batches | lr 0.00027 | ms/batch 29.77001 | loss 3.80204\n",
      "| epoch  66 |   124/  158 batches | lr 0.00027 | ms/batch 30.84874 | loss 3.78576\n",
      "| epoch  66 |   155/  158 batches | lr 0.00027 | ms/batch 31.75915 | loss 3.86068\n",
      "-----------------------------------------------------------------------------------------\n",
      "| end of epoch  66 | time:  5.08s | valid loss 7.7936 | mean loss   3.9135\n",
      "-----------------------------------------------------------------------------------------\n",
      "Epoch #67\n"
     ]
    },
    {
     "data": {
      "application/vnd.jupyter.widget-view+json": {
       "model_id": "7c045b08057d41448d6b6786c6ac4b2c",
       "version_major": 2,
       "version_minor": 0
      },
      "text/plain": [
       "  0%|          | 0/158 [00:00<?, ?it/s]"
      ]
     },
     "metadata": {},
     "output_type": "display_data"
    },
    {
     "name": "stdout",
     "output_type": "stream",
     "text": [
      "| epoch  67 |    31/  158 batches | lr 0.00026 | ms/batch 33.10177 | loss 3.72774\n",
      "| epoch  67 |    62/  158 batches | lr 0.00026 | ms/batch 32.00706 | loss 3.92840\n",
      "| epoch  67 |    93/  158 batches | lr 0.00026 | ms/batch 34.78073 | loss 3.70326\n",
      "| epoch  67 |   124/  158 batches | lr 0.00026 | ms/batch 31.73714 | loss 3.92487\n",
      "| epoch  67 |   155/  158 batches | lr 0.00026 | ms/batch 31.86880 | loss 3.74889\n",
      "-----------------------------------------------------------------------------------------\n",
      "| end of epoch  67 | time:  5.46s | valid loss 7.7952 | mean loss   3.9116\n",
      "-----------------------------------------------------------------------------------------\n",
      "Epoch #68\n"
     ]
    },
    {
     "data": {
      "application/vnd.jupyter.widget-view+json": {
       "model_id": "6043ec24ba574d91994126e477175ef4",
       "version_major": 2,
       "version_minor": 0
      },
      "text/plain": [
       "  0%|          | 0/158 [00:00<?, ?it/s]"
      ]
     },
     "metadata": {},
     "output_type": "display_data"
    },
    {
     "name": "stdout",
     "output_type": "stream",
     "text": [
      "| epoch  68 |    31/  158 batches | lr 0.00025 | ms/batch 32.89646 | loss 3.86797\n",
      "| epoch  68 |    62/  158 batches | lr 0.00025 | ms/batch 31.36517 | loss 3.73126\n",
      "| epoch  68 |    93/  158 batches | lr 0.00025 | ms/batch 31.93109 | loss 3.79870\n",
      "| epoch  68 |   124/  158 batches | lr 0.00025 | ms/batch 31.92494 | loss 3.69784\n",
      "| epoch  68 |   155/  158 batches | lr 0.00025 | ms/batch 31.29214 | loss 3.99527\n",
      "-----------------------------------------------------------------------------------------\n",
      "| end of epoch  68 | time:  5.31s | valid loss 7.7946 | mean loss   3.9098\n",
      "-----------------------------------------------------------------------------------------\n",
      "Epoch #69\n"
     ]
    },
    {
     "data": {
      "application/vnd.jupyter.widget-view+json": {
       "model_id": "6abbf3f06140478d9500264fc7ce4d0d",
       "version_major": 2,
       "version_minor": 0
      },
      "text/plain": [
       "  0%|          | 0/158 [00:00<?, ?it/s]"
      ]
     },
     "metadata": {},
     "output_type": "display_data"
    },
    {
     "name": "stdout",
     "output_type": "stream",
     "text": [
      "| epoch  69 |    31/  158 batches | lr 0.00024 | ms/batch 30.81789 | loss 3.65296\n",
      "| epoch  69 |    62/  158 batches | lr 0.00024 | ms/batch 29.23129 | loss 3.77131\n",
      "| epoch  69 |    93/  158 batches | lr 0.00024 | ms/batch 29.49595 | loss 3.86189\n",
      "| epoch  69 |   124/  158 batches | lr 0.00024 | ms/batch 29.06552 | loss 3.90862\n",
      "| epoch  69 |   155/  158 batches | lr 0.00024 | ms/batch 29.87940 | loss 3.80297\n",
      "-----------------------------------------------------------------------------------------\n",
      "| end of epoch  69 | time:  4.96s | valid loss 7.7944 | mean loss   3.9080\n",
      "-----------------------------------------------------------------------------------------\n",
      "Epoch #70\n"
     ]
    },
    {
     "data": {
      "application/vnd.jupyter.widget-view+json": {
       "model_id": "26af0c28a5e346e9843ab2787cf96890",
       "version_major": 2,
       "version_minor": 0
      },
      "text/plain": [
       "  0%|          | 0/158 [00:00<?, ?it/s]"
      ]
     },
     "metadata": {},
     "output_type": "display_data"
    },
    {
     "name": "stdout",
     "output_type": "stream",
     "text": [
      "| epoch  70 |    31/  158 batches | lr 0.00022 | ms/batch 30.08288 | loss 4.03000\n",
      "| epoch  70 |    62/  158 batches | lr 0.00022 | ms/batch 29.00074 | loss 3.69254\n",
      "| epoch  70 |    93/  158 batches | lr 0.00022 | ms/batch 29.12612 | loss 3.70031\n",
      "| epoch  70 |   124/  158 batches | lr 0.00022 | ms/batch 29.64938 | loss 3.78664\n",
      "| epoch  70 |   155/  158 batches | lr 0.00022 | ms/batch 29.81859 | loss 3.83519\n",
      "-----------------------------------------------------------------------------------------\n",
      "| end of epoch  70 | time:  4.92s | valid loss 7.7961 | mean loss   3.9062\n",
      "-----------------------------------------------------------------------------------------\n",
      "Epoch #71\n"
     ]
    },
    {
     "data": {
      "application/vnd.jupyter.widget-view+json": {
       "model_id": "99b4109a7f3d4347856e49a577cad051",
       "version_major": 2,
       "version_minor": 0
      },
      "text/plain": [
       "  0%|          | 0/158 [00:00<?, ?it/s]"
      ]
     },
     "metadata": {},
     "output_type": "display_data"
    },
    {
     "name": "stdout",
     "output_type": "stream",
     "text": [
      "| epoch  71 |    31/  158 batches | lr 0.00021 | ms/batch 30.80356 | loss 3.86527\n",
      "| epoch  71 |    62/  158 batches | lr 0.00021 | ms/batch 29.91439 | loss 3.80135\n",
      "| epoch  71 |    93/  158 batches | lr 0.00021 | ms/batch 29.41969 | loss 3.80401\n",
      "| epoch  71 |   124/  158 batches | lr 0.00021 | ms/batch 29.47594 | loss 3.90383\n",
      "| epoch  71 |   155/  158 batches | lr 0.00021 | ms/batch 29.90867 | loss 3.70964\n",
      "-----------------------------------------------------------------------------------------\n",
      "| end of epoch  71 | time:  4.99s | valid loss 7.7963 | mean loss   3.9045\n",
      "-----------------------------------------------------------------------------------------\n",
      "Epoch #72\n"
     ]
    },
    {
     "data": {
      "application/vnd.jupyter.widget-view+json": {
       "model_id": "6473fed4ff5648229785b37e88d7e3f4",
       "version_major": 2,
       "version_minor": 0
      },
      "text/plain": [
       "  0%|          | 0/158 [00:00<?, ?it/s]"
      ]
     },
     "metadata": {},
     "output_type": "display_data"
    },
    {
     "name": "stdout",
     "output_type": "stream",
     "text": [
      "| epoch  72 |    31/  158 batches | lr 0.00020 | ms/batch 34.70223 | loss 3.97587\n",
      "| epoch  72 |    62/  158 batches | lr 0.00020 | ms/batch 29.58681 | loss 3.61449\n",
      "| epoch  72 |    93/  158 batches | lr 0.00020 | ms/batch 28.99990 | loss 3.77092\n",
      "| epoch  72 |   124/  158 batches | lr 0.00020 | ms/batch 29.26071 | loss 3.78873\n",
      "| epoch  72 |   155/  158 batches | lr 0.00020 | ms/batch 29.36114 | loss 3.92571\n",
      "-----------------------------------------------------------------------------------------\n",
      "| end of epoch  72 | time:  5.08s | valid loss 7.7934 | mean loss   3.9029\n",
      "-----------------------------------------------------------------------------------------\n",
      "Epoch #73\n"
     ]
    },
    {
     "data": {
      "application/vnd.jupyter.widget-view+json": {
       "model_id": "5070de71a0b64d78a8a88c162d26dd0c",
       "version_major": 2,
       "version_minor": 0
      },
      "text/plain": [
       "  0%|          | 0/158 [00:00<?, ?it/s]"
      ]
     },
     "metadata": {},
     "output_type": "display_data"
    },
    {
     "name": "stdout",
     "output_type": "stream",
     "text": [
      "| epoch  73 |    31/  158 batches | lr 0.00019 | ms/batch 30.50212 | loss 3.85862\n",
      "| epoch  73 |    62/  158 batches | lr 0.00019 | ms/batch 28.61721 | loss 3.89253\n",
      "| epoch  73 |    93/  158 batches | lr 0.00019 | ms/batch 32.00469 | loss 3.74453\n",
      "| epoch  73 |   124/  158 batches | lr 0.00019 | ms/batch 29.15126 | loss 3.68456\n",
      "| epoch  73 |   155/  158 batches | lr 0.00019 | ms/batch 29.34683 | loss 3.86194\n",
      "-----------------------------------------------------------------------------------------\n",
      "| end of epoch  73 | time:  4.99s | valid loss 7.7964 | mean loss   3.9013\n",
      "-----------------------------------------------------------------------------------------\n",
      "Epoch #74\n"
     ]
    },
    {
     "data": {
      "application/vnd.jupyter.widget-view+json": {
       "model_id": "28d32aee00ce452695ea5c56d4148f3d",
       "version_major": 2,
       "version_minor": 0
      },
      "text/plain": [
       "  0%|          | 0/158 [00:00<?, ?it/s]"
      ]
     },
     "metadata": {},
     "output_type": "display_data"
    },
    {
     "name": "stdout",
     "output_type": "stream",
     "text": [
      "| epoch  74 |    31/  158 batches | lr 0.00018 | ms/batch 30.55879 | loss 3.98775\n",
      "| epoch  74 |    62/  158 batches | lr 0.00018 | ms/batch 29.51571 | loss 3.74264\n",
      "| epoch  74 |    93/  158 batches | lr 0.00018 | ms/batch 29.78403 | loss 3.78178\n",
      "| epoch  74 |   124/  158 batches | lr 0.00018 | ms/batch 29.52732 | loss 3.69332\n",
      "| epoch  74 |   155/  158 batches | lr 0.00018 | ms/batch 30.20634 | loss 3.85781\n",
      "-----------------------------------------------------------------------------------------\n",
      "| end of epoch  74 | time:  5.00s | valid loss 7.7946 | mean loss   3.8997\n",
      "-----------------------------------------------------------------------------------------\n",
      "Epoch #75\n"
     ]
    },
    {
     "data": {
      "application/vnd.jupyter.widget-view+json": {
       "model_id": "9d174cada39545fdb6e9623c443381ac",
       "version_major": 2,
       "version_minor": 0
      },
      "text/plain": [
       "  0%|          | 0/158 [00:00<?, ?it/s]"
      ]
     },
     "metadata": {},
     "output_type": "display_data"
    },
    {
     "name": "stdout",
     "output_type": "stream",
     "text": [
      "| epoch  75 |    31/  158 batches | lr 0.00017 | ms/batch 30.69358 | loss 3.89670\n",
      "| epoch  75 |    62/  158 batches | lr 0.00017 | ms/batch 29.71655 | loss 3.78611\n",
      "| epoch  75 |    93/  158 batches | lr 0.00017 | ms/batch 29.52150 | loss 3.66470\n",
      "| epoch  75 |   124/  158 batches | lr 0.00017 | ms/batch 28.72224 | loss 3.89486\n",
      "| epoch  75 |   155/  158 batches | lr 0.00017 | ms/batch 29.32087 | loss 3.79126\n",
      "-----------------------------------------------------------------------------------------\n",
      "| end of epoch  75 | time:  4.93s | valid loss 7.7948 | mean loss   3.8982\n",
      "-----------------------------------------------------------------------------------------\n",
      "Epoch #76\n"
     ]
    },
    {
     "data": {
      "application/vnd.jupyter.widget-view+json": {
       "model_id": "be5377e5eedd400c9b0f3dc8f6018a6a",
       "version_major": 2,
       "version_minor": 0
      },
      "text/plain": [
       "  0%|          | 0/158 [00:00<?, ?it/s]"
      ]
     },
     "metadata": {},
     "output_type": "display_data"
    },
    {
     "name": "stdout",
     "output_type": "stream",
     "text": [
      "| epoch  76 |    31/  158 batches | lr 0.00016 | ms/batch 30.14499 | loss 3.89710\n",
      "| epoch  76 |    62/  158 batches | lr 0.00016 | ms/batch 29.36274 | loss 3.82810\n",
      "| epoch  76 |    93/  158 batches | lr 0.00016 | ms/batch 29.40165 | loss 3.74728\n",
      "| epoch  76 |   124/  158 batches | lr 0.00016 | ms/batch 28.69165 | loss 3.78487\n",
      "| epoch  76 |   155/  158 batches | lr 0.00016 | ms/batch 29.32383 | loss 3.78146\n",
      "-----------------------------------------------------------------------------------------\n",
      "| end of epoch  76 | time:  4.93s | valid loss 7.7954 | mean loss   3.8967\n",
      "-----------------------------------------------------------------------------------------\n",
      "Epoch #77\n"
     ]
    },
    {
     "data": {
      "application/vnd.jupyter.widget-view+json": {
       "model_id": "900497d2644641bab6a8bc8a73e16c89",
       "version_major": 2,
       "version_minor": 0
      },
      "text/plain": [
       "  0%|          | 0/158 [00:00<?, ?it/s]"
      ]
     },
     "metadata": {},
     "output_type": "display_data"
    },
    {
     "name": "stdout",
     "output_type": "stream",
     "text": [
      "| epoch  77 |    31/  158 batches | lr 0.00016 | ms/batch 30.47663 | loss 3.89204\n",
      "| epoch  77 |    62/  158 batches | lr 0.00016 | ms/batch 29.09557 | loss 3.61143\n",
      "| epoch  77 |    93/  158 batches | lr 0.00016 | ms/batch 28.65359 | loss 3.92062\n",
      "| epoch  77 |   124/  158 batches | lr 0.00016 | ms/batch 29.72957 | loss 3.92479\n",
      "| epoch  77 |   155/  158 batches | lr 0.00016 | ms/batch 37.96238 | loss 3.65929\n",
      "-----------------------------------------------------------------------------------------\n",
      "| end of epoch  77 | time:  5.19s | valid loss 7.7958 | mean loss   3.8952\n",
      "-----------------------------------------------------------------------------------------\n",
      "Epoch #78\n"
     ]
    },
    {
     "data": {
      "application/vnd.jupyter.widget-view+json": {
       "model_id": "939c1bee821a4424a0dfa2d4bdbfa73b",
       "version_major": 2,
       "version_minor": 0
      },
      "text/plain": [
       "  0%|          | 0/158 [00:00<?, ?it/s]"
      ]
     },
     "metadata": {},
     "output_type": "display_data"
    },
    {
     "name": "stdout",
     "output_type": "stream",
     "text": [
      "| epoch  78 |    31/  158 batches | lr 0.00015 | ms/batch 31.20941 | loss 3.97203\n",
      "| epoch  78 |    62/  158 batches | lr 0.00015 | ms/batch 29.18696 | loss 3.80231\n",
      "| epoch  78 |    93/  158 batches | lr 0.00015 | ms/batch 30.04621 | loss 3.64942\n",
      "| epoch  78 |   124/  158 batches | lr 0.00015 | ms/batch 29.44040 | loss 3.83074\n",
      "| epoch  78 |   155/  158 batches | lr 0.00015 | ms/batch 30.20067 | loss 3.80896\n",
      "-----------------------------------------------------------------------------------------\n",
      "| end of epoch  78 | time:  5.00s | valid loss 7.7955 | mean loss   3.8938\n",
      "-----------------------------------------------------------------------------------------\n",
      "Epoch #79\n"
     ]
    },
    {
     "data": {
      "application/vnd.jupyter.widget-view+json": {
       "model_id": "0ed2478035fd40779e012a41fe583dcf",
       "version_major": 2,
       "version_minor": 0
      },
      "text/plain": [
       "  0%|          | 0/158 [00:00<?, ?it/s]"
      ]
     },
     "metadata": {},
     "output_type": "display_data"
    },
    {
     "name": "stdout",
     "output_type": "stream",
     "text": [
      "| epoch  79 |    31/  158 batches | lr 0.00014 | ms/batch 31.11655 | loss 3.90405\n",
      "| epoch  79 |    62/  158 batches | lr 0.00014 | ms/batch 29.51883 | loss 3.92604\n",
      "| epoch  79 |    93/  158 batches | lr 0.00014 | ms/batch 32.54425 | loss 3.70386\n",
      "| epoch  79 |   124/  158 batches | lr 0.00014 | ms/batch 29.60390 | loss 3.66557\n",
      "| epoch  79 |   155/  158 batches | lr 0.00014 | ms/batch 29.38634 | loss 3.83796\n",
      "-----------------------------------------------------------------------------------------\n",
      "| end of epoch  79 | time:  5.07s | valid loss 7.7962 | mean loss   3.8925\n",
      "-----------------------------------------------------------------------------------------\n",
      "Epoch #80\n"
     ]
    },
    {
     "data": {
      "application/vnd.jupyter.widget-view+json": {
       "model_id": "d9803d4cc80643bdaefaae40795e4d77",
       "version_major": 2,
       "version_minor": 0
      },
      "text/plain": [
       "  0%|          | 0/158 [00:00<?, ?it/s]"
      ]
     },
     "metadata": {},
     "output_type": "display_data"
    },
    {
     "name": "stdout",
     "output_type": "stream",
     "text": [
      "| epoch  80 |    31/  158 batches | lr 0.00013 | ms/batch 30.02322 | loss 4.03072\n",
      "| epoch  80 |    62/  158 batches | lr 0.00013 | ms/batch 30.22215 | loss 3.69035\n",
      "| epoch  80 |    93/  158 batches | lr 0.00013 | ms/batch 29.39076 | loss 3.81641\n",
      "| epoch  80 |   124/  158 batches | lr 0.00013 | ms/batch 29.64576 | loss 3.91192\n",
      "| epoch  80 |   155/  158 batches | lr 0.00013 | ms/batch 30.15026 | loss 3.61982\n",
      "-----------------------------------------------------------------------------------------\n",
      "| end of epoch  80 | time:  4.97s | valid loss 7.7965 | mean loss   3.8911\n",
      "-----------------------------------------------------------------------------------------\n",
      "Epoch #81\n"
     ]
    },
    {
     "data": {
      "application/vnd.jupyter.widget-view+json": {
       "model_id": "69e290adb8ea4974a93bf5ecd1d9dae0",
       "version_major": 2,
       "version_minor": 0
      },
      "text/plain": [
       "  0%|          | 0/158 [00:00<?, ?it/s]"
      ]
     },
     "metadata": {},
     "output_type": "display_data"
    },
    {
     "name": "stdout",
     "output_type": "stream",
     "text": [
      "| epoch  81 |    31/  158 batches | lr 0.00013 | ms/batch 30.87526 | loss 3.92069\n",
      "| epoch  81 |    62/  158 batches | lr 0.00013 | ms/batch 29.14907 | loss 3.70313\n",
      "| epoch  81 |    93/  158 batches | lr 0.00013 | ms/batch 29.73037 | loss 3.71833\n",
      "| epoch  81 |   124/  158 batches | lr 0.00013 | ms/batch 29.41022 | loss 3.86797\n",
      "| epoch  81 |   155/  158 batches | lr 0.00013 | ms/batch 28.96990 | loss 3.84160\n",
      "-----------------------------------------------------------------------------------------\n",
      "| end of epoch  81 | time:  4.96s | valid loss 7.7967 | mean loss   3.8898\n",
      "-----------------------------------------------------------------------------------------\n",
      "Epoch #82\n"
     ]
    },
    {
     "data": {
      "application/vnd.jupyter.widget-view+json": {
       "model_id": "2234bc7f56b54eacba26365fed39d55b",
       "version_major": 2,
       "version_minor": 0
      },
      "text/plain": [
       "  0%|          | 0/158 [00:00<?, ?it/s]"
      ]
     },
     "metadata": {},
     "output_type": "display_data"
    },
    {
     "name": "stdout",
     "output_type": "stream",
     "text": [
      "| epoch  82 |    31/  158 batches | lr 0.00012 | ms/batch 30.03691 | loss 3.99113\n",
      "| epoch  82 |    62/  158 batches | lr 0.00012 | ms/batch 29.76654 | loss 3.90932\n",
      "| epoch  82 |    93/  158 batches | lr 0.00012 | ms/batch 29.53992 | loss 3.69904\n",
      "| epoch  82 |   124/  158 batches | lr 0.00012 | ms/batch 29.66587 | loss 3.90422\n",
      "| epoch  82 |   155/  158 batches | lr 0.00012 | ms/batch 29.66209 | loss 3.55135\n",
      "-----------------------------------------------------------------------------------------\n",
      "| end of epoch  82 | time:  4.95s | valid loss 7.7971 | mean loss   3.8885\n",
      "-----------------------------------------------------------------------------------------\n",
      "Epoch #83\n"
     ]
    },
    {
     "data": {
      "application/vnd.jupyter.widget-view+json": {
       "model_id": "74938c8e5cff4b3181b6bf49f83b0310",
       "version_major": 2,
       "version_minor": 0
      },
      "text/plain": [
       "  0%|          | 0/158 [00:00<?, ?it/s]"
      ]
     },
     "metadata": {},
     "output_type": "display_data"
    },
    {
     "name": "stdout",
     "output_type": "stream",
     "text": [
      "| epoch  83 |    31/  158 batches | lr 0.00011 | ms/batch 30.78172 | loss 3.95423\n",
      "| epoch  83 |    62/  158 batches | lr 0.00011 | ms/batch 28.99340 | loss 3.62674\n",
      "| epoch  83 |    93/  158 batches | lr 0.00011 | ms/batch 30.24270 | loss 3.72955\n",
      "| epoch  83 |   124/  158 batches | lr 0.00011 | ms/batch 29.24467 | loss 3.79912\n",
      "| epoch  83 |   155/  158 batches | lr 0.00011 | ms/batch 29.70646 | loss 3.90528\n",
      "-----------------------------------------------------------------------------------------\n",
      "| end of epoch  83 | time:  4.97s | valid loss 7.7957 | mean loss   3.8873\n",
      "-----------------------------------------------------------------------------------------\n",
      "Epoch #84\n"
     ]
    },
    {
     "data": {
      "application/vnd.jupyter.widget-view+json": {
       "model_id": "dcbca228c8824a6b97a64521e3e70fff",
       "version_major": 2,
       "version_minor": 0
      },
      "text/plain": [
       "  0%|          | 0/158 [00:00<?, ?it/s]"
      ]
     },
     "metadata": {},
     "output_type": "display_data"
    },
    {
     "name": "stdout",
     "output_type": "stream",
     "text": [
      "| epoch  84 |    31/  158 batches | lr 0.00011 | ms/batch 30.95790 | loss 3.81259\n",
      "| epoch  84 |    62/  158 batches | lr 0.00011 | ms/batch 29.46210 | loss 3.76014\n",
      "| epoch  84 |    93/  158 batches | lr 0.00011 | ms/batch 29.38015 | loss 3.88383\n",
      "| epoch  84 |   124/  158 batches | lr 0.00011 | ms/batch 29.40512 | loss 3.90256\n",
      "| epoch  84 |   155/  158 batches | lr 0.00011 | ms/batch 29.25152 | loss 3.65397\n",
      "-----------------------------------------------------------------------------------------\n",
      "| end of epoch  84 | time:  4.97s | valid loss 7.7971 | mean loss   3.8861\n",
      "-----------------------------------------------------------------------------------------\n",
      "Epoch #85\n"
     ]
    },
    {
     "data": {
      "application/vnd.jupyter.widget-view+json": {
       "model_id": "a342025547db4cce87f694205c7552ae",
       "version_major": 2,
       "version_minor": 0
      },
      "text/plain": [
       "  0%|          | 0/158 [00:00<?, ?it/s]"
      ]
     },
     "metadata": {},
     "output_type": "display_data"
    },
    {
     "name": "stdout",
     "output_type": "stream",
     "text": [
      "| epoch  85 |    31/  158 batches | lr 0.00010 | ms/batch 30.30118 | loss 3.93126\n",
      "| epoch  85 |    62/  158 batches | lr 0.00010 | ms/batch 29.74060 | loss 3.93829\n",
      "| epoch  85 |    93/  158 batches | lr 0.00010 | ms/batch 32.07367 | loss 3.74497\n",
      "| epoch  85 |   124/  158 batches | lr 0.00010 | ms/batch 30.12886 | loss 3.60265\n",
      "| epoch  85 |   155/  158 batches | lr 0.00010 | ms/batch 29.66328 | loss 3.82178\n",
      "-----------------------------------------------------------------------------------------\n",
      "| end of epoch  85 | time:  5.06s | valid loss 7.7957 | mean loss   3.8849\n",
      "-----------------------------------------------------------------------------------------\n",
      "Epoch #86\n"
     ]
    },
    {
     "data": {
      "application/vnd.jupyter.widget-view+json": {
       "model_id": "64767bc73ee040328e154ddc16f605b5",
       "version_major": 2,
       "version_minor": 0
      },
      "text/plain": [
       "  0%|          | 0/158 [00:00<?, ?it/s]"
      ]
     },
     "metadata": {},
     "output_type": "display_data"
    },
    {
     "name": "stdout",
     "output_type": "stream",
     "text": [
      "| epoch  86 |    31/  158 batches | lr 0.00010 | ms/batch 30.29240 | loss 4.11515\n",
      "| epoch  86 |    62/  158 batches | lr 0.00010 | ms/batch 29.37824 | loss 3.82877\n",
      "| epoch  86 |    93/  158 batches | lr 0.00010 | ms/batch 29.31614 | loss 3.81280\n",
      "| epoch  86 |   124/  158 batches | lr 0.00010 | ms/batch 29.37361 | loss 3.65127\n",
      "| epoch  86 |   155/  158 batches | lr 0.00010 | ms/batch 29.58179 | loss 3.65605\n",
      "-----------------------------------------------------------------------------------------\n",
      "| end of epoch  86 | time:  4.93s | valid loss 7.7963 | mean loss   3.8837\n",
      "-----------------------------------------------------------------------------------------\n",
      "Epoch #87\n"
     ]
    },
    {
     "data": {
      "application/vnd.jupyter.widget-view+json": {
       "model_id": "0c8a33a4ca514b43b843d58991fe1011",
       "version_major": 2,
       "version_minor": 0
      },
      "text/plain": [
       "  0%|          | 0/158 [00:00<?, ?it/s]"
      ]
     },
     "metadata": {},
     "output_type": "display_data"
    },
    {
     "name": "stdout",
     "output_type": "stream",
     "text": [
      "| epoch  87 |    31/  158 batches | lr 0.00009 | ms/batch 30.35670 | loss 3.90917\n",
      "| epoch  87 |    62/  158 batches | lr 0.00009 | ms/batch 28.95804 | loss 3.88491\n",
      "| epoch  87 |    93/  158 batches | lr 0.00009 | ms/batch 29.89558 | loss 3.80160\n",
      "| epoch  87 |   124/  158 batches | lr 0.00009 | ms/batch 29.26833 | loss 3.67419\n",
      "| epoch  87 |   155/  158 batches | lr 0.00009 | ms/batch 29.86677 | loss 3.78706\n",
      "-----------------------------------------------------------------------------------------\n",
      "| end of epoch  87 | time:  4.96s | valid loss 7.7968 | mean loss   3.8826\n",
      "-----------------------------------------------------------------------------------------\n",
      "Epoch #88\n"
     ]
    },
    {
     "data": {
      "application/vnd.jupyter.widget-view+json": {
       "model_id": "92d65a51a16745bf941f15c5dfa4a173",
       "version_major": 2,
       "version_minor": 0
      },
      "text/plain": [
       "  0%|          | 0/158 [00:00<?, ?it/s]"
      ]
     },
     "metadata": {},
     "output_type": "display_data"
    },
    {
     "name": "stdout",
     "output_type": "stream",
     "text": [
      "| epoch  88 |    31/  158 batches | lr 0.00009 | ms/batch 30.68777 | loss 3.83505\n",
      "| epoch  88 |    62/  158 batches | lr 0.00009 | ms/batch 29.52019 | loss 3.97142\n",
      "| epoch  88 |    93/  158 batches | lr 0.00009 | ms/batch 29.70705 | loss 3.62037\n",
      "| epoch  88 |   124/  158 batches | lr 0.00009 | ms/batch 29.63870 | loss 3.90406\n",
      "| epoch  88 |   155/  158 batches | lr 0.00009 | ms/batch 30.31184 | loss 3.72614\n",
      "-----------------------------------------------------------------------------------------\n",
      "| end of epoch  88 | time:  5.00s | valid loss 7.7953 | mean loss   3.8815\n",
      "-----------------------------------------------------------------------------------------\n",
      "Epoch #89\n"
     ]
    },
    {
     "data": {
      "application/vnd.jupyter.widget-view+json": {
       "model_id": "1c167d7df88c475b9b4e9170930d255c",
       "version_major": 2,
       "version_minor": 0
      },
      "text/plain": [
       "  0%|          | 0/158 [00:00<?, ?it/s]"
      ]
     },
     "metadata": {},
     "output_type": "display_data"
    },
    {
     "name": "stdout",
     "output_type": "stream",
     "text": [
      "| epoch  89 |    31/  158 batches | lr 0.00008 | ms/batch 30.30835 | loss 3.93536\n",
      "| epoch  89 |    62/  158 batches | lr 0.00008 | ms/batch 28.93553 | loss 3.80454\n",
      "| epoch  89 |    93/  158 batches | lr 0.00008 | ms/batch 29.36417 | loss 3.71295\n",
      "| epoch  89 |   124/  158 batches | lr 0.00008 | ms/batch 29.22836 | loss 3.75482\n",
      "| epoch  89 |   155/  158 batches | lr 0.00008 | ms/batch 28.68886 | loss 3.86418\n",
      "-----------------------------------------------------------------------------------------\n",
      "| end of epoch  89 | time:  4.90s | valid loss 7.7970 | mean loss   3.8804\n",
      "-----------------------------------------------------------------------------------------\n",
      "Epoch #90\n"
     ]
    },
    {
     "data": {
      "application/vnd.jupyter.widget-view+json": {
       "model_id": "674a95d3d2f54ef6868ab97d51fabc13",
       "version_major": 2,
       "version_minor": 0
      },
      "text/plain": [
       "  0%|          | 0/158 [00:00<?, ?it/s]"
      ]
     },
     "metadata": {},
     "output_type": "display_data"
    },
    {
     "name": "stdout",
     "output_type": "stream",
     "text": [
      "| epoch  90 |    31/  158 batches | lr 0.00008 | ms/batch 30.49082 | loss 3.76048\n",
      "| epoch  90 |    62/  158 batches | lr 0.00008 | ms/batch 29.33744 | loss 3.83986\n",
      "| epoch  90 |    93/  158 batches | lr 0.00008 | ms/batch 28.96776 | loss 3.96805\n",
      "| epoch  90 |   124/  158 batches | lr 0.00008 | ms/batch 29.48703 | loss 3.76310\n",
      "| epoch  90 |   155/  158 batches | lr 0.00008 | ms/batch 29.51722 | loss 3.62123\n",
      "-----------------------------------------------------------------------------------------\n",
      "| end of epoch  90 | time:  4.93s | valid loss 7.7966 | mean loss   3.8793\n",
      "-----------------------------------------------------------------------------------------\n",
      "Epoch #91\n"
     ]
    },
    {
     "data": {
      "application/vnd.jupyter.widget-view+json": {
       "model_id": "0cd576f6758e45e8b7e554a746f078cb",
       "version_major": 2,
       "version_minor": 0
      },
      "text/plain": [
       "  0%|          | 0/158 [00:00<?, ?it/s]"
      ]
     },
     "metadata": {},
     "output_type": "display_data"
    },
    {
     "name": "stdout",
     "output_type": "stream",
     "text": [
      "| epoch  91 |    31/  158 batches | lr 0.00008 | ms/batch 30.72416 | loss 3.90059\n",
      "| epoch  91 |    62/  158 batches | lr 0.00008 | ms/batch 29.13220 | loss 3.69350\n",
      "| epoch  91 |    93/  158 batches | lr 0.00008 | ms/batch 32.71531 | loss 3.93199\n",
      "| epoch  91 |   124/  158 batches | lr 0.00008 | ms/batch 29.71201 | loss 3.73323\n",
      "| epoch  91 |   155/  158 batches | lr 0.00008 | ms/batch 29.58465 | loss 3.77330\n",
      "-----------------------------------------------------------------------------------------\n",
      "| end of epoch  91 | time:  5.06s | valid loss 7.7961 | mean loss   3.8783\n",
      "-----------------------------------------------------------------------------------------\n",
      "Epoch #92\n"
     ]
    },
    {
     "data": {
      "application/vnd.jupyter.widget-view+json": {
       "model_id": "56e06607fe594090b40b3a34b00920a4",
       "version_major": 2,
       "version_minor": 0
      },
      "text/plain": [
       "  0%|          | 0/158 [00:00<?, ?it/s]"
      ]
     },
     "metadata": {},
     "output_type": "display_data"
    },
    {
     "name": "stdout",
     "output_type": "stream",
     "text": [
      "| epoch  92 |    31/  158 batches | lr 0.00007 | ms/batch 30.72259 | loss 3.88370\n",
      "| epoch  92 |    62/  158 batches | lr 0.00007 | ms/batch 30.05424 | loss 3.84981\n",
      "| epoch  92 |    93/  158 batches | lr 0.00007 | ms/batch 29.38063 | loss 3.90787\n",
      "| epoch  92 |   124/  158 batches | lr 0.00007 | ms/batch 29.71397 | loss 3.69857\n",
      "| epoch  92 |   155/  158 batches | lr 0.00007 | ms/batch 29.64689 | loss 3.76557\n",
      "-----------------------------------------------------------------------------------------\n",
      "| end of epoch  92 | time:  5.00s | valid loss 7.7956 | mean loss   3.8773\n",
      "-----------------------------------------------------------------------------------------\n",
      "Epoch #93\n"
     ]
    },
    {
     "data": {
      "application/vnd.jupyter.widget-view+json": {
       "model_id": "73f3985b5ca1496ba70250d901a58551",
       "version_major": 2,
       "version_minor": 0
      },
      "text/plain": [
       "  0%|          | 0/158 [00:00<?, ?it/s]"
      ]
     },
     "metadata": {},
     "output_type": "display_data"
    },
    {
     "name": "stdout",
     "output_type": "stream",
     "text": [
      "| epoch  93 |    31/  158 batches | lr 0.00007 | ms/batch 30.42719 | loss 3.79369\n",
      "| epoch  93 |    62/  158 batches | lr 0.00007 | ms/batch 29.33571 | loss 3.72234\n",
      "| epoch  93 |    93/  158 batches | lr 0.00007 | ms/batch 29.51171 | loss 3.77832\n",
      "| epoch  93 |   124/  158 batches | lr 0.00007 | ms/batch 29.59175 | loss 3.83352\n",
      "| epoch  93 |   155/  158 batches | lr 0.00007 | ms/batch 29.32642 | loss 3.89831\n",
      "-----------------------------------------------------------------------------------------\n",
      "| end of epoch  93 | time:  4.95s | valid loss 7.7953 | mean loss   3.8763\n",
      "-----------------------------------------------------------------------------------------\n",
      "Epoch #94\n"
     ]
    },
    {
     "data": {
      "application/vnd.jupyter.widget-view+json": {
       "model_id": "e31570529376428294ca243cccf349b4",
       "version_major": 2,
       "version_minor": 0
      },
      "text/plain": [
       "  0%|          | 0/158 [00:00<?, ?it/s]"
      ]
     },
     "metadata": {},
     "output_type": "display_data"
    },
    {
     "name": "stdout",
     "output_type": "stream",
     "text": [
      "| epoch  94 |    31/  158 batches | lr 0.00007 | ms/batch 30.23468 | loss 4.03179\n",
      "| epoch  94 |    62/  158 batches | lr 0.00007 | ms/batch 29.66748 | loss 3.86603\n",
      "| epoch  94 |    93/  158 batches | lr 0.00007 | ms/batch 29.52840 | loss 3.81635\n",
      "| epoch  94 |   124/  158 batches | lr 0.00007 | ms/batch 29.05041 | loss 3.71015\n",
      "| epoch  94 |   155/  158 batches | lr 0.00007 | ms/batch 29.55295 | loss 3.60528\n",
      "-----------------------------------------------------------------------------------------\n",
      "| end of epoch  94 | time:  4.95s | valid loss 7.7954 | mean loss   3.8753\n",
      "-----------------------------------------------------------------------------------------\n",
      "Epoch #95\n"
     ]
    },
    {
     "data": {
      "application/vnd.jupyter.widget-view+json": {
       "model_id": "1935731f915f4e1d9258b615976e229c",
       "version_major": 2,
       "version_minor": 0
      },
      "text/plain": [
       "  0%|          | 0/158 [00:00<?, ?it/s]"
      ]
     },
     "metadata": {},
     "output_type": "display_data"
    },
    {
     "name": "stdout",
     "output_type": "stream",
     "text": [
      "| epoch  95 |    31/  158 batches | lr 0.00006 | ms/batch 30.13380 | loss 3.84762\n",
      "| epoch  95 |    62/  158 batches | lr 0.00006 | ms/batch 29.78087 | loss 3.70804\n",
      "| epoch  95 |    93/  158 batches | lr 0.00006 | ms/batch 29.93804 | loss 3.72813\n",
      "| epoch  95 |   124/  158 batches | lr 0.00006 | ms/batch 29.37644 | loss 3.87001\n",
      "| epoch  95 |   155/  158 batches | lr 0.00006 | ms/batch 29.65958 | loss 3.83909\n",
      "-----------------------------------------------------------------------------------------\n",
      "| end of epoch  95 | time:  4.98s | valid loss 7.7959 | mean loss   3.8744\n",
      "-----------------------------------------------------------------------------------------\n",
      "Epoch #96\n"
     ]
    },
    {
     "data": {
      "application/vnd.jupyter.widget-view+json": {
       "model_id": "e47bb5a66e5b41c6b36074895968d25e",
       "version_major": 2,
       "version_minor": 0
      },
      "text/plain": [
       "  0%|          | 0/158 [00:00<?, ?it/s]"
      ]
     },
     "metadata": {},
     "output_type": "display_data"
    },
    {
     "name": "stdout",
     "output_type": "stream",
     "text": [
      "| epoch  96 |    31/  158 batches | lr 0.00006 | ms/batch 36.21597 | loss 3.75835\n",
      "| epoch  96 |    62/  158 batches | lr 0.00006 | ms/batch 29.79727 | loss 3.81811\n",
      "| epoch  96 |    93/  158 batches | lr 0.00006 | ms/batch 29.89562 | loss 3.80814\n",
      "| epoch  96 |   124/  158 batches | lr 0.00006 | ms/batch 29.83579 | loss 3.93245\n",
      "| epoch  96 |   155/  158 batches | lr 0.00006 | ms/batch 29.61619 | loss 3.74755\n",
      "-----------------------------------------------------------------------------------------\n",
      "| end of epoch  96 | time:  5.17s | valid loss 7.7962 | mean loss   3.8734\n",
      "-----------------------------------------------------------------------------------------\n",
      "Epoch #97\n"
     ]
    },
    {
     "data": {
      "application/vnd.jupyter.widget-view+json": {
       "model_id": "5728d8aa49664030ae4c01b6ce1c77af",
       "version_major": 2,
       "version_minor": 0
      },
      "text/plain": [
       "  0%|          | 0/158 [00:00<?, ?it/s]"
      ]
     },
     "metadata": {},
     "output_type": "display_data"
    },
    {
     "name": "stdout",
     "output_type": "stream",
     "text": [
      "| epoch  97 |    31/  158 batches | lr 0.00006 | ms/batch 30.63809 | loss 3.85935\n",
      "| epoch  97 |    62/  158 batches | lr 0.00006 | ms/batch 29.53876 | loss 3.83758\n",
      "| epoch  97 |    93/  158 batches | lr 0.00006 | ms/batch 32.43246 | loss 3.72543\n",
      "| epoch  97 |   124/  158 batches | lr 0.00006 | ms/batch 29.55358 | loss 3.76005\n",
      "| epoch  97 |   155/  158 batches | lr 0.00006 | ms/batch 29.05289 | loss 3.85347\n",
      "-----------------------------------------------------------------------------------------\n",
      "| end of epoch  97 | time:  5.05s | valid loss 7.7957 | mean loss   3.8725\n",
      "-----------------------------------------------------------------------------------------\n",
      "Epoch #98\n"
     ]
    },
    {
     "data": {
      "application/vnd.jupyter.widget-view+json": {
       "model_id": "86993a523c4a41f0a3b3172afb27fd08",
       "version_major": 2,
       "version_minor": 0
      },
      "text/plain": [
       "  0%|          | 0/158 [00:00<?, ?it/s]"
      ]
     },
     "metadata": {},
     "output_type": "display_data"
    },
    {
     "name": "stdout",
     "output_type": "stream",
     "text": [
      "| epoch  98 |    31/  158 batches | lr 0.00005 | ms/batch 30.44202 | loss 3.96426\n",
      "| epoch  98 |    62/  158 batches | lr 0.00005 | ms/batch 28.94697 | loss 3.72124\n",
      "| epoch  98 |    93/  158 batches | lr 0.00005 | ms/batch 30.02143 | loss 3.77442\n",
      "| epoch  98 |   124/  158 batches | lr 0.00005 | ms/batch 29.73962 | loss 3.74497\n",
      "| epoch  98 |   155/  158 batches | lr 0.00005 | ms/batch 29.63062 | loss 3.79673\n",
      "-----------------------------------------------------------------------------------------\n",
      "| end of epoch  98 | time:  4.96s | valid loss 7.7960 | mean loss   3.8716\n",
      "-----------------------------------------------------------------------------------------\n",
      "Epoch #99\n"
     ]
    },
    {
     "data": {
      "application/vnd.jupyter.widget-view+json": {
       "model_id": "958ab05c65ee4eb699fe43676da84152",
       "version_major": 2,
       "version_minor": 0
      },
      "text/plain": [
       "  0%|          | 0/158 [00:00<?, ?it/s]"
      ]
     },
     "metadata": {},
     "output_type": "display_data"
    },
    {
     "name": "stdout",
     "output_type": "stream",
     "text": [
      "| epoch  99 |    31/  158 batches | lr 0.00005 | ms/batch 30.56172 | loss 3.88921\n",
      "| epoch  99 |    62/  158 batches | lr 0.00005 | ms/batch 29.48109 | loss 3.90027\n",
      "| epoch  99 |    93/  158 batches | lr 0.00005 | ms/batch 29.70825 | loss 3.80505\n",
      "| epoch  99 |   124/  158 batches | lr 0.00005 | ms/batch 29.68844 | loss 3.81708\n",
      "| epoch  99 |   155/  158 batches | lr 0.00005 | ms/batch 29.18515 | loss 3.66921\n",
      "-----------------------------------------------------------------------------------------\n",
      "| end of epoch  99 | time:  4.97s | valid loss 7.7960 | mean loss   3.8707\n",
      "-----------------------------------------------------------------------------------------\n",
      "Epoch #100\n"
     ]
    },
    {
     "data": {
      "application/vnd.jupyter.widget-view+json": {
       "model_id": "b10a0a905b3c4eea9564bdfd1f5dd077",
       "version_major": 2,
       "version_minor": 0
      },
      "text/plain": [
       "  0%|          | 0/158 [00:00<?, ?it/s]"
      ]
     },
     "metadata": {},
     "output_type": "display_data"
    },
    {
     "name": "stdout",
     "output_type": "stream",
     "text": [
      "| epoch 100 |    31/  158 batches | lr 0.00005 | ms/batch 30.36061 | loss 3.89845\n",
      "| epoch 100 |    62/  158 batches | lr 0.00005 | ms/batch 28.93074 | loss 3.79482\n",
      "| epoch 100 |    93/  158 batches | lr 0.00005 | ms/batch 29.28742 | loss 3.86696\n",
      "| epoch 100 |   124/  158 batches | lr 0.00005 | ms/batch 28.74327 | loss 3.76871\n",
      "| epoch 100 |   155/  158 batches | lr 0.00005 | ms/batch 29.14843 | loss 3.67991\n",
      "-----------------------------------------------------------------------------------------\n",
      "| end of epoch 100 | time:  4.88s | valid loss 7.7955 | mean loss   3.8699\n",
      "-----------------------------------------------------------------------------------------\n",
      "Epoch #101\n"
     ]
    },
    {
     "data": {
      "application/vnd.jupyter.widget-view+json": {
       "model_id": "854f8ee83a624391914fde03f72a6170",
       "version_major": 2,
       "version_minor": 0
      },
      "text/plain": [
       "  0%|          | 0/158 [00:00<?, ?it/s]"
      ]
     },
     "metadata": {},
     "output_type": "display_data"
    },
    {
     "name": "stdout",
     "output_type": "stream",
     "text": [
      "| epoch 101 |    31/  158 batches | lr 0.00005 | ms/batch 30.25148 | loss 4.02784\n",
      "| epoch 101 |    62/  158 batches | lr 0.00005 | ms/batch 28.96826 | loss 3.62986\n",
      "| epoch 101 |    93/  158 batches | lr 0.00005 | ms/batch 29.49560 | loss 3.88830\n",
      "| epoch 101 |   124/  158 batches | lr 0.00005 | ms/batch 29.78023 | loss 3.62065\n",
      "| epoch 101 |   155/  158 batches | lr 0.00005 | ms/batch 29.83889 | loss 3.89810\n",
      "-----------------------------------------------------------------------------------------\n",
      "| end of epoch 101 | time:  4.96s | valid loss 7.7960 | mean loss   3.8690\n",
      "-----------------------------------------------------------------------------------------\n",
      "Epoch #102\n"
     ]
    },
    {
     "data": {
      "application/vnd.jupyter.widget-view+json": {
       "model_id": "fdf49f295d47434dafc01b877e5fa675",
       "version_major": 2,
       "version_minor": 0
      },
      "text/plain": [
       "  0%|          | 0/158 [00:00<?, ?it/s]"
      ]
     },
     "metadata": {},
     "output_type": "display_data"
    },
    {
     "name": "stdout",
     "output_type": "stream",
     "text": [
      "| epoch 102 |    31/  158 batches | lr 0.00004 | ms/batch 30.30444 | loss 3.84180\n",
      "| epoch 102 |    62/  158 batches | lr 0.00004 | ms/batch 29.45223 | loss 3.80948\n",
      "| epoch 102 |    93/  158 batches | lr 0.00004 | ms/batch 29.40472 | loss 3.71089\n",
      "| epoch 102 |   124/  158 batches | lr 0.00004 | ms/batch 28.85206 | loss 3.82248\n",
      "| epoch 102 |   155/  158 batches | lr 0.00004 | ms/batch 28.94149 | loss 3.82748\n",
      "-----------------------------------------------------------------------------------------\n",
      "| end of epoch 102 | time:  4.92s | valid loss 7.7951 | mean loss   3.8682\n",
      "-----------------------------------------------------------------------------------------\n",
      "Epoch #103\n"
     ]
    },
    {
     "data": {
      "application/vnd.jupyter.widget-view+json": {
       "model_id": "67f2c4b94fe948a980c817a0586f6879",
       "version_major": 2,
       "version_minor": 0
      },
      "text/plain": [
       "  0%|          | 0/158 [00:00<?, ?it/s]"
      ]
     },
     "metadata": {},
     "output_type": "display_data"
    },
    {
     "name": "stdout",
     "output_type": "stream",
     "text": [
      "| epoch 103 |    31/  158 batches | lr 0.00004 | ms/batch 30.66342 | loss 3.83758\n",
      "| epoch 103 |    62/  158 batches | lr 0.00004 | ms/batch 29.39017 | loss 3.87550\n",
      "| epoch 103 |    93/  158 batches | lr 0.00004 | ms/batch 30.22821 | loss 3.96786\n",
      "| epoch 103 |   124/  158 batches | lr 0.00004 | ms/batch 31.63092 | loss 3.59681\n",
      "| epoch 103 |   155/  158 batches | lr 0.00004 | ms/batch 29.13676 | loss 3.80313\n",
      "-----------------------------------------------------------------------------------------\n",
      "| end of epoch 103 | time:  5.03s | valid loss 7.7956 | mean loss   3.8674\n",
      "-----------------------------------------------------------------------------------------\n",
      "Epoch #104\n"
     ]
    },
    {
     "data": {
      "application/vnd.jupyter.widget-view+json": {
       "model_id": "eea7d0cbc5124318b962efdfc4380443",
       "version_major": 2,
       "version_minor": 0
      },
      "text/plain": [
       "  0%|          | 0/158 [00:00<?, ?it/s]"
      ]
     },
     "metadata": {},
     "output_type": "display_data"
    },
    {
     "name": "stdout",
     "output_type": "stream",
     "text": [
      "| epoch 104 |    31/  158 batches | lr 0.00004 | ms/batch 29.98606 | loss 3.89013\n",
      "| epoch 104 |    62/  158 batches | lr 0.00004 | ms/batch 29.02449 | loss 3.88608\n",
      "| epoch 104 |    93/  158 batches | lr 0.00004 | ms/batch 29.27254 | loss 3.79583\n",
      "| epoch 104 |   124/  158 batches | lr 0.00004 | ms/batch 28.66459 | loss 3.59513\n",
      "| epoch 104 |   155/  158 batches | lr 0.00004 | ms/batch 29.81081 | loss 3.87319\n",
      "-----------------------------------------------------------------------------------------\n",
      "| end of epoch 104 | time:  4.91s | valid loss 7.7957 | mean loss   3.8666\n",
      "-----------------------------------------------------------------------------------------\n",
      "Epoch #105\n"
     ]
    },
    {
     "data": {
      "application/vnd.jupyter.widget-view+json": {
       "model_id": "a486c7886a00408a92959242aa1217b0",
       "version_major": 2,
       "version_minor": 0
      },
      "text/plain": [
       "  0%|          | 0/158 [00:00<?, ?it/s]"
      ]
     },
     "metadata": {},
     "output_type": "display_data"
    },
    {
     "name": "stdout",
     "output_type": "stream",
     "text": [
      "| epoch 105 |    31/  158 batches | lr 0.00004 | ms/batch 30.59415 | loss 3.90591\n",
      "| epoch 105 |    62/  158 batches | lr 0.00004 | ms/batch 29.36311 | loss 3.77704\n",
      "| epoch 105 |    93/  158 batches | lr 0.00004 | ms/batch 29.66825 | loss 3.62124\n",
      "| epoch 105 |   124/  158 batches | lr 0.00004 | ms/batch 30.09350 | loss 3.92965\n",
      "| epoch 105 |   155/  158 batches | lr 0.00004 | ms/batch 29.26175 | loss 3.78768\n",
      "-----------------------------------------------------------------------------------------\n",
      "| end of epoch 105 | time:  4.97s | valid loss 7.7954 | mean loss   3.8658\n",
      "-----------------------------------------------------------------------------------------\n",
      "Epoch #106\n"
     ]
    },
    {
     "data": {
      "application/vnd.jupyter.widget-view+json": {
       "model_id": "5453f78723c54e729c4642b132e2f4e1",
       "version_major": 2,
       "version_minor": 0
      },
      "text/plain": [
       "  0%|          | 0/158 [00:00<?, ?it/s]"
      ]
     },
     "metadata": {},
     "output_type": "display_data"
    },
    {
     "name": "stdout",
     "output_type": "stream",
     "text": [
      "| epoch 106 |    31/  158 batches | lr 0.00004 | ms/batch 30.44182 | loss 4.03811\n",
      "| epoch 106 |    62/  158 batches | lr 0.00004 | ms/batch 29.24861 | loss 3.75344\n",
      "| epoch 106 |    93/  158 batches | lr 0.00004 | ms/batch 28.94500 | loss 3.78829\n",
      "| epoch 106 |   124/  158 batches | lr 0.00004 | ms/batch 29.15655 | loss 3.74063\n",
      "| epoch 106 |   155/  158 batches | lr 0.00004 | ms/batch 29.42047 | loss 3.73581\n",
      "-----------------------------------------------------------------------------------------\n",
      "| end of epoch 106 | time:  4.92s | valid loss 7.7954 | mean loss   3.8651\n",
      "-----------------------------------------------------------------------------------------\n",
      "Epoch #107\n"
     ]
    },
    {
     "data": {
      "application/vnd.jupyter.widget-view+json": {
       "model_id": "7e16aebd48da473388ec1dfaa8e372f1",
       "version_major": 2,
       "version_minor": 0
      },
      "text/plain": [
       "  0%|          | 0/158 [00:00<?, ?it/s]"
      ]
     },
     "metadata": {},
     "output_type": "display_data"
    },
    {
     "name": "stdout",
     "output_type": "stream",
     "text": [
      "| epoch 107 |    31/  158 batches | lr 0.00003 | ms/batch 30.33553 | loss 3.99647\n",
      "| epoch 107 |    62/  158 batches | lr 0.00003 | ms/batch 29.79412 | loss 3.73013\n",
      "| epoch 107 |    93/  158 batches | lr 0.00003 | ms/batch 29.29532 | loss 3.74785\n",
      "| epoch 107 |   124/  158 batches | lr 0.00003 | ms/batch 29.76036 | loss 3.80080\n",
      "| epoch 107 |   155/  158 batches | lr 0.00003 | ms/batch 29.24797 | loss 3.78744\n",
      "-----------------------------------------------------------------------------------------\n",
      "| end of epoch 107 | time:  4.96s | valid loss 7.7954 | mean loss   3.8643\n",
      "-----------------------------------------------------------------------------------------\n",
      "Epoch #108\n"
     ]
    },
    {
     "data": {
      "application/vnd.jupyter.widget-view+json": {
       "model_id": "bd119784b2cd4bea9142173e7f7df8dc",
       "version_major": 2,
       "version_minor": 0
      },
      "text/plain": [
       "  0%|          | 0/158 [00:00<?, ?it/s]"
      ]
     },
     "metadata": {},
     "output_type": "display_data"
    },
    {
     "name": "stdout",
     "output_type": "stream",
     "text": [
      "| epoch 108 |    31/  158 batches | lr 0.00003 | ms/batch 30.64589 | loss 3.79760\n",
      "| epoch 108 |    62/  158 batches | lr 0.00003 | ms/batch 29.44799 | loss 3.92051\n",
      "| epoch 108 |    93/  158 batches | lr 0.00003 | ms/batch 29.41575 | loss 3.81455\n",
      "| epoch 108 |   124/  158 batches | lr 0.00003 | ms/batch 29.22420 | loss 3.73445\n",
      "| epoch 108 |   155/  158 batches | lr 0.00003 | ms/batch 29.48850 | loss 3.78184\n",
      "-----------------------------------------------------------------------------------------\n",
      "| end of epoch 108 | time:  4.95s | valid loss 7.7952 | mean loss   3.8636\n",
      "-----------------------------------------------------------------------------------------\n",
      "Epoch #109\n"
     ]
    },
    {
     "data": {
      "application/vnd.jupyter.widget-view+json": {
       "model_id": "78a5cc73b8ff4667a7170531ff9f15ce",
       "version_major": 2,
       "version_minor": 0
      },
      "text/plain": [
       "  0%|          | 0/158 [00:00<?, ?it/s]"
      ]
     },
     "metadata": {},
     "output_type": "display_data"
    },
    {
     "name": "stdout",
     "output_type": "stream",
     "text": [
      "| epoch 109 |    31/  158 batches | lr 0.00003 | ms/batch 30.19114 | loss 3.99224\n",
      "| epoch 109 |    62/  158 batches | lr 0.00003 | ms/batch 29.18787 | loss 3.76256\n",
      "| epoch 109 |    93/  158 batches | lr 0.00003 | ms/batch 29.13152 | loss 3.76282\n",
      "| epoch 109 |   124/  158 batches | lr 0.00003 | ms/batch 32.19146 | loss 3.87435\n",
      "| epoch 109 |   155/  158 batches | lr 0.00003 | ms/batch 28.85222 | loss 3.65449\n",
      "-----------------------------------------------------------------------------------------\n",
      "| end of epoch 109 | time:  4.98s | valid loss 7.7954 | mean loss   3.8628\n",
      "-----------------------------------------------------------------------------------------\n",
      "Epoch #110\n"
     ]
    },
    {
     "data": {
      "application/vnd.jupyter.widget-view+json": {
       "model_id": "6d350321a651460d89cffda69fd153fd",
       "version_major": 2,
       "version_minor": 0
      },
      "text/plain": [
       "  0%|          | 0/158 [00:00<?, ?it/s]"
      ]
     },
     "metadata": {},
     "output_type": "display_data"
    },
    {
     "name": "stdout",
     "output_type": "stream",
     "text": [
      "| epoch 110 |    31/  158 batches | lr 0.00003 | ms/batch 30.09675 | loss 3.86703\n",
      "| epoch 110 |    62/  158 batches | lr 0.00003 | ms/batch 28.46939 | loss 3.72408\n",
      "| epoch 110 |    93/  158 batches | lr 0.00003 | ms/batch 29.56507 | loss 3.66027\n",
      "| epoch 110 |   124/  158 batches | lr 0.00003 | ms/batch 29.59496 | loss 3.90357\n",
      "| epoch 110 |   155/  158 batches | lr 0.00003 | ms/batch 29.62282 | loss 3.85534\n",
      "-----------------------------------------------------------------------------------------\n",
      "| end of epoch 110 | time:  4.91s | valid loss 7.7956 | mean loss   3.8621\n",
      "-----------------------------------------------------------------------------------------\n",
      "Epoch #111\n"
     ]
    },
    {
     "data": {
      "application/vnd.jupyter.widget-view+json": {
       "model_id": "e9d04dcd409b433284248e3c28cf552e",
       "version_major": 2,
       "version_minor": 0
      },
      "text/plain": [
       "  0%|          | 0/158 [00:00<?, ?it/s]"
      ]
     },
     "metadata": {},
     "output_type": "display_data"
    },
    {
     "name": "stdout",
     "output_type": "stream",
     "text": [
      "| epoch 111 |    31/  158 batches | lr 0.00003 | ms/batch 29.79522 | loss 3.90497\n",
      "| epoch 111 |    62/  158 batches | lr 0.00003 | ms/batch 29.55850 | loss 3.84343\n",
      "| epoch 111 |    93/  158 batches | lr 0.00003 | ms/batch 28.95382 | loss 3.68753\n",
      "| epoch 111 |   124/  158 batches | lr 0.00003 | ms/batch 29.31584 | loss 3.78885\n",
      "| epoch 111 |   155/  158 batches | lr 0.00003 | ms/batch 29.07566 | loss 3.81191\n",
      "-----------------------------------------------------------------------------------------\n",
      "| end of epoch 111 | time:  4.90s | valid loss 7.7957 | mean loss   3.8614\n",
      "-----------------------------------------------------------------------------------------\n",
      "Epoch #112\n"
     ]
    },
    {
     "data": {
      "application/vnd.jupyter.widget-view+json": {
       "model_id": "c910e21191e1408aba012529de401632",
       "version_major": 2,
       "version_minor": 0
      },
      "text/plain": [
       "  0%|          | 0/158 [00:00<?, ?it/s]"
      ]
     },
     "metadata": {},
     "output_type": "display_data"
    },
    {
     "name": "stdout",
     "output_type": "stream",
     "text": [
      "| epoch 112 |    31/  158 batches | lr 0.00003 | ms/batch 30.84457 | loss 3.95529\n",
      "| epoch 112 |    62/  158 batches | lr 0.00003 | ms/batch 29.51300 | loss 3.87177\n",
      "| epoch 112 |    93/  158 batches | lr 0.00003 | ms/batch 29.84861 | loss 3.75163\n",
      "| epoch 112 |   124/  158 batches | lr 0.00003 | ms/batch 29.58404 | loss 3.74892\n",
      "| epoch 112 |   155/  158 batches | lr 0.00003 | ms/batch 29.85868 | loss 3.73079\n",
      "-----------------------------------------------------------------------------------------\n",
      "| end of epoch 112 | time:  5.00s | valid loss 7.7960 | mean loss   3.8607\n",
      "-----------------------------------------------------------------------------------------\n",
      "Epoch #113\n"
     ]
    },
    {
     "data": {
      "application/vnd.jupyter.widget-view+json": {
       "model_id": "d71b7c1396fc4a03bb58d9b3f8a1e2e1",
       "version_major": 2,
       "version_minor": 0
      },
      "text/plain": [
       "  0%|          | 0/158 [00:00<?, ?it/s]"
      ]
     },
     "metadata": {},
     "output_type": "display_data"
    },
    {
     "name": "stdout",
     "output_type": "stream",
     "text": [
      "| epoch 113 |    31/  158 batches | lr 0.00002 | ms/batch 29.86664 | loss 3.85674\n",
      "| epoch 113 |    62/  158 batches | lr 0.00002 | ms/batch 29.52913 | loss 3.93192\n",
      "| epoch 113 |    93/  158 batches | lr 0.00002 | ms/batch 28.64499 | loss 3.69033\n",
      "| epoch 113 |   124/  158 batches | lr 0.00002 | ms/batch 29.55889 | loss 3.84169\n",
      "| epoch 113 |   155/  158 batches | lr 0.00002 | ms/batch 29.28739 | loss 3.72266\n",
      "-----------------------------------------------------------------------------------------\n",
      "| end of epoch 113 | time:  4.92s | valid loss 7.7959 | mean loss   3.8601\n",
      "-----------------------------------------------------------------------------------------\n",
      "Epoch #114\n"
     ]
    },
    {
     "data": {
      "application/vnd.jupyter.widget-view+json": {
       "model_id": "73805b629ddc4f6e9dd98aba27a03c69",
       "version_major": 2,
       "version_minor": 0
      },
      "text/plain": [
       "  0%|          | 0/158 [00:00<?, ?it/s]"
      ]
     },
     "metadata": {},
     "output_type": "display_data"
    },
    {
     "name": "stdout",
     "output_type": "stream",
     "text": [
      "| epoch 114 |    31/  158 batches | lr 0.00002 | ms/batch 31.02247 | loss 4.01953\n",
      "| epoch 114 |    62/  158 batches | lr 0.00002 | ms/batch 29.24612 | loss 3.73842\n",
      "| epoch 114 |    93/  158 batches | lr 0.00002 | ms/batch 29.99931 | loss 3.85172\n",
      "| epoch 114 |   124/  158 batches | lr 0.00002 | ms/batch 28.64145 | loss 3.70320\n",
      "| epoch 114 |   155/  158 batches | lr 0.00002 | ms/batch 29.75955 | loss 3.76015\n",
      "-----------------------------------------------------------------------------------------\n",
      "| end of epoch 114 | time:  4.97s | valid loss 7.7959 | mean loss   3.8594\n",
      "-----------------------------------------------------------------------------------------\n",
      "Epoch #115\n"
     ]
    },
    {
     "data": {
      "application/vnd.jupyter.widget-view+json": {
       "model_id": "d5591951e204464f96c7510332035a0c",
       "version_major": 2,
       "version_minor": 0
      },
      "text/plain": [
       "  0%|          | 0/158 [00:00<?, ?it/s]"
      ]
     },
     "metadata": {},
     "output_type": "display_data"
    },
    {
     "name": "stdout",
     "output_type": "stream",
     "text": [
      "| epoch 115 |    31/  158 batches | lr 0.00002 | ms/batch 30.18083 | loss 3.89425\n",
      "| epoch 115 |    62/  158 batches | lr 0.00002 | ms/batch 29.44689 | loss 3.66357\n",
      "| epoch 115 |    93/  158 batches | lr 0.00002 | ms/batch 29.60768 | loss 3.75501\n",
      "| epoch 115 |   124/  158 batches | lr 0.00002 | ms/batch 32.39850 | loss 3.92290\n",
      "| epoch 115 |   155/  158 batches | lr 0.00002 | ms/batch 28.82001 | loss 3.79315\n",
      "-----------------------------------------------------------------------------------------\n",
      "| end of epoch 115 | time:  5.01s | valid loss 7.7956 | mean loss   3.8588\n",
      "-----------------------------------------------------------------------------------------\n",
      "Epoch #116\n"
     ]
    },
    {
     "data": {
      "application/vnd.jupyter.widget-view+json": {
       "model_id": "282ae778b3294196857958d1503b3c58",
       "version_major": 2,
       "version_minor": 0
      },
      "text/plain": [
       "  0%|          | 0/158 [00:00<?, ?it/s]"
      ]
     },
     "metadata": {},
     "output_type": "display_data"
    },
    {
     "name": "stdout",
     "output_type": "stream",
     "text": [
      "| epoch 116 |    31/  158 batches | lr 0.00002 | ms/batch 30.38799 | loss 3.87138\n",
      "| epoch 116 |    62/  158 batches | lr 0.00002 | ms/batch 29.21054 | loss 3.83329\n",
      "| epoch 116 |    93/  158 batches | lr 0.00002 | ms/batch 29.38534 | loss 3.69895\n",
      "| epoch 116 |   124/  158 batches | lr 0.00002 | ms/batch 29.54795 | loss 3.93239\n",
      "| epoch 116 |   155/  158 batches | lr 0.00002 | ms/batch 29.78970 | loss 3.70931\n",
      "-----------------------------------------------------------------------------------------\n",
      "| end of epoch 116 | time:  4.94s | valid loss 7.7956 | mean loss   3.8581\n",
      "-----------------------------------------------------------------------------------------\n",
      "Epoch #117\n"
     ]
    },
    {
     "data": {
      "application/vnd.jupyter.widget-view+json": {
       "model_id": "9e7fcd03ac1143a6b3b1fd6dbc5e13ae",
       "version_major": 2,
       "version_minor": 0
      },
      "text/plain": [
       "  0%|          | 0/158 [00:00<?, ?it/s]"
      ]
     },
     "metadata": {},
     "output_type": "display_data"
    },
    {
     "name": "stdout",
     "output_type": "stream",
     "text": [
      "| epoch 117 |    31/  158 batches | lr 0.00002 | ms/batch 30.32279 | loss 4.08702\n",
      "| epoch 117 |    62/  158 batches | lr 0.00002 | ms/batch 29.38044 | loss 3.75172\n",
      "| epoch 117 |    93/  158 batches | lr 0.00002 | ms/batch 29.22123 | loss 3.79149\n",
      "| epoch 117 |   124/  158 batches | lr 0.00002 | ms/batch 29.29860 | loss 3.78965\n",
      "| epoch 117 |   155/  158 batches | lr 0.00002 | ms/batch 29.43256 | loss 3.62432\n",
      "-----------------------------------------------------------------------------------------\n",
      "| end of epoch 117 | time:  4.94s | valid loss 7.7957 | mean loss   3.8575\n",
      "-----------------------------------------------------------------------------------------\n",
      "Epoch #118\n"
     ]
    },
    {
     "data": {
      "application/vnd.jupyter.widget-view+json": {
       "model_id": "ad520dbfb85e4aaaa1dea302801880ec",
       "version_major": 2,
       "version_minor": 0
      },
      "text/plain": [
       "  0%|          | 0/158 [00:00<?, ?it/s]"
      ]
     },
     "metadata": {},
     "output_type": "display_data"
    },
    {
     "name": "stdout",
     "output_type": "stream",
     "text": [
      "| epoch 118 |    31/  158 batches | lr 0.00002 | ms/batch 30.97852 | loss 3.72254\n",
      "| epoch 118 |    62/  158 batches | lr 0.00002 | ms/batch 29.72850 | loss 3.83277\n",
      "| epoch 118 |    93/  158 batches | lr 0.00002 | ms/batch 29.95577 | loss 3.72952\n",
      "| epoch 118 |   124/  158 batches | lr 0.00002 | ms/batch 29.25792 | loss 3.94980\n",
      "| epoch 118 |   155/  158 batches | lr 0.00002 | ms/batch 29.85711 | loss 3.79237\n",
      "-----------------------------------------------------------------------------------------\n",
      "| end of epoch 118 | time:  4.99s | valid loss 7.7957 | mean loss   3.8569\n",
      "-----------------------------------------------------------------------------------------\n",
      "Epoch #119\n"
     ]
    },
    {
     "data": {
      "application/vnd.jupyter.widget-view+json": {
       "model_id": "e97b955ad1494eecaca6f175557c3b16",
       "version_major": 2,
       "version_minor": 0
      },
      "text/plain": [
       "  0%|          | 0/158 [00:00<?, ?it/s]"
      ]
     },
     "metadata": {},
     "output_type": "display_data"
    },
    {
     "name": "stdout",
     "output_type": "stream",
     "text": [
      "| epoch 119 |    31/  158 batches | lr 0.00002 | ms/batch 31.17348 | loss 3.91240\n",
      "| epoch 119 |    62/  158 batches | lr 0.00002 | ms/batch 29.25740 | loss 3.73708\n",
      "| epoch 119 |    93/  158 batches | lr 0.00002 | ms/batch 29.10333 | loss 3.84891\n",
      "| epoch 119 |   124/  158 batches | lr 0.00002 | ms/batch 28.89000 | loss 3.74631\n",
      "| epoch 119 |   155/  158 batches | lr 0.00002 | ms/batch 29.25757 | loss 3.82115\n",
      "-----------------------------------------------------------------------------------------\n",
      "| end of epoch 119 | time:  4.93s | valid loss 7.7954 | mean loss   3.8563\n",
      "-----------------------------------------------------------------------------------------\n",
      "Epoch #120\n"
     ]
    },
    {
     "data": {
      "application/vnd.jupyter.widget-view+json": {
       "model_id": "5632c5f2da324ebb8fd4835d6e4860cc",
       "version_major": 2,
       "version_minor": 0
      },
      "text/plain": [
       "  0%|          | 0/158 [00:00<?, ?it/s]"
      ]
     },
     "metadata": {},
     "output_type": "display_data"
    },
    {
     "name": "stdout",
     "output_type": "stream",
     "text": [
      "| epoch 120 |    31/  158 batches | lr 0.00002 | ms/batch 37.14595 | loss 3.96357\n",
      "| epoch 120 |    62/  158 batches | lr 0.00002 | ms/batch 28.87444 | loss 3.69181\n",
      "| epoch 120 |    93/  158 batches | lr 0.00002 | ms/batch 29.69776 | loss 3.77470\n",
      "| epoch 120 |   124/  158 batches | lr 0.00002 | ms/batch 29.29775 | loss 3.92416\n",
      "| epoch 120 |   155/  158 batches | lr 0.00002 | ms/batch 30.36077 | loss 3.69087\n",
      "-----------------------------------------------------------------------------------------\n",
      "| end of epoch 120 | time:  5.18s | valid loss 7.7955 | mean loss   3.8557\n",
      "-----------------------------------------------------------------------------------------\n",
      "Epoch #121\n"
     ]
    },
    {
     "data": {
      "application/vnd.jupyter.widget-view+json": {
       "model_id": "8bc6644f75f74f02a002ee90cae093c6",
       "version_major": 2,
       "version_minor": 0
      },
      "text/plain": [
       "  0%|          | 0/158 [00:00<?, ?it/s]"
      ]
     },
     "metadata": {},
     "output_type": "display_data"
    },
    {
     "name": "stdout",
     "output_type": "stream",
     "text": [
      "| epoch 121 |    31/  158 batches | lr 0.00002 | ms/batch 30.36694 | loss 3.70381\n",
      "| epoch 121 |    62/  158 batches | lr 0.00002 | ms/batch 29.92524 | loss 3.84601\n",
      "| epoch 121 |    93/  158 batches | lr 0.00002 | ms/batch 29.33836 | loss 3.82217\n",
      "| epoch 121 |   124/  158 batches | lr 0.00002 | ms/batch 33.03639 | loss 3.76219\n",
      "| epoch 121 |   155/  158 batches | lr 0.00002 | ms/batch 29.65384 | loss 3.89914\n",
      "-----------------------------------------------------------------------------------------\n",
      "| end of epoch 121 | time:  5.08s | valid loss 7.7953 | mean loss   3.8551\n",
      "-----------------------------------------------------------------------------------------\n",
      "Epoch #122\n"
     ]
    },
    {
     "data": {
      "application/vnd.jupyter.widget-view+json": {
       "model_id": "1662af6d705b4672932290ee1c81f598",
       "version_major": 2,
       "version_minor": 0
      },
      "text/plain": [
       "  0%|          | 0/158 [00:00<?, ?it/s]"
      ]
     },
     "metadata": {},
     "output_type": "display_data"
    },
    {
     "name": "stdout",
     "output_type": "stream",
     "text": [
      "| epoch 122 |    31/  158 batches | lr 0.00002 | ms/batch 31.10749 | loss 3.82033\n",
      "| epoch 122 |    62/  158 batches | lr 0.00002 | ms/batch 29.68238 | loss 3.85819\n",
      "| epoch 122 |    93/  158 batches | lr 0.00002 | ms/batch 29.16701 | loss 3.77674\n",
      "| epoch 122 |   124/  158 batches | lr 0.00002 | ms/batch 29.91050 | loss 3.74448\n",
      "| epoch 122 |   155/  158 batches | lr 0.00002 | ms/batch 29.37063 | loss 3.86126\n",
      "-----------------------------------------------------------------------------------------\n",
      "| end of epoch 122 | time:  4.98s | valid loss 7.7954 | mean loss   3.8545\n",
      "-----------------------------------------------------------------------------------------\n",
      "Epoch #123\n"
     ]
    },
    {
     "data": {
      "application/vnd.jupyter.widget-view+json": {
       "model_id": "727fa48567ba4f359b17959f9128a6b4",
       "version_major": 2,
       "version_minor": 0
      },
      "text/plain": [
       "  0%|          | 0/158 [00:00<?, ?it/s]"
      ]
     },
     "metadata": {},
     "output_type": "display_data"
    },
    {
     "name": "stdout",
     "output_type": "stream",
     "text": [
      "| epoch 123 |    31/  158 batches | lr 0.00001 | ms/batch 30.66647 | loss 3.94291\n",
      "| epoch 123 |    62/  158 batches | lr 0.00001 | ms/batch 29.07745 | loss 3.71374\n",
      "| epoch 123 |    93/  158 batches | lr 0.00001 | ms/batch 29.98147 | loss 3.53530\n",
      "| epoch 123 |   124/  158 batches | lr 0.00001 | ms/batch 29.16398 | loss 4.00942\n",
      "| epoch 123 |   155/  158 batches | lr 0.00001 | ms/batch 29.97837 | loss 3.85204\n",
      "-----------------------------------------------------------------------------------------\n",
      "| end of epoch 123 | time:  4.96s | valid loss 7.7953 | mean loss   3.8539\n",
      "-----------------------------------------------------------------------------------------\n",
      "Epoch #124\n"
     ]
    },
    {
     "data": {
      "application/vnd.jupyter.widget-view+json": {
       "model_id": "40da2dba9c6d4f4995080b16d946ca99",
       "version_major": 2,
       "version_minor": 0
      },
      "text/plain": [
       "  0%|          | 0/158 [00:00<?, ?it/s]"
      ]
     },
     "metadata": {},
     "output_type": "display_data"
    },
    {
     "name": "stdout",
     "output_type": "stream",
     "text": [
      "| epoch 124 |    31/  158 batches | lr 0.00001 | ms/batch 31.40623 | loss 3.83566\n",
      "| epoch 124 |    62/  158 batches | lr 0.00001 | ms/batch 29.49278 | loss 3.72404\n",
      "| epoch 124 |    93/  158 batches | lr 0.00001 | ms/batch 29.62316 | loss 3.99270\n",
      "| epoch 124 |   124/  158 batches | lr 0.00001 | ms/batch 29.74061 | loss 3.64689\n",
      "| epoch 124 |   155/  158 batches | lr 0.00001 | ms/batch 29.88344 | loss 3.83321\n",
      "-----------------------------------------------------------------------------------------\n",
      "| end of epoch 124 | time:  5.02s | valid loss 7.7952 | mean loss   3.8534\n",
      "-----------------------------------------------------------------------------------------\n",
      "Epoch #125\n"
     ]
    },
    {
     "data": {
      "application/vnd.jupyter.widget-view+json": {
       "model_id": "4ac7a16aa9c34112a03e0c5ebee1c57d",
       "version_major": 2,
       "version_minor": 0
      },
      "text/plain": [
       "  0%|          | 0/158 [00:00<?, ?it/s]"
      ]
     },
     "metadata": {},
     "output_type": "display_data"
    },
    {
     "name": "stdout",
     "output_type": "stream",
     "text": [
      "| epoch 125 |    31/  158 batches | lr 0.00001 | ms/batch 30.92580 | loss 3.92519\n",
      "| epoch 125 |    62/  158 batches | lr 0.00001 | ms/batch 29.30309 | loss 3.84557\n",
      "| epoch 125 |    93/  158 batches | lr 0.00001 | ms/batch 29.40337 | loss 3.78237\n",
      "| epoch 125 |   124/  158 batches | lr 0.00001 | ms/batch 30.03140 | loss 3.72008\n",
      "| epoch 125 |   155/  158 batches | lr 0.00001 | ms/batch 30.12563 | loss 3.78827\n",
      "-----------------------------------------------------------------------------------------\n",
      "| end of epoch 125 | time:  5.00s | valid loss 7.7952 | mean loss   3.8528\n",
      "-----------------------------------------------------------------------------------------\n",
      "Epoch #126\n"
     ]
    },
    {
     "data": {
      "application/vnd.jupyter.widget-view+json": {
       "model_id": "8eacda47a59247d392194d8c3240a279",
       "version_major": 2,
       "version_minor": 0
      },
      "text/plain": [
       "  0%|          | 0/158 [00:00<?, ?it/s]"
      ]
     },
     "metadata": {},
     "output_type": "display_data"
    },
    {
     "name": "stdout",
     "output_type": "stream",
     "text": [
      "| epoch 126 |    31/  158 batches | lr 0.00001 | ms/batch 31.01528 | loss 4.08465\n",
      "| epoch 126 |    62/  158 batches | lr 0.00001 | ms/batch 29.70815 | loss 3.77510\n",
      "| epoch 126 |    93/  158 batches | lr 0.00001 | ms/batch 29.66719 | loss 3.75180\n",
      "| epoch 126 |   124/  158 batches | lr 0.00001 | ms/batch 29.95603 | loss 3.58711\n",
      "| epoch 126 |   155/  158 batches | lr 0.00001 | ms/batch 30.23833 | loss 3.82769\n",
      "-----------------------------------------------------------------------------------------\n",
      "| end of epoch 126 | time:  5.02s | valid loss 7.7953 | mean loss   3.8523\n",
      "-----------------------------------------------------------------------------------------\n",
      "Epoch #127\n"
     ]
    },
    {
     "data": {
      "application/vnd.jupyter.widget-view+json": {
       "model_id": "4f7bdbac33eb4690b998ee8151079eec",
       "version_major": 2,
       "version_minor": 0
      },
      "text/plain": [
       "  0%|          | 0/158 [00:00<?, ?it/s]"
      ]
     },
     "metadata": {},
     "output_type": "display_data"
    },
    {
     "name": "stdout",
     "output_type": "stream",
     "text": [
      "| epoch 127 |    31/  158 batches | lr 0.00001 | ms/batch 31.01083 | loss 3.76791\n",
      "| epoch 127 |    62/  158 batches | lr 0.00001 | ms/batch 29.24233 | loss 3.83119\n",
      "| epoch 127 |    93/  158 batches | lr 0.00001 | ms/batch 29.64982 | loss 3.84310\n",
      "| epoch 127 |   124/  158 batches | lr 0.00001 | ms/batch 32.69834 | loss 3.73593\n",
      "| epoch 127 |   155/  158 batches | lr 0.00001 | ms/batch 29.10042 | loss 3.85425\n",
      "-----------------------------------------------------------------------------------------\n",
      "| end of epoch 127 | time:  5.05s | valid loss 7.7952 | mean loss   3.8517\n",
      "-----------------------------------------------------------------------------------------\n",
      "Epoch #128\n"
     ]
    },
    {
     "data": {
      "application/vnd.jupyter.widget-view+json": {
       "model_id": "d4de38ad90c6444b869213e3cf5dfca5",
       "version_major": 2,
       "version_minor": 0
      },
      "text/plain": [
       "  0%|          | 0/158 [00:00<?, ?it/s]"
      ]
     },
     "metadata": {},
     "output_type": "display_data"
    },
    {
     "name": "stdout",
     "output_type": "stream",
     "text": [
      "| epoch 128 |    31/  158 batches | lr 0.00001 | ms/batch 29.82316 | loss 3.86596\n",
      "| epoch 128 |    62/  158 batches | lr 0.00001 | ms/batch 29.78619 | loss 3.68948\n",
      "| epoch 128 |    93/  158 batches | lr 0.00001 | ms/batch 29.55822 | loss 3.79498\n",
      "| epoch 128 |   124/  158 batches | lr 0.00001 | ms/batch 29.85667 | loss 3.79869\n",
      "| epoch 128 |   155/  158 batches | lr 0.00001 | ms/batch 29.95589 | loss 3.86746\n",
      "-----------------------------------------------------------------------------------------\n",
      "| end of epoch 128 | time:  4.97s | valid loss 7.7953 | mean loss   3.8512\n",
      "-----------------------------------------------------------------------------------------\n",
      "Epoch #129\n"
     ]
    },
    {
     "data": {
      "application/vnd.jupyter.widget-view+json": {
       "model_id": "5bab252ae0f64e21862a43a996854e3d",
       "version_major": 2,
       "version_minor": 0
      },
      "text/plain": [
       "  0%|          | 0/158 [00:00<?, ?it/s]"
      ]
     },
     "metadata": {},
     "output_type": "display_data"
    },
    {
     "name": "stdout",
     "output_type": "stream",
     "text": [
      "| epoch 129 |    31/  158 batches | lr 0.00001 | ms/batch 30.91894 | loss 3.74797\n",
      "| epoch 129 |    62/  158 batches | lr 0.00001 | ms/batch 30.00831 | loss 3.70292\n",
      "| epoch 129 |    93/  158 batches | lr 0.00001 | ms/batch 29.43451 | loss 3.87870\n",
      "| epoch 129 |   124/  158 batches | lr 0.00001 | ms/batch 30.08517 | loss 3.93334\n",
      "| epoch 129 |   155/  158 batches | lr 0.00001 | ms/batch 29.33521 | loss 3.79365\n",
      "-----------------------------------------------------------------------------------------\n",
      "| end of epoch 129 | time:  5.00s | valid loss 7.7952 | mean loss   3.8507\n",
      "-----------------------------------------------------------------------------------------\n",
      "Epoch #130\n"
     ]
    },
    {
     "data": {
      "application/vnd.jupyter.widget-view+json": {
       "model_id": "547b117c94b744248976b81578bc148d",
       "version_major": 2,
       "version_minor": 0
      },
      "text/plain": [
       "  0%|          | 0/158 [00:00<?, ?it/s]"
      ]
     },
     "metadata": {},
     "output_type": "display_data"
    },
    {
     "name": "stdout",
     "output_type": "stream",
     "text": [
      "| epoch 130 |    31/  158 batches | lr 0.00001 | ms/batch 30.73258 | loss 4.10629\n",
      "| epoch 130 |    62/  158 batches | lr 0.00001 | ms/batch 29.24319 | loss 3.66750\n",
      "| epoch 130 |    93/  158 batches | lr 0.00001 | ms/batch 29.79767 | loss 3.85740\n",
      "| epoch 130 |   124/  158 batches | lr 0.00001 | ms/batch 29.45973 | loss 3.77822\n",
      "| epoch 130 |   155/  158 batches | lr 0.00001 | ms/batch 29.44652 | loss 3.64499\n",
      "-----------------------------------------------------------------------------------------\n",
      "| end of epoch 130 | time:  4.96s | valid loss 7.7951 | mean loss   3.8502\n",
      "-----------------------------------------------------------------------------------------\n",
      "Epoch #131\n"
     ]
    },
    {
     "data": {
      "application/vnd.jupyter.widget-view+json": {
       "model_id": "68f9670b94864caa90f0af1f9fd674a0",
       "version_major": 2,
       "version_minor": 0
      },
      "text/plain": [
       "  0%|          | 0/158 [00:00<?, ?it/s]"
      ]
     },
     "metadata": {},
     "output_type": "display_data"
    },
    {
     "name": "stdout",
     "output_type": "stream",
     "text": [
      "| epoch 131 |    31/  158 batches | lr 0.00001 | ms/batch 30.16178 | loss 3.92900\n",
      "| epoch 131 |    62/  158 batches | lr 0.00001 | ms/batch 29.33953 | loss 3.85970\n",
      "| epoch 131 |    93/  158 batches | lr 0.00001 | ms/batch 29.26447 | loss 3.71422\n",
      "| epoch 131 |   124/  158 batches | lr 0.00001 | ms/batch 29.27130 | loss 3.74279\n",
      "| epoch 131 |   155/  158 batches | lr 0.00001 | ms/batch 29.39247 | loss 3.78477\n",
      "-----------------------------------------------------------------------------------------\n",
      "| end of epoch 131 | time:  4.93s | valid loss 7.7950 | mean loss   3.8497\n",
      "-----------------------------------------------------------------------------------------\n",
      "Epoch #132\n"
     ]
    },
    {
     "data": {
      "application/vnd.jupyter.widget-view+json": {
       "model_id": "18c1cb1e15894ce991e94988f5911678",
       "version_major": 2,
       "version_minor": 0
      },
      "text/plain": [
       "  0%|          | 0/158 [00:00<?, ?it/s]"
      ]
     },
     "metadata": {},
     "output_type": "display_data"
    },
    {
     "name": "stdout",
     "output_type": "stream",
     "text": [
      "| epoch 132 |    31/  158 batches | lr 0.00001 | ms/batch 30.53344 | loss 3.91069\n",
      "| epoch 132 |    62/  158 batches | lr 0.00001 | ms/batch 28.96374 | loss 3.79410\n",
      "| epoch 132 |    93/  158 batches | lr 0.00001 | ms/batch 29.45946 | loss 3.89970\n",
      "| epoch 132 |   124/  158 batches | lr 0.00001 | ms/batch 29.53474 | loss 3.64030\n",
      "| epoch 132 |   155/  158 batches | lr 0.00001 | ms/batch 29.46453 | loss 3.81377\n",
      "-----------------------------------------------------------------------------------------\n",
      "| end of epoch 132 | time:  4.92s | valid loss 7.7950 | mean loss   3.8492\n",
      "-----------------------------------------------------------------------------------------\n",
      "Epoch #133\n"
     ]
    },
    {
     "data": {
      "application/vnd.jupyter.widget-view+json": {
       "model_id": "e4d7dc3552974e0bb1f83401ee79b3dd",
       "version_major": 2,
       "version_minor": 0
      },
      "text/plain": [
       "  0%|          | 0/158 [00:00<?, ?it/s]"
      ]
     },
     "metadata": {},
     "output_type": "display_data"
    },
    {
     "name": "stdout",
     "output_type": "stream",
     "text": [
      "| epoch 133 |    31/  158 batches | lr 0.00001 | ms/batch 30.89429 | loss 4.03006\n",
      "| epoch 133 |    62/  158 batches | lr 0.00001 | ms/batch 29.44293 | loss 3.88006\n",
      "| epoch 133 |    93/  158 batches | lr 0.00001 | ms/batch 29.78326 | loss 3.79142\n",
      "| epoch 133 |   124/  158 batches | lr 0.00001 | ms/batch 32.30666 | loss 3.76473\n",
      "| epoch 133 |   155/  158 batches | lr 0.00001 | ms/batch 29.55970 | loss 3.63603\n",
      "-----------------------------------------------------------------------------------------\n",
      "| end of epoch 133 | time:  5.05s | valid loss 7.7950 | mean loss   3.8487\n",
      "-----------------------------------------------------------------------------------------\n",
      "Epoch #134\n"
     ]
    },
    {
     "data": {
      "application/vnd.jupyter.widget-view+json": {
       "model_id": "5cae83846bcb475d99289deec2742371",
       "version_major": 2,
       "version_minor": 0
      },
      "text/plain": [
       "  0%|          | 0/158 [00:00<?, ?it/s]"
      ]
     },
     "metadata": {},
     "output_type": "display_data"
    },
    {
     "name": "stdout",
     "output_type": "stream",
     "text": [
      "| epoch 134 |    31/  158 batches | lr 0.00001 | ms/batch 30.11733 | loss 3.88525\n",
      "| epoch 134 |    62/  158 batches | lr 0.00001 | ms/batch 29.25826 | loss 3.71322\n",
      "| epoch 134 |    93/  158 batches | lr 0.00001 | ms/batch 29.61856 | loss 3.67919\n",
      "| epoch 134 |   124/  158 batches | lr 0.00001 | ms/batch 28.93286 | loss 4.02181\n",
      "| epoch 134 |   155/  158 batches | lr 0.00001 | ms/batch 29.15692 | loss 3.78292\n",
      "-----------------------------------------------------------------------------------------\n",
      "| end of epoch 134 | time:  4.92s | valid loss 7.7951 | mean loss   3.8482\n",
      "-----------------------------------------------------------------------------------------\n",
      "Epoch #135\n"
     ]
    },
    {
     "data": {
      "application/vnd.jupyter.widget-view+json": {
       "model_id": "3fbaefb934cc46d7ac920cde4a80f111",
       "version_major": 2,
       "version_minor": 0
      },
      "text/plain": [
       "  0%|          | 0/158 [00:00<?, ?it/s]"
      ]
     },
     "metadata": {},
     "output_type": "display_data"
    },
    {
     "name": "stdout",
     "output_type": "stream",
     "text": [
      "| epoch 135 |    31/  158 batches | lr 0.00001 | ms/batch 30.61185 | loss 3.92157\n",
      "| epoch 135 |    62/  158 batches | lr 0.00001 | ms/batch 29.41861 | loss 3.95666\n",
      "| epoch 135 |    93/  158 batches | lr 0.00001 | ms/batch 28.73173 | loss 3.81264\n",
      "| epoch 135 |   124/  158 batches | lr 0.00001 | ms/batch 29.40888 | loss 3.69287\n",
      "| epoch 135 |   155/  158 batches | lr 0.00001 | ms/batch 29.34088 | loss 3.68793\n",
      "-----------------------------------------------------------------------------------------\n",
      "| end of epoch 135 | time:  4.94s | valid loss 7.7951 | mean loss   3.8477\n",
      "-----------------------------------------------------------------------------------------\n",
      "Epoch #136\n"
     ]
    },
    {
     "data": {
      "application/vnd.jupyter.widget-view+json": {
       "model_id": "db8d6fd7dc444732921b97f2ffe7ec6b",
       "version_major": 2,
       "version_minor": 0
      },
      "text/plain": [
       "  0%|          | 0/158 [00:00<?, ?it/s]"
      ]
     },
     "metadata": {},
     "output_type": "display_data"
    },
    {
     "name": "stdout",
     "output_type": "stream",
     "text": [
      "| epoch 136 |    31/  158 batches | lr 0.00001 | ms/batch 29.91709 | loss 3.91968\n",
      "| epoch 136 |    62/  158 batches | lr 0.00001 | ms/batch 29.68852 | loss 3.90146\n",
      "| epoch 136 |    93/  158 batches | lr 0.00001 | ms/batch 29.77006 | loss 3.74547\n",
      "| epoch 136 |   124/  158 batches | lr 0.00001 | ms/batch 29.09428 | loss 3.60449\n",
      "| epoch 136 |   155/  158 batches | lr 0.00001 | ms/batch 28.99318 | loss 3.85619\n",
      "-----------------------------------------------------------------------------------------\n",
      "| end of epoch 136 | time:  4.91s | valid loss 7.7951 | mean loss   3.8473\n",
      "-----------------------------------------------------------------------------------------\n",
      "Epoch #137\n"
     ]
    },
    {
     "data": {
      "application/vnd.jupyter.widget-view+json": {
       "model_id": "97a1de9ed7ff4ece9b268231009801da",
       "version_major": 2,
       "version_minor": 0
      },
      "text/plain": [
       "  0%|          | 0/158 [00:00<?, ?it/s]"
      ]
     },
     "metadata": {},
     "output_type": "display_data"
    },
    {
     "name": "stdout",
     "output_type": "stream",
     "text": [
      "| epoch 137 |    31/  158 batches | lr 0.00001 | ms/batch 30.60479 | loss 3.82815\n",
      "| epoch 137 |    62/  158 batches | lr 0.00001 | ms/batch 29.01891 | loss 3.84386\n",
      "| epoch 137 |    93/  158 batches | lr 0.00001 | ms/batch 29.63712 | loss 3.73416\n",
      "| epoch 137 |   124/  158 batches | lr 0.00001 | ms/batch 28.53179 | loss 3.80472\n",
      "| epoch 137 |   155/  158 batches | lr 0.00001 | ms/batch 29.33415 | loss 3.84630\n",
      "-----------------------------------------------------------------------------------------\n",
      "| end of epoch 137 | time:  4.91s | valid loss 7.7952 | mean loss   3.8468\n",
      "-----------------------------------------------------------------------------------------\n",
      "Epoch #138\n"
     ]
    },
    {
     "data": {
      "application/vnd.jupyter.widget-view+json": {
       "model_id": "97d6bbd34bb942b6b29e60ace8f4e90f",
       "version_major": 2,
       "version_minor": 0
      },
      "text/plain": [
       "  0%|          | 0/158 [00:00<?, ?it/s]"
      ]
     },
     "metadata": {},
     "output_type": "display_data"
    },
    {
     "name": "stdout",
     "output_type": "stream",
     "text": [
      "| epoch 138 |    31/  158 batches | lr 0.00001 | ms/batch 30.47965 | loss 4.08804\n",
      "| epoch 138 |    62/  158 batches | lr 0.00001 | ms/batch 29.86314 | loss 3.70225\n",
      "| epoch 138 |    93/  158 batches | lr 0.00001 | ms/batch 29.55977 | loss 3.84115\n",
      "| epoch 138 |   124/  158 batches | lr 0.00001 | ms/batch 29.47402 | loss 3.64286\n",
      "| epoch 138 |   155/  158 batches | lr 0.00001 | ms/batch 29.46963 | loss 3.80698\n",
      "-----------------------------------------------------------------------------------------\n",
      "| end of epoch 138 | time:  4.97s | valid loss 7.7951 | mean loss   3.8464\n",
      "-----------------------------------------------------------------------------------------\n",
      "Epoch #139\n"
     ]
    },
    {
     "data": {
      "application/vnd.jupyter.widget-view+json": {
       "model_id": "dfd8d16be4b94c7191ec07ec583ca3bb",
       "version_major": 2,
       "version_minor": 0
      },
      "text/plain": [
       "  0%|          | 0/158 [00:00<?, ?it/s]"
      ]
     },
     "metadata": {},
     "output_type": "display_data"
    },
    {
     "name": "stdout",
     "output_type": "stream",
     "text": [
      "| epoch 139 |    31/  158 batches | lr 0.00001 | ms/batch 30.59537 | loss 3.99022\n",
      "| epoch 139 |    62/  158 batches | lr 0.00001 | ms/batch 29.36568 | loss 3.83447\n",
      "| epoch 139 |    93/  158 batches | lr 0.00001 | ms/batch 29.46248 | loss 3.68294\n",
      "| epoch 139 |   124/  158 batches | lr 0.00001 | ms/batch 31.94131 | loss 3.77065\n",
      "| epoch 139 |   155/  158 batches | lr 0.00001 | ms/batch 29.20493 | loss 3.73145\n",
      "-----------------------------------------------------------------------------------------\n",
      "| end of epoch 139 | time:  5.03s | valid loss 7.7952 | mean loss   3.8459\n",
      "-----------------------------------------------------------------------------------------\n",
      "Epoch #140\n"
     ]
    },
    {
     "data": {
      "application/vnd.jupyter.widget-view+json": {
       "model_id": "80acab37f6fd4fc888607ffb4e9b4635",
       "version_major": 2,
       "version_minor": 0
      },
      "text/plain": [
       "  0%|          | 0/158 [00:00<?, ?it/s]"
      ]
     },
     "metadata": {},
     "output_type": "display_data"
    },
    {
     "name": "stdout",
     "output_type": "stream",
     "text": [
      "| epoch 140 |    31/  158 batches | lr 0.00001 | ms/batch 30.17849 | loss 3.99746\n",
      "| epoch 140 |    62/  158 batches | lr 0.00001 | ms/batch 29.55459 | loss 3.65541\n",
      "| epoch 140 |    93/  158 batches | lr 0.00001 | ms/batch 29.16038 | loss 3.74208\n",
      "| epoch 140 |   124/  158 batches | lr 0.00001 | ms/batch 28.63960 | loss 3.91359\n",
      "| epoch 140 |   155/  158 batches | lr 0.00001 | ms/batch 29.03565 | loss 3.71382\n",
      "-----------------------------------------------------------------------------------------\n",
      "| end of epoch 140 | time:  4.89s | valid loss 7.7951 | mean loss   3.8455\n",
      "-----------------------------------------------------------------------------------------\n",
      "Epoch #141\n"
     ]
    },
    {
     "data": {
      "application/vnd.jupyter.widget-view+json": {
       "model_id": "883bfa21c21e4e338abe1d6efdd4a1b3",
       "version_major": 2,
       "version_minor": 0
      },
      "text/plain": [
       "  0%|          | 0/158 [00:00<?, ?it/s]"
      ]
     },
     "metadata": {},
     "output_type": "display_data"
    },
    {
     "name": "stdout",
     "output_type": "stream",
     "text": [
      "| epoch 141 |    31/  158 batches | lr 0.00001 | ms/batch 30.36511 | loss 3.96744\n",
      "| epoch 141 |    62/  158 batches | lr 0.00001 | ms/batch 29.08480 | loss 4.02430\n",
      "| epoch 141 |    93/  158 batches | lr 0.00001 | ms/batch 29.70472 | loss 3.73151\n",
      "| epoch 141 |   124/  158 batches | lr 0.00001 | ms/batch 29.35608 | loss 3.74086\n",
      "| epoch 141 |   155/  158 batches | lr 0.00001 | ms/batch 28.90348 | loss 3.55314\n",
      "-----------------------------------------------------------------------------------------\n",
      "| end of epoch 141 | time:  4.92s | valid loss 7.7952 | mean loss   3.8450\n",
      "-----------------------------------------------------------------------------------------\n",
      "Epoch #142\n"
     ]
    },
    {
     "data": {
      "application/vnd.jupyter.widget-view+json": {
       "model_id": "fd977a9cbf854d3795e798d14dedcd99",
       "version_major": 2,
       "version_minor": 0
      },
      "text/plain": [
       "  0%|          | 0/158 [00:00<?, ?it/s]"
      ]
     },
     "metadata": {},
     "output_type": "display_data"
    },
    {
     "name": "stdout",
     "output_type": "stream",
     "text": [
      "| epoch 142 |    31/  158 batches | lr 0.00001 | ms/batch 30.21751 | loss 3.78986\n",
      "| epoch 142 |    62/  158 batches | lr 0.00001 | ms/batch 29.37358 | loss 3.74035\n",
      "| epoch 142 |    93/  158 batches | lr 0.00001 | ms/batch 28.63676 | loss 3.65498\n",
      "| epoch 142 |   124/  158 batches | lr 0.00001 | ms/batch 29.57543 | loss 3.97493\n",
      "| epoch 142 |   155/  158 batches | lr 0.00001 | ms/batch 28.79273 | loss 3.83261\n",
      "-----------------------------------------------------------------------------------------\n",
      "| end of epoch 142 | time:  4.91s | valid loss 7.7950 | mean loss   3.8446\n",
      "-----------------------------------------------------------------------------------------\n",
      "Epoch #143\n"
     ]
    },
    {
     "data": {
      "application/vnd.jupyter.widget-view+json": {
       "model_id": "742b66e8d8e94714b8d025339f35a418",
       "version_major": 2,
       "version_minor": 0
      },
      "text/plain": [
       "  0%|          | 0/158 [00:00<?, ?it/s]"
      ]
     },
     "metadata": {},
     "output_type": "display_data"
    },
    {
     "name": "stdout",
     "output_type": "stream",
     "text": [
      "| epoch 143 |    31/  158 batches | lr 0.00001 | ms/batch 30.75963 | loss 3.90253\n",
      "| epoch 143 |    62/  158 batches | lr 0.00001 | ms/batch 29.25246 | loss 3.79362\n",
      "| epoch 143 |    93/  158 batches | lr 0.00001 | ms/batch 29.30427 | loss 3.67817\n",
      "| epoch 143 |   124/  158 batches | lr 0.00001 | ms/batch 28.75891 | loss 3.94957\n",
      "| epoch 143 |   155/  158 batches | lr 0.00001 | ms/batch 29.39523 | loss 3.70745\n",
      "-----------------------------------------------------------------------------------------\n",
      "| end of epoch 143 | time:  4.93s | valid loss 7.7950 | mean loss   3.8442\n",
      "-----------------------------------------------------------------------------------------\n",
      "Epoch #144\n"
     ]
    },
    {
     "data": {
      "application/vnd.jupyter.widget-view+json": {
       "model_id": "2588e4908e934e5e9510e12c77c12277",
       "version_major": 2,
       "version_minor": 0
      },
      "text/plain": [
       "  0%|          | 0/158 [00:00<?, ?it/s]"
      ]
     },
     "metadata": {},
     "output_type": "display_data"
    },
    {
     "name": "stdout",
     "output_type": "stream",
     "text": [
      "| epoch 144 |    31/  158 batches | lr 0.00001 | ms/batch 27.88635 | loss 3.86835\n",
      "| epoch 144 |    62/  158 batches | lr 0.00001 | ms/batch 26.37662 | loss 3.91175\n",
      "| epoch 144 |    93/  158 batches | lr 0.00001 | ms/batch 41.11952 | loss 3.77600\n",
      "| epoch 144 |   124/  158 batches | lr 0.00001 | ms/batch 29.63510 | loss 3.81370\n",
      "| epoch 144 |   155/  158 batches | lr 0.00001 | ms/batch 29.02766 | loss 3.71669\n",
      "-----------------------------------------------------------------------------------------\n",
      "| end of epoch 144 | time:  5.13s | valid loss 7.7951 | mean loss   3.8438\n",
      "-----------------------------------------------------------------------------------------\n",
      "Epoch #145\n"
     ]
    },
    {
     "data": {
      "application/vnd.jupyter.widget-view+json": {
       "model_id": "17624cb6688249c5848faa0367775856",
       "version_major": 2,
       "version_minor": 0
      },
      "text/plain": [
       "  0%|          | 0/158 [00:00<?, ?it/s]"
      ]
     },
     "metadata": {},
     "output_type": "display_data"
    },
    {
     "name": "stdout",
     "output_type": "stream",
     "text": [
      "| epoch 145 |    31/  158 batches | lr 0.00000 | ms/batch 30.64094 | loss 3.91021\n",
      "| epoch 145 |    62/  158 batches | lr 0.00000 | ms/batch 29.76118 | loss 3.84452\n",
      "| epoch 145 |    93/  158 batches | lr 0.00000 | ms/batch 30.02327 | loss 3.64278\n",
      "| epoch 145 |   124/  158 batches | lr 0.00000 | ms/batch 28.53774 | loss 3.88892\n",
      "| epoch 145 |   155/  158 batches | lr 0.00000 | ms/batch 32.31074 | loss 3.75246\n",
      "-----------------------------------------------------------------------------------------\n",
      "| end of epoch 145 | time:  5.05s | valid loss 7.7951 | mean loss   3.8434\n",
      "-----------------------------------------------------------------------------------------\n",
      "Epoch #146\n"
     ]
    },
    {
     "data": {
      "application/vnd.jupyter.widget-view+json": {
       "model_id": "414b6b7e98394f8b95c092b35be524f2",
       "version_major": 2,
       "version_minor": 0
      },
      "text/plain": [
       "  0%|          | 0/158 [00:00<?, ?it/s]"
      ]
     },
     "metadata": {},
     "output_type": "display_data"
    },
    {
     "name": "stdout",
     "output_type": "stream",
     "text": [
      "| epoch 146 |    31/  158 batches | lr 0.00000 | ms/batch 30.25027 | loss 3.92141\n",
      "| epoch 146 |    62/  158 batches | lr 0.00000 | ms/batch 29.65246 | loss 3.84866\n",
      "| epoch 146 |    93/  158 batches | lr 0.00000 | ms/batch 29.70635 | loss 3.72031\n",
      "| epoch 146 |   124/  158 batches | lr 0.00000 | ms/batch 29.60351 | loss 3.73776\n",
      "| epoch 146 |   155/  158 batches | lr 0.00000 | ms/batch 29.57712 | loss 3.81323\n",
      "-----------------------------------------------------------------------------------------\n",
      "| end of epoch 146 | time:  4.97s | valid loss 7.7950 | mean loss   3.8430\n",
      "-----------------------------------------------------------------------------------------\n",
      "Epoch #147\n"
     ]
    },
    {
     "data": {
      "application/vnd.jupyter.widget-view+json": {
       "model_id": "ea5004a7785b475a9df0a4010a0c5e51",
       "version_major": 2,
       "version_minor": 0
      },
      "text/plain": [
       "  0%|          | 0/158 [00:00<?, ?it/s]"
      ]
     },
     "metadata": {},
     "output_type": "display_data"
    },
    {
     "name": "stdout",
     "output_type": "stream",
     "text": [
      "| epoch 147 |    31/  158 batches | lr 0.00000 | ms/batch 30.81780 | loss 3.91713\n",
      "| epoch 147 |    62/  158 batches | lr 0.00000 | ms/batch 29.35889 | loss 3.65554\n",
      "| epoch 147 |    93/  158 batches | lr 0.00000 | ms/batch 30.26878 | loss 3.81619\n",
      "| epoch 147 |   124/  158 batches | lr 0.00000 | ms/batch 29.23157 | loss 3.83730\n",
      "| epoch 147 |   155/  158 batches | lr 0.00000 | ms/batch 29.77764 | loss 3.78404\n",
      "-----------------------------------------------------------------------------------------\n",
      "| end of epoch 147 | time:  4.97s | valid loss 7.7950 | mean loss   3.8426\n",
      "-----------------------------------------------------------------------------------------\n",
      "Epoch #148\n"
     ]
    },
    {
     "data": {
      "application/vnd.jupyter.widget-view+json": {
       "model_id": "b2f0b76c86e14090b9a21f492d401797",
       "version_major": 2,
       "version_minor": 0
      },
      "text/plain": [
       "  0%|          | 0/158 [00:00<?, ?it/s]"
      ]
     },
     "metadata": {},
     "output_type": "display_data"
    },
    {
     "name": "stdout",
     "output_type": "stream",
     "text": [
      "| epoch 148 |    31/  158 batches | lr 0.00000 | ms/batch 30.51336 | loss 3.90984\n",
      "| epoch 148 |    62/  158 batches | lr 0.00000 | ms/batch 29.19196 | loss 3.60757\n",
      "| epoch 148 |    93/  158 batches | lr 0.00000 | ms/batch 29.21230 | loss 3.86527\n",
      "| epoch 148 |   124/  158 batches | lr 0.00000 | ms/batch 29.41778 | loss 3.85825\n",
      "| epoch 148 |   155/  158 batches | lr 0.00000 | ms/batch 29.31547 | loss 3.78398\n",
      "-----------------------------------------------------------------------------------------\n",
      "| end of epoch 148 | time:  4.93s | valid loss 7.7950 | mean loss   3.8422\n",
      "-----------------------------------------------------------------------------------------\n",
      "Epoch #149\n"
     ]
    },
    {
     "data": {
      "application/vnd.jupyter.widget-view+json": {
       "model_id": "e419c4a03a09441f9b57e789192c60e9",
       "version_major": 2,
       "version_minor": 0
      },
      "text/plain": [
       "  0%|          | 0/158 [00:00<?, ?it/s]"
      ]
     },
     "metadata": {},
     "output_type": "display_data"
    },
    {
     "name": "stdout",
     "output_type": "stream",
     "text": [
      "| epoch 149 |    31/  158 batches | lr 0.00000 | ms/batch 30.67427 | loss 3.89396\n",
      "| epoch 149 |    62/  158 batches | lr 0.00000 | ms/batch 30.09275 | loss 3.78983\n",
      "| epoch 149 |    93/  158 batches | lr 0.00000 | ms/batch 29.98094 | loss 3.75841\n",
      "| epoch 149 |   124/  158 batches | lr 0.00000 | ms/batch 29.42161 | loss 3.80526\n",
      "| epoch 149 |   155/  158 batches | lr 0.00000 | ms/batch 29.60122 | loss 3.77908\n",
      "-----------------------------------------------------------------------------------------\n",
      "| end of epoch 149 | time:  5.00s | valid loss 7.7951 | mean loss   3.8418\n",
      "-----------------------------------------------------------------------------------------\n",
      "Epoch #150\n"
     ]
    },
    {
     "data": {
      "application/vnd.jupyter.widget-view+json": {
       "model_id": "20aa534dc88247c6802c23863665bf9a",
       "version_major": 2,
       "version_minor": 0
      },
      "text/plain": [
       "  0%|          | 0/158 [00:00<?, ?it/s]"
      ]
     },
     "metadata": {},
     "output_type": "display_data"
    },
    {
     "name": "stdout",
     "output_type": "stream",
     "text": [
      "| epoch 150 |    31/  158 batches | lr 0.00000 | ms/batch 30.80710 | loss 3.90789\n",
      "| epoch 150 |    62/  158 batches | lr 0.00000 | ms/batch 29.48635 | loss 3.97229\n",
      "| epoch 150 |    93/  158 batches | lr 0.00000 | ms/batch 29.83003 | loss 3.76761\n",
      "| epoch 150 |   124/  158 batches | lr 0.00000 | ms/batch 30.05765 | loss 3.78458\n",
      "| epoch 150 |   155/  158 batches | lr 0.00000 | ms/batch 28.55075 | loss 3.59718\n",
      "-----------------------------------------------------------------------------------------\n",
      "| end of epoch 150 | time:  4.97s | valid loss 7.7950 | mean loss   3.8414\n",
      "-----------------------------------------------------------------------------------------\n",
      "Epoch #151\n"
     ]
    },
    {
     "data": {
      "application/vnd.jupyter.widget-view+json": {
       "model_id": "f08e7e3e7bff44a3a05aa38127a0dfee",
       "version_major": 2,
       "version_minor": 0
      },
      "text/plain": [
       "  0%|          | 0/158 [00:00<?, ?it/s]"
      ]
     },
     "metadata": {},
     "output_type": "display_data"
    },
    {
     "name": "stdout",
     "output_type": "stream",
     "text": [
      "| epoch 151 |    31/  158 batches | lr 0.00000 | ms/batch 31.13871 | loss 3.92039\n",
      "| epoch 151 |    62/  158 batches | lr 0.00000 | ms/batch 29.10148 | loss 3.86501\n",
      "| epoch 151 |    93/  158 batches | lr 0.00000 | ms/batch 28.91330 | loss 3.82794\n",
      "| epoch 151 |   124/  158 batches | lr 0.00000 | ms/batch 29.08749 | loss 3.69334\n",
      "| epoch 151 |   155/  158 batches | lr 0.00000 | ms/batch 32.52948 | loss 3.71157\n",
      "-----------------------------------------------------------------------------------------\n",
      "| end of epoch 151 | time:  5.02s | valid loss 7.7950 | mean loss   3.8410\n",
      "-----------------------------------------------------------------------------------------\n",
      "Epoch #152\n"
     ]
    },
    {
     "data": {
      "application/vnd.jupyter.widget-view+json": {
       "model_id": "b68f7c5f1b664da0a6f66af53c502f4b",
       "version_major": 2,
       "version_minor": 0
      },
      "text/plain": [
       "  0%|          | 0/158 [00:00<?, ?it/s]"
      ]
     },
     "metadata": {},
     "output_type": "display_data"
    },
    {
     "name": "stdout",
     "output_type": "stream",
     "text": [
      "| epoch 152 |    31/  158 batches | lr 0.00000 | ms/batch 31.19519 | loss 3.76070\n",
      "| epoch 152 |    62/  158 batches | lr 0.00000 | ms/batch 30.21135 | loss 3.74324\n",
      "| epoch 152 |    93/  158 batches | lr 0.00000 | ms/batch 29.57780 | loss 3.76362\n",
      "| epoch 152 |   124/  158 batches | lr 0.00000 | ms/batch 29.87027 | loss 3.83899\n",
      "| epoch 152 |   155/  158 batches | lr 0.00000 | ms/batch 29.28192 | loss 3.97012\n",
      "-----------------------------------------------------------------------------------------\n",
      "| end of epoch 152 | time:  5.02s | valid loss 7.7950 | mean loss   3.8406\n",
      "-----------------------------------------------------------------------------------------\n",
      "Epoch #153\n"
     ]
    },
    {
     "data": {
      "application/vnd.jupyter.widget-view+json": {
       "model_id": "0b540a9974644cb684daa8d826d8e5cc",
       "version_major": 2,
       "version_minor": 0
      },
      "text/plain": [
       "  0%|          | 0/158 [00:00<?, ?it/s]"
      ]
     },
     "metadata": {},
     "output_type": "display_data"
    },
    {
     "name": "stdout",
     "output_type": "stream",
     "text": [
      "| epoch 153 |    31/  158 batches | lr 0.00000 | ms/batch 30.45433 | loss 4.01626\n",
      "| epoch 153 |    62/  158 batches | lr 0.00000 | ms/batch 29.40196 | loss 3.73112\n",
      "| epoch 153 |    93/  158 batches | lr 0.00000 | ms/batch 30.33242 | loss 3.78356\n",
      "| epoch 153 |   124/  158 batches | lr 0.00000 | ms/batch 29.58531 | loss 3.76260\n",
      "| epoch 153 |   155/  158 batches | lr 0.00000 | ms/batch 29.78132 | loss 3.76632\n",
      "-----------------------------------------------------------------------------------------\n",
      "| end of epoch 153 | time:  4.99s | valid loss 7.7950 | mean loss   3.8403\n",
      "-----------------------------------------------------------------------------------------\n",
      "Epoch #154\n"
     ]
    },
    {
     "data": {
      "application/vnd.jupyter.widget-view+json": {
       "model_id": "cd1c906279c24c05b02ec2d7af75d5fb",
       "version_major": 2,
       "version_minor": 0
      },
      "text/plain": [
       "  0%|          | 0/158 [00:00<?, ?it/s]"
      ]
     },
     "metadata": {},
     "output_type": "display_data"
    },
    {
     "name": "stdout",
     "output_type": "stream",
     "text": [
      "| epoch 154 |    31/  158 batches | lr 0.00000 | ms/batch 30.63347 | loss 3.91156\n",
      "| epoch 154 |    62/  158 batches | lr 0.00000 | ms/batch 29.57544 | loss 3.81217\n",
      "| epoch 154 |    93/  158 batches | lr 0.00000 | ms/batch 29.21618 | loss 3.76441\n",
      "| epoch 154 |   124/  158 batches | lr 0.00000 | ms/batch 29.57962 | loss 3.70752\n",
      "| epoch 154 |   155/  158 batches | lr 0.00000 | ms/batch 29.13100 | loss 3.85304\n",
      "-----------------------------------------------------------------------------------------\n",
      "| end of epoch 154 | time:  4.95s | valid loss 7.7951 | mean loss   3.8399\n",
      "-----------------------------------------------------------------------------------------\n",
      "Epoch #155\n"
     ]
    },
    {
     "data": {
      "application/vnd.jupyter.widget-view+json": {
       "model_id": "02ea27312a01436eae1f9eb1b5f8d25e",
       "version_major": 2,
       "version_minor": 0
      },
      "text/plain": [
       "  0%|          | 0/158 [00:00<?, ?it/s]"
      ]
     },
     "metadata": {},
     "output_type": "display_data"
    },
    {
     "name": "stdout",
     "output_type": "stream",
     "text": [
      "| epoch 155 |    31/  158 batches | lr 0.00000 | ms/batch 30.37689 | loss 4.01068\n",
      "| epoch 155 |    62/  158 batches | lr 0.00000 | ms/batch 28.90781 | loss 3.61604\n",
      "| epoch 155 |    93/  158 batches | lr 0.00000 | ms/batch 29.35395 | loss 3.87962\n",
      "| epoch 155 |   124/  158 batches | lr 0.00000 | ms/batch 29.31249 | loss 3.73670\n",
      "| epoch 155 |   155/  158 batches | lr 0.00000 | ms/batch 29.69952 | loss 3.76166\n",
      "-----------------------------------------------------------------------------------------\n",
      "| end of epoch 155 | time:  4.92s | valid loss 7.7950 | mean loss   3.8395\n",
      "-----------------------------------------------------------------------------------------\n",
      "Epoch #156\n"
     ]
    },
    {
     "data": {
      "application/vnd.jupyter.widget-view+json": {
       "model_id": "dcfa35d2851449b7910db570b868e841",
       "version_major": 2,
       "version_minor": 0
      },
      "text/plain": [
       "  0%|          | 0/158 [00:00<?, ?it/s]"
      ]
     },
     "metadata": {},
     "output_type": "display_data"
    },
    {
     "name": "stdout",
     "output_type": "stream",
     "text": [
      "| epoch 156 |    31/  158 batches | lr 0.00000 | ms/batch 29.99963 | loss 3.92877\n",
      "| epoch 156 |    62/  158 batches | lr 0.00000 | ms/batch 29.82606 | loss 3.78368\n",
      "| epoch 156 |    93/  158 batches | lr 0.00000 | ms/batch 29.61224 | loss 3.78692\n",
      "| epoch 156 |   124/  158 batches | lr 0.00000 | ms/batch 29.52645 | loss 3.82391\n",
      "| epoch 156 |   155/  158 batches | lr 0.00000 | ms/batch 29.66768 | loss 3.69586\n",
      "-----------------------------------------------------------------------------------------\n",
      "| end of epoch 156 | time:  4.96s | valid loss 7.7950 | mean loss   3.8392\n",
      "-----------------------------------------------------------------------------------------\n",
      "Epoch #157\n"
     ]
    },
    {
     "data": {
      "application/vnd.jupyter.widget-view+json": {
       "model_id": "35a653cef106413f8b5986b21663be8e",
       "version_major": 2,
       "version_minor": 0
      },
      "text/plain": [
       "  0%|          | 0/158 [00:00<?, ?it/s]"
      ]
     },
     "metadata": {},
     "output_type": "display_data"
    },
    {
     "name": "stdout",
     "output_type": "stream",
     "text": [
      "| epoch 157 |    31/  158 batches | lr 0.00000 | ms/batch 30.95558 | loss 3.85175\n",
      "| epoch 157 |    62/  158 batches | lr 0.00000 | ms/batch 29.26830 | loss 3.72321\n",
      "| epoch 157 |    93/  158 batches | lr 0.00000 | ms/batch 29.65284 | loss 3.75333\n",
      "| epoch 157 |   124/  158 batches | lr 0.00000 | ms/batch 29.06306 | loss 3.94713\n",
      "| epoch 157 |   155/  158 batches | lr 0.00000 | ms/batch 32.44961 | loss 3.78144\n",
      "-----------------------------------------------------------------------------------------\n",
      "| end of epoch 157 | time:  5.05s | valid loss 7.7950 | mean loss   3.8388\n",
      "-----------------------------------------------------------------------------------------\n",
      "Epoch #158\n"
     ]
    },
    {
     "data": {
      "application/vnd.jupyter.widget-view+json": {
       "model_id": "fc498baa366242b28d32acb4faf058f0",
       "version_major": 2,
       "version_minor": 0
      },
      "text/plain": [
       "  0%|          | 0/158 [00:00<?, ?it/s]"
      ]
     },
     "metadata": {},
     "output_type": "display_data"
    },
    {
     "name": "stdout",
     "output_type": "stream",
     "text": [
      "| epoch 158 |    31/  158 batches | lr 0.00000 | ms/batch 29.91826 | loss 3.97978\n",
      "| epoch 158 |    62/  158 batches | lr 0.00000 | ms/batch 28.97620 | loss 3.76556\n",
      "| epoch 158 |    93/  158 batches | lr 0.00000 | ms/batch 29.57757 | loss 3.75548\n",
      "| epoch 158 |   124/  158 batches | lr 0.00000 | ms/batch 29.80932 | loss 3.79275\n",
      "| epoch 158 |   155/  158 batches | lr 0.00000 | ms/batch 29.65059 | loss 3.78693\n",
      "-----------------------------------------------------------------------------------------\n",
      "| end of epoch 158 | time:  4.93s | valid loss 7.7950 | mean loss   3.8385\n",
      "-----------------------------------------------------------------------------------------\n",
      "Epoch #159\n"
     ]
    },
    {
     "data": {
      "application/vnd.jupyter.widget-view+json": {
       "model_id": "7e3ad74455994cdf98791454622b2758",
       "version_major": 2,
       "version_minor": 0
      },
      "text/plain": [
       "  0%|          | 0/158 [00:00<?, ?it/s]"
      ]
     },
     "metadata": {},
     "output_type": "display_data"
    },
    {
     "name": "stdout",
     "output_type": "stream",
     "text": [
      "| epoch 159 |    31/  158 batches | lr 0.00000 | ms/batch 31.45975 | loss 3.99840\n",
      "| epoch 159 |    62/  158 batches | lr 0.00000 | ms/batch 38.61533 | loss 3.66451\n",
      "| epoch 159 |    93/  158 batches | lr 0.00000 | ms/batch 30.21331 | loss 3.86129\n",
      "| epoch 159 |   124/  158 batches | lr 0.00000 | ms/batch 29.71203 | loss 3.74391\n",
      "| epoch 159 |   155/  158 batches | lr 0.00000 | ms/batch 30.01605 | loss 3.74915\n",
      "-----------------------------------------------------------------------------------------\n",
      "| end of epoch 159 | time:  5.29s | valid loss 7.7950 | mean loss   3.8381\n",
      "-----------------------------------------------------------------------------------------\n",
      "Epoch #160\n"
     ]
    },
    {
     "data": {
      "application/vnd.jupyter.widget-view+json": {
       "model_id": "729bdcc1cd1a49d4916f3fe72329076a",
       "version_major": 2,
       "version_minor": 0
      },
      "text/plain": [
       "  0%|          | 0/158 [00:00<?, ?it/s]"
      ]
     },
     "metadata": {},
     "output_type": "display_data"
    },
    {
     "name": "stdout",
     "output_type": "stream",
     "text": [
      "| epoch 160 |    31/  158 batches | lr 0.00000 | ms/batch 30.78721 | loss 3.85316\n",
      "| epoch 160 |    62/  158 batches | lr 0.00000 | ms/batch 28.95647 | loss 3.86394\n",
      "| epoch 160 |    93/  158 batches | lr 0.00000 | ms/batch 29.59580 | loss 3.73796\n",
      "| epoch 160 |   124/  158 batches | lr 0.00000 | ms/batch 29.98398 | loss 3.87934\n",
      "| epoch 160 |   155/  158 batches | lr 0.00000 | ms/batch 28.95617 | loss 3.69907\n",
      "-----------------------------------------------------------------------------------------\n",
      "| end of epoch 160 | time:  4.96s | valid loss 7.7950 | mean loss   3.8378\n",
      "-----------------------------------------------------------------------------------------\n",
      "Epoch #161\n"
     ]
    },
    {
     "data": {
      "application/vnd.jupyter.widget-view+json": {
       "model_id": "3787af2b56144190bf704b500377892b",
       "version_major": 2,
       "version_minor": 0
      },
      "text/plain": [
       "  0%|          | 0/158 [00:00<?, ?it/s]"
      ]
     },
     "metadata": {},
     "output_type": "display_data"
    },
    {
     "name": "stdout",
     "output_type": "stream",
     "text": [
      "| epoch 161 |    31/  158 batches | lr 0.00000 | ms/batch 30.72818 | loss 3.94364\n",
      "| epoch 161 |    62/  158 batches | lr 0.00000 | ms/batch 29.64911 | loss 3.74904\n",
      "| epoch 161 |    93/  158 batches | lr 0.00000 | ms/batch 30.40443 | loss 3.87110\n",
      "| epoch 161 |   124/  158 batches | lr 0.00000 | ms/batch 29.65246 | loss 3.72783\n",
      "| epoch 161 |   155/  158 batches | lr 0.00000 | ms/batch 29.90067 | loss 3.79457\n",
      "-----------------------------------------------------------------------------------------\n",
      "| end of epoch 161 | time:  5.01s | valid loss 7.7950 | mean loss   3.8375\n",
      "-----------------------------------------------------------------------------------------\n",
      "Epoch #162\n"
     ]
    },
    {
     "data": {
      "application/vnd.jupyter.widget-view+json": {
       "model_id": "4371bed896b9476a9d25ca65267b4554",
       "version_major": 2,
       "version_minor": 0
      },
      "text/plain": [
       "  0%|          | 0/158 [00:00<?, ?it/s]"
      ]
     },
     "metadata": {},
     "output_type": "display_data"
    },
    {
     "name": "stdout",
     "output_type": "stream",
     "text": [
      "| epoch 162 |    31/  158 batches | lr 0.00000 | ms/batch 31.34677 | loss 3.95850\n",
      "| epoch 162 |    62/  158 batches | lr 0.00000 | ms/batch 29.24070 | loss 3.74085\n",
      "| epoch 162 |    93/  158 batches | lr 0.00000 | ms/batch 29.42357 | loss 3.65930\n",
      "| epoch 162 |   124/  158 batches | lr 0.00000 | ms/batch 29.75938 | loss 3.98573\n",
      "| epoch 162 |   155/  158 batches | lr 0.00000 | ms/batch 29.79397 | loss 3.73738\n",
      "-----------------------------------------------------------------------------------------\n",
      "| end of epoch 162 | time:  5.00s | valid loss 7.7950 | mean loss   3.8371\n",
      "-----------------------------------------------------------------------------------------\n",
      "Epoch #163\n"
     ]
    },
    {
     "data": {
      "application/vnd.jupyter.widget-view+json": {
       "model_id": "0fd69265bb2f4337869182e6607ff1cf",
       "version_major": 2,
       "version_minor": 0
      },
      "text/plain": [
       "  0%|          | 0/158 [00:00<?, ?it/s]"
      ]
     },
     "metadata": {},
     "output_type": "display_data"
    },
    {
     "name": "stdout",
     "output_type": "stream",
     "text": [
      "| epoch 163 |    31/  158 batches | lr 0.00000 | ms/batch 30.16447 | loss 3.91395\n",
      "| epoch 163 |    62/  158 batches | lr 0.00000 | ms/batch 29.06846 | loss 3.78162\n",
      "| epoch 163 |    93/  158 batches | lr 0.00000 | ms/batch 29.80078 | loss 3.83345\n",
      "| epoch 163 |   124/  158 batches | lr 0.00000 | ms/batch 29.27326 | loss 3.71421\n",
      "| epoch 163 |   155/  158 batches | lr 0.00000 | ms/batch 32.95891 | loss 3.80349\n",
      "-----------------------------------------------------------------------------------------\n",
      "| end of epoch 163 | time:  5.05s | valid loss 7.7950 | mean loss   3.8368\n",
      "-----------------------------------------------------------------------------------------\n",
      "Epoch #164\n"
     ]
    },
    {
     "data": {
      "application/vnd.jupyter.widget-view+json": {
       "model_id": "4321677c5b6a4a14a4b4a06eabe16f6f",
       "version_major": 2,
       "version_minor": 0
      },
      "text/plain": [
       "  0%|          | 0/158 [00:00<?, ?it/s]"
      ]
     },
     "metadata": {},
     "output_type": "display_data"
    },
    {
     "name": "stdout",
     "output_type": "stream",
     "text": [
      "| epoch 164 |    31/  158 batches | lr 0.00000 | ms/batch 31.37017 | loss 3.94408\n",
      "| epoch 164 |    62/  158 batches | lr 0.00000 | ms/batch 29.20425 | loss 3.56774\n",
      "| epoch 164 |    93/  158 batches | lr 0.00000 | ms/batch 29.84169 | loss 4.02781\n",
      "| epoch 164 |   124/  158 batches | lr 0.00000 | ms/batch 29.72731 | loss 3.80273\n",
      "| epoch 164 |   155/  158 batches | lr 0.00000 | ms/batch 29.25234 | loss 3.69733\n",
      "-----------------------------------------------------------------------------------------\n",
      "| end of epoch 164 | time:  4.99s | valid loss 7.7950 | mean loss   3.8365\n",
      "-----------------------------------------------------------------------------------------\n",
      "Epoch #165\n"
     ]
    },
    {
     "data": {
      "application/vnd.jupyter.widget-view+json": {
       "model_id": "36333c909abc4fc1896cfb59307544ba",
       "version_major": 2,
       "version_minor": 0
      },
      "text/plain": [
       "  0%|          | 0/158 [00:00<?, ?it/s]"
      ]
     },
     "metadata": {},
     "output_type": "display_data"
    },
    {
     "name": "stdout",
     "output_type": "stream",
     "text": [
      "| epoch 165 |    31/  158 batches | lr 0.00000 | ms/batch 29.89782 | loss 3.82240\n",
      "| epoch 165 |    62/  158 batches | lr 0.00000 | ms/batch 29.60669 | loss 3.78505\n",
      "| epoch 165 |    93/  158 batches | lr 0.00000 | ms/batch 29.95791 | loss 3.89456\n",
      "| epoch 165 |   124/  158 batches | lr 0.00000 | ms/batch 29.63134 | loss 3.69029\n",
      "| epoch 165 |   155/  158 batches | lr 0.00000 | ms/batch 30.07836 | loss 3.85400\n",
      "-----------------------------------------------------------------------------------------\n",
      "| end of epoch 165 | time:  4.99s | valid loss 7.7949 | mean loss   3.8362\n",
      "-----------------------------------------------------------------------------------------\n",
      "Epoch #166\n"
     ]
    },
    {
     "data": {
      "application/vnd.jupyter.widget-view+json": {
       "model_id": "8d4128eee5b14e2c9a482684577fd107",
       "version_major": 2,
       "version_minor": 0
      },
      "text/plain": [
       "  0%|          | 0/158 [00:00<?, ?it/s]"
      ]
     },
     "metadata": {},
     "output_type": "display_data"
    },
    {
     "name": "stdout",
     "output_type": "stream",
     "text": [
      "| epoch 166 |    31/  158 batches | lr 0.00000 | ms/batch 30.79797 | loss 3.83870\n",
      "| epoch 166 |    62/  158 batches | lr 0.00000 | ms/batch 29.60870 | loss 3.66128\n",
      "| epoch 166 |    93/  158 batches | lr 0.00000 | ms/batch 30.18801 | loss 3.85556\n",
      "| epoch 166 |   124/  158 batches | lr 0.00000 | ms/batch 29.10335 | loss 3.81985\n",
      "| epoch 166 |   155/  158 batches | lr 0.00000 | ms/batch 29.21611 | loss 3.84958\n",
      "-----------------------------------------------------------------------------------------\n",
      "| end of epoch 166 | time:  4.98s | valid loss 7.7949 | mean loss   3.8359\n",
      "-----------------------------------------------------------------------------------------\n",
      "Epoch #167\n"
     ]
    },
    {
     "data": {
      "application/vnd.jupyter.widget-view+json": {
       "model_id": "66d22e5a24794909b5a35d947ce05450",
       "version_major": 2,
       "version_minor": 0
      },
      "text/plain": [
       "  0%|          | 0/158 [00:00<?, ?it/s]"
      ]
     },
     "metadata": {},
     "output_type": "display_data"
    },
    {
     "name": "stdout",
     "output_type": "stream",
     "text": [
      "| epoch 167 |    31/  158 batches | lr 0.00000 | ms/batch 30.49844 | loss 4.05149\n",
      "| epoch 167 |    62/  158 batches | lr 0.00000 | ms/batch 29.56467 | loss 3.52339\n",
      "| epoch 167 |    93/  158 batches | lr 0.00000 | ms/batch 30.11197 | loss 3.75926\n",
      "| epoch 167 |   124/  158 batches | lr 0.00000 | ms/batch 29.78042 | loss 3.88135\n",
      "| epoch 167 |   155/  158 batches | lr 0.00000 | ms/batch 29.43776 | loss 3.84077\n",
      "-----------------------------------------------------------------------------------------\n",
      "| end of epoch 167 | time:  4.99s | valid loss 7.7950 | mean loss   3.8356\n",
      "-----------------------------------------------------------------------------------------\n",
      "Epoch #168\n"
     ]
    },
    {
     "data": {
      "application/vnd.jupyter.widget-view+json": {
       "model_id": "a578363d95ec4fa6a892ff476d09787c",
       "version_major": 2,
       "version_minor": 0
      },
      "text/plain": [
       "  0%|          | 0/158 [00:00<?, ?it/s]"
      ]
     },
     "metadata": {},
     "output_type": "display_data"
    },
    {
     "name": "stdout",
     "output_type": "stream",
     "text": [
      "| epoch 168 |    31/  158 batches | lr 0.00000 | ms/batch 30.72046 | loss 4.02083\n",
      "| epoch 168 |    62/  158 batches | lr 0.00000 | ms/batch 32.09273 | loss 3.62636\n",
      "| epoch 168 |    93/  158 batches | lr 0.00000 | ms/batch 35.31631 | loss 3.73077\n",
      "| epoch 168 |   124/  158 batches | lr 0.00000 | ms/batch 29.49371 | loss 3.77837\n",
      "| epoch 168 |   155/  158 batches | lr 0.00000 | ms/batch 29.52732 | loss 3.85720\n",
      "-----------------------------------------------------------------------------------------\n",
      "| end of epoch 168 | time:  5.23s | valid loss 7.7950 | mean loss   3.8352\n",
      "-----------------------------------------------------------------------------------------\n",
      "Epoch #169\n"
     ]
    },
    {
     "data": {
      "application/vnd.jupyter.widget-view+json": {
       "model_id": "69ce7210fe5e4179ba473accd5a82d76",
       "version_major": 2,
       "version_minor": 0
      },
      "text/plain": [
       "  0%|          | 0/158 [00:00<?, ?it/s]"
      ]
     },
     "metadata": {},
     "output_type": "display_data"
    },
    {
     "name": "stdout",
     "output_type": "stream",
     "text": [
      "| epoch 169 |    31/  158 batches | lr 0.00000 | ms/batch 30.06339 | loss 3.82739\n",
      "| epoch 169 |    62/  158 batches | lr 0.00000 | ms/batch 29.97385 | loss 3.82695\n",
      "| epoch 169 |    93/  158 batches | lr 0.00000 | ms/batch 29.44000 | loss 3.88183\n",
      "| epoch 169 |   124/  158 batches | lr 0.00000 | ms/batch 30.78657 | loss 3.72088\n",
      "| epoch 169 |   155/  158 batches | lr 0.00000 | ms/batch 31.27621 | loss 3.78731\n",
      "-----------------------------------------------------------------------------------------\n",
      "| end of epoch 169 | time:  5.06s | valid loss 7.7949 | mean loss   3.8349\n",
      "-----------------------------------------------------------------------------------------\n",
      "Epoch #170\n"
     ]
    },
    {
     "data": {
      "application/vnd.jupyter.widget-view+json": {
       "model_id": "4b092e895f04437cb330bd203cc84f42",
       "version_major": 2,
       "version_minor": 0
      },
      "text/plain": [
       "  0%|          | 0/158 [00:00<?, ?it/s]"
      ]
     },
     "metadata": {},
     "output_type": "display_data"
    },
    {
     "name": "stdout",
     "output_type": "stream",
     "text": [
      "| epoch 170 |    31/  158 batches | lr 0.00000 | ms/batch 30.65832 | loss 3.82591\n",
      "| epoch 170 |    62/  158 batches | lr 0.00000 | ms/batch 29.10266 | loss 3.67322\n",
      "| epoch 170 |    93/  158 batches | lr 0.00000 | ms/batch 29.45640 | loss 3.77180\n",
      "| epoch 170 |   124/  158 batches | lr 0.00000 | ms/batch 29.52539 | loss 3.88044\n",
      "| epoch 170 |   155/  158 batches | lr 0.00000 | ms/batch 29.78886 | loss 3.91103\n",
      "-----------------------------------------------------------------------------------------\n",
      "| end of epoch 170 | time:  4.96s | valid loss 7.7949 | mean loss   3.8346\n",
      "-----------------------------------------------------------------------------------------\n",
      "Epoch #171\n"
     ]
    },
    {
     "data": {
      "application/vnd.jupyter.widget-view+json": {
       "model_id": "7ae57b16af9848a7b45493fd36ff058d",
       "version_major": 2,
       "version_minor": 0
      },
      "text/plain": [
       "  0%|          | 0/158 [00:00<?, ?it/s]"
      ]
     },
     "metadata": {},
     "output_type": "display_data"
    },
    {
     "name": "stdout",
     "output_type": "stream",
     "text": [
      "| epoch 171 |    31/  158 batches | lr 0.00000 | ms/batch 29.87295 | loss 3.79066\n",
      "| epoch 171 |    62/  158 batches | lr 0.00000 | ms/batch 29.36892 | loss 4.01018\n",
      "| epoch 171 |    93/  158 batches | lr 0.00000 | ms/batch 29.17961 | loss 3.74757\n",
      "| epoch 171 |   124/  158 batches | lr 0.00000 | ms/batch 29.65020 | loss 3.69496\n",
      "| epoch 171 |   155/  158 batches | lr 0.00000 | ms/batch 29.44017 | loss 3.77815\n",
      "-----------------------------------------------------------------------------------------\n",
      "| end of epoch 171 | time:  4.91s | valid loss 7.7949 | mean loss   3.8344\n",
      "-----------------------------------------------------------------------------------------\n",
      "Epoch #172\n"
     ]
    },
    {
     "data": {
      "application/vnd.jupyter.widget-view+json": {
       "model_id": "d4b4fe1e7535457496637168efd743ea",
       "version_major": 2,
       "version_minor": 0
      },
      "text/plain": [
       "  0%|          | 0/158 [00:00<?, ?it/s]"
      ]
     },
     "metadata": {},
     "output_type": "display_data"
    },
    {
     "name": "stdout",
     "output_type": "stream",
     "text": [
      "| epoch 172 |    31/  158 batches | lr 0.00000 | ms/batch 30.21422 | loss 3.85140\n",
      "| epoch 172 |    62/  158 batches | lr 0.00000 | ms/batch 29.21849 | loss 3.84862\n",
      "| epoch 172 |    93/  158 batches | lr 0.00000 | ms/batch 29.27411 | loss 3.73109\n",
      "| epoch 172 |   124/  158 batches | lr 0.00000 | ms/batch 28.75703 | loss 3.76008\n",
      "| epoch 172 |   155/  158 batches | lr 0.00000 | ms/batch 29.85069 | loss 3.82583\n",
      "-----------------------------------------------------------------------------------------\n",
      "| end of epoch 172 | time:  4.92s | valid loss 7.7949 | mean loss   3.8341\n",
      "-----------------------------------------------------------------------------------------\n",
      "Epoch #173\n"
     ]
    },
    {
     "data": {
      "application/vnd.jupyter.widget-view+json": {
       "model_id": "06afebb6173847d4abd4574dc9976ffc",
       "version_major": 2,
       "version_minor": 0
      },
      "text/plain": [
       "  0%|          | 0/158 [00:00<?, ?it/s]"
      ]
     },
     "metadata": {},
     "output_type": "display_data"
    },
    {
     "name": "stdout",
     "output_type": "stream",
     "text": [
      "| epoch 173 |    31/  158 batches | lr 0.00000 | ms/batch 30.34839 | loss 3.81924\n",
      "| epoch 173 |    62/  158 batches | lr 0.00000 | ms/batch 29.01568 | loss 3.68185\n",
      "| epoch 173 |    93/  158 batches | lr 0.00000 | ms/batch 29.60447 | loss 3.94735\n",
      "| epoch 173 |   124/  158 batches | lr 0.00000 | ms/batch 29.58508 | loss 3.82774\n",
      "| epoch 173 |   155/  158 batches | lr 0.00000 | ms/batch 29.50867 | loss 3.72731\n",
      "-----------------------------------------------------------------------------------------\n",
      "| end of epoch 173 | time:  4.94s | valid loss 7.7949 | mean loss   3.8338\n",
      "-----------------------------------------------------------------------------------------\n",
      "Epoch #174\n"
     ]
    },
    {
     "data": {
      "application/vnd.jupyter.widget-view+json": {
       "model_id": "359fc8986efb4ab5b58e7a3ce20dd1f5",
       "version_major": 2,
       "version_minor": 0
      },
      "text/plain": [
       "  0%|          | 0/158 [00:00<?, ?it/s]"
      ]
     },
     "metadata": {},
     "output_type": "display_data"
    },
    {
     "name": "stdout",
     "output_type": "stream",
     "text": [
      "| epoch 174 |    31/  158 batches | lr 0.00000 | ms/batch 30.93736 | loss 3.76221\n",
      "| epoch 174 |    62/  158 batches | lr 0.00000 | ms/batch 28.50193 | loss 3.77931\n",
      "| epoch 174 |    93/  158 batches | lr 0.00000 | ms/batch 29.54025 | loss 3.73203\n",
      "| epoch 174 |   124/  158 batches | lr 0.00000 | ms/batch 29.40270 | loss 3.94441\n",
      "| epoch 174 |   155/  158 batches | lr 0.00000 | ms/batch 29.50083 | loss 3.75931\n",
      "-----------------------------------------------------------------------------------------\n",
      "| end of epoch 174 | time:  4.94s | valid loss 7.7949 | mean loss   3.8335\n",
      "-----------------------------------------------------------------------------------------\n",
      "Epoch #175\n"
     ]
    },
    {
     "data": {
      "application/vnd.jupyter.widget-view+json": {
       "model_id": "10c44e9683cf48e88914f3c6436ccbe1",
       "version_major": 2,
       "version_minor": 0
      },
      "text/plain": [
       "  0%|          | 0/158 [00:00<?, ?it/s]"
      ]
     },
     "metadata": {},
     "output_type": "display_data"
    },
    {
     "name": "stdout",
     "output_type": "stream",
     "text": [
      "| epoch 175 |    31/  158 batches | lr 0.00000 | ms/batch 30.30414 | loss 3.78096\n",
      "| epoch 175 |    62/  158 batches | lr 0.00000 | ms/batch 29.26254 | loss 3.80294\n",
      "| epoch 175 |    93/  158 batches | lr 0.00000 | ms/batch 29.60598 | loss 3.70989\n",
      "| epoch 175 |   124/  158 batches | lr 0.00000 | ms/batch 29.06986 | loss 3.90558\n",
      "| epoch 175 |   155/  158 batches | lr 0.00000 | ms/batch 31.23146 | loss 3.82268\n",
      "-----------------------------------------------------------------------------------------\n",
      "| end of epoch 175 | time:  4.99s | valid loss 7.7949 | mean loss   3.8332\n",
      "-----------------------------------------------------------------------------------------\n",
      "Epoch #176\n"
     ]
    },
    {
     "data": {
      "application/vnd.jupyter.widget-view+json": {
       "model_id": "906889150dab4e638f703e37a347240c",
       "version_major": 2,
       "version_minor": 0
      },
      "text/plain": [
       "  0%|          | 0/158 [00:00<?, ?it/s]"
      ]
     },
     "metadata": {},
     "output_type": "display_data"
    },
    {
     "name": "stdout",
     "output_type": "stream",
     "text": [
      "| epoch 176 |    31/  158 batches | lr 0.00000 | ms/batch 30.30994 | loss 3.77013\n",
      "| epoch 176 |    62/  158 batches | lr 0.00000 | ms/batch 29.14939 | loss 3.65397\n",
      "| epoch 176 |    93/  158 batches | lr 0.00000 | ms/batch 29.47431 | loss 3.82164\n",
      "| epoch 176 |   124/  158 batches | lr 0.00000 | ms/batch 28.71849 | loss 3.79293\n",
      "| epoch 176 |   155/  158 batches | lr 0.00000 | ms/batch 28.87605 | loss 4.03696\n",
      "-----------------------------------------------------------------------------------------\n",
      "| end of epoch 176 | time:  4.89s | valid loss 7.7949 | mean loss   3.8329\n",
      "-----------------------------------------------------------------------------------------\n",
      "Epoch #177\n"
     ]
    },
    {
     "data": {
      "application/vnd.jupyter.widget-view+json": {
       "model_id": "ce1010068e0f43c480aea349fc430c2c",
       "version_major": 2,
       "version_minor": 0
      },
      "text/plain": [
       "  0%|          | 0/158 [00:00<?, ?it/s]"
      ]
     },
     "metadata": {},
     "output_type": "display_data"
    },
    {
     "name": "stdout",
     "output_type": "stream",
     "text": [
      "| epoch 177 |    31/  158 batches | lr 0.00000 | ms/batch 30.43622 | loss 3.81361\n",
      "| epoch 177 |    62/  158 batches | lr 0.00000 | ms/batch 29.73829 | loss 3.93015\n",
      "| epoch 177 |    93/  158 batches | lr 0.00000 | ms/batch 28.89642 | loss 3.75792\n",
      "| epoch 177 |   124/  158 batches | lr 0.00000 | ms/batch 29.99063 | loss 3.97592\n",
      "| epoch 177 |   155/  158 batches | lr 0.00000 | ms/batch 29.05247 | loss 3.61622\n",
      "-----------------------------------------------------------------------------------------\n",
      "| end of epoch 177 | time:  4.95s | valid loss 7.7949 | mean loss   3.8326\n",
      "-----------------------------------------------------------------------------------------\n",
      "Epoch #178\n"
     ]
    },
    {
     "data": {
      "application/vnd.jupyter.widget-view+json": {
       "model_id": "1b2d9a3201d74c74a585da325d369903",
       "version_major": 2,
       "version_minor": 0
      },
      "text/plain": [
       "  0%|          | 0/158 [00:00<?, ?it/s]"
      ]
     },
     "metadata": {},
     "output_type": "display_data"
    },
    {
     "name": "stdout",
     "output_type": "stream",
     "text": [
      "| epoch 178 |    31/  158 batches | lr 0.00000 | ms/batch 30.70659 | loss 3.65127\n",
      "| epoch 178 |    62/  158 batches | lr 0.00000 | ms/batch 29.68484 | loss 3.82959\n",
      "| epoch 178 |    93/  158 batches | lr 0.00000 | ms/batch 29.41538 | loss 3.93925\n",
      "| epoch 178 |   124/  158 batches | lr 0.00000 | ms/batch 29.38632 | loss 3.79947\n",
      "| epoch 178 |   155/  158 batches | lr 0.00000 | ms/batch 29.48426 | loss 3.79500\n",
      "-----------------------------------------------------------------------------------------\n",
      "| end of epoch 178 | time:  4.96s | valid loss 7.7949 | mean loss   3.8324\n",
      "-----------------------------------------------------------------------------------------\n",
      "Epoch #179\n"
     ]
    },
    {
     "data": {
      "application/vnd.jupyter.widget-view+json": {
       "model_id": "4da2a4141e024546bcc3b6d569a100e9",
       "version_major": 2,
       "version_minor": 0
      },
      "text/plain": [
       "  0%|          | 0/158 [00:00<?, ?it/s]"
      ]
     },
     "metadata": {},
     "output_type": "display_data"
    },
    {
     "name": "stdout",
     "output_type": "stream",
     "text": [
      "| epoch 179 |    31/  158 batches | lr 0.00000 | ms/batch 29.53265 | loss 3.84154\n",
      "| epoch 179 |    62/  158 batches | lr 0.00000 | ms/batch 29.27442 | loss 3.78305\n",
      "| epoch 179 |    93/  158 batches | lr 0.00000 | ms/batch 28.64706 | loss 3.78897\n",
      "| epoch 179 |   124/  158 batches | lr 0.00000 | ms/batch 29.12975 | loss 3.77712\n",
      "| epoch 179 |   155/  158 batches | lr 0.00000 | ms/batch 29.34880 | loss 3.84623\n",
      "-----------------------------------------------------------------------------------------\n",
      "| end of epoch 179 | time:  4.88s | valid loss 7.7949 | mean loss   3.8321\n",
      "-----------------------------------------------------------------------------------------\n",
      "Epoch #180\n"
     ]
    },
    {
     "data": {
      "application/vnd.jupyter.widget-view+json": {
       "model_id": "a6c6af347a2e4ca9a9e6589d181b5c0b",
       "version_major": 2,
       "version_minor": 0
      },
      "text/plain": [
       "  0%|          | 0/158 [00:00<?, ?it/s]"
      ]
     },
     "metadata": {},
     "output_type": "display_data"
    },
    {
     "name": "stdout",
     "output_type": "stream",
     "text": [
      "| epoch 180 |    31/  158 batches | lr 0.00000 | ms/batch 30.53841 | loss 4.01964\n",
      "| epoch 180 |    62/  158 batches | lr 0.00000 | ms/batch 29.14714 | loss 3.78003\n",
      "| epoch 180 |    93/  158 batches | lr 0.00000 | ms/batch 29.58155 | loss 3.60586\n",
      "| epoch 180 |   124/  158 batches | lr 0.00000 | ms/batch 29.42074 | loss 3.84564\n",
      "| epoch 180 |   155/  158 batches | lr 0.00000 | ms/batch 29.38378 | loss 3.75628\n",
      "-----------------------------------------------------------------------------------------\n",
      "| end of epoch 180 | time:  4.96s | valid loss 7.7949 | mean loss   3.8318\n",
      "-----------------------------------------------------------------------------------------\n",
      "Epoch #181\n"
     ]
    },
    {
     "data": {
      "application/vnd.jupyter.widget-view+json": {
       "model_id": "1341b3a23072419c985c11a4b4d3712a",
       "version_major": 2,
       "version_minor": 0
      },
      "text/plain": [
       "  0%|          | 0/158 [00:00<?, ?it/s]"
      ]
     },
     "metadata": {},
     "output_type": "display_data"
    },
    {
     "name": "stdout",
     "output_type": "stream",
     "text": [
      "| epoch 181 |    31/  158 batches | lr 0.00000 | ms/batch 30.74126 | loss 3.88301\n",
      "| epoch 181 |    62/  158 batches | lr 0.00000 | ms/batch 28.98250 | loss 3.79905\n",
      "| epoch 181 |    93/  158 batches | lr 0.00000 | ms/batch 29.97693 | loss 3.70789\n",
      "| epoch 181 |   124/  158 batches | lr 0.00000 | ms/batch 29.84916 | loss 3.97450\n",
      "| epoch 181 |   155/  158 batches | lr 0.00000 | ms/batch 32.69771 | loss 3.68880\n",
      "-----------------------------------------------------------------------------------------\n",
      "| end of epoch 181 | time:  5.07s | valid loss 7.7949 | mean loss   3.8316\n",
      "-----------------------------------------------------------------------------------------\n",
      "Epoch #182\n"
     ]
    },
    {
     "data": {
      "application/vnd.jupyter.widget-view+json": {
       "model_id": "0490b24a3c2340ce852426a3f6918f33",
       "version_major": 2,
       "version_minor": 0
      },
      "text/plain": [
       "  0%|          | 0/158 [00:00<?, ?it/s]"
      ]
     },
     "metadata": {},
     "output_type": "display_data"
    },
    {
     "name": "stdout",
     "output_type": "stream",
     "text": [
      "| epoch 182 |    31/  158 batches | lr 0.00000 | ms/batch 30.55342 | loss 3.91983\n",
      "| epoch 182 |    62/  158 batches | lr 0.00000 | ms/batch 29.39435 | loss 3.75986\n",
      "| epoch 182 |    93/  158 batches | lr 0.00000 | ms/batch 29.26760 | loss 3.79131\n",
      "| epoch 182 |   124/  158 batches | lr 0.00000 | ms/batch 29.87123 | loss 3.83334\n",
      "| epoch 182 |   155/  158 batches | lr 0.00000 | ms/batch 29.73676 | loss 3.74833\n",
      "-----------------------------------------------------------------------------------------\n",
      "| end of epoch 182 | time:  4.97s | valid loss 7.7949 | mean loss   3.8313\n",
      "-----------------------------------------------------------------------------------------\n",
      "Epoch #183\n"
     ]
    },
    {
     "data": {
      "application/vnd.jupyter.widget-view+json": {
       "model_id": "a6b318e915ae420eac04cd90584d95a7",
       "version_major": 2,
       "version_minor": 0
      },
      "text/plain": [
       "  0%|          | 0/158 [00:00<?, ?it/s]"
      ]
     },
     "metadata": {},
     "output_type": "display_data"
    },
    {
     "name": "stdout",
     "output_type": "stream",
     "text": [
      "| epoch 183 |    31/  158 batches | lr 0.00000 | ms/batch 30.88892 | loss 3.85444\n",
      "| epoch 183 |    62/  158 batches | lr 0.00000 | ms/batch 29.56845 | loss 3.66518\n",
      "| epoch 183 |    93/  158 batches | lr 0.00000 | ms/batch 29.38439 | loss 3.83062\n",
      "| epoch 183 |   124/  158 batches | lr 0.00000 | ms/batch 29.67305 | loss 3.76911\n",
      "| epoch 183 |   155/  158 batches | lr 0.00000 | ms/batch 30.00066 | loss 3.93628\n",
      "-----------------------------------------------------------------------------------------\n",
      "| end of epoch 183 | time:  4.99s | valid loss 7.7949 | mean loss   3.8311\n",
      "-----------------------------------------------------------------------------------------\n",
      "Epoch #184\n"
     ]
    },
    {
     "data": {
      "application/vnd.jupyter.widget-view+json": {
       "model_id": "c0debc1f73ec487d9af1b402674ffa86",
       "version_major": 2,
       "version_minor": 0
      },
      "text/plain": [
       "  0%|          | 0/158 [00:00<?, ?it/s]"
      ]
     },
     "metadata": {},
     "output_type": "display_data"
    },
    {
     "name": "stdout",
     "output_type": "stream",
     "text": [
      "| epoch 184 |    31/  158 batches | lr 0.00000 | ms/batch 30.52371 | loss 3.87855\n",
      "| epoch 184 |    62/  158 batches | lr 0.00000 | ms/batch 29.06407 | loss 3.55501\n",
      "| epoch 184 |    93/  158 batches | lr 0.00000 | ms/batch 29.66311 | loss 3.88428\n",
      "| epoch 184 |   124/  158 batches | lr 0.00000 | ms/batch 28.92094 | loss 3.79741\n",
      "| epoch 184 |   155/  158 batches | lr 0.00000 | ms/batch 29.50997 | loss 3.92988\n",
      "-----------------------------------------------------------------------------------------\n",
      "| end of epoch 184 | time:  4.93s | valid loss 7.7949 | mean loss   3.8308\n",
      "-----------------------------------------------------------------------------------------\n",
      "Epoch #185\n"
     ]
    },
    {
     "data": {
      "application/vnd.jupyter.widget-view+json": {
       "model_id": "9ba0abe15bb546f38ebc2db04dfbb35a",
       "version_major": 2,
       "version_minor": 0
      },
      "text/plain": [
       "  0%|          | 0/158 [00:00<?, ?it/s]"
      ]
     },
     "metadata": {},
     "output_type": "display_data"
    },
    {
     "name": "stdout",
     "output_type": "stream",
     "text": [
      "| epoch 185 |    31/  158 batches | lr 0.00000 | ms/batch 30.30133 | loss 3.98378\n",
      "| epoch 185 |    62/  158 batches | lr 0.00000 | ms/batch 29.40472 | loss 3.82673\n",
      "| epoch 185 |    93/  158 batches | lr 0.00000 | ms/batch 29.15421 | loss 3.81165\n",
      "| epoch 185 |   124/  158 batches | lr 0.00000 | ms/batch 30.07423 | loss 3.74769\n",
      "| epoch 185 |   155/  158 batches | lr 0.00000 | ms/batch 29.78521 | loss 3.63774\n",
      "-----------------------------------------------------------------------------------------\n",
      "| end of epoch 185 | time:  4.98s | valid loss 7.7949 | mean loss   3.8305\n",
      "-----------------------------------------------------------------------------------------\n",
      "Epoch #186\n"
     ]
    },
    {
     "data": {
      "application/vnd.jupyter.widget-view+json": {
       "model_id": "1464196d1e7f40f580fd0797f7cbdcbc",
       "version_major": 2,
       "version_minor": 0
      },
      "text/plain": [
       "  0%|          | 0/158 [00:00<?, ?it/s]"
      ]
     },
     "metadata": {},
     "output_type": "display_data"
    },
    {
     "name": "stdout",
     "output_type": "stream",
     "text": [
      "| epoch 186 |    31/  158 batches | lr 0.00000 | ms/batch 30.72303 | loss 3.88660\n",
      "| epoch 186 |    62/  158 batches | lr 0.00000 | ms/batch 29.62556 | loss 3.84894\n",
      "| epoch 186 |    93/  158 batches | lr 0.00000 | ms/batch 29.78250 | loss 3.74845\n",
      "| epoch 186 |   124/  158 batches | lr 0.00000 | ms/batch 28.88929 | loss 3.80075\n",
      "| epoch 186 |   155/  158 batches | lr 0.00000 | ms/batch 29.77277 | loss 3.76342\n",
      "-----------------------------------------------------------------------------------------\n",
      "| end of epoch 186 | time:  4.97s | valid loss 7.7949 | mean loss   3.8303\n",
      "-----------------------------------------------------------------------------------------\n",
      "Epoch #187\n"
     ]
    },
    {
     "data": {
      "application/vnd.jupyter.widget-view+json": {
       "model_id": "8f22da48a66f42f390d927e070d6c66a",
       "version_major": 2,
       "version_minor": 0
      },
      "text/plain": [
       "  0%|          | 0/158 [00:00<?, ?it/s]"
      ]
     },
     "metadata": {},
     "output_type": "display_data"
    },
    {
     "name": "stdout",
     "output_type": "stream",
     "text": [
      "| epoch 187 |    31/  158 batches | lr 0.00000 | ms/batch 30.38492 | loss 3.84799\n",
      "| epoch 187 |    62/  158 batches | lr 0.00000 | ms/batch 29.79498 | loss 3.81510\n",
      "| epoch 187 |    93/  158 batches | lr 0.00000 | ms/batch 29.50006 | loss 3.80796\n",
      "| epoch 187 |   124/  158 batches | lr 0.00000 | ms/batch 29.73368 | loss 3.65397\n",
      "| epoch 187 |   155/  158 batches | lr 0.00000 | ms/batch 32.68163 | loss 3.89446\n",
      "-----------------------------------------------------------------------------------------\n",
      "| end of epoch 187 | time:  5.06s | valid loss 7.7949 | mean loss   3.8300\n",
      "-----------------------------------------------------------------------------------------\n",
      "Epoch #188\n"
     ]
    },
    {
     "data": {
      "application/vnd.jupyter.widget-view+json": {
       "model_id": "779e478b286248aca8e566a7b760f6a0",
       "version_major": 2,
       "version_minor": 0
      },
      "text/plain": [
       "  0%|          | 0/158 [00:00<?, ?it/s]"
      ]
     },
     "metadata": {},
     "output_type": "display_data"
    },
    {
     "name": "stdout",
     "output_type": "stream",
     "text": [
      "| epoch 188 |    31/  158 batches | lr 0.00000 | ms/batch 30.97270 | loss 3.84684\n",
      "| epoch 188 |    62/  158 batches | lr 0.00000 | ms/batch 29.47210 | loss 3.89763\n",
      "| epoch 188 |    93/  158 batches | lr 0.00000 | ms/batch 29.46547 | loss 3.97227\n",
      "| epoch 188 |   124/  158 batches | lr 0.00000 | ms/batch 29.51915 | loss 3.56744\n",
      "| epoch 188 |   155/  158 batches | lr 0.00000 | ms/batch 29.38192 | loss 3.78526\n",
      "-----------------------------------------------------------------------------------------\n",
      "| end of epoch 188 | time:  4.96s | valid loss 7.7949 | mean loss   3.8298\n",
      "-----------------------------------------------------------------------------------------\n",
      "Epoch #189\n"
     ]
    },
    {
     "data": {
      "application/vnd.jupyter.widget-view+json": {
       "model_id": "cf09bf18f9a044e68e67b7e1ed151ab9",
       "version_major": 2,
       "version_minor": 0
      },
      "text/plain": [
       "  0%|          | 0/158 [00:00<?, ?it/s]"
      ]
     },
     "metadata": {},
     "output_type": "display_data"
    },
    {
     "name": "stdout",
     "output_type": "stream",
     "text": [
      "| epoch 189 |    31/  158 batches | lr 0.00000 | ms/batch 30.72826 | loss 3.92703\n",
      "| epoch 189 |    62/  158 batches | lr 0.00000 | ms/batch 29.31447 | loss 3.79194\n",
      "| epoch 189 |    93/  158 batches | lr 0.00000 | ms/batch 28.91553 | loss 3.80675\n",
      "| epoch 189 |   124/  158 batches | lr 0.00000 | ms/batch 29.83745 | loss 3.66462\n",
      "| epoch 189 |   155/  158 batches | lr 0.00000 | ms/batch 29.51623 | loss 3.87436\n",
      "-----------------------------------------------------------------------------------------\n",
      "| end of epoch 189 | time:  4.96s | valid loss 7.7949 | mean loss   3.8296\n",
      "-----------------------------------------------------------------------------------------\n",
      "Epoch #190\n"
     ]
    },
    {
     "data": {
      "application/vnd.jupyter.widget-view+json": {
       "model_id": "7e69769d6b00400daed4c97ad9d32a6d",
       "version_major": 2,
       "version_minor": 0
      },
      "text/plain": [
       "  0%|          | 0/158 [00:00<?, ?it/s]"
      ]
     },
     "metadata": {},
     "output_type": "display_data"
    },
    {
     "name": "stdout",
     "output_type": "stream",
     "text": [
      "| epoch 190 |    31/  158 batches | lr 0.00000 | ms/batch 30.40501 | loss 3.95104\n",
      "| epoch 190 |    62/  158 batches | lr 0.00000 | ms/batch 29.14555 | loss 3.78960\n",
      "| epoch 190 |    93/  158 batches | lr 0.00000 | ms/batch 29.53915 | loss 3.77525\n",
      "| epoch 190 |   124/  158 batches | lr 0.00000 | ms/batch 29.47377 | loss 3.72008\n",
      "| epoch 190 |   155/  158 batches | lr 0.00000 | ms/batch 29.56451 | loss 3.78293\n",
      "-----------------------------------------------------------------------------------------\n",
      "| end of epoch 190 | time:  4.94s | valid loss 7.7949 | mean loss   3.8293\n",
      "-----------------------------------------------------------------------------------------\n",
      "Epoch #191\n"
     ]
    },
    {
     "data": {
      "application/vnd.jupyter.widget-view+json": {
       "model_id": "8999af5a1e1746dd9b06008003055241",
       "version_major": 2,
       "version_minor": 0
      },
      "text/plain": [
       "  0%|          | 0/158 [00:00<?, ?it/s]"
      ]
     },
     "metadata": {},
     "output_type": "display_data"
    },
    {
     "name": "stdout",
     "output_type": "stream",
     "text": [
      "| epoch 191 |    31/  158 batches | lr 0.00000 | ms/batch 30.42509 | loss 3.87463\n",
      "| epoch 191 |    62/  158 batches | lr 0.00000 | ms/batch 29.70139 | loss 3.69284\n",
      "| epoch 191 |    93/  158 batches | lr 0.00000 | ms/batch 29.35630 | loss 3.90386\n",
      "| epoch 191 |   124/  158 batches | lr 0.00000 | ms/batch 29.71736 | loss 3.72702\n",
      "| epoch 191 |   155/  158 batches | lr 0.00000 | ms/batch 29.07863 | loss 3.86173\n",
      "-----------------------------------------------------------------------------------------\n",
      "| end of epoch 191 | time:  4.95s | valid loss 7.7949 | mean loss   3.8291\n",
      "-----------------------------------------------------------------------------------------\n",
      "Epoch #192\n"
     ]
    },
    {
     "data": {
      "application/vnd.jupyter.widget-view+json": {
       "model_id": "715d1fcc9e9c4be0917383010871ad53",
       "version_major": 2,
       "version_minor": 0
      },
      "text/plain": [
       "  0%|          | 0/158 [00:00<?, ?it/s]"
      ]
     },
     "metadata": {},
     "output_type": "display_data"
    },
    {
     "name": "stdout",
     "output_type": "stream",
     "text": [
      "| epoch 192 |    31/  158 batches | lr 0.00000 | ms/batch 29.89326 | loss 3.97889\n",
      "| epoch 192 |    62/  158 batches | lr 0.00000 | ms/batch 29.18681 | loss 3.78680\n",
      "| epoch 192 |    93/  158 batches | lr 0.00000 | ms/batch 29.66653 | loss 3.87234\n",
      "| epoch 192 |   124/  158 batches | lr 0.00000 | ms/batch 37.74312 | loss 3.56007\n",
      "| epoch 192 |   155/  158 batches | lr 0.00000 | ms/batch 31.91124 | loss 3.81538\n",
      "-----------------------------------------------------------------------------------------\n",
      "| end of epoch 192 | time:  5.27s | valid loss 7.7949 | mean loss   3.8289\n",
      "-----------------------------------------------------------------------------------------\n",
      "Epoch #193\n"
     ]
    },
    {
     "data": {
      "application/vnd.jupyter.widget-view+json": {
       "model_id": "99fb19dcbcb74773874ffab11c80ccda",
       "version_major": 2,
       "version_minor": 0
      },
      "text/plain": [
       "  0%|          | 0/158 [00:00<?, ?it/s]"
      ]
     },
     "metadata": {},
     "output_type": "display_data"
    },
    {
     "name": "stdout",
     "output_type": "stream",
     "text": [
      "| epoch 193 |    31/  158 batches | lr 0.00000 | ms/batch 30.16661 | loss 3.78895\n",
      "| epoch 193 |    62/  158 batches | lr 0.00000 | ms/batch 29.05421 | loss 3.80099\n",
      "| epoch 193 |    93/  158 batches | lr 0.00000 | ms/batch 29.83003 | loss 3.82312\n",
      "| epoch 193 |   124/  158 batches | lr 0.00000 | ms/batch 28.87527 | loss 3.88274\n",
      "| epoch 193 |   155/  158 batches | lr 0.00000 | ms/batch 32.79932 | loss 3.77415\n",
      "-----------------------------------------------------------------------------------------\n",
      "| end of epoch 193 | time:  5.03s | valid loss 7.7949 | mean loss   3.8286\n",
      "-----------------------------------------------------------------------------------------\n",
      "Epoch #194\n"
     ]
    },
    {
     "data": {
      "application/vnd.jupyter.widget-view+json": {
       "model_id": "f7e1b46f9f5648ab93a0540936e737f0",
       "version_major": 2,
       "version_minor": 0
      },
      "text/plain": [
       "  0%|          | 0/158 [00:00<?, ?it/s]"
      ]
     },
     "metadata": {},
     "output_type": "display_data"
    },
    {
     "name": "stdout",
     "output_type": "stream",
     "text": [
      "| epoch 194 |    31/  158 batches | lr 0.00000 | ms/batch 31.24749 | loss 3.77361\n",
      "| epoch 194 |    62/  158 batches | lr 0.00000 | ms/batch 29.29544 | loss 3.73582\n",
      "| epoch 194 |    93/  158 batches | lr 0.00000 | ms/batch 29.90090 | loss 3.89418\n",
      "| epoch 194 |   124/  158 batches | lr 0.00000 | ms/batch 29.04768 | loss 3.71468\n",
      "| epoch 194 |   155/  158 batches | lr 0.00000 | ms/batch 29.00084 | loss 3.95623\n",
      "-----------------------------------------------------------------------------------------\n",
      "| end of epoch 194 | time:  4.95s | valid loss 7.7949 | mean loss   3.8284\n",
      "-----------------------------------------------------------------------------------------\n",
      "Epoch #195\n"
     ]
    },
    {
     "data": {
      "application/vnd.jupyter.widget-view+json": {
       "model_id": "8bbb5fc27cba4438bbd6a223eaccb1c4",
       "version_major": 2,
       "version_minor": 0
      },
      "text/plain": [
       "  0%|          | 0/158 [00:00<?, ?it/s]"
      ]
     },
     "metadata": {},
     "output_type": "display_data"
    },
    {
     "name": "stdout",
     "output_type": "stream",
     "text": [
      "| epoch 195 |    31/  158 batches | lr 0.00000 | ms/batch 30.37845 | loss 3.99297\n",
      "| epoch 195 |    62/  158 batches | lr 0.00000 | ms/batch 29.49269 | loss 3.77903\n",
      "| epoch 195 |    93/  158 batches | lr 0.00000 | ms/batch 29.15838 | loss 3.71377\n",
      "| epoch 195 |   124/  158 batches | lr 0.00000 | ms/batch 29.47134 | loss 3.81211\n",
      "| epoch 195 |   155/  158 batches | lr 0.00000 | ms/batch 29.32643 | loss 3.72336\n",
      "-----------------------------------------------------------------------------------------\n",
      "| end of epoch 195 | time:  4.94s | valid loss 7.7949 | mean loss   3.8282\n",
      "-----------------------------------------------------------------------------------------\n",
      "Epoch #196\n"
     ]
    },
    {
     "data": {
      "application/vnd.jupyter.widget-view+json": {
       "model_id": "9963f0ed5cca483ea63ac79f148a7295",
       "version_major": 2,
       "version_minor": 0
      },
      "text/plain": [
       "  0%|          | 0/158 [00:00<?, ?it/s]"
      ]
     },
     "metadata": {},
     "output_type": "display_data"
    },
    {
     "name": "stdout",
     "output_type": "stream",
     "text": [
      "| epoch 196 |    31/  158 batches | lr 0.00000 | ms/batch 30.51918 | loss 3.86856\n",
      "| epoch 196 |    62/  158 batches | lr 0.00000 | ms/batch 29.65619 | loss 3.72023\n",
      "| epoch 196 |    93/  158 batches | lr 0.00000 | ms/batch 28.75471 | loss 3.84824\n",
      "| epoch 196 |   124/  158 batches | lr 0.00000 | ms/batch 29.83122 | loss 3.90701\n",
      "| epoch 196 |   155/  158 batches | lr 0.00000 | ms/batch 29.82370 | loss 3.72478\n",
      "-----------------------------------------------------------------------------------------\n",
      "| end of epoch 196 | time:  4.96s | valid loss 7.7949 | mean loss   3.8279\n",
      "-----------------------------------------------------------------------------------------\n",
      "Epoch #197\n"
     ]
    },
    {
     "data": {
      "application/vnd.jupyter.widget-view+json": {
       "model_id": "bd5380cd31194d0b88d29bd394653453",
       "version_major": 2,
       "version_minor": 0
      },
      "text/plain": [
       "  0%|          | 0/158 [00:00<?, ?it/s]"
      ]
     },
     "metadata": {},
     "output_type": "display_data"
    },
    {
     "name": "stdout",
     "output_type": "stream",
     "text": [
      "| epoch 197 |    31/  158 batches | lr 0.00000 | ms/batch 30.47222 | loss 3.82445\n",
      "| epoch 197 |    62/  158 batches | lr 0.00000 | ms/batch 29.96842 | loss 3.80502\n",
      "| epoch 197 |    93/  158 batches | lr 0.00000 | ms/batch 29.01100 | loss 3.84033\n",
      "| epoch 197 |   124/  158 batches | lr 0.00000 | ms/batch 29.50541 | loss 3.73734\n",
      "| epoch 197 |   155/  158 batches | lr 0.00000 | ms/batch 29.15047 | loss 3.85297\n",
      "-----------------------------------------------------------------------------------------\n",
      "| end of epoch 197 | time:  4.95s | valid loss 7.7949 | mean loss   3.8277\n",
      "-----------------------------------------------------------------------------------------\n",
      "Epoch #198\n"
     ]
    },
    {
     "data": {
      "application/vnd.jupyter.widget-view+json": {
       "model_id": "ec321c8e7c0840d18305b18cd9cd29e2",
       "version_major": 2,
       "version_minor": 0
      },
      "text/plain": [
       "  0%|          | 0/158 [00:00<?, ?it/s]"
      ]
     },
     "metadata": {},
     "output_type": "display_data"
    },
    {
     "name": "stdout",
     "output_type": "stream",
     "text": [
      "| epoch 198 |    31/  158 batches | lr 0.00000 | ms/batch 29.47870 | loss 4.01899\n",
      "| epoch 198 |    62/  158 batches | lr 0.00000 | ms/batch 29.24146 | loss 3.71817\n",
      "| epoch 198 |    93/  158 batches | lr 0.00000 | ms/batch 29.26523 | loss 3.81657\n",
      "| epoch 198 |   124/  158 batches | lr 0.00000 | ms/batch 29.64620 | loss 3.77864\n",
      "| epoch 198 |   155/  158 batches | lr 0.00000 | ms/batch 29.22065 | loss 3.71134\n",
      "-----------------------------------------------------------------------------------------\n",
      "| end of epoch 198 | time:  4.91s | valid loss 7.7949 | mean loss   3.8275\n",
      "-----------------------------------------------------------------------------------------\n",
      "Epoch #199\n"
     ]
    },
    {
     "data": {
      "application/vnd.jupyter.widget-view+json": {
       "model_id": "778ee915d94f4083867b0a4a17d87105",
       "version_major": 2,
       "version_minor": 0
      },
      "text/plain": [
       "  0%|          | 0/158 [00:00<?, ?it/s]"
      ]
     },
     "metadata": {},
     "output_type": "display_data"
    },
    {
     "name": "stdout",
     "output_type": "stream",
     "text": [
      "| epoch 199 |    31/  158 batches | lr 0.00000 | ms/batch 30.40691 | loss 3.79737\n",
      "| epoch 199 |    62/  158 batches | lr 0.00000 | ms/batch 29.36434 | loss 3.84844\n",
      "| epoch 199 |    93/  158 batches | lr 0.00000 | ms/batch 28.89659 | loss 3.94601\n",
      "| epoch 199 |   124/  158 batches | lr 0.00000 | ms/batch 29.55314 | loss 3.68904\n",
      "| epoch 199 |   155/  158 batches | lr 0.00000 | ms/batch 31.68258 | loss 3.72855\n",
      "-----------------------------------------------------------------------------------------\n",
      "| end of epoch 199 | time:  5.06s | valid loss 7.7949 | mean loss   3.8273\n",
      "-----------------------------------------------------------------------------------------\n",
      "Epoch #200\n"
     ]
    },
    {
     "data": {
      "application/vnd.jupyter.widget-view+json": {
       "model_id": "f985545a3bb34395bd21bc1ad64bf319",
       "version_major": 2,
       "version_minor": 0
      },
      "text/plain": [
       "  0%|          | 0/158 [00:00<?, ?it/s]"
      ]
     },
     "metadata": {},
     "output_type": "display_data"
    },
    {
     "name": "stdout",
     "output_type": "stream",
     "text": [
      "| epoch 200 |    31/  158 batches | lr 0.00000 | ms/batch 30.70643 | loss 3.82242\n",
      "| epoch 200 |    62/  158 batches | lr 0.00000 | ms/batch 29.67514 | loss 3.78683\n",
      "| epoch 200 |    93/  158 batches | lr 0.00000 | ms/batch 29.50289 | loss 3.43316\n",
      "| epoch 200 |   124/  158 batches | lr 0.00000 | ms/batch 29.42852 | loss 4.05313\n",
      "| epoch 200 |   155/  158 batches | lr 0.00000 | ms/batch 29.33069 | loss 3.93162\n",
      "-----------------------------------------------------------------------------------------\n",
      "| end of epoch 200 | time:  4.96s | valid loss 7.7949 | mean loss   3.8271\n",
      "-----------------------------------------------------------------------------------------\n",
      "Epoch #201\n"
     ]
    },
    {
     "data": {
      "application/vnd.jupyter.widget-view+json": {
       "model_id": "efb3a8153ad649a3ae6d25bf444932c5",
       "version_major": 2,
       "version_minor": 0
      },
      "text/plain": [
       "  0%|          | 0/158 [00:00<?, ?it/s]"
      ]
     },
     "metadata": {},
     "output_type": "display_data"
    },
    {
     "name": "stdout",
     "output_type": "stream",
     "text": [
      "| epoch 201 |    31/  158 batches | lr 0.00000 | ms/batch 30.82039 | loss 3.88834\n",
      "| epoch 201 |    62/  158 batches | lr 0.00000 | ms/batch 37.88842 | loss 3.69997\n",
      "| epoch 201 |    93/  158 batches | lr 0.00000 | ms/batch 29.14746 | loss 3.99164\n",
      "| epoch 201 |   124/  158 batches | lr 0.00000 | ms/batch 29.48809 | loss 3.86846\n",
      "| epoch 201 |   155/  158 batches | lr 0.00000 | ms/batch 29.64456 | loss 3.57235\n",
      "-----------------------------------------------------------------------------------------\n",
      "| end of epoch 201 | time:  5.22s | valid loss 7.7949 | mean loss   3.8268\n",
      "-----------------------------------------------------------------------------------------\n",
      "Epoch #202\n"
     ]
    },
    {
     "data": {
      "application/vnd.jupyter.widget-view+json": {
       "model_id": "f851fa13f8154d38baa7a56cce07ba52",
       "version_major": 2,
       "version_minor": 0
      },
      "text/plain": [
       "  0%|          | 0/158 [00:00<?, ?it/s]"
      ]
     },
     "metadata": {},
     "output_type": "display_data"
    },
    {
     "name": "stdout",
     "output_type": "stream",
     "text": [
      "| epoch 202 |    31/  158 batches | lr 0.00000 | ms/batch 30.61195 | loss 3.81076\n",
      "| epoch 202 |    62/  158 batches | lr 0.00000 | ms/batch 29.67689 | loss 3.91223\n",
      "| epoch 202 |    93/  158 batches | lr 0.00000 | ms/batch 29.67934 | loss 3.77399\n",
      "| epoch 202 |   124/  158 batches | lr 0.00000 | ms/batch 29.82820 | loss 3.86409\n",
      "| epoch 202 |   155/  158 batches | lr 0.00000 | ms/batch 29.59718 | loss 3.69153\n",
      "-----------------------------------------------------------------------------------------\n",
      "| end of epoch 202 | time:  4.99s | valid loss 7.7949 | mean loss   3.8266\n",
      "-----------------------------------------------------------------------------------------\n",
      "Epoch #203\n"
     ]
    },
    {
     "data": {
      "application/vnd.jupyter.widget-view+json": {
       "model_id": "b7489cb0bbb143e89295229f97025178",
       "version_major": 2,
       "version_minor": 0
      },
      "text/plain": [
       "  0%|          | 0/158 [00:00<?, ?it/s]"
      ]
     },
     "metadata": {},
     "output_type": "display_data"
    },
    {
     "name": "stdout",
     "output_type": "stream",
     "text": [
      "| epoch 203 |    31/  158 batches | lr 0.00000 | ms/batch 31.07876 | loss 3.98902\n",
      "| epoch 203 |    62/  158 batches | lr 0.00000 | ms/batch 29.59349 | loss 3.57096\n",
      "| epoch 203 |    93/  158 batches | lr 0.00000 | ms/batch 29.46192 | loss 3.80263\n",
      "| epoch 203 |   124/  158 batches | lr 0.00000 | ms/batch 30.37900 | loss 3.79241\n",
      "| epoch 203 |   155/  158 batches | lr 0.00000 | ms/batch 29.86596 | loss 3.85888\n",
      "-----------------------------------------------------------------------------------------\n",
      "| end of epoch 203 | time:  5.02s | valid loss 7.7949 | mean loss   3.8264\n",
      "-----------------------------------------------------------------------------------------\n",
      "Epoch #204\n"
     ]
    },
    {
     "data": {
      "application/vnd.jupyter.widget-view+json": {
       "model_id": "88ede0e63a664c2a8560cb8c45d3e5bf",
       "version_major": 2,
       "version_minor": 0
      },
      "text/plain": [
       "  0%|          | 0/158 [00:00<?, ?it/s]"
      ]
     },
     "metadata": {},
     "output_type": "display_data"
    },
    {
     "name": "stdout",
     "output_type": "stream",
     "text": [
      "| epoch 204 |    31/  158 batches | lr 0.00000 | ms/batch 30.47749 | loss 3.81103\n",
      "| epoch 204 |    62/  158 batches | lr 0.00000 | ms/batch 29.84479 | loss 3.81010\n",
      "| epoch 204 |    93/  158 batches | lr 0.00000 | ms/batch 29.67529 | loss 3.69782\n",
      "| epoch 204 |   124/  158 batches | lr 0.00000 | ms/batch 29.19331 | loss 3.76587\n",
      "| epoch 204 |   155/  158 batches | lr 0.00000 | ms/batch 29.99720 | loss 3.91015\n",
      "-----------------------------------------------------------------------------------------\n",
      "| end of epoch 204 | time:  4.99s | valid loss 7.7949 | mean loss   3.8262\n",
      "-----------------------------------------------------------------------------------------\n",
      "Epoch #205\n"
     ]
    },
    {
     "data": {
      "application/vnd.jupyter.widget-view+json": {
       "model_id": "b0cbfde6bc7145b3af7b0efae6d08966",
       "version_major": 2,
       "version_minor": 0
      },
      "text/plain": [
       "  0%|          | 0/158 [00:00<?, ?it/s]"
      ]
     },
     "metadata": {},
     "output_type": "display_data"
    },
    {
     "name": "stdout",
     "output_type": "stream",
     "text": [
      "| epoch 205 |    31/  158 batches | lr 0.00000 | ms/batch 30.18837 | loss 3.99041\n",
      "| epoch 205 |    62/  158 batches | lr 0.00000 | ms/batch 28.72088 | loss 3.77169\n",
      "| epoch 205 |    93/  158 batches | lr 0.00000 | ms/batch 29.58127 | loss 3.61924\n",
      "| epoch 205 |   124/  158 batches | lr 0.00000 | ms/batch 29.49683 | loss 3.71723\n",
      "| epoch 205 |   155/  158 batches | lr 0.00000 | ms/batch 32.78997 | loss 3.97367\n",
      "-----------------------------------------------------------------------------------------\n",
      "| end of epoch 205 | time:  5.04s | valid loss 7.7949 | mean loss   3.8260\n",
      "-----------------------------------------------------------------------------------------\n",
      "Epoch #206\n"
     ]
    },
    {
     "data": {
      "application/vnd.jupyter.widget-view+json": {
       "model_id": "eca74607813c4a5e8ac96fc5804327c1",
       "version_major": 2,
       "version_minor": 0
      },
      "text/plain": [
       "  0%|          | 0/158 [00:00<?, ?it/s]"
      ]
     },
     "metadata": {},
     "output_type": "display_data"
    },
    {
     "name": "stdout",
     "output_type": "stream",
     "text": [
      "| epoch 206 |    31/  158 batches | lr 0.00000 | ms/batch 30.77779 | loss 4.08782\n",
      "| epoch 206 |    62/  158 batches | lr 0.00000 | ms/batch 29.96331 | loss 3.89987\n",
      "| epoch 206 |    93/  158 batches | lr 0.00000 | ms/batch 29.54783 | loss 3.41218\n",
      "| epoch 206 |   124/  158 batches | lr 0.00000 | ms/batch 29.64416 | loss 3.83905\n",
      "| epoch 206 |   155/  158 batches | lr 0.00000 | ms/batch 29.81093 | loss 3.78090\n",
      "-----------------------------------------------------------------------------------------\n",
      "| end of epoch 206 | time:  5.00s | valid loss 7.7949 | mean loss   3.8258\n",
      "-----------------------------------------------------------------------------------------\n",
      "Epoch #207\n"
     ]
    },
    {
     "data": {
      "application/vnd.jupyter.widget-view+json": {
       "model_id": "c67da0d6d5b44ca3908331592a6d426d",
       "version_major": 2,
       "version_minor": 0
      },
      "text/plain": [
       "  0%|          | 0/158 [00:00<?, ?it/s]"
      ]
     },
     "metadata": {},
     "output_type": "display_data"
    },
    {
     "name": "stdout",
     "output_type": "stream",
     "text": [
      "| epoch 207 |    31/  158 batches | lr 0.00000 | ms/batch 30.97655 | loss 3.98762\n",
      "| epoch 207 |    62/  158 batches | lr 0.00000 | ms/batch 29.37448 | loss 3.81040\n",
      "| epoch 207 |    93/  158 batches | lr 0.00000 | ms/batch 29.84842 | loss 3.75164\n",
      "| epoch 207 |   124/  158 batches | lr 0.00000 | ms/batch 29.46005 | loss 3.84507\n",
      "| epoch 207 |   155/  158 batches | lr 0.00000 | ms/batch 29.44246 | loss 3.64015\n",
      "-----------------------------------------------------------------------------------------\n",
      "| end of epoch 207 | time:  4.99s | valid loss 7.7949 | mean loss   3.8256\n",
      "-----------------------------------------------------------------------------------------\n",
      "Epoch #208\n"
     ]
    },
    {
     "data": {
      "application/vnd.jupyter.widget-view+json": {
       "model_id": "53f182bab8534cd4b050e679cc536fd8",
       "version_major": 2,
       "version_minor": 0
      },
      "text/plain": [
       "  0%|          | 0/158 [00:00<?, ?it/s]"
      ]
     },
     "metadata": {},
     "output_type": "display_data"
    },
    {
     "name": "stdout",
     "output_type": "stream",
     "text": [
      "| epoch 208 |    31/  158 batches | lr 0.00000 | ms/batch 30.43202 | loss 3.80880\n",
      "| epoch 208 |    62/  158 batches | lr 0.00000 | ms/batch 29.25194 | loss 3.84292\n",
      "| epoch 208 |    93/  158 batches | lr 0.00000 | ms/batch 28.68915 | loss 3.89285\n",
      "| epoch 208 |   124/  158 batches | lr 0.00000 | ms/batch 29.58973 | loss 3.83219\n",
      "| epoch 208 |   155/  158 batches | lr 0.00000 | ms/batch 29.40473 | loss 3.68771\n",
      "-----------------------------------------------------------------------------------------\n",
      "| end of epoch 208 | time:  4.92s | valid loss 7.7949 | mean loss   3.8254\n",
      "-----------------------------------------------------------------------------------------\n",
      "Epoch #209\n"
     ]
    },
    {
     "data": {
      "application/vnd.jupyter.widget-view+json": {
       "model_id": "4164d9e90435427185ae01e6d508a5be",
       "version_major": 2,
       "version_minor": 0
      },
      "text/plain": [
       "  0%|          | 0/158 [00:00<?, ?it/s]"
      ]
     },
     "metadata": {},
     "output_type": "display_data"
    },
    {
     "name": "stdout",
     "output_type": "stream",
     "text": [
      "| epoch 209 |    31/  158 batches | lr 0.00000 | ms/batch 31.32635 | loss 3.80076\n",
      "| epoch 209 |    62/  158 batches | lr 0.00000 | ms/batch 29.02183 | loss 3.75862\n",
      "| epoch 209 |    93/  158 batches | lr 0.00000 | ms/batch 29.32282 | loss 3.68307\n",
      "| epoch 209 |   124/  158 batches | lr 0.00000 | ms/batch 29.64922 | loss 3.91335\n",
      "| epoch 209 |   155/  158 batches | lr 0.00000 | ms/batch 30.03003 | loss 3.89560\n",
      "-----------------------------------------------------------------------------------------\n",
      "| end of epoch 209 | time:  5.00s | valid loss 7.7949 | mean loss   3.8252\n",
      "-----------------------------------------------------------------------------------------\n",
      "Epoch #210\n"
     ]
    },
    {
     "data": {
      "application/vnd.jupyter.widget-view+json": {
       "model_id": "5f7df189fa9141c69eb28d21a67da35e",
       "version_major": 2,
       "version_minor": 0
      },
      "text/plain": [
       "  0%|          | 0/158 [00:00<?, ?it/s]"
      ]
     },
     "metadata": {},
     "output_type": "display_data"
    },
    {
     "name": "stdout",
     "output_type": "stream",
     "text": [
      "| epoch 210 |    31/  158 batches | lr 0.00000 | ms/batch 30.50126 | loss 4.00426\n",
      "| epoch 210 |    62/  158 batches | lr 0.00000 | ms/batch 29.75558 | loss 3.69552\n",
      "| epoch 210 |    93/  158 batches | lr 0.00000 | ms/batch 29.63178 | loss 3.81765\n",
      "| epoch 210 |   124/  158 batches | lr 0.00000 | ms/batch 30.13034 | loss 3.77459\n",
      "| epoch 210 |   155/  158 batches | lr 0.00000 | ms/batch 29.51331 | loss 3.75936\n",
      "-----------------------------------------------------------------------------------------\n",
      "| end of epoch 210 | time:  4.99s | valid loss 7.7949 | mean loss   3.8250\n",
      "-----------------------------------------------------------------------------------------\n",
      "Epoch #211\n"
     ]
    },
    {
     "data": {
      "application/vnd.jupyter.widget-view+json": {
       "model_id": "67146a8d1d074cb0bcf3e6fd3a3d4e32",
       "version_major": 2,
       "version_minor": 0
      },
      "text/plain": [
       "  0%|          | 0/158 [00:00<?, ?it/s]"
      ]
     },
     "metadata": {},
     "output_type": "display_data"
    },
    {
     "name": "stdout",
     "output_type": "stream",
     "text": [
      "| epoch 211 |    31/  158 batches | lr 0.00000 | ms/batch 31.00271 | loss 3.91787\n",
      "| epoch 211 |    62/  158 batches | lr 0.00000 | ms/batch 28.72333 | loss 3.88012\n",
      "| epoch 211 |    93/  158 batches | lr 0.00000 | ms/batch 29.69485 | loss 3.89943\n",
      "| epoch 211 |   124/  158 batches | lr 0.00000 | ms/batch 29.63002 | loss 3.50933\n",
      "| epoch 211 |   155/  158 batches | lr 0.00000 | ms/batch 31.83691 | loss 3.85757\n",
      "-----------------------------------------------------------------------------------------\n",
      "| end of epoch 211 | time:  5.04s | valid loss 7.7949 | mean loss   3.8248\n",
      "-----------------------------------------------------------------------------------------\n",
      "Epoch #212\n"
     ]
    },
    {
     "data": {
      "application/vnd.jupyter.widget-view+json": {
       "model_id": "efe9f76ce68a44889c936d3273784552",
       "version_major": 2,
       "version_minor": 0
      },
      "text/plain": [
       "  0%|          | 0/158 [00:00<?, ?it/s]"
      ]
     },
     "metadata": {},
     "output_type": "display_data"
    },
    {
     "name": "stdout",
     "output_type": "stream",
     "text": [
      "| epoch 212 |    31/  158 batches | lr 0.00000 | ms/batch 30.03661 | loss 3.70684\n",
      "| epoch 212 |    62/  158 batches | lr 0.00000 | ms/batch 28.90193 | loss 3.69028\n",
      "| epoch 212 |    93/  158 batches | lr 0.00000 | ms/batch 29.05136 | loss 3.68811\n",
      "| epoch 212 |   124/  158 batches | lr 0.00000 | ms/batch 28.50190 | loss 4.04421\n",
      "| epoch 212 |   155/  158 batches | lr 0.00000 | ms/batch 29.57937 | loss 3.90039\n",
      "-----------------------------------------------------------------------------------------\n",
      "| end of epoch 212 | time:  4.88s | valid loss 7.7949 | mean loss   3.8246\n",
      "-----------------------------------------------------------------------------------------\n",
      "Epoch #213\n"
     ]
    },
    {
     "data": {
      "application/vnd.jupyter.widget-view+json": {
       "model_id": "ec3cab6702a0461997cf57cab07f4476",
       "version_major": 2,
       "version_minor": 0
      },
      "text/plain": [
       "  0%|          | 0/158 [00:00<?, ?it/s]"
      ]
     },
     "metadata": {},
     "output_type": "display_data"
    },
    {
     "name": "stdout",
     "output_type": "stream",
     "text": [
      "| epoch 213 |    31/  158 batches | lr 0.00000 | ms/batch 30.57800 | loss 3.70318\n",
      "| epoch 213 |    62/  158 batches | lr 0.00000 | ms/batch 29.04022 | loss 3.82233\n",
      "| epoch 213 |    93/  158 batches | lr 0.00000 | ms/batch 29.41855 | loss 3.91374\n",
      "| epoch 213 |   124/  158 batches | lr 0.00000 | ms/batch 29.66366 | loss 3.89977\n",
      "| epoch 213 |   155/  158 batches | lr 0.00000 | ms/batch 28.97036 | loss 3.66778\n",
      "-----------------------------------------------------------------------------------------\n",
      "| end of epoch 213 | time:  4.95s | valid loss 7.7949 | mean loss   3.8244\n",
      "-----------------------------------------------------------------------------------------\n",
      "Epoch #214\n"
     ]
    },
    {
     "data": {
      "application/vnd.jupyter.widget-view+json": {
       "model_id": "f709b4f3a0d0486b94ebcab4f3ec1af8",
       "version_major": 2,
       "version_minor": 0
      },
      "text/plain": [
       "  0%|          | 0/158 [00:00<?, ?it/s]"
      ]
     },
     "metadata": {},
     "output_type": "display_data"
    },
    {
     "name": "stdout",
     "output_type": "stream",
     "text": [
      "| epoch 214 |    31/  158 batches | lr 0.00000 | ms/batch 30.71084 | loss 3.81478\n",
      "| epoch 214 |    62/  158 batches | lr 0.00000 | ms/batch 28.78538 | loss 3.75805\n",
      "| epoch 214 |    93/  158 batches | lr 0.00000 | ms/batch 29.43354 | loss 3.77284\n",
      "| epoch 214 |   124/  158 batches | lr 0.00000 | ms/batch 29.43320 | loss 3.79816\n",
      "| epoch 214 |   155/  158 batches | lr 0.00000 | ms/batch 29.50971 | loss 3.86431\n",
      "-----------------------------------------------------------------------------------------\n",
      "| end of epoch 214 | time:  4.94s | valid loss 7.7949 | mean loss   3.8242\n",
      "-----------------------------------------------------------------------------------------\n",
      "Epoch #215\n"
     ]
    },
    {
     "data": {
      "application/vnd.jupyter.widget-view+json": {
       "model_id": "8300102f433849c899a13c47fd9d6fa9",
       "version_major": 2,
       "version_minor": 0
      },
      "text/plain": [
       "  0%|          | 0/158 [00:00<?, ?it/s]"
      ]
     },
     "metadata": {},
     "output_type": "display_data"
    },
    {
     "name": "stdout",
     "output_type": "stream",
     "text": [
      "| epoch 215 |    31/  158 batches | lr 0.00000 | ms/batch 31.30627 | loss 3.97965\n",
      "| epoch 215 |    62/  158 batches | lr 0.00000 | ms/batch 29.21804 | loss 3.78710\n",
      "| epoch 215 |    93/  158 batches | lr 0.00000 | ms/batch 29.70409 | loss 3.75391\n",
      "| epoch 215 |   124/  158 batches | lr 0.00000 | ms/batch 29.52959 | loss 3.77895\n",
      "| epoch 215 |   155/  158 batches | lr 0.00000 | ms/batch 29.53766 | loss 3.67462\n",
      "-----------------------------------------------------------------------------------------\n",
      "| end of epoch 215 | time:  4.99s | valid loss 7.7949 | mean loss   3.8241\n",
      "-----------------------------------------------------------------------------------------\n",
      "Epoch #216\n"
     ]
    },
    {
     "data": {
      "application/vnd.jupyter.widget-view+json": {
       "model_id": "7f68b95dda01453b8d2dcc71ac039fed",
       "version_major": 2,
       "version_minor": 0
      },
      "text/plain": [
       "  0%|          | 0/158 [00:00<?, ?it/s]"
      ]
     },
     "metadata": {},
     "output_type": "display_data"
    },
    {
     "name": "stdout",
     "output_type": "stream",
     "text": [
      "| epoch 216 |    31/  158 batches | lr 0.00000 | ms/batch 30.10954 | loss 3.73902\n",
      "| epoch 216 |    62/  158 batches | lr 0.00000 | ms/batch 28.95879 | loss 3.78742\n",
      "| epoch 216 |    93/  158 batches | lr 0.00000 | ms/batch 29.43305 | loss 3.79004\n",
      "| epoch 216 |   124/  158 batches | lr 0.00000 | ms/batch 29.07841 | loss 3.74689\n",
      "| epoch 216 |   155/  158 batches | lr 0.00000 | ms/batch 38.31050 | loss 3.97229\n",
      "-----------------------------------------------------------------------------------------\n",
      "| end of epoch 216 | time:  5.23s | valid loss 7.7949 | mean loss   3.8239\n",
      "-----------------------------------------------------------------------------------------\n",
      "Epoch #217\n"
     ]
    },
    {
     "data": {
      "application/vnd.jupyter.widget-view+json": {
       "model_id": "0e9b65c741ba498ab4b32f558c811a6b",
       "version_major": 2,
       "version_minor": 0
      },
      "text/plain": [
       "  0%|          | 0/158 [00:00<?, ?it/s]"
      ]
     },
     "metadata": {},
     "output_type": "display_data"
    },
    {
     "name": "stdout",
     "output_type": "stream",
     "text": [
      "| epoch 217 |    31/  158 batches | lr 0.00000 | ms/batch 31.22986 | loss 3.92457\n",
      "| epoch 217 |    62/  158 batches | lr 0.00000 | ms/batch 28.86099 | loss 3.92219\n",
      "| epoch 217 |    93/  158 batches | lr 0.00000 | ms/batch 29.61614 | loss 3.69094\n",
      "| epoch 217 |   124/  158 batches | lr 0.00000 | ms/batch 29.49415 | loss 3.81380\n",
      "| epoch 217 |   155/  158 batches | lr 0.00000 | ms/batch 32.19927 | loss 3.69352\n",
      "-----------------------------------------------------------------------------------------\n",
      "| end of epoch 217 | time:  5.07s | valid loss 7.7949 | mean loss   3.8237\n",
      "-----------------------------------------------------------------------------------------\n",
      "Epoch #218\n"
     ]
    },
    {
     "data": {
      "application/vnd.jupyter.widget-view+json": {
       "model_id": "2d674760dc224f87b172583000865356",
       "version_major": 2,
       "version_minor": 0
      },
      "text/plain": [
       "  0%|          | 0/158 [00:00<?, ?it/s]"
      ]
     },
     "metadata": {},
     "output_type": "display_data"
    },
    {
     "name": "stdout",
     "output_type": "stream",
     "text": [
      "| epoch 218 |    31/  158 batches | lr 0.00000 | ms/batch 30.59128 | loss 3.76234\n",
      "| epoch 218 |    62/  158 batches | lr 0.00000 | ms/batch 29.74552 | loss 3.88594\n",
      "| epoch 218 |    93/  158 batches | lr 0.00000 | ms/batch 29.16663 | loss 3.88790\n",
      "| epoch 218 |   124/  158 batches | lr 0.00000 | ms/batch 30.07485 | loss 3.65536\n",
      "| epoch 218 |   155/  158 batches | lr 0.00000 | ms/batch 28.78068 | loss 3.88237\n",
      "-----------------------------------------------------------------------------------------\n",
      "| end of epoch 218 | time:  4.96s | valid loss 7.7949 | mean loss   3.8235\n",
      "-----------------------------------------------------------------------------------------\n",
      "Epoch #219\n"
     ]
    },
    {
     "data": {
      "application/vnd.jupyter.widget-view+json": {
       "model_id": "153149ff63d348e3bb4f0faa73406635",
       "version_major": 2,
       "version_minor": 0
      },
      "text/plain": [
       "  0%|          | 0/158 [00:00<?, ?it/s]"
      ]
     },
     "metadata": {},
     "output_type": "display_data"
    },
    {
     "name": "stdout",
     "output_type": "stream",
     "text": [
      "| epoch 219 |    31/  158 batches | lr 0.00000 | ms/batch 31.11590 | loss 3.94676\n",
      "| epoch 219 |    62/  158 batches | lr 0.00000 | ms/batch 29.59237 | loss 3.77450\n",
      "| epoch 219 |    93/  158 batches | lr 0.00000 | ms/batch 29.29288 | loss 3.77351\n",
      "| epoch 219 |   124/  158 batches | lr 0.00000 | ms/batch 28.69471 | loss 3.87068\n",
      "| epoch 219 |   155/  158 batches | lr 0.00000 | ms/batch 29.51979 | loss 3.69138\n",
      "-----------------------------------------------------------------------------------------\n",
      "| end of epoch 219 | time:  4.96s | valid loss 7.7949 | mean loss   3.8233\n",
      "-----------------------------------------------------------------------------------------\n",
      "Epoch #220\n"
     ]
    },
    {
     "data": {
      "application/vnd.jupyter.widget-view+json": {
       "model_id": "9b06cc2ee98a4083a8087b51ae7d3c02",
       "version_major": 2,
       "version_minor": 0
      },
      "text/plain": [
       "  0%|          | 0/158 [00:00<?, ?it/s]"
      ]
     },
     "metadata": {},
     "output_type": "display_data"
    },
    {
     "name": "stdout",
     "output_type": "stream",
     "text": [
      "| epoch 220 |    31/  158 batches | lr 0.00000 | ms/batch 30.29606 | loss 3.85433\n",
      "| epoch 220 |    62/  158 batches | lr 0.00000 | ms/batch 29.61443 | loss 3.75720\n",
      "| epoch 220 |    93/  158 batches | lr 0.00000 | ms/batch 29.45099 | loss 3.85605\n",
      "| epoch 220 |   124/  158 batches | lr 0.00000 | ms/batch 30.16275 | loss 3.78868\n",
      "| epoch 220 |   155/  158 batches | lr 0.00000 | ms/batch 29.61477 | loss 3.76210\n",
      "-----------------------------------------------------------------------------------------\n",
      "| end of epoch 220 | time:  4.99s | valid loss 7.7949 | mean loss   3.8231\n",
      "-----------------------------------------------------------------------------------------\n",
      "Epoch #221\n"
     ]
    },
    {
     "data": {
      "application/vnd.jupyter.widget-view+json": {
       "model_id": "6f164651325c445a9acce109399408fb",
       "version_major": 2,
       "version_minor": 0
      },
      "text/plain": [
       "  0%|          | 0/158 [00:00<?, ?it/s]"
      ]
     },
     "metadata": {},
     "output_type": "display_data"
    },
    {
     "name": "stdout",
     "output_type": "stream",
     "text": [
      "| epoch 221 |    31/  158 batches | lr 0.00000 | ms/batch 30.54356 | loss 3.94287\n",
      "| epoch 221 |    62/  158 batches | lr 0.00000 | ms/batch 29.33008 | loss 3.72945\n",
      "| epoch 221 |    93/  158 batches | lr 0.00000 | ms/batch 30.00552 | loss 3.94663\n",
      "| epoch 221 |   124/  158 batches | lr 0.00000 | ms/batch 29.33641 | loss 3.65081\n",
      "| epoch 221 |   155/  158 batches | lr 0.00000 | ms/batch 30.03393 | loss 3.75580\n",
      "-----------------------------------------------------------------------------------------\n",
      "| end of epoch 221 | time:  4.98s | valid loss 7.7949 | mean loss   3.8230\n",
      "-----------------------------------------------------------------------------------------\n",
      "Epoch #222\n"
     ]
    },
    {
     "data": {
      "application/vnd.jupyter.widget-view+json": {
       "model_id": "a7f65838f5024628b5aa567ad430e8a4",
       "version_major": 2,
       "version_minor": 0
      },
      "text/plain": [
       "  0%|          | 0/158 [00:00<?, ?it/s]"
      ]
     },
     "metadata": {},
     "output_type": "display_data"
    },
    {
     "name": "stdout",
     "output_type": "stream",
     "text": [
      "| epoch 222 |    31/  158 batches | lr 0.00000 | ms/batch 30.46183 | loss 3.78074\n",
      "| epoch 222 |    62/  158 batches | lr 0.00000 | ms/batch 29.91840 | loss 3.94080\n",
      "| epoch 222 |    93/  158 batches | lr 0.00000 | ms/batch 29.28681 | loss 3.86725\n",
      "| epoch 222 |   124/  158 batches | lr 0.00000 | ms/batch 30.05099 | loss 3.75712\n",
      "| epoch 222 |   155/  158 batches | lr 0.00000 | ms/batch 29.45288 | loss 3.65896\n",
      "-----------------------------------------------------------------------------------------\n",
      "| end of epoch 222 | time:  4.98s | valid loss 7.7949 | mean loss   3.8228\n",
      "-----------------------------------------------------------------------------------------\n",
      "Epoch #223\n"
     ]
    },
    {
     "data": {
      "application/vnd.jupyter.widget-view+json": {
       "model_id": "be0b0774aa66418dbe59ba39ead35368",
       "version_major": 2,
       "version_minor": 0
      },
      "text/plain": [
       "  0%|          | 0/158 [00:00<?, ?it/s]"
      ]
     },
     "metadata": {},
     "output_type": "display_data"
    },
    {
     "name": "stdout",
     "output_type": "stream",
     "text": [
      "| epoch 223 |    31/  158 batches | lr 0.00000 | ms/batch 30.76796 | loss 4.01723\n",
      "| epoch 223 |    62/  158 batches | lr 0.00000 | ms/batch 29.47100 | loss 3.74497\n",
      "| epoch 223 |    93/  158 batches | lr 0.00000 | ms/batch 29.52372 | loss 3.69531\n",
      "| epoch 223 |   124/  158 batches | lr 0.00000 | ms/batch 29.52320 | loss 3.71236\n",
      "| epoch 223 |   155/  158 batches | lr 0.00000 | ms/batch 31.58952 | loss 3.84551\n",
      "-----------------------------------------------------------------------------------------\n",
      "| end of epoch 223 | time:  5.07s | valid loss 7.7949 | mean loss   3.8226\n",
      "-----------------------------------------------------------------------------------------\n",
      "Epoch #224\n"
     ]
    },
    {
     "data": {
      "application/vnd.jupyter.widget-view+json": {
       "model_id": "c7451679db1d48a994c5721c9f80510d",
       "version_major": 2,
       "version_minor": 0
      },
      "text/plain": [
       "  0%|          | 0/158 [00:00<?, ?it/s]"
      ]
     },
     "metadata": {},
     "output_type": "display_data"
    },
    {
     "name": "stdout",
     "output_type": "stream",
     "text": [
      "| epoch 224 |    31/  158 batches | lr 0.00000 | ms/batch 30.81847 | loss 3.82190\n",
      "| epoch 224 |    62/  158 batches | lr 0.00000 | ms/batch 29.55950 | loss 3.90471\n",
      "| epoch 224 |    93/  158 batches | lr 0.00000 | ms/batch 29.72191 | loss 3.82697\n",
      "| epoch 224 |   124/  158 batches | lr 0.00000 | ms/batch 30.08208 | loss 3.63991\n",
      "| epoch 224 |   155/  158 batches | lr 0.00000 | ms/batch 29.76918 | loss 3.85793\n",
      "-----------------------------------------------------------------------------------------\n",
      "| end of epoch 224 | time:  5.00s | valid loss 7.7949 | mean loss   3.8224\n",
      "-----------------------------------------------------------------------------------------\n",
      "Epoch #225\n"
     ]
    },
    {
     "data": {
      "application/vnd.jupyter.widget-view+json": {
       "model_id": "39872a4dd27342a38de114652053cd08",
       "version_major": 2,
       "version_minor": 0
      },
      "text/plain": [
       "  0%|          | 0/158 [00:00<?, ?it/s]"
      ]
     },
     "metadata": {},
     "output_type": "display_data"
    },
    {
     "name": "stdout",
     "output_type": "stream",
     "text": [
      "| epoch 225 |    31/  158 batches | lr 0.00000 | ms/batch 30.58092 | loss 4.10077\n",
      "| epoch 225 |    62/  158 batches | lr 0.00000 | ms/batch 29.32251 | loss 3.73320\n",
      "| epoch 225 |    93/  158 batches | lr 0.00000 | ms/batch 30.54292 | loss 3.73192\n",
      "| epoch 225 |   124/  158 batches | lr 0.00000 | ms/batch 29.84870 | loss 3.68947\n",
      "| epoch 225 |   155/  158 batches | lr 0.00000 | ms/batch 29.33544 | loss 3.76880\n",
      "-----------------------------------------------------------------------------------------\n",
      "| end of epoch 225 | time:  5.00s | valid loss 7.7949 | mean loss   3.8223\n",
      "-----------------------------------------------------------------------------------------\n",
      "Epoch #226\n"
     ]
    },
    {
     "data": {
      "application/vnd.jupyter.widget-view+json": {
       "model_id": "951f47d9812e44738c44393e6f937260",
       "version_major": 2,
       "version_minor": 0
      },
      "text/plain": [
       "  0%|          | 0/158 [00:00<?, ?it/s]"
      ]
     },
     "metadata": {},
     "output_type": "display_data"
    },
    {
     "name": "stdout",
     "output_type": "stream",
     "text": [
      "| epoch 226 |    31/  158 batches | lr 0.00000 | ms/batch 30.45178 | loss 3.89373\n",
      "| epoch 226 |    62/  158 batches | lr 0.00000 | ms/batch 29.55017 | loss 3.80443\n",
      "| epoch 226 |    93/  158 batches | lr 0.00000 | ms/batch 29.68220 | loss 3.76157\n",
      "| epoch 226 |   124/  158 batches | lr 0.00000 | ms/batch 29.92205 | loss 3.57500\n",
      "| epoch 226 |   155/  158 batches | lr 0.00000 | ms/batch 29.65589 | loss 4.04841\n",
      "-----------------------------------------------------------------------------------------\n",
      "| end of epoch 226 | time:  4.98s | valid loss 7.7949 | mean loss   3.8221\n",
      "-----------------------------------------------------------------------------------------\n",
      "Epoch #227\n"
     ]
    },
    {
     "data": {
      "application/vnd.jupyter.widget-view+json": {
       "model_id": "41d5dad9674c4491a64a160880dd383d",
       "version_major": 2,
       "version_minor": 0
      },
      "text/plain": [
       "  0%|          | 0/158 [00:00<?, ?it/s]"
      ]
     },
     "metadata": {},
     "output_type": "display_data"
    },
    {
     "name": "stdout",
     "output_type": "stream",
     "text": [
      "| epoch 227 |    31/  158 batches | lr 0.00000 | ms/batch 30.36444 | loss 3.92011\n",
      "| epoch 227 |    62/  158 batches | lr 0.00000 | ms/batch 29.73801 | loss 3.66639\n",
      "| epoch 227 |    93/  158 batches | lr 0.00000 | ms/batch 29.73656 | loss 3.73266\n",
      "| epoch 227 |   124/  158 batches | lr 0.00000 | ms/batch 29.41211 | loss 3.85149\n",
      "| epoch 227 |   155/  158 batches | lr 0.00000 | ms/batch 29.89228 | loss 3.88255\n",
      "-----------------------------------------------------------------------------------------\n",
      "| end of epoch 227 | time:  4.98s | valid loss 7.7949 | mean loss   3.8219\n",
      "-----------------------------------------------------------------------------------------\n",
      "Epoch #228\n"
     ]
    },
    {
     "data": {
      "application/vnd.jupyter.widget-view+json": {
       "model_id": "99c1cc0abad143a2a26a5b5c49a9f74d",
       "version_major": 2,
       "version_minor": 0
      },
      "text/plain": [
       "  0%|          | 0/158 [00:00<?, ?it/s]"
      ]
     },
     "metadata": {},
     "output_type": "display_data"
    },
    {
     "name": "stdout",
     "output_type": "stream",
     "text": [
      "| epoch 228 |    31/  158 batches | lr 0.00000 | ms/batch 30.68673 | loss 3.99784\n",
      "| epoch 228 |    62/  158 batches | lr 0.00000 | ms/batch 29.69643 | loss 3.76166\n",
      "| epoch 228 |    93/  158 batches | lr 0.00000 | ms/batch 29.44951 | loss 3.85824\n",
      "| epoch 228 |   124/  158 batches | lr 0.00000 | ms/batch 29.56419 | loss 3.75589\n",
      "| epoch 228 |   155/  158 batches | lr 0.00000 | ms/batch 29.17254 | loss 3.62760\n",
      "-----------------------------------------------------------------------------------------\n",
      "| end of epoch 228 | time:  4.96s | valid loss 7.7949 | mean loss   3.8218\n",
      "-----------------------------------------------------------------------------------------\n",
      "Epoch #229\n"
     ]
    },
    {
     "data": {
      "application/vnd.jupyter.widget-view+json": {
       "model_id": "bb2c189399164485a39eac462e49ae6d",
       "version_major": 2,
       "version_minor": 0
      },
      "text/plain": [
       "  0%|          | 0/158 [00:00<?, ?it/s]"
      ]
     },
     "metadata": {},
     "output_type": "display_data"
    },
    {
     "name": "stdout",
     "output_type": "stream",
     "text": [
      "| epoch 229 |    31/  158 batches | lr 0.00000 | ms/batch 30.29449 | loss 3.92546\n",
      "| epoch 229 |    62/  158 batches | lr 0.00000 | ms/batch 29.53978 | loss 3.75165\n",
      "| epoch 229 |    93/  158 batches | lr 0.00000 | ms/batch 29.54598 | loss 3.87711\n",
      "| epoch 229 |   124/  158 batches | lr 0.00000 | ms/batch 29.06129 | loss 3.65989\n",
      "| epoch 229 |   155/  158 batches | lr 0.00000 | ms/batch 31.12160 | loss 3.80639\n",
      "-----------------------------------------------------------------------------------------\n",
      "| end of epoch 229 | time:  5.05s | valid loss 7.7949 | mean loss   3.8216\n",
      "-----------------------------------------------------------------------------------------\n",
      "Epoch #230\n"
     ]
    },
    {
     "data": {
      "application/vnd.jupyter.widget-view+json": {
       "model_id": "31c63d0dc21546bfbaed10a9984c5676",
       "version_major": 2,
       "version_minor": 0
      },
      "text/plain": [
       "  0%|          | 0/158 [00:00<?, ?it/s]"
      ]
     },
     "metadata": {},
     "output_type": "display_data"
    },
    {
     "name": "stdout",
     "output_type": "stream",
     "text": [
      "| epoch 230 |    31/  158 batches | lr 0.00000 | ms/batch 30.48913 | loss 3.88036\n",
      "| epoch 230 |    62/  158 batches | lr 0.00000 | ms/batch 29.69916 | loss 3.70397\n",
      "| epoch 230 |    93/  158 batches | lr 0.00000 | ms/batch 28.53730 | loss 3.90270\n",
      "| epoch 230 |   124/  158 batches | lr 0.00000 | ms/batch 29.43865 | loss 3.79427\n",
      "| epoch 230 |   155/  158 batches | lr 0.00000 | ms/batch 29.10892 | loss 3.79386\n",
      "-----------------------------------------------------------------------------------------\n",
      "| end of epoch 230 | time:  4.92s | valid loss 7.7949 | mean loss   3.8214\n",
      "-----------------------------------------------------------------------------------------\n",
      "Epoch #231\n"
     ]
    },
    {
     "data": {
      "application/vnd.jupyter.widget-view+json": {
       "model_id": "13309113e11a4e52827f78643de05216",
       "version_major": 2,
       "version_minor": 0
      },
      "text/plain": [
       "  0%|          | 0/158 [00:00<?, ?it/s]"
      ]
     },
     "metadata": {},
     "output_type": "display_data"
    },
    {
     "name": "stdout",
     "output_type": "stream",
     "text": [
      "| epoch 231 |    31/  158 batches | lr 0.00000 | ms/batch 30.71216 | loss 3.83970\n",
      "| epoch 231 |    62/  158 batches | lr 0.00000 | ms/batch 29.15693 | loss 3.82133\n",
      "| epoch 231 |    93/  158 batches | lr 0.00000 | ms/batch 29.59371 | loss 3.73134\n",
      "| epoch 231 |   124/  158 batches | lr 0.00000 | ms/batch 29.27116 | loss 3.84308\n",
      "| epoch 231 |   155/  158 batches | lr 0.00000 | ms/batch 29.52127 | loss 3.80298\n",
      "-----------------------------------------------------------------------------------------\n",
      "| end of epoch 231 | time:  4.96s | valid loss 7.7949 | mean loss   3.8213\n",
      "-----------------------------------------------------------------------------------------\n",
      "Epoch #232\n"
     ]
    },
    {
     "data": {
      "application/vnd.jupyter.widget-view+json": {
       "model_id": "e8b8dadab2614746bba03f8c8d5bc835",
       "version_major": 2,
       "version_minor": 0
      },
      "text/plain": [
       "  0%|          | 0/158 [00:00<?, ?it/s]"
      ]
     },
     "metadata": {},
     "output_type": "display_data"
    },
    {
     "name": "stdout",
     "output_type": "stream",
     "text": [
      "| epoch 232 |    31/  158 batches | lr 0.00000 | ms/batch 30.22492 | loss 3.80517\n",
      "| epoch 232 |    62/  158 batches | lr 0.00000 | ms/batch 29.31047 | loss 3.79298\n",
      "| epoch 232 |    93/  158 batches | lr 0.00000 | ms/batch 29.54120 | loss 3.77246\n",
      "| epoch 232 |   124/  158 batches | lr 0.00000 | ms/batch 29.56108 | loss 3.86484\n",
      "| epoch 232 |   155/  158 batches | lr 0.00000 | ms/batch 29.29553 | loss 3.82056\n",
      "-----------------------------------------------------------------------------------------\n",
      "| end of epoch 232 | time:  4.94s | valid loss 7.7949 | mean loss   3.8211\n",
      "-----------------------------------------------------------------------------------------\n",
      "Epoch #233\n"
     ]
    },
    {
     "data": {
      "application/vnd.jupyter.widget-view+json": {
       "model_id": "05d799b8de5d450b9b7cc7f6d056da91",
       "version_major": 2,
       "version_minor": 0
      },
      "text/plain": [
       "  0%|          | 0/158 [00:00<?, ?it/s]"
      ]
     },
     "metadata": {},
     "output_type": "display_data"
    },
    {
     "name": "stdout",
     "output_type": "stream",
     "text": [
      "| epoch 233 |    31/  158 batches | lr 0.00000 | ms/batch 30.89726 | loss 3.80210\n",
      "| epoch 233 |    62/  158 batches | lr 0.00000 | ms/batch 28.39605 | loss 3.77217\n",
      "| epoch 233 |    93/  158 batches | lr 0.00000 | ms/batch 30.32313 | loss 3.86884\n",
      "| epoch 233 |   124/  158 batches | lr 0.00000 | ms/batch 29.57493 | loss 3.89914\n",
      "| epoch 233 |   155/  158 batches | lr 0.00000 | ms/batch 29.84772 | loss 3.71210\n",
      "-----------------------------------------------------------------------------------------\n",
      "| end of epoch 233 | time:  4.98s | valid loss 7.7949 | mean loss   3.8210\n",
      "-----------------------------------------------------------------------------------------\n",
      "Epoch #234\n"
     ]
    },
    {
     "data": {
      "application/vnd.jupyter.widget-view+json": {
       "model_id": "4cff28b55f1a4172b9a8a5ed79c4b5cd",
       "version_major": 2,
       "version_minor": 0
      },
      "text/plain": [
       "  0%|          | 0/158 [00:00<?, ?it/s]"
      ]
     },
     "metadata": {},
     "output_type": "display_data"
    },
    {
     "name": "stdout",
     "output_type": "stream",
     "text": [
      "| epoch 234 |    31/  158 batches | lr 0.00000 | ms/batch 30.56888 | loss 3.91671\n",
      "| epoch 234 |    62/  158 batches | lr 0.00000 | ms/batch 29.41047 | loss 3.83959\n",
      "| epoch 234 |    93/  158 batches | lr 0.00000 | ms/batch 29.53862 | loss 3.76431\n",
      "| epoch 234 |   124/  158 batches | lr 0.00000 | ms/batch 29.94301 | loss 3.63807\n",
      "| epoch 234 |   155/  158 batches | lr 0.00000 | ms/batch 29.36482 | loss 3.90738\n",
      "-----------------------------------------------------------------------------------------\n",
      "| end of epoch 234 | time:  4.96s | valid loss 7.7949 | mean loss   3.8208\n",
      "-----------------------------------------------------------------------------------------\n",
      "Epoch #235\n"
     ]
    },
    {
     "data": {
      "application/vnd.jupyter.widget-view+json": {
       "model_id": "fba3f5980b5246448c1cfa054f0d1650",
       "version_major": 2,
       "version_minor": 0
      },
      "text/plain": [
       "  0%|          | 0/158 [00:00<?, ?it/s]"
      ]
     },
     "metadata": {},
     "output_type": "display_data"
    },
    {
     "name": "stdout",
     "output_type": "stream",
     "text": [
      "| epoch 235 |    31/  158 batches | lr 0.00000 | ms/batch 30.53366 | loss 3.83830\n",
      "| epoch 235 |    62/  158 batches | lr 0.00000 | ms/batch 29.16060 | loss 3.54600\n",
      "| epoch 235 |    93/  158 batches | lr 0.00000 | ms/batch 29.04084 | loss 3.96281\n",
      "| epoch 235 |   124/  158 batches | lr 0.00000 | ms/batch 29.87512 | loss 3.81368\n",
      "| epoch 235 |   155/  158 batches | lr 0.00000 | ms/batch 29.01576 | loss 3.87650\n",
      "-----------------------------------------------------------------------------------------\n",
      "| end of epoch 235 | time:  5.03s | valid loss 7.7949 | mean loss   3.8206\n",
      "-----------------------------------------------------------------------------------------\n",
      "Epoch #236\n"
     ]
    },
    {
     "data": {
      "application/vnd.jupyter.widget-view+json": {
       "model_id": "b1844f05185d4343be98f4ed2ae1dfd4",
       "version_major": 2,
       "version_minor": 0
      },
      "text/plain": [
       "  0%|          | 0/158 [00:00<?, ?it/s]"
      ]
     },
     "metadata": {},
     "output_type": "display_data"
    },
    {
     "name": "stdout",
     "output_type": "stream",
     "text": [
      "| epoch 236 |    31/  158 batches | lr 0.00000 | ms/batch 29.76851 | loss 4.06163\n",
      "| epoch 236 |    62/  158 batches | lr 0.00000 | ms/batch 29.25174 | loss 3.65564\n",
      "| epoch 236 |    93/  158 batches | lr 0.00000 | ms/batch 29.54117 | loss 3.83008\n",
      "| epoch 236 |   124/  158 batches | lr 0.00000 | ms/batch 29.34384 | loss 3.67841\n",
      "| epoch 236 |   155/  158 batches | lr 0.00000 | ms/batch 29.22541 | loss 3.83100\n",
      "-----------------------------------------------------------------------------------------\n",
      "| end of epoch 236 | time:  4.91s | valid loss 7.7949 | mean loss   3.8205\n",
      "-----------------------------------------------------------------------------------------\n",
      "Epoch #237\n"
     ]
    },
    {
     "data": {
      "application/vnd.jupyter.widget-view+json": {
       "model_id": "23bfc001a9d74208b2d07013601883b8",
       "version_major": 2,
       "version_minor": 0
      },
      "text/plain": [
       "  0%|          | 0/158 [00:00<?, ?it/s]"
      ]
     },
     "metadata": {},
     "output_type": "display_data"
    },
    {
     "name": "stdout",
     "output_type": "stream",
     "text": [
      "| epoch 237 |    31/  158 batches | lr 0.00000 | ms/batch 30.45933 | loss 3.90881\n",
      "| epoch 237 |    62/  158 batches | lr 0.00000 | ms/batch 29.60466 | loss 3.84947\n",
      "| epoch 237 |    93/  158 batches | lr 0.00000 | ms/batch 29.31290 | loss 3.67324\n",
      "| epoch 237 |   124/  158 batches | lr 0.00000 | ms/batch 29.89356 | loss 3.76273\n",
      "| epoch 237 |   155/  158 batches | lr 0.00000 | ms/batch 29.34183 | loss 3.85365\n",
      "-----------------------------------------------------------------------------------------\n",
      "| end of epoch 237 | time:  4.96s | valid loss 7.7949 | mean loss   3.8203\n",
      "-----------------------------------------------------------------------------------------\n",
      "Epoch #238\n"
     ]
    },
    {
     "data": {
      "application/vnd.jupyter.widget-view+json": {
       "model_id": "213dcb90e7d94188b8eb5e9448d76dea",
       "version_major": 2,
       "version_minor": 0
      },
      "text/plain": [
       "  0%|          | 0/158 [00:00<?, ?it/s]"
      ]
     },
     "metadata": {},
     "output_type": "display_data"
    },
    {
     "name": "stdout",
     "output_type": "stream",
     "text": [
      "| epoch 238 |    31/  158 batches | lr 0.00000 | ms/batch 30.77524 | loss 3.85640\n",
      "| epoch 238 |    62/  158 batches | lr 0.00000 | ms/batch 29.30448 | loss 3.80042\n",
      "| epoch 238 |    93/  158 batches | lr 0.00000 | ms/batch 29.82236 | loss 3.73187\n",
      "| epoch 238 |   124/  158 batches | lr 0.00000 | ms/batch 29.57629 | loss 3.60839\n",
      "| epoch 238 |   155/  158 batches | lr 0.00000 | ms/batch 29.46598 | loss 4.04869\n",
      "-----------------------------------------------------------------------------------------\n",
      "| end of epoch 238 | time:  4.97s | valid loss 7.7949 | mean loss   3.8202\n",
      "-----------------------------------------------------------------------------------------\n",
      "Epoch #239\n"
     ]
    },
    {
     "data": {
      "application/vnd.jupyter.widget-view+json": {
       "model_id": "1e3875cf360848a5b5d7bc2922899cdf",
       "version_major": 2,
       "version_minor": 0
      },
      "text/plain": [
       "  0%|          | 0/158 [00:00<?, ?it/s]"
      ]
     },
     "metadata": {},
     "output_type": "display_data"
    },
    {
     "name": "stdout",
     "output_type": "stream",
     "text": [
      "| epoch 239 |    31/  158 batches | lr 0.00000 | ms/batch 30.55701 | loss 3.74335\n",
      "| epoch 239 |    62/  158 batches | lr 0.00000 | ms/batch 29.15838 | loss 3.77385\n",
      "| epoch 239 |    93/  158 batches | lr 0.00000 | ms/batch 29.38945 | loss 3.91498\n",
      "| epoch 239 |   124/  158 batches | lr 0.00000 | ms/batch 29.74147 | loss 3.81968\n",
      "| epoch 239 |   155/  158 batches | lr 0.00000 | ms/batch 29.78765 | loss 3.82832\n",
      "-----------------------------------------------------------------------------------------\n",
      "| end of epoch 239 | time:  4.95s | valid loss 7.7949 | mean loss   3.8200\n",
      "-----------------------------------------------------------------------------------------\n",
      "Epoch #240\n"
     ]
    },
    {
     "data": {
      "application/vnd.jupyter.widget-view+json": {
       "model_id": "3c9629596fc9438ca3db996af38485d8",
       "version_major": 2,
       "version_minor": 0
      },
      "text/plain": [
       "  0%|          | 0/158 [00:00<?, ?it/s]"
      ]
     },
     "metadata": {},
     "output_type": "display_data"
    },
    {
     "name": "stdout",
     "output_type": "stream",
     "text": [
      "| epoch 240 |    31/  158 batches | lr 0.00000 | ms/batch 30.85073 | loss 3.90068\n",
      "| epoch 240 |    62/  158 batches | lr 0.00000 | ms/batch 29.51791 | loss 3.78670\n",
      "| epoch 240 |    93/  158 batches | lr 0.00000 | ms/batch 29.66903 | loss 3.90082\n",
      "| epoch 240 |   124/  158 batches | lr 0.00000 | ms/batch 29.43607 | loss 3.67885\n",
      "| epoch 240 |   155/  158 batches | lr 0.00000 | ms/batch 30.95428 | loss 3.82022\n",
      "-----------------------------------------------------------------------------------------\n",
      "| end of epoch 240 | time:  5.23s | valid loss 7.7949 | mean loss   3.8199\n",
      "-----------------------------------------------------------------------------------------\n",
      "Epoch #241\n"
     ]
    },
    {
     "data": {
      "application/vnd.jupyter.widget-view+json": {
       "model_id": "69336988e3c3496b80e1f98319acce7f",
       "version_major": 2,
       "version_minor": 0
      },
      "text/plain": [
       "  0%|          | 0/158 [00:00<?, ?it/s]"
      ]
     },
     "metadata": {},
     "output_type": "display_data"
    },
    {
     "name": "stdout",
     "output_type": "stream",
     "text": [
      "| epoch 241 |    31/  158 batches | lr 0.00000 | ms/batch 31.92609 | loss 3.94241\n",
      "| epoch 241 |    62/  158 batches | lr 0.00000 | ms/batch 29.28087 | loss 3.74673\n",
      "| epoch 241 |    93/  158 batches | lr 0.00000 | ms/batch 29.38361 | loss 3.73082\n",
      "| epoch 241 |   124/  158 batches | lr 0.00000 | ms/batch 29.51690 | loss 3.97932\n",
      "| epoch 241 |   155/  158 batches | lr 0.00000 | ms/batch 29.23945 | loss 3.68707\n",
      "-----------------------------------------------------------------------------------------\n",
      "| end of epoch 241 | time:  5.07s | valid loss 7.7949 | mean loss   3.8197\n",
      "-----------------------------------------------------------------------------------------\n",
      "Epoch #242\n"
     ]
    },
    {
     "data": {
      "application/vnd.jupyter.widget-view+json": {
       "model_id": "acbf6274b3ab4064bcfc8faaa40d5ce9",
       "version_major": 2,
       "version_minor": 0
      },
      "text/plain": [
       "  0%|          | 0/158 [00:00<?, ?it/s]"
      ]
     },
     "metadata": {},
     "output_type": "display_data"
    },
    {
     "name": "stdout",
     "output_type": "stream",
     "text": [
      "| epoch 242 |    31/  158 batches | lr 0.00000 | ms/batch 31.06115 | loss 3.76494\n",
      "| epoch 242 |    62/  158 batches | lr 0.00000 | ms/batch 29.48420 | loss 3.84719\n",
      "| epoch 242 |    93/  158 batches | lr 0.00000 | ms/batch 30.00872 | loss 3.67944\n",
      "| epoch 242 |   124/  158 batches | lr 0.00000 | ms/batch 29.68655 | loss 3.89071\n",
      "| epoch 242 |   155/  158 batches | lr 0.00000 | ms/batch 30.34484 | loss 3.85250\n",
      "-----------------------------------------------------------------------------------------\n",
      "| end of epoch 242 | time:  5.02s | valid loss 7.7949 | mean loss   3.8196\n",
      "-----------------------------------------------------------------------------------------\n",
      "Epoch #243\n"
     ]
    },
    {
     "data": {
      "application/vnd.jupyter.widget-view+json": {
       "model_id": "9cf166ef0fef4e4ba7b7e9cf5e0b9b57",
       "version_major": 2,
       "version_minor": 0
      },
      "text/plain": [
       "  0%|          | 0/158 [00:00<?, ?it/s]"
      ]
     },
     "metadata": {},
     "output_type": "display_data"
    },
    {
     "name": "stdout",
     "output_type": "stream",
     "text": [
      "| epoch 243 |    31/  158 batches | lr 0.00000 | ms/batch 30.46523 | loss 3.79212\n",
      "| epoch 243 |    62/  158 batches | lr 0.00000 | ms/batch 29.25554 | loss 3.77500\n",
      "| epoch 243 |    93/  158 batches | lr 0.00000 | ms/batch 38.64157 | loss 3.85745\n",
      "| epoch 243 |   124/  158 batches | lr 0.00000 | ms/batch 29.92478 | loss 3.86102\n",
      "| epoch 243 |   155/  158 batches | lr 0.00000 | ms/batch 29.87546 | loss 3.76932\n",
      "-----------------------------------------------------------------------------------------\n",
      "| end of epoch 243 | time:  5.26s | valid loss 7.7949 | mean loss   3.8194\n",
      "-----------------------------------------------------------------------------------------\n",
      "Epoch #244\n"
     ]
    },
    {
     "data": {
      "application/vnd.jupyter.widget-view+json": {
       "model_id": "508c18e25e224f118e9820c1d620437d",
       "version_major": 2,
       "version_minor": 0
      },
      "text/plain": [
       "  0%|          | 0/158 [00:00<?, ?it/s]"
      ]
     },
     "metadata": {},
     "output_type": "display_data"
    },
    {
     "name": "stdout",
     "output_type": "stream",
     "text": [
      "| epoch 244 |    31/  158 batches | lr 0.00000 | ms/batch 30.75823 | loss 3.85831\n",
      "| epoch 244 |    62/  158 batches | lr 0.00000 | ms/batch 29.61306 | loss 3.81709\n",
      "| epoch 244 |    93/  158 batches | lr 0.00000 | ms/batch 30.04240 | loss 3.82766\n",
      "| epoch 244 |   124/  158 batches | lr 0.00000 | ms/batch 30.00020 | loss 3.80396\n",
      "| epoch 244 |   155/  158 batches | lr 0.00000 | ms/batch 29.58542 | loss 3.73250\n",
      "-----------------------------------------------------------------------------------------\n",
      "| end of epoch 244 | time:  5.01s | valid loss 7.7949 | mean loss   3.8193\n",
      "-----------------------------------------------------------------------------------------\n",
      "Epoch #245\n"
     ]
    },
    {
     "data": {
      "application/vnd.jupyter.widget-view+json": {
       "model_id": "6829cfccb0c341feab9a30b76fd962d5",
       "version_major": 2,
       "version_minor": 0
      },
      "text/plain": [
       "  0%|          | 0/158 [00:00<?, ?it/s]"
      ]
     },
     "metadata": {},
     "output_type": "display_data"
    },
    {
     "name": "stdout",
     "output_type": "stream",
     "text": [
      "| epoch 245 |    31/  158 batches | lr 0.00000 | ms/batch 29.88498 | loss 3.85444\n",
      "| epoch 245 |    62/  158 batches | lr 0.00000 | ms/batch 29.37340 | loss 3.78044\n",
      "| epoch 245 |    93/  158 batches | lr 0.00000 | ms/batch 29.84677 | loss 3.79417\n",
      "| epoch 245 |   124/  158 batches | lr 0.00000 | ms/batch 29.75375 | loss 3.72721\n",
      "| epoch 245 |   155/  158 batches | lr 0.00000 | ms/batch 29.85997 | loss 3.89382\n",
      "-----------------------------------------------------------------------------------------\n",
      "| end of epoch 245 | time:  4.97s | valid loss 7.7949 | mean loss   3.8191\n",
      "-----------------------------------------------------------------------------------------\n",
      "Epoch #246\n"
     ]
    },
    {
     "data": {
      "application/vnd.jupyter.widget-view+json": {
       "model_id": "182659db561f47678e6bb754978ce4b3",
       "version_major": 2,
       "version_minor": 0
      },
      "text/plain": [
       "  0%|          | 0/158 [00:00<?, ?it/s]"
      ]
     },
     "metadata": {},
     "output_type": "display_data"
    },
    {
     "name": "stdout",
     "output_type": "stream",
     "text": [
      "| epoch 246 |    31/  158 batches | lr 0.00000 | ms/batch 30.98173 | loss 3.88840\n",
      "| epoch 246 |    62/  158 batches | lr 0.00000 | ms/batch 29.82743 | loss 3.74402\n",
      "| epoch 246 |    93/  158 batches | lr 0.00000 | ms/batch 29.57488 | loss 3.68315\n",
      "| epoch 246 |   124/  158 batches | lr 0.00000 | ms/batch 29.81214 | loss 3.84380\n",
      "| epoch 246 |   155/  158 batches | lr 0.00000 | ms/batch 30.09952 | loss 3.82221\n",
      "-----------------------------------------------------------------------------------------\n",
      "| end of epoch 246 | time:  5.03s | valid loss 7.7949 | mean loss   3.8190\n",
      "-----------------------------------------------------------------------------------------\n",
      "Epoch #247\n"
     ]
    },
    {
     "data": {
      "application/vnd.jupyter.widget-view+json": {
       "model_id": "e722391ee6774377bd11bc0c24595586",
       "version_major": 2,
       "version_minor": 0
      },
      "text/plain": [
       "  0%|          | 0/158 [00:00<?, ?it/s]"
      ]
     },
     "metadata": {},
     "output_type": "display_data"
    },
    {
     "name": "stdout",
     "output_type": "stream",
     "text": [
      "| epoch 247 |    31/  158 batches | lr 0.00000 | ms/batch 30.65734 | loss 3.82619\n",
      "| epoch 247 |    62/  158 batches | lr 0.00000 | ms/batch 30.37957 | loss 3.78387\n",
      "| epoch 247 |    93/  158 batches | lr 0.00000 | ms/batch 28.87366 | loss 3.84383\n",
      "| epoch 247 |   124/  158 batches | lr 0.00000 | ms/batch 29.50555 | loss 3.75180\n",
      "| epoch 247 |   155/  158 batches | lr 0.00000 | ms/batch 32.59122 | loss 3.87027\n",
      "-----------------------------------------------------------------------------------------\n",
      "| end of epoch 247 | time:  5.06s | valid loss 7.7949 | mean loss   3.8189\n",
      "-----------------------------------------------------------------------------------------\n",
      "Epoch #248\n"
     ]
    },
    {
     "data": {
      "application/vnd.jupyter.widget-view+json": {
       "model_id": "da6c3897fed14fd0a65b0d39c774f987",
       "version_major": 2,
       "version_minor": 0
      },
      "text/plain": [
       "  0%|          | 0/158 [00:00<?, ?it/s]"
      ]
     },
     "metadata": {},
     "output_type": "display_data"
    },
    {
     "name": "stdout",
     "output_type": "stream",
     "text": [
      "| epoch 248 |    31/  158 batches | lr 0.00000 | ms/batch 30.66153 | loss 3.95208\n",
      "| epoch 248 |    62/  158 batches | lr 0.00000 | ms/batch 29.21671 | loss 3.79066\n",
      "| epoch 248 |    93/  158 batches | lr 0.00000 | ms/batch 29.29511 | loss 3.70672\n",
      "| epoch 248 |   124/  158 batches | lr 0.00000 | ms/batch 29.93897 | loss 3.81641\n",
      "| epoch 248 |   155/  158 batches | lr 0.00000 | ms/batch 30.32717 | loss 3.77201\n",
      "-----------------------------------------------------------------------------------------\n",
      "| end of epoch 248 | time:  4.98s | valid loss 7.7949 | mean loss   3.8187\n",
      "-----------------------------------------------------------------------------------------\n",
      "Epoch #249\n"
     ]
    },
    {
     "data": {
      "application/vnd.jupyter.widget-view+json": {
       "model_id": "b51b166a33714cd7af3073c2760b4f1c",
       "version_major": 2,
       "version_minor": 0
      },
      "text/plain": [
       "  0%|          | 0/158 [00:00<?, ?it/s]"
      ]
     },
     "metadata": {},
     "output_type": "display_data"
    },
    {
     "name": "stdout",
     "output_type": "stream",
     "text": [
      "| epoch 249 |    31/  158 batches | lr 0.00000 | ms/batch 30.57418 | loss 3.77628\n",
      "| epoch 249 |    62/  158 batches | lr 0.00000 | ms/batch 29.15053 | loss 3.81353\n",
      "| epoch 249 |    93/  158 batches | lr 0.00000 | ms/batch 30.19543 | loss 3.74737\n",
      "| epoch 249 |   124/  158 batches | lr 0.00000 | ms/batch 29.32578 | loss 3.76723\n",
      "| epoch 249 |   155/  158 batches | lr 0.00000 | ms/batch 29.74014 | loss 3.89080\n",
      "-----------------------------------------------------------------------------------------\n",
      "| end of epoch 249 | time:  4.98s | valid loss 7.7949 | mean loss   3.8186\n",
      "-----------------------------------------------------------------------------------------\n",
      "Epoch #250\n"
     ]
    },
    {
     "data": {
      "application/vnd.jupyter.widget-view+json": {
       "model_id": "a0ccdea226d34bb5bbd19bcb07bda599",
       "version_major": 2,
       "version_minor": 0
      },
      "text/plain": [
       "  0%|          | 0/158 [00:00<?, ?it/s]"
      ]
     },
     "metadata": {},
     "output_type": "display_data"
    },
    {
     "name": "stdout",
     "output_type": "stream",
     "text": [
      "| epoch 250 |    31/  158 batches | lr 0.00000 | ms/batch 30.38754 | loss 4.00447\n",
      "| epoch 250 |    62/  158 batches | lr 0.00000 | ms/batch 29.58229 | loss 3.86640\n",
      "| epoch 250 |    93/  158 batches | lr 0.00000 | ms/batch 29.33210 | loss 3.57321\n",
      "| epoch 250 |   124/  158 batches | lr 0.00000 | ms/batch 29.58469 | loss 3.91551\n",
      "| epoch 250 |   155/  158 batches | lr 0.00000 | ms/batch 29.54500 | loss 3.66303\n",
      "-----------------------------------------------------------------------------------------\n",
      "| end of epoch 250 | time:  4.96s | valid loss 7.7949 | mean loss   3.8184\n",
      "-----------------------------------------------------------------------------------------\n",
      "Epoch #251\n"
     ]
    },
    {
     "data": {
      "application/vnd.jupyter.widget-view+json": {
       "model_id": "dde2cee9ae864f4795f153045c46778b",
       "version_major": 2,
       "version_minor": 0
      },
      "text/plain": [
       "  0%|          | 0/158 [00:00<?, ?it/s]"
      ]
     },
     "metadata": {},
     "output_type": "display_data"
    },
    {
     "name": "stdout",
     "output_type": "stream",
     "text": [
      "| epoch 251 |    31/  158 batches | lr 0.00000 | ms/batch 30.44665 | loss 3.79352\n",
      "| epoch 251 |    62/  158 batches | lr 0.00000 | ms/batch 29.45516 | loss 3.78779\n",
      "| epoch 251 |    93/  158 batches | lr 0.00000 | ms/batch 29.56839 | loss 3.70818\n",
      "| epoch 251 |   124/  158 batches | lr 0.00000 | ms/batch 29.98907 | loss 3.76362\n",
      "| epoch 251 |   155/  158 batches | lr 0.00000 | ms/batch 29.76504 | loss 3.98402\n",
      "-----------------------------------------------------------------------------------------\n",
      "| end of epoch 251 | time:  4.99s | valid loss 7.7949 | mean loss   3.8183\n",
      "-----------------------------------------------------------------------------------------\n",
      "Epoch #252\n"
     ]
    },
    {
     "data": {
      "application/vnd.jupyter.widget-view+json": {
       "model_id": "940fa5ff63fb42e3af0986c4ee7b540f",
       "version_major": 2,
       "version_minor": 0
      },
      "text/plain": [
       "  0%|          | 0/158 [00:00<?, ?it/s]"
      ]
     },
     "metadata": {},
     "output_type": "display_data"
    },
    {
     "name": "stdout",
     "output_type": "stream",
     "text": [
      "| epoch 252 |    31/  158 batches | lr 0.00000 | ms/batch 30.52195 | loss 3.89029\n",
      "| epoch 252 |    62/  158 batches | lr 0.00000 | ms/batch 29.76917 | loss 3.77147\n",
      "| epoch 252 |    93/  158 batches | lr 0.00000 | ms/batch 29.27991 | loss 3.80739\n",
      "| epoch 252 |   124/  158 batches | lr 0.00000 | ms/batch 29.77972 | loss 3.69710\n",
      "| epoch 252 |   155/  158 batches | lr 0.00000 | ms/batch 29.92061 | loss 3.86764\n",
      "-----------------------------------------------------------------------------------------\n",
      "| end of epoch 252 | time:  4.99s | valid loss 7.7949 | mean loss   3.8182\n",
      "-----------------------------------------------------------------------------------------\n",
      "Epoch #253\n"
     ]
    },
    {
     "data": {
      "application/vnd.jupyter.widget-view+json": {
       "model_id": "84ac2043e4e1409bb1a2fc54d3c89532",
       "version_major": 2,
       "version_minor": 0
      },
      "text/plain": [
       "  0%|          | 0/158 [00:00<?, ?it/s]"
      ]
     },
     "metadata": {},
     "output_type": "display_data"
    },
    {
     "name": "stdout",
     "output_type": "stream",
     "text": [
      "| epoch 253 |    31/  158 batches | lr 0.00000 | ms/batch 30.19669 | loss 3.93040\n",
      "| epoch 253 |    62/  158 batches | lr 0.00000 | ms/batch 29.26260 | loss 3.84221\n",
      "| epoch 253 |    93/  158 batches | lr 0.00000 | ms/batch 29.34388 | loss 3.71758\n",
      "| epoch 253 |   124/  158 batches | lr 0.00000 | ms/batch 29.47790 | loss 3.77788\n",
      "| epoch 253 |   155/  158 batches | lr 0.00000 | ms/batch 32.33516 | loss 3.79482\n",
      "-----------------------------------------------------------------------------------------\n",
      "| end of epoch 253 | time:  5.02s | valid loss 7.7949 | mean loss   3.8180\n",
      "-----------------------------------------------------------------------------------------\n",
      "Epoch #254\n"
     ]
    },
    {
     "data": {
      "application/vnd.jupyter.widget-view+json": {
       "model_id": "2ddfb73f68c74a109aae6f7b53130839",
       "version_major": 2,
       "version_minor": 0
      },
      "text/plain": [
       "  0%|          | 0/158 [00:00<?, ?it/s]"
      ]
     },
     "metadata": {},
     "output_type": "display_data"
    },
    {
     "name": "stdout",
     "output_type": "stream",
     "text": [
      "| epoch 254 |    31/  158 batches | lr 0.00000 | ms/batch 30.42550 | loss 3.81739\n",
      "| epoch 254 |    62/  158 batches | lr 0.00000 | ms/batch 29.42251 | loss 3.65121\n",
      "| epoch 254 |    93/  158 batches | lr 0.00000 | ms/batch 29.51015 | loss 3.87097\n",
      "| epoch 254 |   124/  158 batches | lr 0.00000 | ms/batch 29.29183 | loss 3.83013\n",
      "| epoch 254 |   155/  158 batches | lr 0.00000 | ms/batch 29.74281 | loss 3.81470\n",
      "-----------------------------------------------------------------------------------------\n",
      "| end of epoch 254 | time:  4.97s | valid loss 7.7949 | mean loss   3.8179\n",
      "-----------------------------------------------------------------------------------------\n",
      "Epoch #255\n"
     ]
    },
    {
     "data": {
      "application/vnd.jupyter.widget-view+json": {
       "model_id": "30278092081e4c6cb5b8c8d0f72b8d88",
       "version_major": 2,
       "version_minor": 0
      },
      "text/plain": [
       "  0%|          | 0/158 [00:00<?, ?it/s]"
      ]
     },
     "metadata": {},
     "output_type": "display_data"
    },
    {
     "name": "stdout",
     "output_type": "stream",
     "text": [
      "| epoch 255 |    31/  158 batches | lr 0.00000 | ms/batch 30.62440 | loss 3.92417\n",
      "| epoch 255 |    62/  158 batches | lr 0.00000 | ms/batch 29.24408 | loss 3.82870\n",
      "| epoch 255 |    93/  158 batches | lr 0.00000 | ms/batch 30.01157 | loss 3.83770\n",
      "| epoch 255 |   124/  158 batches | lr 0.00000 | ms/batch 29.23229 | loss 3.60455\n",
      "| epoch 255 |   155/  158 batches | lr 0.00000 | ms/batch 29.62591 | loss 3.92168\n",
      "-----------------------------------------------------------------------------------------\n",
      "| end of epoch 255 | time:  4.97s | valid loss 7.7949 | mean loss   3.8178\n",
      "-----------------------------------------------------------------------------------------\n",
      "Epoch #256\n"
     ]
    },
    {
     "data": {
      "application/vnd.jupyter.widget-view+json": {
       "model_id": "39845fd7df3a40b0a7d579ade11f71ee",
       "version_major": 2,
       "version_minor": 0
      },
      "text/plain": [
       "  0%|          | 0/158 [00:00<?, ?it/s]"
      ]
     },
     "metadata": {},
     "output_type": "display_data"
    },
    {
     "name": "stdout",
     "output_type": "stream",
     "text": [
      "| epoch 256 |    31/  158 batches | lr 0.00000 | ms/batch 30.05836 | loss 3.92303\n",
      "| epoch 256 |    62/  158 batches | lr 0.00000 | ms/batch 29.69769 | loss 3.83397\n",
      "| epoch 256 |    93/  158 batches | lr 0.00000 | ms/batch 28.87670 | loss 3.68239\n",
      "| epoch 256 |   124/  158 batches | lr 0.00000 | ms/batch 30.19378 | loss 3.77385\n",
      "| epoch 256 |   155/  158 batches | lr 0.00000 | ms/batch 30.23330 | loss 3.74741\n",
      "-----------------------------------------------------------------------------------------\n",
      "| end of epoch 256 | time:  4.98s | valid loss 7.7949 | mean loss   3.8176\n",
      "-----------------------------------------------------------------------------------------\n",
      "Epoch #257\n"
     ]
    },
    {
     "data": {
      "application/vnd.jupyter.widget-view+json": {
       "model_id": "fff4c3c220be4ee9af362643274ea718",
       "version_major": 2,
       "version_minor": 0
      },
      "text/plain": [
       "  0%|          | 0/158 [00:00<?, ?it/s]"
      ]
     },
     "metadata": {},
     "output_type": "display_data"
    },
    {
     "name": "stdout",
     "output_type": "stream",
     "text": [
      "| epoch 257 |    31/  158 batches | lr 0.00000 | ms/batch 30.84946 | loss 3.98631\n",
      "| epoch 257 |    62/  158 batches | lr 0.00000 | ms/batch 29.69969 | loss 3.63458\n",
      "| epoch 257 |    93/  158 batches | lr 0.00000 | ms/batch 29.52410 | loss 3.78872\n",
      "| epoch 257 |   124/  158 batches | lr 0.00000 | ms/batch 29.56646 | loss 3.73997\n",
      "| epoch 257 |   155/  158 batches | lr 0.00000 | ms/batch 29.71783 | loss 3.90084\n",
      "-----------------------------------------------------------------------------------------\n",
      "| end of epoch 257 | time:  4.98s | valid loss 7.7949 | mean loss   3.8175\n",
      "-----------------------------------------------------------------------------------------\n",
      "Epoch #258\n"
     ]
    },
    {
     "data": {
      "application/vnd.jupyter.widget-view+json": {
       "model_id": "70abe452559d4a3b9d9d1d24bc6c224d",
       "version_major": 2,
       "version_minor": 0
      },
      "text/plain": [
       "  0%|          | 0/158 [00:00<?, ?it/s]"
      ]
     },
     "metadata": {},
     "output_type": "display_data"
    },
    {
     "name": "stdout",
     "output_type": "stream",
     "text": [
      "| epoch 258 |    31/  158 batches | lr 0.00000 | ms/batch 30.08091 | loss 4.02125\n",
      "| epoch 258 |    62/  158 batches | lr 0.00000 | ms/batch 29.38964 | loss 3.83269\n",
      "| epoch 258 |    93/  158 batches | lr 0.00000 | ms/batch 29.72106 | loss 3.74148\n",
      "| epoch 258 |   124/  158 batches | lr 0.00000 | ms/batch 29.91125 | loss 3.65802\n",
      "| epoch 258 |   155/  158 batches | lr 0.00000 | ms/batch 29.81783 | loss 3.78617\n",
      "-----------------------------------------------------------------------------------------\n",
      "| end of epoch 258 | time:  4.98s | valid loss 7.7949 | mean loss   3.8174\n",
      "-----------------------------------------------------------------------------------------\n",
      "Epoch #259\n"
     ]
    },
    {
     "data": {
      "application/vnd.jupyter.widget-view+json": {
       "model_id": "65c2730b50714ebea15f0ff0d1513da3",
       "version_major": 2,
       "version_minor": 0
      },
      "text/plain": [
       "  0%|          | 0/158 [00:00<?, ?it/s]"
      ]
     },
     "metadata": {},
     "output_type": "display_data"
    },
    {
     "name": "stdout",
     "output_type": "stream",
     "text": [
      "| epoch 259 |    31/  158 batches | lr 0.00000 | ms/batch 30.49018 | loss 4.02794\n",
      "| epoch 259 |    62/  158 batches | lr 0.00000 | ms/batch 29.00574 | loss 3.65566\n",
      "| epoch 259 |    93/  158 batches | lr 0.00000 | ms/batch 29.77354 | loss 3.84722\n",
      "| epoch 259 |   124/  158 batches | lr 0.00000 | ms/batch 29.48061 | loss 3.84093\n",
      "| epoch 259 |   155/  158 batches | lr 0.00000 | ms/batch 32.04640 | loss 3.67511\n",
      "-----------------------------------------------------------------------------------------\n",
      "| end of epoch 259 | time:  5.04s | valid loss 7.7949 | mean loss   3.8172\n",
      "-----------------------------------------------------------------------------------------\n",
      "Epoch #260\n"
     ]
    },
    {
     "data": {
      "application/vnd.jupyter.widget-view+json": {
       "model_id": "ddf3e23e17e44adba55bd10ccd9dc72a",
       "version_major": 2,
       "version_minor": 0
      },
      "text/plain": [
       "  0%|          | 0/158 [00:00<?, ?it/s]"
      ]
     },
     "metadata": {},
     "output_type": "display_data"
    },
    {
     "name": "stdout",
     "output_type": "stream",
     "text": [
      "| epoch 260 |    31/  158 batches | lr 0.00000 | ms/batch 30.57146 | loss 3.89920\n",
      "| epoch 260 |    62/  158 batches | lr 0.00000 | ms/batch 29.59626 | loss 3.93924\n",
      "| epoch 260 |    93/  158 batches | lr 0.00000 | ms/batch 29.35664 | loss 3.75703\n",
      "| epoch 260 |   124/  158 batches | lr 0.00000 | ms/batch 28.73178 | loss 3.67365\n",
      "| epoch 260 |   155/  158 batches | lr 0.00000 | ms/batch 29.41818 | loss 3.73734\n",
      "-----------------------------------------------------------------------------------------\n",
      "| end of epoch 260 | time:  4.93s | valid loss 7.7949 | mean loss   3.8171\n",
      "-----------------------------------------------------------------------------------------\n",
      "Epoch #261\n"
     ]
    },
    {
     "data": {
      "application/vnd.jupyter.widget-view+json": {
       "model_id": "a64d86abc29a41ff9022c110e3e19804",
       "version_major": 2,
       "version_minor": 0
      },
      "text/plain": [
       "  0%|          | 0/158 [00:00<?, ?it/s]"
      ]
     },
     "metadata": {},
     "output_type": "display_data"
    },
    {
     "name": "stdout",
     "output_type": "stream",
     "text": [
      "| epoch 261 |    31/  158 batches | lr 0.00000 | ms/batch 30.97366 | loss 3.92050\n",
      "| epoch 261 |    62/  158 batches | lr 0.00000 | ms/batch 29.65702 | loss 3.78358\n",
      "| epoch 261 |    93/  158 batches | lr 0.00000 | ms/batch 29.18253 | loss 3.82285\n",
      "| epoch 261 |   124/  158 batches | lr 0.00000 | ms/batch 29.75299 | loss 3.63146\n",
      "| epoch 261 |   155/  158 batches | lr 0.00000 | ms/batch 29.75870 | loss 3.86757\n",
      "-----------------------------------------------------------------------------------------\n",
      "| end of epoch 261 | time:  5.00s | valid loss 7.7949 | mean loss   3.8170\n",
      "-----------------------------------------------------------------------------------------\n",
      "Epoch #262\n"
     ]
    },
    {
     "data": {
      "application/vnd.jupyter.widget-view+json": {
       "model_id": "66adfc4d966b448fb5409b514a1784f7",
       "version_major": 2,
       "version_minor": 0
      },
      "text/plain": [
       "  0%|          | 0/158 [00:00<?, ?it/s]"
      ]
     },
     "metadata": {},
     "output_type": "display_data"
    },
    {
     "name": "stdout",
     "output_type": "stream",
     "text": [
      "| epoch 262 |    31/  158 batches | lr 0.00000 | ms/batch 30.35727 | loss 4.11254\n",
      "| epoch 262 |    62/  158 batches | lr 0.00000 | ms/batch 29.03834 | loss 3.64385\n",
      "| epoch 262 |    93/  158 batches | lr 0.00000 | ms/batch 29.82008 | loss 3.74507\n",
      "| epoch 262 |   124/  158 batches | lr 0.00000 | ms/batch 29.21998 | loss 3.69003\n",
      "| epoch 262 |   155/  158 batches | lr 0.00000 | ms/batch 28.77957 | loss 3.83583\n",
      "-----------------------------------------------------------------------------------------\n",
      "| end of epoch 262 | time:  4.93s | valid loss 7.7949 | mean loss   3.8169\n",
      "-----------------------------------------------------------------------------------------\n",
      "Epoch #263\n"
     ]
    },
    {
     "data": {
      "application/vnd.jupyter.widget-view+json": {
       "model_id": "e047a7b04e4c4affa805815ff8527922",
       "version_major": 2,
       "version_minor": 0
      },
      "text/plain": [
       "  0%|          | 0/158 [00:00<?, ?it/s]"
      ]
     },
     "metadata": {},
     "output_type": "display_data"
    },
    {
     "name": "stdout",
     "output_type": "stream",
     "text": [
      "| epoch 263 |    31/  158 batches | lr 0.00000 | ms/batch 30.88423 | loss 4.04852\n",
      "| epoch 263 |    62/  158 batches | lr 0.00000 | ms/batch 29.00967 | loss 3.76482\n",
      "| epoch 263 |    93/  158 batches | lr 0.00000 | ms/batch 28.77901 | loss 3.73394\n",
      "| epoch 263 |   124/  158 batches | lr 0.00000 | ms/batch 29.56539 | loss 3.70468\n",
      "| epoch 263 |   155/  158 batches | lr 0.00000 | ms/batch 29.27706 | loss 3.76142\n",
      "-----------------------------------------------------------------------------------------\n",
      "| end of epoch 263 | time:  4.93s | valid loss 7.7949 | mean loss   3.8167\n",
      "-----------------------------------------------------------------------------------------\n",
      "Epoch #264\n"
     ]
    },
    {
     "data": {
      "application/vnd.jupyter.widget-view+json": {
       "model_id": "9e1605ca51f14a4ba82c87048a7fbaa6",
       "version_major": 2,
       "version_minor": 0
      },
      "text/plain": [
       "  0%|          | 0/158 [00:00<?, ?it/s]"
      ]
     },
     "metadata": {},
     "output_type": "display_data"
    },
    {
     "name": "stdout",
     "output_type": "stream",
     "text": [
      "| epoch 264 |    31/  158 batches | lr 0.00000 | ms/batch 30.90159 | loss 3.94449\n",
      "| epoch 264 |    62/  158 batches | lr 0.00000 | ms/batch 29.79865 | loss 3.73623\n",
      "| epoch 264 |    93/  158 batches | lr 0.00000 | ms/batch 29.80929 | loss 3.72286\n",
      "| epoch 264 |   124/  158 batches | lr 0.00000 | ms/batch 28.97010 | loss 3.82118\n",
      "| epoch 264 |   155/  158 batches | lr 0.00000 | ms/batch 36.24699 | loss 3.80858\n",
      "-----------------------------------------------------------------------------------------\n",
      "| end of epoch 264 | time:  5.36s | valid loss 7.7949 | mean loss   3.8166\n",
      "-----------------------------------------------------------------------------------------\n",
      "Epoch #265\n"
     ]
    },
    {
     "data": {
      "application/vnd.jupyter.widget-view+json": {
       "model_id": "0a2ce24290444c66ac624dffd7c22e21",
       "version_major": 2,
       "version_minor": 0
      },
      "text/plain": [
       "  0%|          | 0/158 [00:00<?, ?it/s]"
      ]
     },
     "metadata": {},
     "output_type": "display_data"
    },
    {
     "name": "stdout",
     "output_type": "stream",
     "text": [
      "| epoch 265 |    31/  158 batches | lr 0.00000 | ms/batch 29.85681 | loss 3.90408\n",
      "| epoch 265 |    62/  158 batches | lr 0.00000 | ms/batch 29.17723 | loss 3.72176\n",
      "| epoch 265 |    93/  158 batches | lr 0.00000 | ms/batch 29.65997 | loss 3.87937\n",
      "| epoch 265 |   124/  158 batches | lr 0.00000 | ms/batch 29.77516 | loss 3.75256\n",
      "| epoch 265 |   155/  158 batches | lr 0.00000 | ms/batch 32.53225 | loss 3.77192\n",
      "-----------------------------------------------------------------------------------------\n",
      "| end of epoch 265 | time:  5.04s | valid loss 7.7949 | mean loss   3.8165\n",
      "-----------------------------------------------------------------------------------------\n",
      "Epoch #266\n"
     ]
    },
    {
     "data": {
      "application/vnd.jupyter.widget-view+json": {
       "model_id": "630074b70a53498a894bea42e0eb29d2",
       "version_major": 2,
       "version_minor": 0
      },
      "text/plain": [
       "  0%|          | 0/158 [00:00<?, ?it/s]"
      ]
     },
     "metadata": {},
     "output_type": "display_data"
    },
    {
     "name": "stdout",
     "output_type": "stream",
     "text": [
      "| epoch 266 |    31/  158 batches | lr 0.00000 | ms/batch 30.24740 | loss 4.05355\n",
      "| epoch 266 |    62/  158 batches | lr 0.00000 | ms/batch 28.93390 | loss 3.76434\n",
      "| epoch 266 |    93/  158 batches | lr 0.00000 | ms/batch 29.46612 | loss 3.69130\n",
      "| epoch 266 |   124/  158 batches | lr 0.00000 | ms/batch 29.16267 | loss 3.88212\n",
      "| epoch 266 |   155/  158 batches | lr 0.00000 | ms/batch 29.67341 | loss 3.64502\n",
      "-----------------------------------------------------------------------------------------\n",
      "| end of epoch 266 | time:  4.92s | valid loss 7.7949 | mean loss   3.8164\n",
      "-----------------------------------------------------------------------------------------\n",
      "Epoch #267\n"
     ]
    },
    {
     "data": {
      "application/vnd.jupyter.widget-view+json": {
       "model_id": "3d5d5c6a753942f8bd8f09efc0f448c5",
       "version_major": 2,
       "version_minor": 0
      },
      "text/plain": [
       "  0%|          | 0/158 [00:00<?, ?it/s]"
      ]
     },
     "metadata": {},
     "output_type": "display_data"
    },
    {
     "name": "stdout",
     "output_type": "stream",
     "text": [
      "| epoch 267 |    31/  158 batches | lr 0.00000 | ms/batch 31.06079 | loss 3.82689\n",
      "| epoch 267 |    62/  158 batches | lr 0.00000 | ms/batch 28.81413 | loss 3.78380\n",
      "| epoch 267 |    93/  158 batches | lr 0.00000 | ms/batch 29.54364 | loss 3.79407\n",
      "| epoch 267 |   124/  158 batches | lr 0.00000 | ms/batch 29.36175 | loss 3.97355\n",
      "| epoch 267 |   155/  158 batches | lr 0.00000 | ms/batch 29.25796 | loss 3.68617\n",
      "-----------------------------------------------------------------------------------------\n",
      "| end of epoch 267 | time:  4.95s | valid loss 7.7949 | mean loss   3.8162\n",
      "-----------------------------------------------------------------------------------------\n",
      "Epoch #268\n"
     ]
    },
    {
     "data": {
      "application/vnd.jupyter.widget-view+json": {
       "model_id": "d999329307074467aab6a2352a185ba5",
       "version_major": 2,
       "version_minor": 0
      },
      "text/plain": [
       "  0%|          | 0/158 [00:00<?, ?it/s]"
      ]
     },
     "metadata": {},
     "output_type": "display_data"
    },
    {
     "name": "stdout",
     "output_type": "stream",
     "text": [
      "| epoch 268 |    31/  158 batches | lr 0.00000 | ms/batch 30.51885 | loss 3.99046\n",
      "| epoch 268 |    62/  158 batches | lr 0.00000 | ms/batch 29.67106 | loss 3.89392\n",
      "| epoch 268 |    93/  158 batches | lr 0.00000 | ms/batch 29.38633 | loss 3.86600\n",
      "| epoch 268 |   124/  158 batches | lr 0.00000 | ms/batch 30.19911 | loss 3.66064\n",
      "| epoch 268 |   155/  158 batches | lr 0.00000 | ms/batch 29.99859 | loss 3.64348\n",
      "-----------------------------------------------------------------------------------------\n",
      "| end of epoch 268 | time:  5.03s | valid loss 7.7949 | mean loss   3.8161\n",
      "-----------------------------------------------------------------------------------------\n",
      "Epoch #269\n"
     ]
    },
    {
     "data": {
      "application/vnd.jupyter.widget-view+json": {
       "model_id": "2477e84614c245ec89d30dd314530143",
       "version_major": 2,
       "version_minor": 0
      },
      "text/plain": [
       "  0%|          | 0/158 [00:00<?, ?it/s]"
      ]
     },
     "metadata": {},
     "output_type": "display_data"
    },
    {
     "name": "stdout",
     "output_type": "stream",
     "text": [
      "| epoch 269 |    31/  158 batches | lr 0.00000 | ms/batch 30.97728 | loss 4.05295\n",
      "| epoch 269 |    62/  158 batches | lr 0.00000 | ms/batch 29.14563 | loss 3.80456\n",
      "| epoch 269 |    93/  158 batches | lr 0.00000 | ms/batch 30.04149 | loss 3.64127\n",
      "| epoch 269 |   124/  158 batches | lr 0.00000 | ms/batch 29.04337 | loss 3.80480\n",
      "| epoch 269 |   155/  158 batches | lr 0.00000 | ms/batch 29.75051 | loss 3.70846\n",
      "-----------------------------------------------------------------------------------------\n",
      "| end of epoch 269 | time:  4.98s | valid loss 7.7949 | mean loss   3.8160\n",
      "-----------------------------------------------------------------------------------------\n",
      "Epoch #270\n"
     ]
    },
    {
     "data": {
      "application/vnd.jupyter.widget-view+json": {
       "model_id": "a523bf6710ed4f658e767f4098738704",
       "version_major": 2,
       "version_minor": 0
      },
      "text/plain": [
       "  0%|          | 0/158 [00:00<?, ?it/s]"
      ]
     },
     "metadata": {},
     "output_type": "display_data"
    },
    {
     "name": "stdout",
     "output_type": "stream",
     "text": [
      "| epoch 270 |    31/  158 batches | lr 0.00000 | ms/batch 30.12772 | loss 3.89990\n",
      "| epoch 270 |    62/  158 batches | lr 0.00000 | ms/batch 28.98964 | loss 3.72199\n",
      "| epoch 270 |    93/  158 batches | lr 0.00000 | ms/batch 29.36766 | loss 3.99012\n",
      "| epoch 270 |   124/  158 batches | lr 0.00000 | ms/batch 29.39883 | loss 3.84856\n",
      "| epoch 270 |   155/  158 batches | lr 0.00000 | ms/batch 29.41251 | loss 3.62424\n",
      "-----------------------------------------------------------------------------------------\n",
      "| end of epoch 270 | time:  4.92s | valid loss 7.7949 | mean loss   3.8159\n",
      "-----------------------------------------------------------------------------------------\n",
      "Epoch #271\n"
     ]
    },
    {
     "data": {
      "application/vnd.jupyter.widget-view+json": {
       "model_id": "d86b348e85d2431a9274c4d8e2fe957d",
       "version_major": 2,
       "version_minor": 0
      },
      "text/plain": [
       "  0%|          | 0/158 [00:00<?, ?it/s]"
      ]
     },
     "metadata": {},
     "output_type": "display_data"
    },
    {
     "name": "stdout",
     "output_type": "stream",
     "text": [
      "| epoch 271 |    31/  158 batches | lr 0.00000 | ms/batch 31.09139 | loss 3.94420\n",
      "| epoch 271 |    62/  158 batches | lr 0.00000 | ms/batch 29.22877 | loss 3.76003\n",
      "| epoch 271 |    93/  158 batches | lr 0.00000 | ms/batch 29.82875 | loss 3.75254\n",
      "| epoch 271 |   124/  158 batches | lr 0.00000 | ms/batch 29.75974 | loss 3.70395\n",
      "| epoch 271 |   155/  158 batches | lr 0.00000 | ms/batch 33.47966 | loss 3.86561\n",
      "-----------------------------------------------------------------------------------------\n",
      "| end of epoch 271 | time:  5.11s | valid loss 7.7949 | mean loss   3.8158\n",
      "-----------------------------------------------------------------------------------------\n",
      "Epoch #272\n"
     ]
    },
    {
     "data": {
      "application/vnd.jupyter.widget-view+json": {
       "model_id": "3cd7b23c40824a96934be755e9202c08",
       "version_major": 2,
       "version_minor": 0
      },
      "text/plain": [
       "  0%|          | 0/158 [00:00<?, ?it/s]"
      ]
     },
     "metadata": {},
     "output_type": "display_data"
    },
    {
     "name": "stdout",
     "output_type": "stream",
     "text": [
      "| epoch 272 |    31/  158 batches | lr 0.00000 | ms/batch 30.87657 | loss 3.75317\n",
      "| epoch 272 |    62/  158 batches | lr 0.00000 | ms/batch 29.47401 | loss 3.96079\n",
      "| epoch 272 |    93/  158 batches | lr 0.00000 | ms/batch 29.42531 | loss 3.86607\n",
      "| epoch 272 |   124/  158 batches | lr 0.00000 | ms/batch 29.58888 | loss 3.87831\n",
      "| epoch 272 |   155/  158 batches | lr 0.00000 | ms/batch 28.38636 | loss 3.58051\n",
      "-----------------------------------------------------------------------------------------\n",
      "| end of epoch 272 | time:  4.94s | valid loss 7.7949 | mean loss   3.8156\n",
      "-----------------------------------------------------------------------------------------\n",
      "Epoch #273\n"
     ]
    },
    {
     "data": {
      "application/vnd.jupyter.widget-view+json": {
       "model_id": "8bcf4d1e6cff4e7384d1654a3dbd5711",
       "version_major": 2,
       "version_minor": 0
      },
      "text/plain": [
       "  0%|          | 0/158 [00:00<?, ?it/s]"
      ]
     },
     "metadata": {},
     "output_type": "display_data"
    },
    {
     "name": "stdout",
     "output_type": "stream",
     "text": [
      "| epoch 273 |    31/  158 batches | lr 0.00000 | ms/batch 30.59767 | loss 3.87876\n",
      "| epoch 273 |    62/  158 batches | lr 0.00000 | ms/batch 29.21211 | loss 3.72011\n",
      "| epoch 273 |    93/  158 batches | lr 0.00000 | ms/batch 29.53013 | loss 3.92924\n",
      "| epoch 273 |   124/  158 batches | lr 0.00000 | ms/batch 29.56669 | loss 3.74202\n",
      "| epoch 273 |   155/  158 batches | lr 0.00000 | ms/batch 30.25898 | loss 3.74837\n",
      "-----------------------------------------------------------------------------------------\n",
      "| end of epoch 273 | time:  4.98s | valid loss 7.7949 | mean loss   3.8155\n",
      "-----------------------------------------------------------------------------------------\n",
      "Epoch #274\n"
     ]
    },
    {
     "data": {
      "application/vnd.jupyter.widget-view+json": {
       "model_id": "98fdd42db986444ba730b30de91c8f48",
       "version_major": 2,
       "version_minor": 0
      },
      "text/plain": [
       "  0%|          | 0/158 [00:00<?, ?it/s]"
      ]
     },
     "metadata": {},
     "output_type": "display_data"
    },
    {
     "name": "stdout",
     "output_type": "stream",
     "text": [
      "| epoch 274 |    31/  158 batches | lr 0.00000 | ms/batch 30.63285 | loss 3.91063\n",
      "| epoch 274 |    62/  158 batches | lr 0.00000 | ms/batch 29.76638 | loss 3.79000\n",
      "| epoch 274 |    93/  158 batches | lr 0.00000 | ms/batch 29.65312 | loss 3.78907\n",
      "| epoch 274 |   124/  158 batches | lr 0.00000 | ms/batch 29.65956 | loss 3.96679\n",
      "| epoch 274 |   155/  158 batches | lr 0.00000 | ms/batch 29.52473 | loss 3.58999\n",
      "-----------------------------------------------------------------------------------------\n",
      "| end of epoch 274 | time:  4.99s | valid loss 7.7949 | mean loss   3.8154\n",
      "-----------------------------------------------------------------------------------------\n",
      "Epoch #275\n"
     ]
    },
    {
     "data": {
      "application/vnd.jupyter.widget-view+json": {
       "model_id": "3aabf439e33e4d55aa53c21eeea6a838",
       "version_major": 2,
       "version_minor": 0
      },
      "text/plain": [
       "  0%|          | 0/158 [00:00<?, ?it/s]"
      ]
     },
     "metadata": {},
     "output_type": "display_data"
    },
    {
     "name": "stdout",
     "output_type": "stream",
     "text": [
      "| epoch 275 |    31/  158 batches | lr 0.00000 | ms/batch 30.94747 | loss 3.83262\n",
      "| epoch 275 |    62/  158 batches | lr 0.00000 | ms/batch 29.42517 | loss 3.77528\n",
      "| epoch 275 |    93/  158 batches | lr 0.00000 | ms/batch 29.57932 | loss 3.76465\n",
      "| epoch 275 |   124/  158 batches | lr 0.00000 | ms/batch 29.07303 | loss 3.75944\n",
      "| epoch 275 |   155/  158 batches | lr 0.00000 | ms/batch 29.70370 | loss 3.90494\n",
      "-----------------------------------------------------------------------------------------\n",
      "| end of epoch 275 | time:  4.97s | valid loss 7.7949 | mean loss   3.8153\n",
      "-----------------------------------------------------------------------------------------\n",
      "Epoch #276\n"
     ]
    },
    {
     "data": {
      "application/vnd.jupyter.widget-view+json": {
       "model_id": "c1ece402e5714ad1a66220032582f7a0",
       "version_major": 2,
       "version_minor": 0
      },
      "text/plain": [
       "  0%|          | 0/158 [00:00<?, ?it/s]"
      ]
     },
     "metadata": {},
     "output_type": "display_data"
    },
    {
     "name": "stdout",
     "output_type": "stream",
     "text": [
      "| epoch 276 |    31/  158 batches | lr 0.00000 | ms/batch 29.46829 | loss 3.79593\n",
      "| epoch 276 |    62/  158 batches | lr 0.00000 | ms/batch 28.98435 | loss 3.77718\n",
      "| epoch 276 |    93/  158 batches | lr 0.00000 | ms/batch 28.90971 | loss 3.80327\n",
      "| epoch 276 |   124/  158 batches | lr 0.00000 | ms/batch 29.46925 | loss 3.78401\n",
      "| epoch 276 |   155/  158 batches | lr 0.00000 | ms/batch 29.72706 | loss 3.84810\n",
      "-----------------------------------------------------------------------------------------\n",
      "| end of epoch 276 | time:  4.89s | valid loss 7.7949 | mean loss   3.8152\n",
      "-----------------------------------------------------------------------------------------\n",
      "Epoch #277\n"
     ]
    },
    {
     "data": {
      "application/vnd.jupyter.widget-view+json": {
       "model_id": "9d31a1b6165047788baba94c53dfb08e",
       "version_major": 2,
       "version_minor": 0
      },
      "text/plain": [
       "  0%|          | 0/158 [00:00<?, ?it/s]"
      ]
     },
     "metadata": {},
     "output_type": "display_data"
    },
    {
     "name": "stdout",
     "output_type": "stream",
     "text": [
      "| epoch 277 |    31/  158 batches | lr 0.00000 | ms/batch 31.06826 | loss 3.91375\n",
      "| epoch 277 |    62/  158 batches | lr 0.00000 | ms/batch 29.01327 | loss 3.90407\n",
      "| epoch 277 |    93/  158 batches | lr 0.00000 | ms/batch 29.07198 | loss 3.71685\n",
      "| epoch 277 |   124/  158 batches | lr 0.00000 | ms/batch 28.98125 | loss 3.68714\n",
      "| epoch 277 |   155/  158 batches | lr 0.00000 | ms/batch 28.99731 | loss 3.82869\n",
      "-----------------------------------------------------------------------------------------\n",
      "| end of epoch 277 | time:  5.02s | valid loss 7.7949 | mean loss   3.8151\n",
      "-----------------------------------------------------------------------------------------\n",
      "Epoch #278\n"
     ]
    },
    {
     "data": {
      "application/vnd.jupyter.widget-view+json": {
       "model_id": "ead4552f6d534e7682ef23d01b569fdc",
       "version_major": 2,
       "version_minor": 0
      },
      "text/plain": [
       "  0%|          | 0/158 [00:00<?, ?it/s]"
      ]
     },
     "metadata": {},
     "output_type": "display_data"
    },
    {
     "name": "stdout",
     "output_type": "stream",
     "text": [
      "| epoch 278 |    31/  158 batches | lr 0.00000 | ms/batch 30.64360 | loss 3.91731\n",
      "| epoch 278 |    62/  158 batches | lr 0.00000 | ms/batch 28.77493 | loss 3.84543\n",
      "| epoch 278 |    93/  158 batches | lr 0.00000 | ms/batch 28.83084 | loss 3.79040\n",
      "| epoch 278 |   124/  158 batches | lr 0.00000 | ms/batch 29.39207 | loss 3.74293\n",
      "| epoch 278 |   155/  158 batches | lr 0.00000 | ms/batch 28.41806 | loss 3.75186\n",
      "-----------------------------------------------------------------------------------------\n",
      "| end of epoch 278 | time:  4.89s | valid loss 7.7949 | mean loss   3.8150\n",
      "-----------------------------------------------------------------------------------------\n",
      "Epoch #279\n"
     ]
    },
    {
     "data": {
      "application/vnd.jupyter.widget-view+json": {
       "model_id": "49b7ede660e24f8daab7b988578d0d88",
       "version_major": 2,
       "version_minor": 0
      },
      "text/plain": [
       "  0%|          | 0/158 [00:00<?, ?it/s]"
      ]
     },
     "metadata": {},
     "output_type": "display_data"
    },
    {
     "name": "stdout",
     "output_type": "stream",
     "text": [
      "| epoch 279 |    31/  158 batches | lr 0.00000 | ms/batch 30.44902 | loss 3.87508\n",
      "| epoch 279 |    62/  158 batches | lr 0.00000 | ms/batch 28.80883 | loss 3.71192\n",
      "| epoch 279 |    93/  158 batches | lr 0.00000 | ms/batch 28.76312 | loss 3.78385\n",
      "| epoch 279 |   124/  158 batches | lr 0.00000 | ms/batch 29.74086 | loss 3.83843\n",
      "| epoch 279 |   155/  158 batches | lr 0.00000 | ms/batch 29.55866 | loss 3.83558\n",
      "-----------------------------------------------------------------------------------------\n",
      "| end of epoch 279 | time:  4.92s | valid loss 7.7949 | mean loss   3.8148\n",
      "-----------------------------------------------------------------------------------------\n",
      "Epoch #280\n"
     ]
    },
    {
     "data": {
      "application/vnd.jupyter.widget-view+json": {
       "model_id": "496e8e6befa0459480427cba3007b4cb",
       "version_major": 2,
       "version_minor": 0
      },
      "text/plain": [
       "  0%|          | 0/158 [00:00<?, ?it/s]"
      ]
     },
     "metadata": {},
     "output_type": "display_data"
    },
    {
     "name": "stdout",
     "output_type": "stream",
     "text": [
      "| epoch 280 |    31/  158 batches | lr 0.00000 | ms/batch 29.85002 | loss 3.93029\n",
      "| epoch 280 |    62/  158 batches | lr 0.00000 | ms/batch 28.60194 | loss 3.73702\n",
      "| epoch 280 |    93/  158 batches | lr 0.00000 | ms/batch 28.68978 | loss 3.70225\n",
      "| epoch 280 |   124/  158 batches | lr 0.00000 | ms/batch 28.75849 | loss 3.81099\n",
      "| epoch 280 |   155/  158 batches | lr 0.00000 | ms/batch 28.80124 | loss 3.85580\n",
      "-----------------------------------------------------------------------------------------\n",
      "| end of epoch 280 | time:  4.85s | valid loss 7.7949 | mean loss   3.8147\n",
      "-----------------------------------------------------------------------------------------\n",
      "Epoch #281\n"
     ]
    },
    {
     "data": {
      "application/vnd.jupyter.widget-view+json": {
       "model_id": "9ab4534282114f00bb68b8b61512c27a",
       "version_major": 2,
       "version_minor": 0
      },
      "text/plain": [
       "  0%|          | 0/158 [00:00<?, ?it/s]"
      ]
     },
     "metadata": {},
     "output_type": "display_data"
    },
    {
     "name": "stdout",
     "output_type": "stream",
     "text": [
      "| epoch 281 |    31/  158 batches | lr 0.00000 | ms/batch 29.53899 | loss 3.93792\n",
      "| epoch 281 |    62/  158 batches | lr 0.00000 | ms/batch 29.62029 | loss 3.76705\n",
      "| epoch 281 |    93/  158 batches | lr 0.00000 | ms/batch 29.78886 | loss 3.91537\n",
      "| epoch 281 |   124/  158 batches | lr 0.00000 | ms/batch 28.64882 | loss 3.66076\n",
      "| epoch 281 |   155/  158 batches | lr 0.00000 | ms/batch 29.47855 | loss 3.77712\n",
      "-----------------------------------------------------------------------------------------\n",
      "| end of epoch 281 | time:  4.91s | valid loss 7.7949 | mean loss   3.8146\n",
      "-----------------------------------------------------------------------------------------\n",
      "Epoch #282\n"
     ]
    },
    {
     "data": {
      "application/vnd.jupyter.widget-view+json": {
       "model_id": "7b6b42f5adab4702944ac6f1db68afe8",
       "version_major": 2,
       "version_minor": 0
      },
      "text/plain": [
       "  0%|          | 0/158 [00:00<?, ?it/s]"
      ]
     },
     "metadata": {},
     "output_type": "display_data"
    },
    {
     "name": "stdout",
     "output_type": "stream",
     "text": [
      "| epoch 282 |    31/  158 batches | lr 0.00000 | ms/batch 30.10603 | loss 3.79504\n",
      "| epoch 282 |    62/  158 batches | lr 0.00000 | ms/batch 29.41479 | loss 3.72189\n",
      "| epoch 282 |    93/  158 batches | lr 0.00000 | ms/batch 28.49147 | loss 3.78378\n",
      "| epoch 282 |   124/  158 batches | lr 0.00000 | ms/batch 29.46631 | loss 3.92254\n",
      "| epoch 282 |   155/  158 batches | lr 0.00000 | ms/batch 29.58007 | loss 3.80700\n",
      "-----------------------------------------------------------------------------------------\n",
      "| end of epoch 282 | time:  4.90s | valid loss 7.7949 | mean loss   3.8145\n",
      "-----------------------------------------------------------------------------------------\n",
      "Epoch #283\n"
     ]
    },
    {
     "data": {
      "application/vnd.jupyter.widget-view+json": {
       "model_id": "bf05607dd0fa4971b7f8856df3be2083",
       "version_major": 2,
       "version_minor": 0
      },
      "text/plain": [
       "  0%|          | 0/158 [00:00<?, ?it/s]"
      ]
     },
     "metadata": {},
     "output_type": "display_data"
    },
    {
     "name": "stdout",
     "output_type": "stream",
     "text": [
      "| epoch 283 |    31/  158 batches | lr 0.00000 | ms/batch 29.91306 | loss 4.09200\n",
      "| epoch 283 |    62/  158 batches | lr 0.00000 | ms/batch 28.61928 | loss 3.75294\n",
      "| epoch 283 |    93/  158 batches | lr 0.00000 | ms/batch 29.28234 | loss 3.75293\n",
      "| epoch 283 |   124/  158 batches | lr 0.00000 | ms/batch 29.46452 | loss 3.62962\n",
      "| epoch 283 |   155/  158 batches | lr 0.00000 | ms/batch 28.33669 | loss 3.81351\n",
      "-----------------------------------------------------------------------------------------\n",
      "| end of epoch 283 | time:  4.88s | valid loss 7.7949 | mean loss   3.8144\n",
      "-----------------------------------------------------------------------------------------\n",
      "Epoch #284\n"
     ]
    },
    {
     "data": {
      "application/vnd.jupyter.widget-view+json": {
       "model_id": "eec0b26865bb48cea56a9282f1700e4a",
       "version_major": 2,
       "version_minor": 0
      },
      "text/plain": [
       "  0%|          | 0/158 [00:00<?, ?it/s]"
      ]
     },
     "metadata": {},
     "output_type": "display_data"
    },
    {
     "name": "stdout",
     "output_type": "stream",
     "text": [
      "| epoch 284 |    31/  158 batches | lr 0.00000 | ms/batch 33.09815 | loss 3.81910\n",
      "| epoch 284 |    62/  158 batches | lr 0.00000 | ms/batch 29.28583 | loss 3.77411\n",
      "| epoch 284 |    93/  158 batches | lr 0.00000 | ms/batch 29.16015 | loss 3.65691\n",
      "| epoch 284 |   124/  158 batches | lr 0.00000 | ms/batch 29.23166 | loss 3.98920\n",
      "| epoch 284 |   155/  158 batches | lr 0.00000 | ms/batch 28.72302 | loss 3.83930\n",
      "-----------------------------------------------------------------------------------------\n",
      "| end of epoch 284 | time:  5.00s | valid loss 7.7949 | mean loss   3.8143\n",
      "-----------------------------------------------------------------------------------------\n",
      "Epoch #285\n"
     ]
    },
    {
     "data": {
      "application/vnd.jupyter.widget-view+json": {
       "model_id": "e3101061bba84b60805a1355b6a9638d",
       "version_major": 2,
       "version_minor": 0
      },
      "text/plain": [
       "  0%|          | 0/158 [00:00<?, ?it/s]"
      ]
     },
     "metadata": {},
     "output_type": "display_data"
    },
    {
     "name": "stdout",
     "output_type": "stream",
     "text": [
      "| epoch 285 |    31/  158 batches | lr 0.00000 | ms/batch 30.15533 | loss 3.94129\n",
      "| epoch 285 |    62/  158 batches | lr 0.00000 | ms/batch 29.72957 | loss 3.73931\n",
      "| epoch 285 |    93/  158 batches | lr 0.00000 | ms/batch 38.36777 | loss 3.69587\n",
      "| epoch 285 |   124/  158 batches | lr 0.00000 | ms/batch 29.32285 | loss 3.86450\n",
      "| epoch 285 |   155/  158 batches | lr 0.00000 | ms/batch 29.82364 | loss 3.80036\n",
      "-----------------------------------------------------------------------------------------\n",
      "| end of epoch 285 | time:  5.22s | valid loss 7.7949 | mean loss   3.8142\n",
      "-----------------------------------------------------------------------------------------\n",
      "Epoch #286\n"
     ]
    },
    {
     "data": {
      "application/vnd.jupyter.widget-view+json": {
       "model_id": "62fe16cfd74b4b15a1e9861e7886709e",
       "version_major": 2,
       "version_minor": 0
      },
      "text/plain": [
       "  0%|          | 0/158 [00:00<?, ?it/s]"
      ]
     },
     "metadata": {},
     "output_type": "display_data"
    },
    {
     "name": "stdout",
     "output_type": "stream",
     "text": [
      "| epoch 286 |    31/  158 batches | lr 0.00000 | ms/batch 31.15576 | loss 4.04358\n",
      "| epoch 286 |    62/  158 batches | lr 0.00000 | ms/batch 29.88104 | loss 3.66743\n",
      "| epoch 286 |    93/  158 batches | lr 0.00000 | ms/batch 28.67341 | loss 3.84083\n",
      "| epoch 286 |   124/  158 batches | lr 0.00000 | ms/batch 30.03636 | loss 3.91433\n",
      "| epoch 286 |   155/  158 batches | lr 0.00000 | ms/batch 28.96395 | loss 3.58294\n",
      "-----------------------------------------------------------------------------------------\n",
      "| end of epoch 286 | time:  4.95s | valid loss 7.7949 | mean loss   3.8141\n",
      "-----------------------------------------------------------------------------------------\n",
      "Epoch #287\n"
     ]
    },
    {
     "data": {
      "application/vnd.jupyter.widget-view+json": {
       "model_id": "a8a731c34cef4c999cd106cad08f2cee",
       "version_major": 2,
       "version_minor": 0
      },
      "text/plain": [
       "  0%|          | 0/158 [00:00<?, ?it/s]"
      ]
     },
     "metadata": {},
     "output_type": "display_data"
    },
    {
     "name": "stdout",
     "output_type": "stream",
     "text": [
      "| epoch 287 |    31/  158 batches | lr 0.00000 | ms/batch 29.85453 | loss 3.92833\n",
      "| epoch 287 |    62/  158 batches | lr 0.00000 | ms/batch 29.25221 | loss 3.99001\n",
      "| epoch 287 |    93/  158 batches | lr 0.00000 | ms/batch 29.46810 | loss 3.47836\n",
      "| epoch 287 |   124/  158 batches | lr 0.00000 | ms/batch 28.79331 | loss 3.95996\n",
      "| epoch 287 |   155/  158 batches | lr 0.00000 | ms/batch 29.34327 | loss 3.67694\n",
      "-----------------------------------------------------------------------------------------\n",
      "| end of epoch 287 | time:  4.92s | valid loss 7.7949 | mean loss   3.8140\n",
      "-----------------------------------------------------------------------------------------\n",
      "Epoch #288\n"
     ]
    },
    {
     "data": {
      "application/vnd.jupyter.widget-view+json": {
       "model_id": "77cbf3f3cad543b0a3d93de77aaa449d",
       "version_major": 2,
       "version_minor": 0
      },
      "text/plain": [
       "  0%|          | 0/158 [00:00<?, ?it/s]"
      ]
     },
     "metadata": {},
     "output_type": "display_data"
    },
    {
     "name": "stdout",
     "output_type": "stream",
     "text": [
      "| epoch 288 |    31/  158 batches | lr 0.00000 | ms/batch 31.20804 | loss 3.99990\n",
      "| epoch 288 |    62/  158 batches | lr 0.00000 | ms/batch 29.67008 | loss 3.70132\n",
      "| epoch 288 |    93/  158 batches | lr 0.00000 | ms/batch 29.52018 | loss 3.74701\n",
      "| epoch 288 |   124/  158 batches | lr 0.00000 | ms/batch 29.70241 | loss 3.77232\n",
      "| epoch 288 |   155/  158 batches | lr 0.00000 | ms/batch 30.86371 | loss 3.74738\n",
      "-----------------------------------------------------------------------------------------\n",
      "| end of epoch 288 | time:  5.22s | valid loss 7.7949 | mean loss   3.8139\n",
      "-----------------------------------------------------------------------------------------\n",
      "Epoch #289\n"
     ]
    },
    {
     "data": {
      "application/vnd.jupyter.widget-view+json": {
       "model_id": "209b454aeb1743ddbf21db6decd1ce1e",
       "version_major": 2,
       "version_minor": 0
      },
      "text/plain": [
       "  0%|          | 0/158 [00:00<?, ?it/s]"
      ]
     },
     "metadata": {},
     "output_type": "display_data"
    },
    {
     "name": "stdout",
     "output_type": "stream",
     "text": [
      "| epoch 289 |    31/  158 batches | lr 0.00000 | ms/batch 35.04457 | loss 3.78772\n",
      "| epoch 289 |    62/  158 batches | lr 0.00000 | ms/batch 29.38267 | loss 3.86891\n",
      "| epoch 289 |    93/  158 batches | lr 0.00000 | ms/batch 30.20508 | loss 3.82015\n",
      "| epoch 289 |   124/  158 batches | lr 0.00000 | ms/batch 29.34910 | loss 3.86653\n",
      "| epoch 289 |   155/  158 batches | lr 0.00000 | ms/batch 29.31276 | loss 3.67887\n",
      "-----------------------------------------------------------------------------------------\n",
      "| end of epoch 289 | time:  5.19s | valid loss 7.7949 | mean loss   3.8138\n",
      "-----------------------------------------------------------------------------------------\n",
      "Epoch #290\n"
     ]
    },
    {
     "data": {
      "application/vnd.jupyter.widget-view+json": {
       "model_id": "265098f3ba0b4b2d81c06b15561a1204",
       "version_major": 2,
       "version_minor": 0
      },
      "text/plain": [
       "  0%|          | 0/158 [00:00<?, ?it/s]"
      ]
     },
     "metadata": {},
     "output_type": "display_data"
    },
    {
     "name": "stdout",
     "output_type": "stream",
     "text": [
      "| epoch 290 |    31/  158 batches | lr 0.00000 | ms/batch 29.55356 | loss 4.04510\n",
      "| epoch 290 |    62/  158 batches | lr 0.00000 | ms/batch 30.13541 | loss 3.72336\n",
      "| epoch 290 |    93/  158 batches | lr 0.00000 | ms/batch 30.22424 | loss 3.63807\n",
      "| epoch 290 |   124/  158 batches | lr 0.00000 | ms/batch 31.05620 | loss 3.86023\n",
      "| epoch 290 |   155/  158 batches | lr 0.00000 | ms/batch 29.65074 | loss 3.79548\n",
      "-----------------------------------------------------------------------------------------\n",
      "| end of epoch 290 | time:  5.01s | valid loss 7.7949 | mean loss   3.8137\n",
      "-----------------------------------------------------------------------------------------\n",
      "Epoch #291\n"
     ]
    },
    {
     "data": {
      "application/vnd.jupyter.widget-view+json": {
       "model_id": "0a30ec6363c54c26bbb9be532e199459",
       "version_major": 2,
       "version_minor": 0
      },
      "text/plain": [
       "  0%|          | 0/158 [00:00<?, ?it/s]"
      ]
     },
     "metadata": {},
     "output_type": "display_data"
    },
    {
     "name": "stdout",
     "output_type": "stream",
     "text": [
      "| epoch 291 |    31/  158 batches | lr 0.00000 | ms/batch 31.34989 | loss 3.77869\n",
      "| epoch 291 |    62/  158 batches | lr 0.00000 | ms/batch 29.01031 | loss 3.80862\n",
      "| epoch 291 |    93/  158 batches | lr 0.00000 | ms/batch 30.14447 | loss 3.90987\n",
      "| epoch 291 |   124/  158 batches | lr 0.00000 | ms/batch 28.81848 | loss 3.75612\n",
      "| epoch 291 |   155/  158 batches | lr 0.00000 | ms/batch 29.69620 | loss 3.80558\n",
      "-----------------------------------------------------------------------------------------\n",
      "| end of epoch 291 | time:  4.99s | valid loss 7.7949 | mean loss   3.8136\n",
      "-----------------------------------------------------------------------------------------\n",
      "Epoch #292\n"
     ]
    },
    {
     "data": {
      "application/vnd.jupyter.widget-view+json": {
       "model_id": "27b057c8ae90436fbbb47c71fcac0ea8",
       "version_major": 2,
       "version_minor": 0
      },
      "text/plain": [
       "  0%|          | 0/158 [00:00<?, ?it/s]"
      ]
     },
     "metadata": {},
     "output_type": "display_data"
    },
    {
     "name": "stdout",
     "output_type": "stream",
     "text": [
      "| epoch 292 |    31/  158 batches | lr 0.00000 | ms/batch 30.97396 | loss 3.86225\n",
      "| epoch 292 |    62/  158 batches | lr 0.00000 | ms/batch 30.12982 | loss 3.76486\n",
      "| epoch 292 |    93/  158 batches | lr 0.00000 | ms/batch 29.34774 | loss 3.86780\n",
      "| epoch 292 |   124/  158 batches | lr 0.00000 | ms/batch 29.89195 | loss 3.87520\n",
      "| epoch 292 |   155/  158 batches | lr 0.00000 | ms/batch 28.98808 | loss 3.67311\n",
      "-----------------------------------------------------------------------------------------\n",
      "| end of epoch 292 | time:  4.98s | valid loss 7.7949 | mean loss   3.8135\n",
      "-----------------------------------------------------------------------------------------\n",
      "Epoch #293\n"
     ]
    },
    {
     "data": {
      "application/vnd.jupyter.widget-view+json": {
       "model_id": "62ebb99346634d86b603dccd6aa4e8b7",
       "version_major": 2,
       "version_minor": 0
      },
      "text/plain": [
       "  0%|          | 0/158 [00:00<?, ?it/s]"
      ]
     },
     "metadata": {},
     "output_type": "display_data"
    },
    {
     "name": "stdout",
     "output_type": "stream",
     "text": [
      "| epoch 293 |    31/  158 batches | lr 0.00000 | ms/batch 31.04721 | loss 3.87883\n",
      "| epoch 293 |    62/  158 batches | lr 0.00000 | ms/batch 29.30525 | loss 3.85875\n",
      "| epoch 293 |    93/  158 batches | lr 0.00000 | ms/batch 29.93344 | loss 3.70093\n",
      "| epoch 293 |   124/  158 batches | lr 0.00000 | ms/batch 29.67667 | loss 3.80036\n",
      "| epoch 293 |   155/  158 batches | lr 0.00000 | ms/batch 29.90420 | loss 3.80345\n",
      "-----------------------------------------------------------------------------------------\n",
      "| end of epoch 293 | time:  5.01s | valid loss 7.7949 | mean loss   3.8134\n",
      "-----------------------------------------------------------------------------------------\n",
      "Epoch #294\n"
     ]
    },
    {
     "data": {
      "application/vnd.jupyter.widget-view+json": {
       "model_id": "4ec0370a0c7544e6aeadf5fb8c96e448",
       "version_major": 2,
       "version_minor": 0
      },
      "text/plain": [
       "  0%|          | 0/158 [00:00<?, ?it/s]"
      ]
     },
     "metadata": {},
     "output_type": "display_data"
    },
    {
     "name": "stdout",
     "output_type": "stream",
     "text": [
      "| epoch 294 |    31/  158 batches | lr 0.00000 | ms/batch 30.64492 | loss 3.75026\n",
      "| epoch 294 |    62/  158 batches | lr 0.00000 | ms/batch 30.30592 | loss 3.78118\n",
      "| epoch 294 |    93/  158 batches | lr 0.00000 | ms/batch 29.64700 | loss 3.82022\n",
      "| epoch 294 |   124/  158 batches | lr 0.00000 | ms/batch 29.94480 | loss 3.80228\n",
      "| epoch 294 |   155/  158 batches | lr 0.00000 | ms/batch 29.55681 | loss 3.87533\n",
      "-----------------------------------------------------------------------------------------\n",
      "| end of epoch 294 | time:  5.01s | valid loss 7.7949 | mean loss   3.8133\n",
      "-----------------------------------------------------------------------------------------\n",
      "Epoch #295\n"
     ]
    },
    {
     "data": {
      "application/vnd.jupyter.widget-view+json": {
       "model_id": "3dfcce5d6da348578856ca38010c7e05",
       "version_major": 2,
       "version_minor": 0
      },
      "text/plain": [
       "  0%|          | 0/158 [00:00<?, ?it/s]"
      ]
     },
     "metadata": {},
     "output_type": "display_data"
    },
    {
     "name": "stdout",
     "output_type": "stream",
     "text": [
      "| epoch 295 |    31/  158 batches | lr 0.00000 | ms/batch 31.14373 | loss 3.87332\n",
      "| epoch 295 |    62/  158 batches | lr 0.00000 | ms/batch 29.21506 | loss 3.71972\n",
      "| epoch 295 |    93/  158 batches | lr 0.00000 | ms/batch 29.54497 | loss 3.70216\n",
      "| epoch 295 |   124/  158 batches | lr 0.00000 | ms/batch 28.94683 | loss 3.93997\n",
      "| epoch 295 |   155/  158 batches | lr 0.00000 | ms/batch 29.78047 | loss 3.79325\n",
      "-----------------------------------------------------------------------------------------\n",
      "| end of epoch 295 | time:  5.06s | valid loss 7.7949 | mean loss   3.8132\n",
      "-----------------------------------------------------------------------------------------\n",
      "Epoch #296\n"
     ]
    },
    {
     "data": {
      "application/vnd.jupyter.widget-view+json": {
       "model_id": "d5c3c852fbc8485093fef53d9c68d4e8",
       "version_major": 2,
       "version_minor": 0
      },
      "text/plain": [
       "  0%|          | 0/158 [00:00<?, ?it/s]"
      ]
     },
     "metadata": {},
     "output_type": "display_data"
    },
    {
     "name": "stdout",
     "output_type": "stream",
     "text": [
      "| epoch 296 |    31/  158 batches | lr 0.00000 | ms/batch 30.49241 | loss 3.91787\n",
      "| epoch 296 |    62/  158 batches | lr 0.00000 | ms/batch 29.55220 | loss 3.79047\n",
      "| epoch 296 |    93/  158 batches | lr 0.00000 | ms/batch 29.49349 | loss 3.82246\n",
      "| epoch 296 |   124/  158 batches | lr 0.00000 | ms/batch 29.59124 | loss 3.58343\n",
      "| epoch 296 |   155/  158 batches | lr 0.00000 | ms/batch 29.25507 | loss 3.93233\n",
      "-----------------------------------------------------------------------------------------\n",
      "| end of epoch 296 | time:  4.96s | valid loss 7.7949 | mean loss   3.8131\n",
      "-----------------------------------------------------------------------------------------\n",
      "Epoch #297\n"
     ]
    },
    {
     "data": {
      "application/vnd.jupyter.widget-view+json": {
       "model_id": "40cd42ac657d4b9cb54c80dea3cbe89c",
       "version_major": 2,
       "version_minor": 0
      },
      "text/plain": [
       "  0%|          | 0/158 [00:00<?, ?it/s]"
      ]
     },
     "metadata": {},
     "output_type": "display_data"
    },
    {
     "name": "stdout",
     "output_type": "stream",
     "text": [
      "| epoch 297 |    31/  158 batches | lr 0.00000 | ms/batch 31.28269 | loss 3.75821\n",
      "| epoch 297 |    62/  158 batches | lr 0.00000 | ms/batch 29.68126 | loss 3.84719\n",
      "| epoch 297 |    93/  158 batches | lr 0.00000 | ms/batch 29.95644 | loss 4.04336\n",
      "| epoch 297 |   124/  158 batches | lr 0.00000 | ms/batch 29.50884 | loss 3.74928\n",
      "| epoch 297 |   155/  158 batches | lr 0.00000 | ms/batch 28.84499 | loss 3.67534\n",
      "-----------------------------------------------------------------------------------------\n",
      "| end of epoch 297 | time:  4.99s | valid loss 7.7949 | mean loss   3.8130\n",
      "-----------------------------------------------------------------------------------------\n",
      "Epoch #298\n"
     ]
    },
    {
     "data": {
      "application/vnd.jupyter.widget-view+json": {
       "model_id": "f40473df4c2e41feb95d80e7f9043242",
       "version_major": 2,
       "version_minor": 0
      },
      "text/plain": [
       "  0%|          | 0/158 [00:00<?, ?it/s]"
      ]
     },
     "metadata": {},
     "output_type": "display_data"
    },
    {
     "name": "stdout",
     "output_type": "stream",
     "text": [
      "| epoch 298 |    31/  158 batches | lr 0.00000 | ms/batch 31.15353 | loss 3.90103\n",
      "| epoch 298 |    62/  158 batches | lr 0.00000 | ms/batch 29.03055 | loss 3.77729\n",
      "| epoch 298 |    93/  158 batches | lr 0.00000 | ms/batch 28.82833 | loss 3.77649\n",
      "| epoch 298 |   124/  158 batches | lr 0.00000 | ms/batch 29.36803 | loss 3.90981\n",
      "| epoch 298 |   155/  158 batches | lr 0.00000 | ms/batch 29.22416 | loss 3.68580\n",
      "-----------------------------------------------------------------------------------------\n",
      "| end of epoch 298 | time:  4.94s | valid loss 7.7949 | mean loss   3.8129\n",
      "-----------------------------------------------------------------------------------------\n",
      "Epoch #299\n"
     ]
    },
    {
     "data": {
      "application/vnd.jupyter.widget-view+json": {
       "model_id": "a8adb71677ab4a9399ed69c29b085163",
       "version_major": 2,
       "version_minor": 0
      },
      "text/plain": [
       "  0%|          | 0/158 [00:00<?, ?it/s]"
      ]
     },
     "metadata": {},
     "output_type": "display_data"
    },
    {
     "name": "stdout",
     "output_type": "stream",
     "text": [
      "| epoch 299 |    31/  158 batches | lr 0.00000 | ms/batch 30.12441 | loss 3.90961\n",
      "| epoch 299 |    62/  158 batches | lr 0.00000 | ms/batch 29.35552 | loss 3.86697\n",
      "| epoch 299 |    93/  158 batches | lr 0.00000 | ms/batch 29.57710 | loss 3.62391\n",
      "| epoch 299 |   124/  158 batches | lr 0.00000 | ms/batch 29.06662 | loss 3.83313\n",
      "| epoch 299 |   155/  158 batches | lr 0.00000 | ms/batch 28.71609 | loss 3.83181\n",
      "-----------------------------------------------------------------------------------------\n",
      "| end of epoch 299 | time:  4.90s | valid loss 7.7949 | mean loss   3.8128\n",
      "-----------------------------------------------------------------------------------------\n",
      "Epoch #300\n"
     ]
    },
    {
     "data": {
      "application/vnd.jupyter.widget-view+json": {
       "model_id": "c8bd2b4f6a2c4fb49370e2272ceceed5",
       "version_major": 2,
       "version_minor": 0
      },
      "text/plain": [
       "  0%|          | 0/158 [00:00<?, ?it/s]"
      ]
     },
     "metadata": {},
     "output_type": "display_data"
    },
    {
     "name": "stdout",
     "output_type": "stream",
     "text": [
      "| epoch 300 |    31/  158 batches | lr 0.00000 | ms/batch 30.35835 | loss 3.82828\n",
      "| epoch 300 |    62/  158 batches | lr 0.00000 | ms/batch 29.01097 | loss 3.96673\n",
      "| epoch 300 |    93/  158 batches | lr 0.00000 | ms/batch 29.14969 | loss 3.65582\n",
      "| epoch 300 |   124/  158 batches | lr 0.00000 | ms/batch 30.03578 | loss 3.81856\n",
      "| epoch 300 |   155/  158 batches | lr 0.00000 | ms/batch 29.38972 | loss 3.78281\n",
      "-----------------------------------------------------------------------------------------\n",
      "| end of epoch 300 | time:  4.95s | valid loss 7.7949 | mean loss   3.8127\n",
      "-----------------------------------------------------------------------------------------\n",
      "Epoch #301\n"
     ]
    },
    {
     "data": {
      "application/vnd.jupyter.widget-view+json": {
       "model_id": "15bf01b9ba6640eb96c5a6b9d76b2df6",
       "version_major": 2,
       "version_minor": 0
      },
      "text/plain": [
       "  0%|          | 0/158 [00:00<?, ?it/s]"
      ]
     },
     "metadata": {},
     "output_type": "display_data"
    },
    {
     "name": "stdout",
     "output_type": "stream",
     "text": [
      "| epoch 301 |    31/  158 batches | lr 0.00000 | ms/batch 31.22846 | loss 3.70921\n",
      "| epoch 301 |    62/  158 batches | lr 0.00000 | ms/batch 29.28225 | loss 3.80916\n",
      "| epoch 301 |    93/  158 batches | lr 0.00000 | ms/batch 29.33121 | loss 3.69361\n",
      "| epoch 301 |   124/  158 batches | lr 0.00000 | ms/batch 28.61741 | loss 3.83540\n",
      "| epoch 301 |   155/  158 batches | lr 0.00000 | ms/batch 29.50678 | loss 3.99179\n",
      "-----------------------------------------------------------------------------------------\n",
      "| end of epoch 301 | time:  5.03s | valid loss 7.7949 | mean loss   3.8126\n",
      "-----------------------------------------------------------------------------------------\n",
      "Epoch #302\n"
     ]
    },
    {
     "data": {
      "application/vnd.jupyter.widget-view+json": {
       "model_id": "be2ded4985d04cccb2604d7a9a7338c1",
       "version_major": 2,
       "version_minor": 0
      },
      "text/plain": [
       "  0%|          | 0/158 [00:00<?, ?it/s]"
      ]
     },
     "metadata": {},
     "output_type": "display_data"
    },
    {
     "name": "stdout",
     "output_type": "stream",
     "text": [
      "| epoch 302 |    31/  158 batches | lr 0.00000 | ms/batch 31.08929 | loss 3.69125\n",
      "| epoch 302 |    62/  158 batches | lr 0.00000 | ms/batch 29.24562 | loss 3.85415\n",
      "| epoch 302 |    93/  158 batches | lr 0.00000 | ms/batch 29.35646 | loss 3.97043\n",
      "| epoch 302 |   124/  158 batches | lr 0.00000 | ms/batch 29.00766 | loss 3.69847\n",
      "| epoch 302 |   155/  158 batches | lr 0.00000 | ms/batch 29.20172 | loss 3.76441\n",
      "-----------------------------------------------------------------------------------------\n",
      "| end of epoch 302 | time:  4.95s | valid loss 7.7949 | mean loss   3.8125\n",
      "-----------------------------------------------------------------------------------------\n",
      "Epoch #303\n"
     ]
    },
    {
     "data": {
      "application/vnd.jupyter.widget-view+json": {
       "model_id": "7fbebd6e56c1478d88706ecd62c03542",
       "version_major": 2,
       "version_minor": 0
      },
      "text/plain": [
       "  0%|          | 0/158 [00:00<?, ?it/s]"
      ]
     },
     "metadata": {},
     "output_type": "display_data"
    },
    {
     "name": "stdout",
     "output_type": "stream",
     "text": [
      "| epoch 303 |    31/  158 batches | lr 0.00000 | ms/batch 30.62306 | loss 3.86500\n",
      "| epoch 303 |    62/  158 batches | lr 0.00000 | ms/batch 28.23303 | loss 3.78625\n",
      "| epoch 303 |    93/  158 batches | lr 0.00000 | ms/batch 29.35383 | loss 3.63312\n",
      "| epoch 303 |   124/  158 batches | lr 0.00000 | ms/batch 29.17420 | loss 3.95517\n",
      "| epoch 303 |   155/  158 batches | lr 0.00000 | ms/batch 29.61718 | loss 3.79230\n",
      "-----------------------------------------------------------------------------------------\n",
      "| end of epoch 303 | time:  4.92s | valid loss 7.7949 | mean loss   3.8124\n",
      "-----------------------------------------------------------------------------------------\n",
      "Epoch #304\n"
     ]
    },
    {
     "data": {
      "application/vnd.jupyter.widget-view+json": {
       "model_id": "0a105bbcec3545bf9d89debd28633de8",
       "version_major": 2,
       "version_minor": 0
      },
      "text/plain": [
       "  0%|          | 0/158 [00:00<?, ?it/s]"
      ]
     },
     "metadata": {},
     "output_type": "display_data"
    },
    {
     "name": "stdout",
     "output_type": "stream",
     "text": [
      "| epoch 304 |    31/  158 batches | lr 0.00000 | ms/batch 29.86133 | loss 4.00525\n",
      "| epoch 304 |    62/  158 batches | lr 0.00000 | ms/batch 29.49525 | loss 3.67947\n",
      "| epoch 304 |    93/  158 batches | lr 0.00000 | ms/batch 29.43222 | loss 3.76349\n",
      "| epoch 304 |   124/  158 batches | lr 0.00000 | ms/batch 28.41705 | loss 3.81051\n",
      "| epoch 304 |   155/  158 batches | lr 0.00000 | ms/batch 29.50115 | loss 3.78658\n",
      "-----------------------------------------------------------------------------------------\n",
      "| end of epoch 304 | time:  4.90s | valid loss 7.7949 | mean loss   3.8123\n",
      "-----------------------------------------------------------------------------------------\n",
      "Epoch #305\n"
     ]
    },
    {
     "data": {
      "application/vnd.jupyter.widget-view+json": {
       "model_id": "baa6a79f0d764df780a0e08f152cdcd6",
       "version_major": 2,
       "version_minor": 0
      },
      "text/plain": [
       "  0%|          | 0/158 [00:00<?, ?it/s]"
      ]
     },
     "metadata": {},
     "output_type": "display_data"
    },
    {
     "name": "stdout",
     "output_type": "stream",
     "text": [
      "| epoch 305 |    31/  158 batches | lr 0.00000 | ms/batch 31.20382 | loss 3.82658\n",
      "| epoch 305 |    62/  158 batches | lr 0.00000 | ms/batch 29.44320 | loss 3.70618\n",
      "| epoch 305 |    93/  158 batches | lr 0.00000 | ms/batch 29.26234 | loss 3.69316\n",
      "| epoch 305 |   124/  158 batches | lr 0.00000 | ms/batch 29.23232 | loss 3.88588\n",
      "| epoch 305 |   155/  158 batches | lr 0.00000 | ms/batch 28.78206 | loss 3.92742\n",
      "-----------------------------------------------------------------------------------------\n",
      "| end of epoch 305 | time:  4.95s | valid loss 7.7949 | mean loss   3.8122\n",
      "-----------------------------------------------------------------------------------------\n",
      "Epoch #306\n"
     ]
    },
    {
     "data": {
      "application/vnd.jupyter.widget-view+json": {
       "model_id": "98f5cefe49d345089c1deaabdc819d59",
       "version_major": 2,
       "version_minor": 0
      },
      "text/plain": [
       "  0%|          | 0/158 [00:00<?, ?it/s]"
      ]
     },
     "metadata": {},
     "output_type": "display_data"
    },
    {
     "name": "stdout",
     "output_type": "stream",
     "text": [
      "| epoch 306 |    31/  158 batches | lr 0.00000 | ms/batch 30.49697 | loss 4.10370\n",
      "| epoch 306 |    62/  158 batches | lr 0.00000 | ms/batch 29.85451 | loss 3.79992\n",
      "| epoch 306 |    93/  158 batches | lr 0.00000 | ms/batch 29.77404 | loss 3.65909\n",
      "| epoch 306 |   124/  158 batches | lr 0.00000 | ms/batch 28.72902 | loss 3.79841\n",
      "| epoch 306 |   155/  158 batches | lr 0.00000 | ms/batch 28.99465 | loss 3.68541\n",
      "-----------------------------------------------------------------------------------------\n",
      "| end of epoch 306 | time:  4.93s | valid loss 7.7949 | mean loss   3.8121\n",
      "-----------------------------------------------------------------------------------------\n",
      "Epoch #307\n"
     ]
    },
    {
     "data": {
      "application/vnd.jupyter.widget-view+json": {
       "model_id": "df0a4471edad4e3e82e344ae2269fb6c",
       "version_major": 2,
       "version_minor": 0
      },
      "text/plain": [
       "  0%|          | 0/158 [00:00<?, ?it/s]"
      ]
     },
     "metadata": {},
     "output_type": "display_data"
    },
    {
     "name": "stdout",
     "output_type": "stream",
     "text": [
      "| epoch 307 |    31/  158 batches | lr 0.00000 | ms/batch 30.24634 | loss 3.97676\n",
      "| epoch 307 |    62/  158 batches | lr 0.00000 | ms/batch 28.99386 | loss 3.84783\n",
      "| epoch 307 |    93/  158 batches | lr 0.00000 | ms/batch 29.04193 | loss 3.70488\n",
      "| epoch 307 |   124/  158 batches | lr 0.00000 | ms/batch 28.89821 | loss 3.72326\n",
      "| epoch 307 |   155/  158 batches | lr 0.00000 | ms/batch 28.42928 | loss 3.80597\n",
      "-----------------------------------------------------------------------------------------\n",
      "| end of epoch 307 | time:  4.88s | valid loss 7.7949 | mean loss   3.8120\n",
      "-----------------------------------------------------------------------------------------\n",
      "Epoch #308\n"
     ]
    },
    {
     "data": {
      "application/vnd.jupyter.widget-view+json": {
       "model_id": "c51a2b80533e43adbb3e878c0d208ea2",
       "version_major": 2,
       "version_minor": 0
      },
      "text/plain": [
       "  0%|          | 0/158 [00:00<?, ?it/s]"
      ]
     },
     "metadata": {},
     "output_type": "display_data"
    },
    {
     "name": "stdout",
     "output_type": "stream",
     "text": [
      "| epoch 308 |    31/  158 batches | lr 0.00000 | ms/batch 33.20845 | loss 3.79930\n",
      "| epoch 308 |    62/  158 batches | lr 0.00000 | ms/batch 29.45183 | loss 3.87379\n",
      "| epoch 308 |    93/  158 batches | lr 0.00000 | ms/batch 29.08171 | loss 3.83287\n",
      "| epoch 308 |   124/  158 batches | lr 0.00000 | ms/batch 29.64316 | loss 3.73989\n",
      "| epoch 308 |   155/  158 batches | lr 0.00000 | ms/batch 29.38297 | loss 3.76659\n",
      "-----------------------------------------------------------------------------------------\n",
      "| end of epoch 308 | time:  5.02s | valid loss 7.7949 | mean loss   3.8119\n",
      "-----------------------------------------------------------------------------------------\n",
      "Epoch #309\n"
     ]
    },
    {
     "data": {
      "application/vnd.jupyter.widget-view+json": {
       "model_id": "327b3bd639254c0da9534cd9707e660f",
       "version_major": 2,
       "version_minor": 0
      },
      "text/plain": [
       "  0%|          | 0/158 [00:00<?, ?it/s]"
      ]
     },
     "metadata": {},
     "output_type": "display_data"
    },
    {
     "name": "stdout",
     "output_type": "stream",
     "text": [
      "| epoch 309 |    31/  158 batches | lr 0.00000 | ms/batch 30.28785 | loss 3.93663\n",
      "| epoch 309 |    62/  158 batches | lr 0.00000 | ms/batch 29.44135 | loss 3.79177\n",
      "| epoch 309 |    93/  158 batches | lr 0.00000 | ms/batch 29.29891 | loss 3.75895\n",
      "| epoch 309 |   124/  158 batches | lr 0.00000 | ms/batch 29.06505 | loss 3.78296\n",
      "| epoch 309 |   155/  158 batches | lr 0.00000 | ms/batch 29.75835 | loss 3.74286\n",
      "-----------------------------------------------------------------------------------------\n",
      "| end of epoch 309 | time:  4.94s | valid loss 7.7949 | mean loss   3.8118\n",
      "-----------------------------------------------------------------------------------------\n",
      "Epoch #310\n"
     ]
    },
    {
     "data": {
      "application/vnd.jupyter.widget-view+json": {
       "model_id": "3246086a09b94b6880068cc0309a68f4",
       "version_major": 2,
       "version_minor": 0
      },
      "text/plain": [
       "  0%|          | 0/158 [00:00<?, ?it/s]"
      ]
     },
     "metadata": {},
     "output_type": "display_data"
    },
    {
     "name": "stdout",
     "output_type": "stream",
     "text": [
      "| epoch 310 |    31/  158 batches | lr 0.00000 | ms/batch 30.36077 | loss 3.94752\n",
      "| epoch 310 |    62/  158 batches | lr 0.00000 | ms/batch 29.54237 | loss 3.87859\n",
      "| epoch 310 |    93/  158 batches | lr 0.00000 | ms/batch 28.68425 | loss 3.65944\n",
      "| epoch 310 |   124/  158 batches | lr 0.00000 | ms/batch 29.16246 | loss 3.78121\n",
      "| epoch 310 |   155/  158 batches | lr 0.00000 | ms/batch 28.40539 | loss 3.78489\n",
      "-----------------------------------------------------------------------------------------\n",
      "| end of epoch 310 | time:  4.89s | valid loss 7.7949 | mean loss   3.8118\n",
      "-----------------------------------------------------------------------------------------\n",
      "Epoch #311\n"
     ]
    },
    {
     "data": {
      "application/vnd.jupyter.widget-view+json": {
       "model_id": "f64888ce111747f0973fba257c0a1e31",
       "version_major": 2,
       "version_minor": 0
      },
      "text/plain": [
       "  0%|          | 0/158 [00:00<?, ?it/s]"
      ]
     },
     "metadata": {},
     "output_type": "display_data"
    },
    {
     "name": "stdout",
     "output_type": "stream",
     "text": [
      "| epoch 311 |    31/  158 batches | lr 0.00000 | ms/batch 29.86624 | loss 3.97063\n",
      "| epoch 311 |    62/  158 batches | lr 0.00000 | ms/batch 28.41683 | loss 3.76055\n",
      "| epoch 311 |    93/  158 batches | lr 0.00000 | ms/batch 29.10229 | loss 3.87618\n",
      "| epoch 311 |   124/  158 batches | lr 0.00000 | ms/batch 29.43667 | loss 3.65293\n",
      "| epoch 311 |   155/  158 batches | lr 0.00000 | ms/batch 29.45269 | loss 3.76265\n",
      "-----------------------------------------------------------------------------------------\n",
      "| end of epoch 311 | time:  4.89s | valid loss 7.7949 | mean loss   3.8117\n",
      "-----------------------------------------------------------------------------------------\n",
      "Epoch #312\n"
     ]
    },
    {
     "data": {
      "application/vnd.jupyter.widget-view+json": {
       "model_id": "50c5bf7a7b7b41bea161fd81ede4b385",
       "version_major": 2,
       "version_minor": 0
      },
      "text/plain": [
       "  0%|          | 0/158 [00:00<?, ?it/s]"
      ]
     },
     "metadata": {},
     "output_type": "display_data"
    },
    {
     "name": "stdout",
     "output_type": "stream",
     "text": [
      "| epoch 312 |    31/  158 batches | lr 0.00000 | ms/batch 30.85860 | loss 3.84488\n",
      "| epoch 312 |    62/  158 batches | lr 0.00000 | ms/batch 29.02809 | loss 3.78257\n",
      "| epoch 312 |    93/  158 batches | lr 0.00000 | ms/batch 30.10124 | loss 3.77450\n",
      "| epoch 312 |   124/  158 batches | lr 0.00000 | ms/batch 28.53633 | loss 3.88243\n",
      "| epoch 312 |   155/  158 batches | lr 0.00000 | ms/batch 29.31433 | loss 3.80165\n",
      "-----------------------------------------------------------------------------------------\n",
      "| end of epoch 312 | time:  4.95s | valid loss 7.7949 | mean loss   3.8116\n",
      "-----------------------------------------------------------------------------------------\n",
      "Epoch #313\n"
     ]
    },
    {
     "data": {
      "application/vnd.jupyter.widget-view+json": {
       "model_id": "af7a18535a734111b5c0678140bf6642",
       "version_major": 2,
       "version_minor": 0
      },
      "text/plain": [
       "  0%|          | 0/158 [00:00<?, ?it/s]"
      ]
     },
     "metadata": {},
     "output_type": "display_data"
    },
    {
     "name": "stdout",
     "output_type": "stream",
     "text": [
      "| epoch 313 |    31/  158 batches | lr 0.00000 | ms/batch 41.88965 | loss 3.89381\n",
      "| epoch 313 |    62/  158 batches | lr 0.00000 | ms/batch 30.84239 | loss 3.73102\n",
      "| epoch 313 |    93/  158 batches | lr 0.00000 | ms/batch 29.08143 | loss 3.79265\n",
      "| epoch 313 |   124/  158 batches | lr 0.00000 | ms/batch 28.34983 | loss 3.78670\n",
      "| epoch 313 |   155/  158 batches | lr 0.00000 | ms/batch 29.55363 | loss 3.86178\n",
      "-----------------------------------------------------------------------------------------\n",
      "| end of epoch 313 | time:  5.32s | valid loss 7.7949 | mean loss   3.8115\n",
      "-----------------------------------------------------------------------------------------\n",
      "Epoch #314\n"
     ]
    },
    {
     "data": {
      "application/vnd.jupyter.widget-view+json": {
       "model_id": "74b35afb9af1435d89f41aa050dba1f8",
       "version_major": 2,
       "version_minor": 0
      },
      "text/plain": [
       "  0%|          | 0/158 [00:00<?, ?it/s]"
      ]
     },
     "metadata": {},
     "output_type": "display_data"
    },
    {
     "name": "stdout",
     "output_type": "stream",
     "text": [
      "| epoch 314 |    31/  158 batches | lr 0.00000 | ms/batch 33.18344 | loss 4.03088\n",
      "| epoch 314 |    62/  158 batches | lr 0.00000 | ms/batch 28.81032 | loss 3.70634\n",
      "| epoch 314 |    93/  158 batches | lr 0.00000 | ms/batch 29.55527 | loss 3.87616\n",
      "| epoch 314 |   124/  158 batches | lr 0.00000 | ms/batch 29.56010 | loss 3.67396\n",
      "| epoch 314 |   155/  158 batches | lr 0.00000 | ms/batch 29.48453 | loss 3.76604\n",
      "-----------------------------------------------------------------------------------------\n",
      "| end of epoch 314 | time:  5.03s | valid loss 7.7949 | mean loss   3.8114\n",
      "-----------------------------------------------------------------------------------------\n",
      "Epoch #315\n"
     ]
    },
    {
     "data": {
      "application/vnd.jupyter.widget-view+json": {
       "model_id": "23161cc8e8e14ac4a7128d5f73ff10c0",
       "version_major": 2,
       "version_minor": 0
      },
      "text/plain": [
       "  0%|          | 0/158 [00:00<?, ?it/s]"
      ]
     },
     "metadata": {},
     "output_type": "display_data"
    },
    {
     "name": "stdout",
     "output_type": "stream",
     "text": [
      "| epoch 315 |    31/  158 batches | lr 0.00000 | ms/batch 30.43301 | loss 3.84331\n",
      "| epoch 315 |    62/  158 batches | lr 0.00000 | ms/batch 28.74415 | loss 3.81713\n",
      "| epoch 315 |    93/  158 batches | lr 0.00000 | ms/batch 28.80652 | loss 3.83368\n",
      "| epoch 315 |   124/  158 batches | lr 0.00000 | ms/batch 29.23082 | loss 3.72542\n",
      "| epoch 315 |   155/  158 batches | lr 0.00000 | ms/batch 29.77185 | loss 3.82224\n",
      "-----------------------------------------------------------------------------------------\n",
      "| end of epoch 315 | time:  4.92s | valid loss 7.7949 | mean loss   3.8113\n",
      "-----------------------------------------------------------------------------------------\n",
      "Epoch #316\n"
     ]
    },
    {
     "data": {
      "application/vnd.jupyter.widget-view+json": {
       "model_id": "717cb3f3c3f949b3b6d3279378339efe",
       "version_major": 2,
       "version_minor": 0
      },
      "text/plain": [
       "  0%|          | 0/158 [00:00<?, ?it/s]"
      ]
     },
     "metadata": {},
     "output_type": "display_data"
    },
    {
     "name": "stdout",
     "output_type": "stream",
     "text": [
      "| epoch 316 |    31/  158 batches | lr 0.00000 | ms/batch 30.83408 | loss 3.90673\n",
      "| epoch 316 |    62/  158 batches | lr 0.00000 | ms/batch 29.02238 | loss 3.87220\n",
      "| epoch 316 |    93/  158 batches | lr 0.00000 | ms/batch 29.18824 | loss 3.95068\n",
      "| epoch 316 |   124/  158 batches | lr 0.00000 | ms/batch 29.92732 | loss 3.69659\n",
      "| epoch 316 |   155/  158 batches | lr 0.00000 | ms/batch 29.20687 | loss 3.63257\n",
      "-----------------------------------------------------------------------------------------\n",
      "| end of epoch 316 | time:  4.95s | valid loss 7.7949 | mean loss   3.8112\n",
      "-----------------------------------------------------------------------------------------\n",
      "Epoch #317\n"
     ]
    },
    {
     "data": {
      "application/vnd.jupyter.widget-view+json": {
       "model_id": "0457f849b28c404e8a4607fe4f4054f4",
       "version_major": 2,
       "version_minor": 0
      },
      "text/plain": [
       "  0%|          | 0/158 [00:00<?, ?it/s]"
      ]
     },
     "metadata": {},
     "output_type": "display_data"
    },
    {
     "name": "stdout",
     "output_type": "stream",
     "text": [
      "| epoch 317 |    31/  158 batches | lr 0.00000 | ms/batch 30.31888 | loss 4.00439\n",
      "| epoch 317 |    62/  158 batches | lr 0.00000 | ms/batch 29.11497 | loss 3.67032\n",
      "| epoch 317 |    93/  158 batches | lr 0.00000 | ms/batch 29.01926 | loss 3.91510\n",
      "| epoch 317 |   124/  158 batches | lr 0.00000 | ms/batch 28.93919 | loss 3.81338\n",
      "| epoch 317 |   155/  158 batches | lr 0.00000 | ms/batch 29.34042 | loss 3.62583\n",
      "-----------------------------------------------------------------------------------------\n",
      "| end of epoch 317 | time:  4.90s | valid loss 7.7949 | mean loss   3.8111\n",
      "-----------------------------------------------------------------------------------------\n",
      "Epoch #318\n"
     ]
    },
    {
     "data": {
      "application/vnd.jupyter.widget-view+json": {
       "model_id": "8cb751bd9f374d4e8e5b6ce680339d2f",
       "version_major": 2,
       "version_minor": 0
      },
      "text/plain": [
       "  0%|          | 0/158 [00:00<?, ?it/s]"
      ]
     },
     "metadata": {},
     "output_type": "display_data"
    },
    {
     "name": "stdout",
     "output_type": "stream",
     "text": [
      "| epoch 318 |    31/  158 batches | lr 0.00000 | ms/batch 30.04679 | loss 3.91061\n",
      "| epoch 318 |    62/  158 batches | lr 0.00000 | ms/batch 29.01158 | loss 3.83618\n",
      "| epoch 318 |    93/  158 batches | lr 0.00000 | ms/batch 28.68598 | loss 3.89030\n",
      "| epoch 318 |   124/  158 batches | lr 0.00000 | ms/batch 28.52008 | loss 3.61851\n",
      "| epoch 318 |   155/  158 batches | lr 0.00000 | ms/batch 29.61613 | loss 3.83755\n",
      "-----------------------------------------------------------------------------------------\n",
      "| end of epoch 318 | time:  4.88s | valid loss 7.7949 | mean loss   3.8111\n",
      "-----------------------------------------------------------------------------------------\n",
      "Epoch #319\n"
     ]
    },
    {
     "data": {
      "application/vnd.jupyter.widget-view+json": {
       "model_id": "b8a2928554194af292ad00f2394837e4",
       "version_major": 2,
       "version_minor": 0
      },
      "text/plain": [
       "  0%|          | 0/158 [00:00<?, ?it/s]"
      ]
     },
     "metadata": {},
     "output_type": "display_data"
    },
    {
     "name": "stdout",
     "output_type": "stream",
     "text": [
      "| epoch 319 |    31/  158 batches | lr 0.00000 | ms/batch 30.87458 | loss 4.00424\n",
      "| epoch 319 |    62/  158 batches | lr 0.00000 | ms/batch 29.61426 | loss 3.91383\n",
      "| epoch 319 |    93/  158 batches | lr 0.00000 | ms/batch 29.33812 | loss 3.81980\n",
      "| epoch 319 |   124/  158 batches | lr 0.00000 | ms/batch 29.63120 | loss 3.69603\n",
      "| epoch 319 |   155/  158 batches | lr 0.00000 | ms/batch 29.01633 | loss 3.61866\n",
      "-----------------------------------------------------------------------------------------\n",
      "| end of epoch 319 | time:  4.96s | valid loss 7.7949 | mean loss   3.8110\n",
      "-----------------------------------------------------------------------------------------\n",
      "Epoch #320\n"
     ]
    },
    {
     "data": {
      "application/vnd.jupyter.widget-view+json": {
       "model_id": "8078ed0585c54e4eb7075667b1d2b4e0",
       "version_major": 2,
       "version_minor": 0
      },
      "text/plain": [
       "  0%|          | 0/158 [00:00<?, ?it/s]"
      ]
     },
     "metadata": {},
     "output_type": "display_data"
    },
    {
     "name": "stdout",
     "output_type": "stream",
     "text": [
      "| epoch 320 |    31/  158 batches | lr 0.00000 | ms/batch 33.20213 | loss 3.94085\n",
      "| epoch 320 |    62/  158 batches | lr 0.00000 | ms/batch 28.46770 | loss 3.76261\n",
      "| epoch 320 |    93/  158 batches | lr 0.00000 | ms/batch 29.60260 | loss 3.81304\n",
      "| epoch 320 |   124/  158 batches | lr 0.00000 | ms/batch 28.72107 | loss 3.59555\n",
      "| epoch 320 |   155/  158 batches | lr 0.00000 | ms/batch 28.20741 | loss 3.93777\n",
      "-----------------------------------------------------------------------------------------\n",
      "| end of epoch 320 | time:  4.96s | valid loss 7.7949 | mean loss   3.8109\n",
      "-----------------------------------------------------------------------------------------\n",
      "Epoch #321\n"
     ]
    },
    {
     "data": {
      "application/vnd.jupyter.widget-view+json": {
       "model_id": "7caafa765e1b47b89556ae73b52491aa",
       "version_major": 2,
       "version_minor": 0
      },
      "text/plain": [
       "  0%|          | 0/158 [00:00<?, ?it/s]"
      ]
     },
     "metadata": {},
     "output_type": "display_data"
    },
    {
     "name": "stdout",
     "output_type": "stream",
     "text": [
      "| epoch 321 |    31/  158 batches | lr 0.00000 | ms/batch 30.46820 | loss 3.94051\n",
      "| epoch 321 |    62/  158 batches | lr 0.00000 | ms/batch 29.48173 | loss 3.59900\n",
      "| epoch 321 |    93/  158 batches | lr 0.00000 | ms/batch 28.96865 | loss 3.83046\n",
      "| epoch 321 |   124/  158 batches | lr 0.00000 | ms/batch 29.11707 | loss 3.78776\n",
      "| epoch 321 |   155/  158 batches | lr 0.00000 | ms/batch 29.79406 | loss 3.88136\n",
      "-----------------------------------------------------------------------------------------\n",
      "| end of epoch 321 | time:  4.93s | valid loss 7.7949 | mean loss   3.8108\n",
      "-----------------------------------------------------------------------------------------\n",
      "Epoch #322\n"
     ]
    },
    {
     "data": {
      "application/vnd.jupyter.widget-view+json": {
       "model_id": "30b7eccafa7041df933dd81bcc7cd365",
       "version_major": 2,
       "version_minor": 0
      },
      "text/plain": [
       "  0%|          | 0/158 [00:00<?, ?it/s]"
      ]
     },
     "metadata": {},
     "output_type": "display_data"
    },
    {
     "name": "stdout",
     "output_type": "stream",
     "text": [
      "| epoch 322 |    31/  158 batches | lr 0.00000 | ms/batch 29.66703 | loss 3.88785\n",
      "| epoch 322 |    62/  158 batches | lr 0.00000 | ms/batch 29.44783 | loss 3.67241\n",
      "| epoch 322 |    93/  158 batches | lr 0.00000 | ms/batch 29.54758 | loss 3.90893\n",
      "| epoch 322 |   124/  158 batches | lr 0.00000 | ms/batch 28.90610 | loss 3.80616\n",
      "| epoch 322 |   155/  158 batches | lr 0.00000 | ms/batch 29.05561 | loss 3.76252\n",
      "-----------------------------------------------------------------------------------------\n",
      "| end of epoch 322 | time:  4.90s | valid loss 7.7949 | mean loss   3.8107\n",
      "-----------------------------------------------------------------------------------------\n",
      "Epoch #323\n"
     ]
    },
    {
     "data": {
      "application/vnd.jupyter.widget-view+json": {
       "model_id": "b47fbbdf8d8e4a378bcdd9c7d3b2d358",
       "version_major": 2,
       "version_minor": 0
      },
      "text/plain": [
       "  0%|          | 0/158 [00:00<?, ?it/s]"
      ]
     },
     "metadata": {},
     "output_type": "display_data"
    },
    {
     "name": "stdout",
     "output_type": "stream",
     "text": [
      "| epoch 323 |    31/  158 batches | lr 0.00000 | ms/batch 30.94038 | loss 3.71718\n",
      "| epoch 323 |    62/  158 batches | lr 0.00000 | ms/batch 29.22684 | loss 3.77506\n",
      "| epoch 323 |    93/  158 batches | lr 0.00000 | ms/batch 29.46718 | loss 3.76062\n",
      "| epoch 323 |   124/  158 batches | lr 0.00000 | ms/batch 28.33142 | loss 3.85525\n",
      "| epoch 323 |   155/  158 batches | lr 0.00000 | ms/batch 28.65921 | loss 3.92797\n",
      "-----------------------------------------------------------------------------------------\n",
      "| end of epoch 323 | time:  4.90s | valid loss 7.7949 | mean loss   3.8106\n",
      "-----------------------------------------------------------------------------------------\n",
      "Epoch #324\n"
     ]
    },
    {
     "data": {
      "application/vnd.jupyter.widget-view+json": {
       "model_id": "956ea9397f4245ebb4f756bb691cea46",
       "version_major": 2,
       "version_minor": 0
      },
      "text/plain": [
       "  0%|          | 0/158 [00:00<?, ?it/s]"
      ]
     },
     "metadata": {},
     "output_type": "display_data"
    },
    {
     "name": "stdout",
     "output_type": "stream",
     "text": [
      "| epoch 324 |    31/  158 batches | lr 0.00000 | ms/batch 29.51985 | loss 3.89241\n",
      "| epoch 324 |    62/  158 batches | lr 0.00000 | ms/batch 29.24712 | loss 3.72007\n",
      "| epoch 324 |    93/  158 batches | lr 0.00000 | ms/batch 28.83138 | loss 3.98957\n",
      "| epoch 324 |   124/  158 batches | lr 0.00000 | ms/batch 29.59107 | loss 3.64690\n",
      "| epoch 324 |   155/  158 batches | lr 0.00000 | ms/batch 29.25751 | loss 3.81915\n",
      "-----------------------------------------------------------------------------------------\n",
      "| end of epoch 324 | time:  4.88s | valid loss 7.7949 | mean loss   3.8105\n",
      "-----------------------------------------------------------------------------------------\n",
      "Epoch #325\n"
     ]
    },
    {
     "data": {
      "application/vnd.jupyter.widget-view+json": {
       "model_id": "3c9b609bbb3d4b8fb69262f7060df1a3",
       "version_major": 2,
       "version_minor": 0
      },
      "text/plain": [
       "  0%|          | 0/158 [00:00<?, ?it/s]"
      ]
     },
     "metadata": {},
     "output_type": "display_data"
    },
    {
     "name": "stdout",
     "output_type": "stream",
     "text": [
      "| epoch 325 |    31/  158 batches | lr 0.00000 | ms/batch 30.27885 | loss 3.96186\n",
      "| epoch 325 |    62/  158 batches | lr 0.00000 | ms/batch 29.10300 | loss 3.74101\n",
      "| epoch 325 |    93/  158 batches | lr 0.00000 | ms/batch 29.58933 | loss 3.80318\n",
      "| epoch 325 |   124/  158 batches | lr 0.00000 | ms/batch 28.44753 | loss 3.67843\n",
      "| epoch 325 |   155/  158 batches | lr 0.00000 | ms/batch 29.53686 | loss 3.86816\n",
      "-----------------------------------------------------------------------------------------\n",
      "| end of epoch 325 | time:  4.91s | valid loss 7.7949 | mean loss   3.8105\n",
      "-----------------------------------------------------------------------------------------\n",
      "Epoch #326\n"
     ]
    },
    {
     "data": {
      "application/vnd.jupyter.widget-view+json": {
       "model_id": "c6d87fac434d4266b313661ffb3b66a0",
       "version_major": 2,
       "version_minor": 0
      },
      "text/plain": [
       "  0%|          | 0/158 [00:00<?, ?it/s]"
      ]
     },
     "metadata": {},
     "output_type": "display_data"
    },
    {
     "name": "stdout",
     "output_type": "stream",
     "text": [
      "| epoch 326 |    31/  158 batches | lr 0.00000 | ms/batch 30.13805 | loss 4.04950\n",
      "| epoch 326 |    62/  158 batches | lr 0.00000 | ms/batch 32.43243 | loss 3.54667\n",
      "| epoch 326 |    93/  158 batches | lr 0.00000 | ms/batch 28.68527 | loss 3.91401\n",
      "| epoch 326 |   124/  158 batches | lr 0.00000 | ms/batch 29.44506 | loss 3.76140\n",
      "| epoch 326 |   155/  158 batches | lr 0.00000 | ms/batch 28.78102 | loss 3.78749\n",
      "-----------------------------------------------------------------------------------------\n",
      "| end of epoch 326 | time:  4.98s | valid loss 7.7949 | mean loss   3.8104\n",
      "-----------------------------------------------------------------------------------------\n",
      "Epoch #327\n"
     ]
    },
    {
     "data": {
      "application/vnd.jupyter.widget-view+json": {
       "model_id": "d2c05671a41542df869bb4901c552a6d",
       "version_major": 2,
       "version_minor": 0
      },
      "text/plain": [
       "  0%|          | 0/158 [00:00<?, ?it/s]"
      ]
     },
     "metadata": {},
     "output_type": "display_data"
    },
    {
     "name": "stdout",
     "output_type": "stream",
     "text": [
      "| epoch 327 |    31/  158 batches | lr 0.00000 | ms/batch 30.50460 | loss 3.85914\n",
      "| epoch 327 |    62/  158 batches | lr 0.00000 | ms/batch 29.66809 | loss 3.72080\n",
      "| epoch 327 |    93/  158 batches | lr 0.00000 | ms/batch 38.19296 | loss 3.80539\n",
      "| epoch 327 |   124/  158 batches | lr 0.00000 | ms/batch 29.66329 | loss 3.89059\n",
      "| epoch 327 |   155/  158 batches | lr 0.00000 | ms/batch 29.32080 | loss 3.74109\n",
      "-----------------------------------------------------------------------------------------\n",
      "| end of epoch 327 | time:  5.24s | valid loss 7.7949 | mean loss   3.8103\n",
      "-----------------------------------------------------------------------------------------\n",
      "Epoch #328\n"
     ]
    },
    {
     "data": {
      "application/vnd.jupyter.widget-view+json": {
       "model_id": "c26c4a1cf3a4458da169757f4626c783",
       "version_major": 2,
       "version_minor": 0
      },
      "text/plain": [
       "  0%|          | 0/158 [00:00<?, ?it/s]"
      ]
     },
     "metadata": {},
     "output_type": "display_data"
    },
    {
     "name": "stdout",
     "output_type": "stream",
     "text": [
      "| epoch 328 |    31/  158 batches | lr 0.00000 | ms/batch 30.34150 | loss 3.91184\n",
      "| epoch 328 |    62/  158 batches | lr 0.00000 | ms/batch 29.90218 | loss 3.66461\n",
      "| epoch 328 |    93/  158 batches | lr 0.00000 | ms/batch 30.02857 | loss 3.85485\n",
      "| epoch 328 |   124/  158 batches | lr 0.00000 | ms/batch 29.28950 | loss 3.78718\n",
      "| epoch 328 |   155/  158 batches | lr 0.00000 | ms/batch 29.28002 | loss 3.82913\n",
      "-----------------------------------------------------------------------------------------\n",
      "| end of epoch 328 | time:  4.96s | valid loss 7.7949 | mean loss   3.8102\n",
      "-----------------------------------------------------------------------------------------\n",
      "Epoch #329\n"
     ]
    },
    {
     "data": {
      "application/vnd.jupyter.widget-view+json": {
       "model_id": "4e19f4f76f7c446cbc6c3e4dc23678b4",
       "version_major": 2,
       "version_minor": 0
      },
      "text/plain": [
       "  0%|          | 0/158 [00:00<?, ?it/s]"
      ]
     },
     "metadata": {},
     "output_type": "display_data"
    },
    {
     "name": "stdout",
     "output_type": "stream",
     "text": [
      "| epoch 329 |    31/  158 batches | lr 0.00000 | ms/batch 30.49049 | loss 3.91783\n",
      "| epoch 329 |    62/  158 batches | lr 0.00000 | ms/batch 29.22939 | loss 3.86249\n",
      "| epoch 329 |    93/  158 batches | lr 0.00000 | ms/batch 28.97143 | loss 3.68947\n",
      "| epoch 329 |   124/  158 batches | lr 0.00000 | ms/batch 29.38452 | loss 3.81724\n",
      "| epoch 329 |   155/  158 batches | lr 0.00000 | ms/batch 29.83258 | loss 3.74667\n",
      "-----------------------------------------------------------------------------------------\n",
      "| end of epoch 329 | time:  4.92s | valid loss 7.7949 | mean loss   3.8101\n",
      "-----------------------------------------------------------------------------------------\n",
      "Epoch #330\n"
     ]
    },
    {
     "data": {
      "application/vnd.jupyter.widget-view+json": {
       "model_id": "08d39bbd70a8421a84975838dc2a79d4",
       "version_major": 2,
       "version_minor": 0
      },
      "text/plain": [
       "  0%|          | 0/158 [00:00<?, ?it/s]"
      ]
     },
     "metadata": {},
     "output_type": "display_data"
    },
    {
     "name": "stdout",
     "output_type": "stream",
     "text": [
      "| epoch 330 |    31/  158 batches | lr 0.00000 | ms/batch 30.22685 | loss 3.88384\n",
      "| epoch 330 |    62/  158 batches | lr 0.00000 | ms/batch 28.88529 | loss 3.69337\n",
      "| epoch 330 |    93/  158 batches | lr 0.00000 | ms/batch 29.88202 | loss 3.76585\n",
      "| epoch 330 |   124/  158 batches | lr 0.00000 | ms/batch 30.05760 | loss 3.72605\n",
      "| epoch 330 |   155/  158 batches | lr 0.00000 | ms/batch 28.97605 | loss 3.93607\n",
      "-----------------------------------------------------------------------------------------\n",
      "| end of epoch 330 | time:  4.95s | valid loss 7.7949 | mean loss   3.8101\n",
      "-----------------------------------------------------------------------------------------\n",
      "Epoch #331\n"
     ]
    },
    {
     "data": {
      "application/vnd.jupyter.widget-view+json": {
       "model_id": "c0bc9bda9bbe441a839b1a4c03a7cb83",
       "version_major": 2,
       "version_minor": 0
      },
      "text/plain": [
       "  0%|          | 0/158 [00:00<?, ?it/s]"
      ]
     },
     "metadata": {},
     "output_type": "display_data"
    },
    {
     "name": "stdout",
     "output_type": "stream",
     "text": [
      "| epoch 331 |    31/  158 batches | lr 0.00000 | ms/batch 30.94672 | loss 3.79481\n",
      "| epoch 331 |    62/  158 batches | lr 0.00000 | ms/batch 29.38387 | loss 3.86351\n",
      "| epoch 331 |    93/  158 batches | lr 0.00000 | ms/batch 29.83261 | loss 3.73562\n",
      "| epoch 331 |   124/  158 batches | lr 0.00000 | ms/batch 29.83722 | loss 3.83199\n",
      "| epoch 331 |   155/  158 batches | lr 0.00000 | ms/batch 30.12351 | loss 3.76099\n",
      "-----------------------------------------------------------------------------------------\n",
      "| end of epoch 331 | time:  5.02s | valid loss 7.7949 | mean loss   3.8100\n",
      "-----------------------------------------------------------------------------------------\n",
      "Epoch #332\n"
     ]
    },
    {
     "data": {
      "application/vnd.jupyter.widget-view+json": {
       "model_id": "040ef380060341f28624782948562253",
       "version_major": 2,
       "version_minor": 0
      },
      "text/plain": [
       "  0%|          | 0/158 [00:00<?, ?it/s]"
      ]
     },
     "metadata": {},
     "output_type": "display_data"
    },
    {
     "name": "stdout",
     "output_type": "stream",
     "text": [
      "| epoch 332 |    31/  158 batches | lr 0.00000 | ms/batch 30.73837 | loss 3.73066\n",
      "| epoch 332 |    62/  158 batches | lr 0.00000 | ms/batch 32.20642 | loss 3.83162\n",
      "| epoch 332 |    93/  158 batches | lr 0.00000 | ms/batch 29.84160 | loss 3.79445\n",
      "| epoch 332 |   124/  158 batches | lr 0.00000 | ms/batch 30.04208 | loss 4.06468\n",
      "| epoch 332 |   155/  158 batches | lr 0.00000 | ms/batch 29.67667 | loss 3.59662\n",
      "-----------------------------------------------------------------------------------------\n",
      "| end of epoch 332 | time:  5.09s | valid loss 7.7949 | mean loss   3.8099\n",
      "-----------------------------------------------------------------------------------------\n",
      "Epoch #333\n"
     ]
    },
    {
     "data": {
      "application/vnd.jupyter.widget-view+json": {
       "model_id": "b2a452e4a35845688022a31b63b558e5",
       "version_major": 2,
       "version_minor": 0
      },
      "text/plain": [
       "  0%|          | 0/158 [00:00<?, ?it/s]"
      ]
     },
     "metadata": {},
     "output_type": "display_data"
    },
    {
     "name": "stdout",
     "output_type": "stream",
     "text": [
      "| epoch 333 |    31/  158 batches | lr 0.00000 | ms/batch 30.52684 | loss 3.81578\n",
      "| epoch 333 |    62/  158 batches | lr 0.00000 | ms/batch 29.08890 | loss 3.80524\n",
      "| epoch 333 |    93/  158 batches | lr 0.00000 | ms/batch 30.06673 | loss 3.79477\n",
      "| epoch 333 |   124/  158 batches | lr 0.00000 | ms/batch 29.09054 | loss 3.76387\n",
      "| epoch 333 |   155/  158 batches | lr 0.00000 | ms/batch 30.45108 | loss 3.85578\n",
      "-----------------------------------------------------------------------------------------\n",
      "| end of epoch 333 | time:  4.99s | valid loss 7.7949 | mean loss   3.8098\n",
      "-----------------------------------------------------------------------------------------\n",
      "Epoch #334\n"
     ]
    },
    {
     "data": {
      "application/vnd.jupyter.widget-view+json": {
       "model_id": "d5701a6768c54cd2b3602a9b74309dc3",
       "version_major": 2,
       "version_minor": 0
      },
      "text/plain": [
       "  0%|          | 0/158 [00:00<?, ?it/s]"
      ]
     },
     "metadata": {},
     "output_type": "display_data"
    },
    {
     "name": "stdout",
     "output_type": "stream",
     "text": [
      "| epoch 334 |    31/  158 batches | lr 0.00000 | ms/batch 32.09638 | loss 3.98052\n",
      "| epoch 334 |    62/  158 batches | lr 0.00000 | ms/batch 29.57428 | loss 3.78238\n",
      "| epoch 334 |    93/  158 batches | lr 0.00000 | ms/batch 29.75587 | loss 3.75249\n",
      "| epoch 334 |   124/  158 batches | lr 0.00000 | ms/batch 29.48825 | loss 3.80584\n",
      "| epoch 334 |   155/  158 batches | lr 0.00000 | ms/batch 29.15083 | loss 3.73081\n",
      "-----------------------------------------------------------------------------------------\n",
      "| end of epoch 334 | time:  5.01s | valid loss 7.7949 | mean loss   3.8098\n",
      "-----------------------------------------------------------------------------------------\n",
      "Epoch #335\n"
     ]
    },
    {
     "data": {
      "application/vnd.jupyter.widget-view+json": {
       "model_id": "f2309dd5533444509fbd58d663d65fee",
       "version_major": 2,
       "version_minor": 0
      },
      "text/plain": [
       "  0%|          | 0/158 [00:00<?, ?it/s]"
      ]
     },
     "metadata": {},
     "output_type": "display_data"
    },
    {
     "name": "stdout",
     "output_type": "stream",
     "text": [
      "| epoch 335 |    31/  158 batches | lr 0.00000 | ms/batch 31.00720 | loss 3.86091\n",
      "| epoch 335 |    62/  158 batches | lr 0.00000 | ms/batch 29.18171 | loss 3.91371\n",
      "| epoch 335 |    93/  158 batches | lr 0.00000 | ms/batch 29.97013 | loss 3.72127\n",
      "| epoch 335 |   124/  158 batches | lr 0.00000 | ms/batch 29.19732 | loss 3.65192\n",
      "| epoch 335 |   155/  158 batches | lr 0.00000 | ms/batch 29.59958 | loss 3.90438\n",
      "-----------------------------------------------------------------------------------------\n",
      "| end of epoch 335 | time:  4.97s | valid loss 7.7949 | mean loss   3.8097\n",
      "-----------------------------------------------------------------------------------------\n",
      "Epoch #336\n"
     ]
    },
    {
     "data": {
      "application/vnd.jupyter.widget-view+json": {
       "model_id": "16b8aa625a254513bffea4ae04161844",
       "version_major": 2,
       "version_minor": 0
      },
      "text/plain": [
       "  0%|          | 0/158 [00:00<?, ?it/s]"
      ]
     },
     "metadata": {},
     "output_type": "display_data"
    },
    {
     "name": "stdout",
     "output_type": "stream",
     "text": [
      "| epoch 336 |    31/  158 batches | lr 0.00000 | ms/batch 30.34694 | loss 3.89360\n",
      "| epoch 336 |    62/  158 batches | lr 0.00000 | ms/batch 29.26716 | loss 3.65074\n",
      "| epoch 336 |    93/  158 batches | lr 0.00000 | ms/batch 29.74250 | loss 3.89373\n",
      "| epoch 336 |   124/  158 batches | lr 0.00000 | ms/batch 29.99168 | loss 3.90590\n",
      "| epoch 336 |   155/  158 batches | lr 0.00000 | ms/batch 29.90866 | loss 3.66192\n",
      "-----------------------------------------------------------------------------------------\n",
      "| end of epoch 336 | time:  4.99s | valid loss 7.7949 | mean loss   3.8096\n",
      "-----------------------------------------------------------------------------------------\n",
      "Epoch #337\n"
     ]
    },
    {
     "data": {
      "application/vnd.jupyter.widget-view+json": {
       "model_id": "92bc0f77ac654bd59ab14fe0efc07878",
       "version_major": 2,
       "version_minor": 0
      },
      "text/plain": [
       "  0%|          | 0/158 [00:00<?, ?it/s]"
      ]
     },
     "metadata": {},
     "output_type": "display_data"
    },
    {
     "name": "stdout",
     "output_type": "stream",
     "text": [
      "| epoch 337 |    31/  158 batches | lr 0.00000 | ms/batch 36.40350 | loss 3.97008\n",
      "| epoch 337 |    62/  158 batches | lr 0.00000 | ms/batch 39.66211 | loss 3.61429\n",
      "| epoch 337 |    93/  158 batches | lr 0.00000 | ms/batch 29.47391 | loss 3.87255\n",
      "| epoch 337 |   124/  158 batches | lr 0.00000 | ms/batch 30.39485 | loss 3.84741\n",
      "| epoch 337 |   155/  158 batches | lr 0.00000 | ms/batch 29.56074 | loss 3.74240\n",
      "-----------------------------------------------------------------------------------------\n",
      "| end of epoch 337 | time:  5.50s | valid loss 7.7949 | mean loss   3.8095\n",
      "-----------------------------------------------------------------------------------------\n",
      "Epoch #338\n"
     ]
    },
    {
     "data": {
      "application/vnd.jupyter.widget-view+json": {
       "model_id": "c468d2a62ee84d4b8df57dd580f11c11",
       "version_major": 2,
       "version_minor": 0
      },
      "text/plain": [
       "  0%|          | 0/158 [00:00<?, ?it/s]"
      ]
     },
     "metadata": {},
     "output_type": "display_data"
    },
    {
     "name": "stdout",
     "output_type": "stream",
     "text": [
      "| epoch 338 |    31/  158 batches | lr 0.00000 | ms/batch 33.89124 | loss 3.82115\n",
      "| epoch 338 |    62/  158 batches | lr 0.00000 | ms/batch 29.53400 | loss 3.77974\n",
      "| epoch 338 |    93/  158 batches | lr 0.00000 | ms/batch 29.32610 | loss 3.85145\n",
      "| epoch 338 |   124/  158 batches | lr 0.00000 | ms/batch 29.35281 | loss 3.83819\n",
      "| epoch 338 |   155/  158 batches | lr 0.00000 | ms/batch 30.24847 | loss 3.81215\n",
      "-----------------------------------------------------------------------------------------\n",
      "| end of epoch 338 | time:  5.08s | valid loss 7.7949 | mean loss   3.8094\n",
      "-----------------------------------------------------------------------------------------\n",
      "Epoch #339\n"
     ]
    },
    {
     "data": {
      "application/vnd.jupyter.widget-view+json": {
       "model_id": "914aa0f6bd534af9b55ec987c04d0491",
       "version_major": 2,
       "version_minor": 0
      },
      "text/plain": [
       "  0%|          | 0/158 [00:00<?, ?it/s]"
      ]
     },
     "metadata": {},
     "output_type": "display_data"
    },
    {
     "name": "stdout",
     "output_type": "stream",
     "text": [
      "| epoch 339 |    31/  158 batches | lr 0.00000 | ms/batch 30.40406 | loss 3.95627\n",
      "| epoch 339 |    62/  158 batches | lr 0.00000 | ms/batch 29.35721 | loss 3.89920\n",
      "| epoch 339 |    93/  158 batches | lr 0.00000 | ms/batch 29.58739 | loss 3.72395\n",
      "| epoch 339 |   124/  158 batches | lr 0.00000 | ms/batch 29.85502 | loss 3.75590\n",
      "| epoch 339 |   155/  158 batches | lr 0.00000 | ms/batch 30.09967 | loss 3.73409\n",
      "-----------------------------------------------------------------------------------------\n",
      "| end of epoch 339 | time:  4.99s | valid loss 7.7949 | mean loss   3.8094\n",
      "-----------------------------------------------------------------------------------------\n",
      "Epoch #340\n"
     ]
    },
    {
     "data": {
      "application/vnd.jupyter.widget-view+json": {
       "model_id": "27dd98599d1d4f54bbb4209f21bde74a",
       "version_major": 2,
       "version_minor": 0
      },
      "text/plain": [
       "  0%|          | 0/158 [00:00<?, ?it/s]"
      ]
     },
     "metadata": {},
     "output_type": "display_data"
    },
    {
     "name": "stdout",
     "output_type": "stream",
     "text": [
      "| epoch 340 |    31/  158 batches | lr 0.00000 | ms/batch 31.33292 | loss 3.85133\n",
      "| epoch 340 |    62/  158 batches | lr 0.00000 | ms/batch 28.40198 | loss 3.75571\n",
      "| epoch 340 |    93/  158 batches | lr 0.00000 | ms/batch 30.26782 | loss 3.80861\n",
      "| epoch 340 |   124/  158 batches | lr 0.00000 | ms/batch 29.92319 | loss 3.89567\n",
      "| epoch 340 |   155/  158 batches | lr 0.00000 | ms/batch 29.97967 | loss 3.70652\n",
      "-----------------------------------------------------------------------------------------\n",
      "| end of epoch 340 | time:  4.99s | valid loss 7.7949 | mean loss   3.8093\n",
      "-----------------------------------------------------------------------------------------\n",
      "Epoch #341\n"
     ]
    },
    {
     "data": {
      "application/vnd.jupyter.widget-view+json": {
       "model_id": "dadc28550090439a97903c67251d35b4",
       "version_major": 2,
       "version_minor": 0
      },
      "text/plain": [
       "  0%|          | 0/158 [00:00<?, ?it/s]"
      ]
     },
     "metadata": {},
     "output_type": "display_data"
    },
    {
     "name": "stdout",
     "output_type": "stream",
     "text": [
      "| epoch 341 |    31/  158 batches | lr 0.00000 | ms/batch 31.02010 | loss 3.79618\n",
      "| epoch 341 |    62/  158 batches | lr 0.00000 | ms/batch 29.86495 | loss 3.83763\n",
      "| epoch 341 |    93/  158 batches | lr 0.00000 | ms/batch 30.24460 | loss 3.59292\n",
      "| epoch 341 |   124/  158 batches | lr 0.00000 | ms/batch 29.78506 | loss 3.90874\n",
      "| epoch 341 |   155/  158 batches | lr 0.00000 | ms/batch 29.13420 | loss 3.87232\n",
      "-----------------------------------------------------------------------------------------\n",
      "| end of epoch 341 | time:  5.00s | valid loss 7.7949 | mean loss   3.8092\n",
      "-----------------------------------------------------------------------------------------\n",
      "Epoch #342\n"
     ]
    },
    {
     "data": {
      "application/vnd.jupyter.widget-view+json": {
       "model_id": "b7c3ae45ffca4190aa75ac6fea79ef3c",
       "version_major": 2,
       "version_minor": 0
      },
      "text/plain": [
       "  0%|          | 0/158 [00:00<?, ?it/s]"
      ]
     },
     "metadata": {},
     "output_type": "display_data"
    },
    {
     "name": "stdout",
     "output_type": "stream",
     "text": [
      "| epoch 342 |    31/  158 batches | lr 0.00000 | ms/batch 31.50775 | loss 3.85146\n",
      "| epoch 342 |    62/  158 batches | lr 0.00000 | ms/batch 29.41125 | loss 3.68009\n",
      "| epoch 342 |    93/  158 batches | lr 0.00000 | ms/batch 30.05098 | loss 3.92867\n",
      "| epoch 342 |   124/  158 batches | lr 0.00000 | ms/batch 29.36187 | loss 3.79316\n",
      "| epoch 342 |   155/  158 batches | lr 0.00000 | ms/batch 29.74158 | loss 3.74562\n",
      "-----------------------------------------------------------------------------------------\n",
      "| end of epoch 342 | time:  5.00s | valid loss 7.7949 | mean loss   3.8091\n",
      "-----------------------------------------------------------------------------------------\n",
      "Epoch #343\n"
     ]
    },
    {
     "data": {
      "application/vnd.jupyter.widget-view+json": {
       "model_id": "8decb1d113ab4f7cb8691bf948856b3d",
       "version_major": 2,
       "version_minor": 0
      },
      "text/plain": [
       "  0%|          | 0/158 [00:00<?, ?it/s]"
      ]
     },
     "metadata": {},
     "output_type": "display_data"
    },
    {
     "name": "stdout",
     "output_type": "stream",
     "text": [
      "| epoch 343 |    31/  158 batches | lr 0.00000 | ms/batch 30.21373 | loss 4.02684\n",
      "| epoch 343 |    62/  158 batches | lr 0.00000 | ms/batch 29.88222 | loss 3.84231\n",
      "| epoch 343 |    93/  158 batches | lr 0.00000 | ms/batch 29.81590 | loss 3.74798\n",
      "| epoch 343 |   124/  158 batches | lr 0.00000 | ms/batch 29.55583 | loss 3.70143\n",
      "| epoch 343 |   155/  158 batches | lr 0.00000 | ms/batch 29.55158 | loss 3.69251\n",
      "-----------------------------------------------------------------------------------------\n",
      "| end of epoch 343 | time:  4.97s | valid loss 7.7949 | mean loss   3.8091\n",
      "-----------------------------------------------------------------------------------------\n",
      "Epoch #344\n"
     ]
    },
    {
     "data": {
      "application/vnd.jupyter.widget-view+json": {
       "model_id": "32007eda281248bd819835179539b629",
       "version_major": 2,
       "version_minor": 0
      },
      "text/plain": [
       "  0%|          | 0/158 [00:00<?, ?it/s]"
      ]
     },
     "metadata": {},
     "output_type": "display_data"
    },
    {
     "name": "stdout",
     "output_type": "stream",
     "text": [
      "| epoch 344 |    31/  158 batches | lr 0.00000 | ms/batch 33.90842 | loss 4.03202\n",
      "| epoch 344 |    62/  158 batches | lr 0.00000 | ms/batch 28.81349 | loss 3.60852\n",
      "| epoch 344 |    93/  158 batches | lr 0.00000 | ms/batch 30.02524 | loss 3.80426\n",
      "| epoch 344 |   124/  158 batches | lr 0.00000 | ms/batch 29.57179 | loss 3.91027\n",
      "| epoch 344 |   155/  158 batches | lr 0.00000 | ms/batch 29.77942 | loss 3.72035\n",
      "-----------------------------------------------------------------------------------------\n",
      "| end of epoch 344 | time:  5.08s | valid loss 7.7949 | mean loss   3.8090\n",
      "-----------------------------------------------------------------------------------------\n",
      "Epoch #345\n"
     ]
    },
    {
     "data": {
      "application/vnd.jupyter.widget-view+json": {
       "model_id": "f4a76f929ff54c5cb7e20ae79de3a665",
       "version_major": 2,
       "version_minor": 0
      },
      "text/plain": [
       "  0%|          | 0/158 [00:00<?, ?it/s]"
      ]
     },
     "metadata": {},
     "output_type": "display_data"
    },
    {
     "name": "stdout",
     "output_type": "stream",
     "text": [
      "| epoch 345 |    31/  158 batches | lr 0.00000 | ms/batch 30.31708 | loss 3.83450\n",
      "| epoch 345 |    62/  158 batches | lr 0.00000 | ms/batch 29.77207 | loss 3.86887\n",
      "| epoch 345 |    93/  158 batches | lr 0.00000 | ms/batch 30.04965 | loss 3.72595\n",
      "| epoch 345 |   124/  158 batches | lr 0.00000 | ms/batch 29.11242 | loss 3.81821\n",
      "| epoch 345 |   155/  158 batches | lr 0.00000 | ms/batch 28.87674 | loss 3.82124\n",
      "-----------------------------------------------------------------------------------------\n",
      "| end of epoch 345 | time:  4.94s | valid loss 7.7949 | mean loss   3.8089\n",
      "-----------------------------------------------------------------------------------------\n",
      "Epoch #346\n"
     ]
    },
    {
     "data": {
      "application/vnd.jupyter.widget-view+json": {
       "model_id": "bbce9ee268bf452e9b651ae2d41c1fa3",
       "version_major": 2,
       "version_minor": 0
      },
      "text/plain": [
       "  0%|          | 0/158 [00:00<?, ?it/s]"
      ]
     },
     "metadata": {},
     "output_type": "display_data"
    },
    {
     "name": "stdout",
     "output_type": "stream",
     "text": [
      "| epoch 346 |    31/  158 batches | lr 0.00000 | ms/batch 31.08873 | loss 3.91306\n",
      "| epoch 346 |    62/  158 batches | lr 0.00000 | ms/batch 29.65681 | loss 3.75720\n",
      "| epoch 346 |    93/  158 batches | lr 0.00000 | ms/batch 30.16822 | loss 3.98072\n",
      "| epoch 346 |   124/  158 batches | lr 0.00000 | ms/batch 29.29441 | loss 3.66052\n",
      "| epoch 346 |   155/  158 batches | lr 0.00000 | ms/batch 29.71516 | loss 3.71705\n",
      "-----------------------------------------------------------------------------------------\n",
      "| end of epoch 346 | time:  5.01s | valid loss 7.7949 | mean loss   3.8089\n",
      "-----------------------------------------------------------------------------------------\n",
      "Epoch #347\n"
     ]
    },
    {
     "data": {
      "application/vnd.jupyter.widget-view+json": {
       "model_id": "0bcf9b2cc6e144b1bf89f536281d7032",
       "version_major": 2,
       "version_minor": 0
      },
      "text/plain": [
       "  0%|          | 0/158 [00:00<?, ?it/s]"
      ]
     },
     "metadata": {},
     "output_type": "display_data"
    },
    {
     "name": "stdout",
     "output_type": "stream",
     "text": [
      "| epoch 347 |    31/  158 batches | lr 0.00000 | ms/batch 31.07331 | loss 3.98030\n",
      "| epoch 347 |    62/  158 batches | lr 0.00000 | ms/batch 29.69535 | loss 3.77297\n",
      "| epoch 347 |    93/  158 batches | lr 0.00000 | ms/batch 29.49249 | loss 3.78136\n",
      "| epoch 347 |   124/  158 batches | lr 0.00000 | ms/batch 29.66749 | loss 3.74498\n",
      "| epoch 347 |   155/  158 batches | lr 0.00000 | ms/batch 29.78065 | loss 3.80061\n",
      "-----------------------------------------------------------------------------------------\n",
      "| end of epoch 347 | time:  5.00s | valid loss 7.7949 | mean loss   3.8088\n",
      "-----------------------------------------------------------------------------------------\n",
      "Epoch #348\n"
     ]
    },
    {
     "data": {
      "application/vnd.jupyter.widget-view+json": {
       "model_id": "6f620fffb1864d3e881622c0b8932e57",
       "version_major": 2,
       "version_minor": 0
      },
      "text/plain": [
       "  0%|          | 0/158 [00:00<?, ?it/s]"
      ]
     },
     "metadata": {},
     "output_type": "display_data"
    },
    {
     "name": "stdout",
     "output_type": "stream",
     "text": [
      "| epoch 348 |    31/  158 batches | lr 0.00000 | ms/batch 30.20934 | loss 4.00946\n",
      "| epoch 348 |    62/  158 batches | lr 0.00000 | ms/batch 29.13209 | loss 3.73902\n",
      "| epoch 348 |    93/  158 batches | lr 0.00000 | ms/batch 30.23777 | loss 3.61213\n",
      "| epoch 348 |   124/  158 batches | lr 0.00000 | ms/batch 29.42990 | loss 3.80890\n",
      "| epoch 348 |   155/  158 batches | lr 0.00000 | ms/batch 29.51443 | loss 3.87197\n",
      "-----------------------------------------------------------------------------------------\n",
      "| end of epoch 348 | time:  4.96s | valid loss 7.7949 | mean loss   3.8087\n",
      "-----------------------------------------------------------------------------------------\n",
      "Epoch #349\n"
     ]
    },
    {
     "data": {
      "application/vnd.jupyter.widget-view+json": {
       "model_id": "0d29a6901940408b9a5cf4fd9928b4fc",
       "version_major": 2,
       "version_minor": 0
      },
      "text/plain": [
       "  0%|          | 0/158 [00:00<?, ?it/s]"
      ]
     },
     "metadata": {},
     "output_type": "display_data"
    },
    {
     "name": "stdout",
     "output_type": "stream",
     "text": [
      "| epoch 349 |    31/  158 batches | lr 0.00000 | ms/batch 30.80349 | loss 3.86301\n",
      "| epoch 349 |    62/  158 batches | lr 0.00000 | ms/batch 29.20499 | loss 3.72033\n",
      "| epoch 349 |    93/  158 batches | lr 0.00000 | ms/batch 29.29624 | loss 3.74053\n",
      "| epoch 349 |   124/  158 batches | lr 0.00000 | ms/batch 29.69882 | loss 3.93590\n",
      "| epoch 349 |   155/  158 batches | lr 0.00000 | ms/batch 29.68289 | loss 3.76638\n",
      "-----------------------------------------------------------------------------------------\n",
      "| end of epoch 349 | time:  4.96s | valid loss 7.7949 | mean loss   3.8086\n",
      "-----------------------------------------------------------------------------------------\n",
      "Epoch #350\n"
     ]
    },
    {
     "data": {
      "application/vnd.jupyter.widget-view+json": {
       "model_id": "11f05d03bac940fa9f7d5128d44dd8c9",
       "version_major": 2,
       "version_minor": 0
      },
      "text/plain": [
       "  0%|          | 0/158 [00:00<?, ?it/s]"
      ]
     },
     "metadata": {},
     "output_type": "display_data"
    },
    {
     "name": "stdout",
     "output_type": "stream",
     "text": [
      "| epoch 350 |    31/  158 batches | lr 0.00000 | ms/batch 34.03308 | loss 3.90213\n",
      "| epoch 350 |    62/  158 batches | lr 0.00000 | ms/batch 28.64347 | loss 3.75193\n",
      "| epoch 350 |    93/  158 batches | lr 0.00000 | ms/batch 29.95603 | loss 3.75683\n",
      "| epoch 350 |   124/  158 batches | lr 0.00000 | ms/batch 28.36282 | loss 3.89814\n",
      "| epoch 350 |   155/  158 batches | lr 0.00000 | ms/batch 30.01339 | loss 3.72540\n",
      "-----------------------------------------------------------------------------------------\n",
      "| end of epoch 350 | time:  5.04s | valid loss 7.7949 | mean loss   3.8086\n",
      "-----------------------------------------------------------------------------------------\n",
      "Epoch #351\n"
     ]
    },
    {
     "data": {
      "application/vnd.jupyter.widget-view+json": {
       "model_id": "f2e46dcd93fb4d2b9b8e22e5900efdcc",
       "version_major": 2,
       "version_minor": 0
      },
      "text/plain": [
       "  0%|          | 0/158 [00:00<?, ?it/s]"
      ]
     },
     "metadata": {},
     "output_type": "display_data"
    },
    {
     "name": "stdout",
     "output_type": "stream",
     "text": [
      "| epoch 351 |    31/  158 batches | lr 0.00000 | ms/batch 30.31305 | loss 3.81593\n",
      "| epoch 351 |    62/  158 batches | lr 0.00000 | ms/batch 29.50225 | loss 3.75187\n",
      "| epoch 351 |    93/  158 batches | lr 0.00000 | ms/batch 29.78397 | loss 3.73324\n",
      "| epoch 351 |   124/  158 batches | lr 0.00000 | ms/batch 29.75515 | loss 3.90135\n",
      "| epoch 351 |   155/  158 batches | lr 0.00000 | ms/batch 29.23110 | loss 3.81796\n",
      "-----------------------------------------------------------------------------------------\n",
      "| end of epoch 351 | time:  4.97s | valid loss 7.7949 | mean loss   3.8085\n",
      "-----------------------------------------------------------------------------------------\n",
      "Epoch #352\n"
     ]
    },
    {
     "data": {
      "application/vnd.jupyter.widget-view+json": {
       "model_id": "f3442e466f0e4600a5ff784e26ccbda4",
       "version_major": 2,
       "version_minor": 0
      },
      "text/plain": [
       "  0%|          | 0/158 [00:00<?, ?it/s]"
      ]
     },
     "metadata": {},
     "output_type": "display_data"
    },
    {
     "name": "stdout",
     "output_type": "stream",
     "text": [
      "| epoch 352 |    31/  158 batches | lr 0.00000 | ms/batch 30.70956 | loss 3.88010\n",
      "| epoch 352 |    62/  158 batches | lr 0.00000 | ms/batch 29.50997 | loss 3.74058\n",
      "| epoch 352 |    93/  158 batches | lr 0.00000 | ms/batch 29.16405 | loss 3.78668\n",
      "| epoch 352 |   124/  158 batches | lr 0.00000 | ms/batch 29.39330 | loss 3.71990\n",
      "| epoch 352 |   155/  158 batches | lr 0.00000 | ms/batch 29.77391 | loss 3.85188\n",
      "-----------------------------------------------------------------------------------------\n",
      "| end of epoch 352 | time:  4.96s | valid loss 7.7949 | mean loss   3.8084\n",
      "-----------------------------------------------------------------------------------------\n",
      "Epoch #353\n"
     ]
    },
    {
     "data": {
      "application/vnd.jupyter.widget-view+json": {
       "model_id": "a88ac007fdbc4d9cad94e234be8f6c17",
       "version_major": 2,
       "version_minor": 0
      },
      "text/plain": [
       "  0%|          | 0/158 [00:00<?, ?it/s]"
      ]
     },
     "metadata": {},
     "output_type": "display_data"
    },
    {
     "name": "stdout",
     "output_type": "stream",
     "text": [
      "| epoch 353 |    31/  158 batches | lr 0.00000 | ms/batch 30.66819 | loss 3.93621\n",
      "| epoch 353 |    62/  158 batches | lr 0.00000 | ms/batch 29.71599 | loss 3.81284\n",
      "| epoch 353 |    93/  158 batches | lr 0.00000 | ms/batch 29.02276 | loss 3.79037\n",
      "| epoch 353 |   124/  158 batches | lr 0.00000 | ms/batch 28.94476 | loss 3.94448\n",
      "| epoch 353 |   155/  158 batches | lr 0.00000 | ms/batch 29.01035 | loss 3.58398\n",
      "-----------------------------------------------------------------------------------------\n",
      "| end of epoch 353 | time:  4.93s | valid loss 7.7949 | mean loss   3.8084\n",
      "-----------------------------------------------------------------------------------------\n",
      "Epoch #354\n"
     ]
    },
    {
     "data": {
      "application/vnd.jupyter.widget-view+json": {
       "model_id": "8e175a13d7bb453ea21af63e450cf4ff",
       "version_major": 2,
       "version_minor": 0
      },
      "text/plain": [
       "  0%|          | 0/158 [00:00<?, ?it/s]"
      ]
     },
     "metadata": {},
     "output_type": "display_data"
    },
    {
     "name": "stdout",
     "output_type": "stream",
     "text": [
      "| epoch 354 |    31/  158 batches | lr 0.00000 | ms/batch 30.48991 | loss 4.01639\n",
      "| epoch 354 |    62/  158 batches | lr 0.00000 | ms/batch 29.35694 | loss 3.79289\n",
      "| epoch 354 |    93/  158 batches | lr 0.00000 | ms/batch 29.73605 | loss 3.73874\n",
      "| epoch 354 |   124/  158 batches | lr 0.00000 | ms/batch 29.09848 | loss 3.82519\n",
      "| epoch 354 |   155/  158 batches | lr 0.00000 | ms/batch 29.38079 | loss 3.66472\n",
      "-----------------------------------------------------------------------------------------\n",
      "| end of epoch 354 | time:  4.95s | valid loss 7.7949 | mean loss   3.8083\n",
      "-----------------------------------------------------------------------------------------\n",
      "Epoch #355\n"
     ]
    },
    {
     "data": {
      "application/vnd.jupyter.widget-view+json": {
       "model_id": "547114222bc94a3fbbea34fd1fa7ee8f",
       "version_major": 2,
       "version_minor": 0
      },
      "text/plain": [
       "  0%|          | 0/158 [00:00<?, ?it/s]"
      ]
     },
     "metadata": {},
     "output_type": "display_data"
    },
    {
     "name": "stdout",
     "output_type": "stream",
     "text": [
      "| epoch 355 |    31/  158 batches | lr 0.00000 | ms/batch 30.86058 | loss 4.01263\n",
      "| epoch 355 |    62/  158 batches | lr 0.00000 | ms/batch 29.43159 | loss 3.83068\n",
      "| epoch 355 |    93/  158 batches | lr 0.00000 | ms/batch 28.91953 | loss 3.69337\n",
      "| epoch 355 |   124/  158 batches | lr 0.00000 | ms/batch 30.27008 | loss 3.77320\n",
      "| epoch 355 |   155/  158 batches | lr 0.00000 | ms/batch 30.19810 | loss 3.74474\n",
      "-----------------------------------------------------------------------------------------\n",
      "| end of epoch 355 | time:  5.01s | valid loss 7.7949 | mean loss   3.8082\n",
      "-----------------------------------------------------------------------------------------\n",
      "Epoch #356\n"
     ]
    },
    {
     "data": {
      "application/vnd.jupyter.widget-view+json": {
       "model_id": "288f1be952104943ab368b80cde0f705",
       "version_major": 2,
       "version_minor": 0
      },
      "text/plain": [
       "  0%|          | 0/158 [00:00<?, ?it/s]"
      ]
     },
     "metadata": {},
     "output_type": "display_data"
    },
    {
     "name": "stdout",
     "output_type": "stream",
     "text": [
      "| epoch 356 |    31/  158 batches | lr 0.00000 | ms/batch 32.83118 | loss 3.94735\n",
      "| epoch 356 |    62/  158 batches | lr 0.00000 | ms/batch 29.43458 | loss 3.77806\n",
      "| epoch 356 |    93/  158 batches | lr 0.00000 | ms/batch 29.18576 | loss 3.82255\n",
      "| epoch 356 |   124/  158 batches | lr 0.00000 | ms/batch 29.21224 | loss 3.68104\n",
      "| epoch 356 |   155/  158 batches | lr 0.00000 | ms/batch 29.63008 | loss 3.84160\n",
      "-----------------------------------------------------------------------------------------\n",
      "| end of epoch 356 | time:  5.02s | valid loss 7.7949 | mean loss   3.8082\n",
      "-----------------------------------------------------------------------------------------\n",
      "Epoch #357\n"
     ]
    },
    {
     "data": {
      "application/vnd.jupyter.widget-view+json": {
       "model_id": "cbf875e22b974f0b90be63067520fa47",
       "version_major": 2,
       "version_minor": 0
      },
      "text/plain": [
       "  0%|          | 0/158 [00:00<?, ?it/s]"
      ]
     },
     "metadata": {},
     "output_type": "display_data"
    },
    {
     "name": "stdout",
     "output_type": "stream",
     "text": [
      "| epoch 357 |    31/  158 batches | lr 0.00000 | ms/batch 30.69536 | loss 3.97858\n",
      "| epoch 357 |    62/  158 batches | lr 0.00000 | ms/batch 29.51466 | loss 3.74140\n",
      "| epoch 357 |    93/  158 batches | lr 0.00000 | ms/batch 29.76186 | loss 3.89099\n",
      "| epoch 357 |   124/  158 batches | lr 0.00000 | ms/batch 29.46999 | loss 3.71225\n",
      "| epoch 357 |   155/  158 batches | lr 0.00000 | ms/batch 29.29186 | loss 3.73323\n",
      "-----------------------------------------------------------------------------------------\n",
      "| end of epoch 357 | time:  4.98s | valid loss 7.7949 | mean loss   3.8081\n",
      "-----------------------------------------------------------------------------------------\n",
      "Epoch #358\n"
     ]
    },
    {
     "data": {
      "application/vnd.jupyter.widget-view+json": {
       "model_id": "4b8db613881c400f9160cfaa7a5088f2",
       "version_major": 2,
       "version_minor": 0
      },
      "text/plain": [
       "  0%|          | 0/158 [00:00<?, ?it/s]"
      ]
     },
     "metadata": {},
     "output_type": "display_data"
    },
    {
     "name": "stdout",
     "output_type": "stream",
     "text": [
      "| epoch 358 |    31/  158 batches | lr 0.00000 | ms/batch 30.76146 | loss 3.93691\n",
      "| epoch 358 |    62/  158 batches | lr 0.00000 | ms/batch 30.07085 | loss 3.78391\n",
      "| epoch 358 |    93/  158 batches | lr 0.00000 | ms/batch 29.67266 | loss 3.76125\n",
      "| epoch 358 |   124/  158 batches | lr 0.00000 | ms/batch 29.66560 | loss 3.87785\n",
      "| epoch 358 |   155/  158 batches | lr 0.00000 | ms/batch 29.34045 | loss 3.68496\n",
      "-----------------------------------------------------------------------------------------\n",
      "| end of epoch 358 | time:  4.99s | valid loss 7.7949 | mean loss   3.8080\n",
      "-----------------------------------------------------------------------------------------\n",
      "Epoch #359\n"
     ]
    },
    {
     "data": {
      "application/vnd.jupyter.widget-view+json": {
       "model_id": "7d36b469f6de4de9b85f709cb0f350b3",
       "version_major": 2,
       "version_minor": 0
      },
      "text/plain": [
       "  0%|          | 0/158 [00:00<?, ?it/s]"
      ]
     },
     "metadata": {},
     "output_type": "display_data"
    },
    {
     "name": "stdout",
     "output_type": "stream",
     "text": [
      "| epoch 359 |    31/  158 batches | lr 0.00000 | ms/batch 30.81409 | loss 3.96052\n",
      "| epoch 359 |    62/  158 batches | lr 0.00000 | ms/batch 29.78915 | loss 3.78725\n",
      "| epoch 359 |    93/  158 batches | lr 0.00000 | ms/batch 29.65176 | loss 3.64977\n",
      "| epoch 359 |   124/  158 batches | lr 0.00000 | ms/batch 28.64846 | loss 3.71010\n",
      "| epoch 359 |   155/  158 batches | lr 0.00000 | ms/batch 29.39317 | loss 3.94283\n",
      "-----------------------------------------------------------------------------------------\n",
      "| end of epoch 359 | time:  4.97s | valid loss 7.7949 | mean loss   3.8079\n",
      "-----------------------------------------------------------------------------------------\n",
      "Epoch #360\n"
     ]
    },
    {
     "data": {
      "application/vnd.jupyter.widget-view+json": {
       "model_id": "dd11cb476c70401e92b21d2fa9636684",
       "version_major": 2,
       "version_minor": 0
      },
      "text/plain": [
       "  0%|          | 0/158 [00:00<?, ?it/s]"
      ]
     },
     "metadata": {},
     "output_type": "display_data"
    },
    {
     "name": "stdout",
     "output_type": "stream",
     "text": [
      "| epoch 360 |    31/  158 batches | lr 0.00000 | ms/batch 30.26429 | loss 3.76762\n",
      "| epoch 360 |    62/  158 batches | lr 0.00000 | ms/batch 28.93332 | loss 3.78035\n",
      "| epoch 360 |    93/  158 batches | lr 0.00000 | ms/batch 29.40740 | loss 3.84855\n",
      "| epoch 360 |   124/  158 batches | lr 0.00000 | ms/batch 29.87859 | loss 3.83811\n",
      "| epoch 360 |   155/  158 batches | lr 0.00000 | ms/batch 29.89132 | loss 3.78216\n",
      "-----------------------------------------------------------------------------------------\n",
      "| end of epoch 360 | time:  4.96s | valid loss 7.7949 | mean loss   3.8079\n",
      "-----------------------------------------------------------------------------------------\n",
      "Epoch #361\n"
     ]
    },
    {
     "data": {
      "application/vnd.jupyter.widget-view+json": {
       "model_id": "f0ebaf0194a547f1bd76f29f45260a0d",
       "version_major": 2,
       "version_minor": 0
      },
      "text/plain": [
       "  0%|          | 0/158 [00:00<?, ?it/s]"
      ]
     },
     "metadata": {},
     "output_type": "display_data"
    },
    {
     "name": "stdout",
     "output_type": "stream",
     "text": [
      "| epoch 361 |    31/  158 batches | lr 0.00000 | ms/batch 37.33250 | loss 4.03844\n",
      "| epoch 361 |    62/  158 batches | lr 0.00000 | ms/batch 39.93379 | loss 3.78578\n",
      "| epoch 361 |    93/  158 batches | lr 0.00000 | ms/batch 30.13999 | loss 3.74563\n",
      "| epoch 361 |   124/  158 batches | lr 0.00000 | ms/batch 29.69548 | loss 3.75640\n",
      "| epoch 361 |   155/  158 batches | lr 0.00000 | ms/batch 29.04933 | loss 3.71337\n",
      "-----------------------------------------------------------------------------------------\n",
      "| end of epoch 361 | time:  5.51s | valid loss 7.7949 | mean loss   3.8078\n",
      "-----------------------------------------------------------------------------------------\n",
      "Epoch #362\n"
     ]
    },
    {
     "data": {
      "application/vnd.jupyter.widget-view+json": {
       "model_id": "f54117a7d8174d488e41f93909dd0304",
       "version_major": 2,
       "version_minor": 0
      },
      "text/plain": [
       "  0%|          | 0/158 [00:00<?, ?it/s]"
      ]
     },
     "metadata": {},
     "output_type": "display_data"
    },
    {
     "name": "stdout",
     "output_type": "stream",
     "text": [
      "| epoch 362 |    31/  158 batches | lr 0.00000 | ms/batch 33.92639 | loss 3.88511\n",
      "| epoch 362 |    62/  158 batches | lr 0.00000 | ms/batch 29.68970 | loss 3.66845\n",
      "| epoch 362 |    93/  158 batches | lr 0.00000 | ms/batch 29.84699 | loss 3.76713\n",
      "| epoch 362 |   124/  158 batches | lr 0.00000 | ms/batch 29.82187 | loss 3.98162\n",
      "| epoch 362 |   155/  158 batches | lr 0.00000 | ms/batch 29.59874 | loss 3.71336\n",
      "-----------------------------------------------------------------------------------------\n",
      "| end of epoch 362 | time:  5.11s | valid loss 7.7949 | mean loss   3.8077\n",
      "-----------------------------------------------------------------------------------------\n",
      "Epoch #363\n"
     ]
    },
    {
     "data": {
      "application/vnd.jupyter.widget-view+json": {
       "model_id": "504a81bf8a1c410b97e84c0621b2dee1",
       "version_major": 2,
       "version_minor": 0
      },
      "text/plain": [
       "  0%|          | 0/158 [00:00<?, ?it/s]"
      ]
     },
     "metadata": {},
     "output_type": "display_data"
    },
    {
     "name": "stdout",
     "output_type": "stream",
     "text": [
      "| epoch 363 |    31/  158 batches | lr 0.00000 | ms/batch 30.97220 | loss 3.98083\n",
      "| epoch 363 |    62/  158 batches | lr 0.00000 | ms/batch 29.50307 | loss 3.92000\n",
      "| epoch 363 |    93/  158 batches | lr 0.00000 | ms/batch 29.67780 | loss 3.70464\n",
      "| epoch 363 |   124/  158 batches | lr 0.00000 | ms/batch 28.81762 | loss 3.78922\n",
      "| epoch 363 |   155/  158 batches | lr 0.00000 | ms/batch 29.68971 | loss 3.63342\n",
      "-----------------------------------------------------------------------------------------\n",
      "| end of epoch 363 | time:  4.96s | valid loss 7.7949 | mean loss   3.8077\n",
      "-----------------------------------------------------------------------------------------\n",
      "Epoch #364\n"
     ]
    },
    {
     "data": {
      "application/vnd.jupyter.widget-view+json": {
       "model_id": "1b953d55fb504e0e8f49ec8c0fec5162",
       "version_major": 2,
       "version_minor": 0
      },
      "text/plain": [
       "  0%|          | 0/158 [00:00<?, ?it/s]"
      ]
     },
     "metadata": {},
     "output_type": "display_data"
    },
    {
     "name": "stdout",
     "output_type": "stream",
     "text": [
      "| epoch 364 |    31/  158 batches | lr 0.00000 | ms/batch 30.49471 | loss 3.89793\n",
      "| epoch 364 |    62/  158 batches | lr 0.00000 | ms/batch 29.41564 | loss 3.74667\n",
      "| epoch 364 |    93/  158 batches | lr 0.00000 | ms/batch 29.96848 | loss 3.86083\n",
      "| epoch 364 |   124/  158 batches | lr 0.00000 | ms/batch 29.95021 | loss 3.64261\n",
      "| epoch 364 |   155/  158 batches | lr 0.00000 | ms/batch 29.98903 | loss 3.93934\n",
      "-----------------------------------------------------------------------------------------\n",
      "| end of epoch 364 | time:  5.00s | valid loss 7.7949 | mean loss   3.8076\n",
      "-----------------------------------------------------------------------------------------\n",
      "Epoch #365\n"
     ]
    },
    {
     "data": {
      "application/vnd.jupyter.widget-view+json": {
       "model_id": "12df46b6d87c489bb3de4658e5283d3a",
       "version_major": 2,
       "version_minor": 0
      },
      "text/plain": [
       "  0%|          | 0/158 [00:00<?, ?it/s]"
      ]
     },
     "metadata": {},
     "output_type": "display_data"
    },
    {
     "name": "stdout",
     "output_type": "stream",
     "text": [
      "| epoch 365 |    31/  158 batches | lr 0.00000 | ms/batch 30.73978 | loss 3.92355\n",
      "| epoch 365 |    62/  158 batches | lr 0.00000 | ms/batch 29.71163 | loss 3.68223\n",
      "| epoch 365 |    93/  158 batches | lr 0.00000 | ms/batch 30.04354 | loss 3.74748\n",
      "| epoch 365 |   124/  158 batches | lr 0.00000 | ms/batch 29.35986 | loss 3.84480\n",
      "| epoch 365 |   155/  158 batches | lr 0.00000 | ms/batch 30.00883 | loss 3.83126\n",
      "-----------------------------------------------------------------------------------------\n",
      "| end of epoch 365 | time:  4.99s | valid loss 7.7949 | mean loss   3.8076\n",
      "-----------------------------------------------------------------------------------------\n",
      "Epoch #366\n"
     ]
    },
    {
     "data": {
      "application/vnd.jupyter.widget-view+json": {
       "model_id": "fb70835ca2974fd3bf4c29e6431720ef",
       "version_major": 2,
       "version_minor": 0
      },
      "text/plain": [
       "  0%|          | 0/158 [00:00<?, ?it/s]"
      ]
     },
     "metadata": {},
     "output_type": "display_data"
    },
    {
     "name": "stdout",
     "output_type": "stream",
     "text": [
      "| epoch 366 |    31/  158 batches | lr 0.00000 | ms/batch 30.38551 | loss 3.88233\n",
      "| epoch 366 |    62/  158 batches | lr 0.00000 | ms/batch 29.43917 | loss 3.96189\n",
      "| epoch 366 |    93/  158 batches | lr 0.00000 | ms/batch 30.18002 | loss 3.72614\n",
      "| epoch 366 |   124/  158 batches | lr 0.00000 | ms/batch 30.10051 | loss 3.78763\n",
      "| epoch 366 |   155/  158 batches | lr 0.00000 | ms/batch 29.26493 | loss 3.68995\n",
      "-----------------------------------------------------------------------------------------\n",
      "| end of epoch 366 | time:  4.99s | valid loss 7.7949 | mean loss   3.8075\n",
      "-----------------------------------------------------------------------------------------\n",
      "Epoch #367\n"
     ]
    },
    {
     "data": {
      "application/vnd.jupyter.widget-view+json": {
       "model_id": "b434849fea46400b83b467b03d35de83",
       "version_major": 2,
       "version_minor": 0
      },
      "text/plain": [
       "  0%|          | 0/158 [00:00<?, ?it/s]"
      ]
     },
     "metadata": {},
     "output_type": "display_data"
    },
    {
     "name": "stdout",
     "output_type": "stream",
     "text": [
      "| epoch 367 |    31/  158 batches | lr 0.00000 | ms/batch 30.29309 | loss 3.70613\n",
      "| epoch 367 |    62/  158 batches | lr 0.00000 | ms/batch 29.57899 | loss 3.82170\n",
      "| epoch 367 |    93/  158 batches | lr 0.00000 | ms/batch 29.48515 | loss 3.61033\n",
      "| epoch 367 |   124/  158 batches | lr 0.00000 | ms/batch 29.47207 | loss 4.06269\n",
      "| epoch 367 |   155/  158 batches | lr 0.00000 | ms/batch 29.23902 | loss 3.81189\n",
      "-----------------------------------------------------------------------------------------\n",
      "| end of epoch 367 | time:  4.94s | valid loss 7.7949 | mean loss   3.8074\n",
      "-----------------------------------------------------------------------------------------\n",
      "Epoch #368\n"
     ]
    },
    {
     "data": {
      "application/vnd.jupyter.widget-view+json": {
       "model_id": "a7f896b8a5394255a337d0e0a87d1708",
       "version_major": 2,
       "version_minor": 0
      },
      "text/plain": [
       "  0%|          | 0/158 [00:00<?, ?it/s]"
      ]
     },
     "metadata": {},
     "output_type": "display_data"
    },
    {
     "name": "stdout",
     "output_type": "stream",
     "text": [
      "| epoch 368 |    31/  158 batches | lr 0.00000 | ms/batch 33.69898 | loss 3.88030\n",
      "| epoch 368 |    62/  158 batches | lr 0.00000 | ms/batch 29.20092 | loss 3.70095\n",
      "| epoch 368 |    93/  158 batches | lr 0.00000 | ms/batch 29.77460 | loss 3.73753\n",
      "| epoch 368 |   124/  158 batches | lr 0.00000 | ms/batch 29.57942 | loss 3.79577\n",
      "| epoch 368 |   155/  158 batches | lr 0.00000 | ms/batch 29.94907 | loss 3.89502\n",
      "-----------------------------------------------------------------------------------------\n",
      "| end of epoch 368 | time:  5.09s | valid loss 7.7949 | mean loss   3.8074\n",
      "-----------------------------------------------------------------------------------------\n",
      "Epoch #369\n"
     ]
    },
    {
     "data": {
      "application/vnd.jupyter.widget-view+json": {
       "model_id": "8e08f113eee64501abb8e315fbbe47e8",
       "version_major": 2,
       "version_minor": 0
      },
      "text/plain": [
       "  0%|          | 0/158 [00:00<?, ?it/s]"
      ]
     },
     "metadata": {},
     "output_type": "display_data"
    },
    {
     "name": "stdout",
     "output_type": "stream",
     "text": [
      "| epoch 369 |    31/  158 batches | lr 0.00000 | ms/batch 30.55902 | loss 3.87625\n",
      "| epoch 369 |    62/  158 batches | lr 0.00000 | ms/batch 29.79537 | loss 3.85149\n",
      "| epoch 369 |    93/  158 batches | lr 0.00000 | ms/batch 29.27310 | loss 3.72696\n",
      "| epoch 369 |   124/  158 batches | lr 0.00000 | ms/batch 29.30198 | loss 3.87871\n",
      "| epoch 369 |   155/  158 batches | lr 0.00000 | ms/batch 29.31633 | loss 3.72275\n",
      "-----------------------------------------------------------------------------------------\n",
      "| end of epoch 369 | time:  4.95s | valid loss 7.7949 | mean loss   3.8073\n",
      "-----------------------------------------------------------------------------------------\n",
      "Epoch #370\n"
     ]
    },
    {
     "data": {
      "application/vnd.jupyter.widget-view+json": {
       "model_id": "6b81790befce48908ead863bfe1297c6",
       "version_major": 2,
       "version_minor": 0
      },
      "text/plain": [
       "  0%|          | 0/158 [00:00<?, ?it/s]"
      ]
     },
     "metadata": {},
     "output_type": "display_data"
    },
    {
     "name": "stdout",
     "output_type": "stream",
     "text": [
      "| epoch 370 |    31/  158 batches | lr 0.00000 | ms/batch 30.45546 | loss 3.80492\n",
      "| epoch 370 |    62/  158 batches | lr 0.00000 | ms/batch 28.89569 | loss 3.90500\n",
      "| epoch 370 |    93/  158 batches | lr 0.00000 | ms/batch 38.57207 | loss 3.79410\n",
      "| epoch 370 |   124/  158 batches | lr 0.00000 | ms/batch 29.45910 | loss 3.77408\n",
      "| epoch 370 |   155/  158 batches | lr 0.00000 | ms/batch 29.12239 | loss 3.74030\n",
      "-----------------------------------------------------------------------------------------\n",
      "| end of epoch 370 | time:  5.22s | valid loss 7.7949 | mean loss   3.8072\n",
      "-----------------------------------------------------------------------------------------\n",
      "Epoch #371\n"
     ]
    },
    {
     "data": {
      "application/vnd.jupyter.widget-view+json": {
       "model_id": "f03e56baf7164ae7bc40197f2ed0ce94",
       "version_major": 2,
       "version_minor": 0
      },
      "text/plain": [
       "  0%|          | 0/158 [00:00<?, ?it/s]"
      ]
     },
     "metadata": {},
     "output_type": "display_data"
    },
    {
     "name": "stdout",
     "output_type": "stream",
     "text": [
      "| epoch 371 |    31/  158 batches | lr 0.00000 | ms/batch 30.66065 | loss 3.87726\n",
      "| epoch 371 |    62/  158 batches | lr 0.00000 | ms/batch 30.00055 | loss 3.79153\n",
      "| epoch 371 |    93/  158 batches | lr 0.00000 | ms/batch 30.07157 | loss 3.83838\n",
      "| epoch 371 |   124/  158 batches | lr 0.00000 | ms/batch 30.17286 | loss 3.89671\n",
      "| epoch 371 |   155/  158 batches | lr 0.00000 | ms/batch 29.73724 | loss 3.64182\n",
      "-----------------------------------------------------------------------------------------\n",
      "| end of epoch 371 | time:  5.03s | valid loss 7.7949 | mean loss   3.8072\n",
      "-----------------------------------------------------------------------------------------\n",
      "Epoch #372\n"
     ]
    },
    {
     "data": {
      "application/vnd.jupyter.widget-view+json": {
       "model_id": "e260bee9b01b4e8293d02172da9e3b95",
       "version_major": 2,
       "version_minor": 0
      },
      "text/plain": [
       "  0%|          | 0/158 [00:00<?, ?it/s]"
      ]
     },
     "metadata": {},
     "output_type": "display_data"
    },
    {
     "name": "stdout",
     "output_type": "stream",
     "text": [
      "| epoch 372 |    31/  158 batches | lr 0.00000 | ms/batch 31.60620 | loss 3.86147\n",
      "| epoch 372 |    62/  158 batches | lr 0.00000 | ms/batch 29.08590 | loss 3.65752\n",
      "| epoch 372 |    93/  158 batches | lr 0.00000 | ms/batch 30.01463 | loss 3.83680\n",
      "| epoch 372 |   124/  158 batches | lr 0.00000 | ms/batch 29.74088 | loss 3.82407\n",
      "| epoch 372 |   155/  158 batches | lr 0.00000 | ms/batch 29.91341 | loss 3.83901\n",
      "-----------------------------------------------------------------------------------------\n",
      "| end of epoch 372 | time:  5.02s | valid loss 7.7949 | mean loss   3.8071\n",
      "-----------------------------------------------------------------------------------------\n",
      "Epoch #373\n"
     ]
    },
    {
     "data": {
      "application/vnd.jupyter.widget-view+json": {
       "model_id": "1ab8431c34244ad99dd3f9c9923181f8",
       "version_major": 2,
       "version_minor": 0
      },
      "text/plain": [
       "  0%|          | 0/158 [00:00<?, ?it/s]"
      ]
     },
     "metadata": {},
     "output_type": "display_data"
    },
    {
     "name": "stdout",
     "output_type": "stream",
     "text": [
      "| epoch 373 |    31/  158 batches | lr 0.00000 | ms/batch 30.65621 | loss 3.82820\n",
      "| epoch 373 |    62/  158 batches | lr 0.00000 | ms/batch 29.00626 | loss 3.82636\n",
      "| epoch 373 |    93/  158 batches | lr 0.00000 | ms/batch 29.52158 | loss 3.72875\n",
      "| epoch 373 |   124/  158 batches | lr 0.00000 | ms/batch 30.03067 | loss 3.83450\n",
      "| epoch 373 |   155/  158 batches | lr 0.00000 | ms/batch 29.46519 | loss 3.86323\n",
      "-----------------------------------------------------------------------------------------\n",
      "| end of epoch 373 | time:  4.96s | valid loss 7.7949 | mean loss   3.8070\n",
      "-----------------------------------------------------------------------------------------\n",
      "Epoch #374\n"
     ]
    },
    {
     "data": {
      "application/vnd.jupyter.widget-view+json": {
       "model_id": "18e83c802bc94f01a95e4f74cd57caf2",
       "version_major": 2,
       "version_minor": 0
      },
      "text/plain": [
       "  0%|          | 0/158 [00:00<?, ?it/s]"
      ]
     },
     "metadata": {},
     "output_type": "display_data"
    },
    {
     "name": "stdout",
     "output_type": "stream",
     "text": [
      "| epoch 374 |    31/  158 batches | lr 0.00000 | ms/batch 34.28248 | loss 4.02814\n",
      "| epoch 374 |    62/  158 batches | lr 0.00000 | ms/batch 29.88105 | loss 3.64132\n",
      "| epoch 374 |    93/  158 batches | lr 0.00000 | ms/batch 30.25100 | loss 3.84469\n",
      "| epoch 374 |   124/  158 batches | lr 0.00000 | ms/batch 29.06854 | loss 3.71105\n",
      "| epoch 374 |   155/  158 batches | lr 0.00000 | ms/batch 29.62867 | loss 3.80746\n",
      "-----------------------------------------------------------------------------------------\n",
      "| end of epoch 374 | time:  5.10s | valid loss 7.7949 | mean loss   3.8070\n",
      "-----------------------------------------------------------------------------------------\n",
      "Epoch #375\n"
     ]
    },
    {
     "data": {
      "application/vnd.jupyter.widget-view+json": {
       "model_id": "8b4e79bc8645426aacef92d107a2c6b9",
       "version_major": 2,
       "version_minor": 0
      },
      "text/plain": [
       "  0%|          | 0/158 [00:00<?, ?it/s]"
      ]
     },
     "metadata": {},
     "output_type": "display_data"
    },
    {
     "name": "stdout",
     "output_type": "stream",
     "text": [
      "| epoch 375 |    31/  158 batches | lr 0.00000 | ms/batch 31.24751 | loss 4.09043\n",
      "| epoch 375 |    62/  158 batches | lr 0.00000 | ms/batch 30.47788 | loss 3.70080\n",
      "| epoch 375 |    93/  158 batches | lr 0.00000 | ms/batch 29.02868 | loss 3.77170\n",
      "| epoch 375 |   124/  158 batches | lr 0.00000 | ms/batch 30.05015 | loss 3.78257\n",
      "| epoch 375 |   155/  158 batches | lr 0.00000 | ms/batch 29.35384 | loss 3.71950\n",
      "-----------------------------------------------------------------------------------------\n",
      "| end of epoch 375 | time:  5.00s | valid loss 7.7949 | mean loss   3.8069\n",
      "-----------------------------------------------------------------------------------------\n",
      "Epoch #376\n"
     ]
    },
    {
     "data": {
      "application/vnd.jupyter.widget-view+json": {
       "model_id": "27e80ca8ecde4097ae6d86aa4ad9c979",
       "version_major": 2,
       "version_minor": 0
      },
      "text/plain": [
       "  0%|          | 0/158 [00:00<?, ?it/s]"
      ]
     },
     "metadata": {},
     "output_type": "display_data"
    },
    {
     "name": "stdout",
     "output_type": "stream",
     "text": [
      "| epoch 376 |    31/  158 batches | lr 0.00000 | ms/batch 30.28067 | loss 4.00401\n",
      "| epoch 376 |    62/  158 batches | lr 0.00000 | ms/batch 29.17384 | loss 3.57692\n",
      "| epoch 376 |    93/  158 batches | lr 0.00000 | ms/batch 30.06592 | loss 3.87251\n",
      "| epoch 376 |   124/  158 batches | lr 0.00000 | ms/batch 28.84305 | loss 3.80461\n",
      "| epoch 376 |   155/  158 batches | lr 0.00000 | ms/batch 29.79964 | loss 3.77608\n",
      "-----------------------------------------------------------------------------------------\n",
      "| end of epoch 376 | time:  4.94s | valid loss 7.7949 | mean loss   3.8069\n",
      "-----------------------------------------------------------------------------------------\n",
      "Epoch #377\n"
     ]
    },
    {
     "data": {
      "application/vnd.jupyter.widget-view+json": {
       "model_id": "2d35c771fc754c1aa826d9d7027eb1a3",
       "version_major": 2,
       "version_minor": 0
      },
      "text/plain": [
       "  0%|          | 0/158 [00:00<?, ?it/s]"
      ]
     },
     "metadata": {},
     "output_type": "display_data"
    },
    {
     "name": "stdout",
     "output_type": "stream",
     "text": [
      "| epoch 377 |    31/  158 batches | lr 0.00000 | ms/batch 30.21879 | loss 3.82417\n",
      "| epoch 377 |    62/  158 batches | lr 0.00000 | ms/batch 30.63431 | loss 3.82111\n",
      "| epoch 377 |    93/  158 batches | lr 0.00000 | ms/batch 30.08244 | loss 3.89048\n",
      "| epoch 377 |   124/  158 batches | lr 0.00000 | ms/batch 30.36445 | loss 3.70955\n",
      "| epoch 377 |   155/  158 batches | lr 0.00000 | ms/batch 29.75429 | loss 3.78111\n",
      "-----------------------------------------------------------------------------------------\n",
      "| end of epoch 377 | time:  5.04s | valid loss 7.7949 | mean loss   3.8068\n",
      "-----------------------------------------------------------------------------------------\n",
      "Epoch #378\n"
     ]
    },
    {
     "data": {
      "application/vnd.jupyter.widget-view+json": {
       "model_id": "e422954f42d34bd493a1360774aca684",
       "version_major": 2,
       "version_minor": 0
      },
      "text/plain": [
       "  0%|          | 0/158 [00:00<?, ?it/s]"
      ]
     },
     "metadata": {},
     "output_type": "display_data"
    },
    {
     "name": "stdout",
     "output_type": "stream",
     "text": [
      "| epoch 378 |    31/  158 batches | lr 0.00000 | ms/batch 31.24790 | loss 3.71974\n",
      "| epoch 378 |    62/  158 batches | lr 0.00000 | ms/batch 30.13229 | loss 3.78888\n",
      "| epoch 378 |    93/  158 batches | lr 0.00000 | ms/batch 29.34060 | loss 3.81839\n",
      "| epoch 378 |   124/  158 batches | lr 0.00000 | ms/batch 29.67262 | loss 3.87068\n",
      "| epoch 378 |   155/  158 batches | lr 0.00000 | ms/batch 30.11564 | loss 3.83721\n",
      "-----------------------------------------------------------------------------------------\n",
      "| end of epoch 378 | time:  5.03s | valid loss 7.7949 | mean loss   3.8067\n",
      "-----------------------------------------------------------------------------------------\n",
      "Epoch #379\n"
     ]
    },
    {
     "data": {
      "application/vnd.jupyter.widget-view+json": {
       "model_id": "2ca004791a954113ae5617dbff8eedbd",
       "version_major": 2,
       "version_minor": 0
      },
      "text/plain": [
       "  0%|          | 0/158 [00:00<?, ?it/s]"
      ]
     },
     "metadata": {},
     "output_type": "display_data"
    },
    {
     "name": "stdout",
     "output_type": "stream",
     "text": [
      "| epoch 379 |    31/  158 batches | lr 0.00000 | ms/batch 30.33046 | loss 3.90974\n",
      "| epoch 379 |    62/  158 batches | lr 0.00000 | ms/batch 29.22735 | loss 3.73777\n",
      "| epoch 379 |    93/  158 batches | lr 0.00000 | ms/batch 29.63568 | loss 3.79859\n",
      "| epoch 379 |   124/  158 batches | lr 0.00000 | ms/batch 29.76729 | loss 3.84767\n",
      "| epoch 379 |   155/  158 batches | lr 0.00000 | ms/batch 29.77835 | loss 3.76481\n",
      "-----------------------------------------------------------------------------------------\n",
      "| end of epoch 379 | time:  4.96s | valid loss 7.7949 | mean loss   3.8067\n",
      "-----------------------------------------------------------------------------------------\n",
      "Epoch #380\n"
     ]
    },
    {
     "data": {
      "application/vnd.jupyter.widget-view+json": {
       "model_id": "28e906b53f174837b78fbec6c194ed22",
       "version_major": 2,
       "version_minor": 0
      },
      "text/plain": [
       "  0%|          | 0/158 [00:00<?, ?it/s]"
      ]
     },
     "metadata": {},
     "output_type": "display_data"
    },
    {
     "name": "stdout",
     "output_type": "stream",
     "text": [
      "| epoch 380 |    31/  158 batches | lr 0.00000 | ms/batch 34.16734 | loss 3.92657\n",
      "| epoch 380 |    62/  158 batches | lr 0.00000 | ms/batch 29.59917 | loss 3.81524\n",
      "| epoch 380 |    93/  158 batches | lr 0.00000 | ms/batch 30.02691 | loss 3.84922\n",
      "| epoch 380 |   124/  158 batches | lr 0.00000 | ms/batch 29.91130 | loss 3.70904\n",
      "| epoch 380 |   155/  158 batches | lr 0.00000 | ms/batch 30.32474 | loss 3.76618\n",
      "-----------------------------------------------------------------------------------------\n",
      "| end of epoch 380 | time:  5.14s | valid loss 7.7949 | mean loss   3.8066\n",
      "-----------------------------------------------------------------------------------------\n",
      "Epoch #381\n"
     ]
    },
    {
     "data": {
      "application/vnd.jupyter.widget-view+json": {
       "model_id": "35c2549978e04069808900dd42af087c",
       "version_major": 2,
       "version_minor": 0
      },
      "text/plain": [
       "  0%|          | 0/158 [00:00<?, ?it/s]"
      ]
     },
     "metadata": {},
     "output_type": "display_data"
    },
    {
     "name": "stdout",
     "output_type": "stream",
     "text": [
      "| epoch 381 |    31/  158 batches | lr 0.00000 | ms/batch 31.11436 | loss 3.90693\n",
      "| epoch 381 |    62/  158 batches | lr 0.00000 | ms/batch 30.69741 | loss 3.82098\n",
      "| epoch 381 |    93/  158 batches | lr 0.00000 | ms/batch 30.76286 | loss 3.79876\n",
      "| epoch 381 |   124/  158 batches | lr 0.00000 | ms/batch 32.02187 | loss 3.77402\n",
      "| epoch 381 |   155/  158 batches | lr 0.00000 | ms/batch 32.19433 | loss 3.76307\n",
      "-----------------------------------------------------------------------------------------\n",
      "| end of epoch 381 | time:  5.25s | valid loss 7.7949 | mean loss   3.8066\n",
      "-----------------------------------------------------------------------------------------\n",
      "Epoch #382\n"
     ]
    },
    {
     "data": {
      "application/vnd.jupyter.widget-view+json": {
       "model_id": "fb5e6b93a12740ed89c4e9d44a3ec22d",
       "version_major": 2,
       "version_minor": 0
      },
      "text/plain": [
       "  0%|          | 0/158 [00:00<?, ?it/s]"
      ]
     },
     "metadata": {},
     "output_type": "display_data"
    },
    {
     "name": "stdout",
     "output_type": "stream",
     "text": [
      "| epoch 382 |    31/  158 batches | lr 0.00000 | ms/batch 33.18975 | loss 3.98269\n",
      "| epoch 382 |    62/  158 batches | lr 0.00000 | ms/batch 32.74731 | loss 3.98019\n",
      "| epoch 382 |    93/  158 batches | lr 0.00000 | ms/batch 31.74836 | loss 3.68326\n",
      "| epoch 382 |   124/  158 batches | lr 0.00000 | ms/batch 32.16747 | loss 3.72086\n",
      "| epoch 382 |   155/  158 batches | lr 0.00000 | ms/batch 32.24628 | loss 3.69215\n",
      "-----------------------------------------------------------------------------------------\n",
      "| end of epoch 382 | time:  5.42s | valid loss 7.7949 | mean loss   3.8065\n",
      "-----------------------------------------------------------------------------------------\n",
      "Epoch #383\n"
     ]
    },
    {
     "data": {
      "application/vnd.jupyter.widget-view+json": {
       "model_id": "2041d8ef46264fe4a68b99226a36e67e",
       "version_major": 2,
       "version_minor": 0
      },
      "text/plain": [
       "  0%|          | 0/158 [00:00<?, ?it/s]"
      ]
     },
     "metadata": {},
     "output_type": "display_data"
    },
    {
     "name": "stdout",
     "output_type": "stream",
     "text": [
      "| epoch 383 |    31/  158 batches | lr 0.00000 | ms/batch 32.69919 | loss 3.87789\n",
      "| epoch 383 |    62/  158 batches | lr 0.00000 | ms/batch 31.67516 | loss 3.88052\n",
      "| epoch 383 |    93/  158 batches | lr 0.00000 | ms/batch 32.70522 | loss 3.69523\n",
      "| epoch 383 |   124/  158 batches | lr 0.00000 | ms/batch 32.19053 | loss 3.85808\n",
      "| epoch 383 |   155/  158 batches | lr 0.00000 | ms/batch 30.64561 | loss 3.71305\n",
      "-----------------------------------------------------------------------------------------\n",
      "| end of epoch 383 | time:  5.30s | valid loss 7.7949 | mean loss   3.8064\n",
      "-----------------------------------------------------------------------------------------\n",
      "Epoch #384\n"
     ]
    },
    {
     "data": {
      "application/vnd.jupyter.widget-view+json": {
       "model_id": "5f03c61f17cf4e97a24b2acfb325ff19",
       "version_major": 2,
       "version_minor": 0
      },
      "text/plain": [
       "  0%|          | 0/158 [00:00<?, ?it/s]"
      ]
     },
     "metadata": {},
     "output_type": "display_data"
    },
    {
     "name": "stdout",
     "output_type": "stream",
     "text": [
      "| epoch 384 |    31/  158 batches | lr 0.00000 | ms/batch 30.63024 | loss 3.84132\n",
      "| epoch 384 |    62/  158 batches | lr 0.00000 | ms/batch 29.24481 | loss 3.75154\n",
      "| epoch 384 |    93/  158 batches | lr 0.00000 | ms/batch 28.95427 | loss 4.02459\n",
      "| epoch 384 |   124/  158 batches | lr 0.00000 | ms/batch 29.65210 | loss 3.84915\n",
      "| epoch 384 |   155/  158 batches | lr 0.00000 | ms/batch 37.25769 | loss 3.58105\n",
      "-----------------------------------------------------------------------------------------\n",
      "| end of epoch 384 | time:  5.43s | valid loss 7.7949 | mean loss   3.8064\n",
      "-----------------------------------------------------------------------------------------\n",
      "Epoch #385\n"
     ]
    },
    {
     "data": {
      "application/vnd.jupyter.widget-view+json": {
       "model_id": "b6acb30b57a744f6a7a2828f1b273210",
       "version_major": 2,
       "version_minor": 0
      },
      "text/plain": [
       "  0%|          | 0/158 [00:00<?, ?it/s]"
      ]
     },
     "metadata": {},
     "output_type": "display_data"
    },
    {
     "name": "stdout",
     "output_type": "stream",
     "text": [
      "| epoch 385 |    31/  158 batches | lr 0.00000 | ms/batch 31.04360 | loss 3.93670\n",
      "| epoch 385 |    62/  158 batches | lr 0.00000 | ms/batch 29.99620 | loss 3.85208\n",
      "| epoch 385 |    93/  158 batches | lr 0.00000 | ms/batch 29.86915 | loss 3.73307\n",
      "| epoch 385 |   124/  158 batches | lr 0.00000 | ms/batch 32.80260 | loss 3.73922\n",
      "| epoch 385 |   155/  158 batches | lr 0.00000 | ms/batch 29.78823 | loss 3.78948\n",
      "-----------------------------------------------------------------------------------------\n",
      "| end of epoch 385 | time:  5.11s | valid loss 7.7949 | mean loss   3.8063\n",
      "-----------------------------------------------------------------------------------------\n",
      "Epoch #386\n"
     ]
    },
    {
     "data": {
      "application/vnd.jupyter.widget-view+json": {
       "model_id": "ff0e86f9f6cf4843b037fddc4531a0fd",
       "version_major": 2,
       "version_minor": 0
      },
      "text/plain": [
       "  0%|          | 0/158 [00:00<?, ?it/s]"
      ]
     },
     "metadata": {},
     "output_type": "display_data"
    },
    {
     "name": "stdout",
     "output_type": "stream",
     "text": [
      "| epoch 386 |    31/  158 batches | lr 0.00000 | ms/batch 31.52678 | loss 4.17308\n",
      "| epoch 386 |    62/  158 batches | lr 0.00000 | ms/batch 28.38917 | loss 3.76590\n",
      "| epoch 386 |    93/  158 batches | lr 0.00000 | ms/batch 30.06514 | loss 3.77473\n",
      "| epoch 386 |   124/  158 batches | lr 0.00000 | ms/batch 29.84367 | loss 3.67360\n",
      "| epoch 386 |   155/  158 batches | lr 0.00000 | ms/batch 29.88642 | loss 3.66499\n",
      "-----------------------------------------------------------------------------------------\n",
      "| end of epoch 386 | time:  5.00s | valid loss 7.7949 | mean loss   3.8063\n",
      "-----------------------------------------------------------------------------------------\n",
      "Epoch #387\n"
     ]
    },
    {
     "data": {
      "application/vnd.jupyter.widget-view+json": {
       "model_id": "d2af43ed9c194a06b1521d8a8a26f590",
       "version_major": 2,
       "version_minor": 0
      },
      "text/plain": [
       "  0%|          | 0/158 [00:00<?, ?it/s]"
      ]
     },
     "metadata": {},
     "output_type": "display_data"
    },
    {
     "name": "stdout",
     "output_type": "stream",
     "text": [
      "| epoch 387 |    31/  158 batches | lr 0.00000 | ms/batch 30.37289 | loss 3.83317\n",
      "| epoch 387 |    62/  158 batches | lr 0.00000 | ms/batch 29.77429 | loss 3.75922\n",
      "| epoch 387 |    93/  158 batches | lr 0.00000 | ms/batch 28.95308 | loss 3.74772\n",
      "| epoch 387 |   124/  158 batches | lr 0.00000 | ms/batch 29.54010 | loss 3.72705\n",
      "| epoch 387 |   155/  158 batches | lr 0.00000 | ms/batch 29.26523 | loss 3.96915\n",
      "-----------------------------------------------------------------------------------------\n",
      "| end of epoch 387 | time:  4.95s | valid loss 7.7949 | mean loss   3.8062\n",
      "-----------------------------------------------------------------------------------------\n",
      "Epoch #388\n"
     ]
    },
    {
     "data": {
      "application/vnd.jupyter.widget-view+json": {
       "model_id": "bcad13e4c1484f1e8c8ae50ad7037919",
       "version_major": 2,
       "version_minor": 0
      },
      "text/plain": [
       "  0%|          | 0/158 [00:00<?, ?it/s]"
      ]
     },
     "metadata": {},
     "output_type": "display_data"
    },
    {
     "name": "stdout",
     "output_type": "stream",
     "text": [
      "| epoch 388 |    31/  158 batches | lr 0.00000 | ms/batch 31.33395 | loss 3.90471\n",
      "| epoch 388 |    62/  158 batches | lr 0.00000 | ms/batch 29.18992 | loss 3.78926\n",
      "| epoch 388 |    93/  158 batches | lr 0.00000 | ms/batch 30.20873 | loss 3.82489\n",
      "| epoch 388 |   124/  158 batches | lr 0.00000 | ms/batch 29.32982 | loss 3.91886\n",
      "| epoch 388 |   155/  158 batches | lr 0.00000 | ms/batch 29.93141 | loss 3.56441\n",
      "-----------------------------------------------------------------------------------------\n",
      "| end of epoch 388 | time:  5.01s | valid loss 7.7949 | mean loss   3.8061\n",
      "-----------------------------------------------------------------------------------------\n",
      "Epoch #389\n"
     ]
    },
    {
     "data": {
      "application/vnd.jupyter.widget-view+json": {
       "model_id": "5d709e9541944318a53c4ff9d5a08de9",
       "version_major": 2,
       "version_minor": 0
      },
      "text/plain": [
       "  0%|          | 0/158 [00:00<?, ?it/s]"
      ]
     },
     "metadata": {},
     "output_type": "display_data"
    },
    {
     "name": "stdout",
     "output_type": "stream",
     "text": [
      "| epoch 389 |    31/  158 batches | lr 0.00000 | ms/batch 29.69665 | loss 3.78766\n",
      "| epoch 389 |    62/  158 batches | lr 0.00000 | ms/batch 29.75961 | loss 3.97169\n",
      "| epoch 389 |    93/  158 batches | lr 0.00000 | ms/batch 30.04439 | loss 3.85541\n",
      "| epoch 389 |   124/  158 batches | lr 0.00000 | ms/batch 29.86282 | loss 3.66059\n",
      "| epoch 389 |   155/  158 batches | lr 0.00000 | ms/batch 29.84225 | loss 3.81051\n",
      "-----------------------------------------------------------------------------------------\n",
      "| end of epoch 389 | time:  4.98s | valid loss 7.7949 | mean loss   3.8061\n",
      "-----------------------------------------------------------------------------------------\n",
      "Epoch #390\n"
     ]
    },
    {
     "data": {
      "application/vnd.jupyter.widget-view+json": {
       "model_id": "e7c4d43c5d0548e39d646395133e0dec",
       "version_major": 2,
       "version_minor": 0
      },
      "text/plain": [
       "  0%|          | 0/158 [00:00<?, ?it/s]"
      ]
     },
     "metadata": {},
     "output_type": "display_data"
    },
    {
     "name": "stdout",
     "output_type": "stream",
     "text": [
      "| epoch 390 |    31/  158 batches | lr 0.00000 | ms/batch 30.41740 | loss 3.85006\n",
      "| epoch 390 |    62/  158 batches | lr 0.00000 | ms/batch 28.90228 | loss 3.91905\n",
      "| epoch 390 |    93/  158 batches | lr 0.00000 | ms/batch 29.94179 | loss 3.76018\n",
      "| epoch 390 |   124/  158 batches | lr 0.00000 | ms/batch 29.62169 | loss 3.66085\n",
      "| epoch 390 |   155/  158 batches | lr 0.00000 | ms/batch 28.90091 | loss 3.87200\n",
      "-----------------------------------------------------------------------------------------\n",
      "| end of epoch 390 | time:  4.95s | valid loss 7.7949 | mean loss   3.8060\n",
      "-----------------------------------------------------------------------------------------\n",
      "Epoch #391\n"
     ]
    },
    {
     "data": {
      "application/vnd.jupyter.widget-view+json": {
       "model_id": "d23a2f2f78ca4ac4ab9db07ef423f732",
       "version_major": 2,
       "version_minor": 0
      },
      "text/plain": [
       "  0%|          | 0/158 [00:00<?, ?it/s]"
      ]
     },
     "metadata": {},
     "output_type": "display_data"
    },
    {
     "name": "stdout",
     "output_type": "stream",
     "text": [
      "| epoch 391 |    31/  158 batches | lr 0.00000 | ms/batch 30.37734 | loss 4.02020\n",
      "| epoch 391 |    62/  158 batches | lr 0.00000 | ms/batch 29.48210 | loss 3.68507\n",
      "| epoch 391 |    93/  158 batches | lr 0.00000 | ms/batch 29.10976 | loss 3.77178\n",
      "| epoch 391 |   124/  158 batches | lr 0.00000 | ms/batch 31.27081 | loss 3.66586\n",
      "| epoch 391 |   155/  158 batches | lr 0.00000 | ms/batch 31.13301 | loss 3.90526\n",
      "-----------------------------------------------------------------------------------------\n",
      "| end of epoch 391 | time:  5.05s | valid loss 7.7949 | mean loss   3.8060\n",
      "-----------------------------------------------------------------------------------------\n",
      "Epoch #392\n"
     ]
    },
    {
     "data": {
      "application/vnd.jupyter.widget-view+json": {
       "model_id": "f1e3ead3c88b476cb4277ca53d4f61fe",
       "version_major": 2,
       "version_minor": 0
      },
      "text/plain": [
       "  0%|          | 0/158 [00:00<?, ?it/s]"
      ]
     },
     "metadata": {},
     "output_type": "display_data"
    },
    {
     "name": "stdout",
     "output_type": "stream",
     "text": [
      "| epoch 392 |    31/  158 batches | lr 0.00000 | ms/batch 30.71494 | loss 3.82613\n",
      "| epoch 392 |    62/  158 batches | lr 0.00000 | ms/batch 28.38452 | loss 3.71775\n",
      "| epoch 392 |    93/  158 batches | lr 0.00000 | ms/batch 30.20463 | loss 3.82728\n",
      "| epoch 392 |   124/  158 batches | lr 0.00000 | ms/batch 30.34762 | loss 3.89406\n",
      "| epoch 392 |   155/  158 batches | lr 0.00000 | ms/batch 29.59411 | loss 3.78891\n",
      "-----------------------------------------------------------------------------------------\n",
      "| end of epoch 392 | time:  5.00s | valid loss 7.7949 | mean loss   3.8059\n",
      "-----------------------------------------------------------------------------------------\n",
      "Epoch #393\n"
     ]
    },
    {
     "data": {
      "application/vnd.jupyter.widget-view+json": {
       "model_id": "e630905168fe4de8b53e73673056f2d1",
       "version_major": 2,
       "version_minor": 0
      },
      "text/plain": [
       "  0%|          | 0/158 [00:00<?, ?it/s]"
      ]
     },
     "metadata": {},
     "output_type": "display_data"
    },
    {
     "name": "stdout",
     "output_type": "stream",
     "text": [
      "| epoch 393 |    31/  158 batches | lr 0.00000 | ms/batch 30.57564 | loss 3.84813\n",
      "| epoch 393 |    62/  158 batches | lr 0.00000 | ms/batch 29.96430 | loss 3.88512\n",
      "| epoch 393 |    93/  158 batches | lr 0.00000 | ms/batch 29.61600 | loss 3.82941\n",
      "| epoch 393 |   124/  158 batches | lr 0.00000 | ms/batch 29.20152 | loss 3.63264\n",
      "| epoch 393 |   155/  158 batches | lr 0.00000 | ms/batch 29.57686 | loss 3.84441\n",
      "-----------------------------------------------------------------------------------------\n",
      "| end of epoch 393 | time:  4.97s | valid loss 7.7949 | mean loss   3.8059\n",
      "-----------------------------------------------------------------------------------------\n",
      "Epoch #394\n"
     ]
    },
    {
     "data": {
      "application/vnd.jupyter.widget-view+json": {
       "model_id": "44cb605351ff48188614eb817b797e50",
       "version_major": 2,
       "version_minor": 0
      },
      "text/plain": [
       "  0%|          | 0/158 [00:00<?, ?it/s]"
      ]
     },
     "metadata": {},
     "output_type": "display_data"
    },
    {
     "name": "stdout",
     "output_type": "stream",
     "text": [
      "| epoch 394 |    31/  158 batches | lr 0.00000 | ms/batch 31.63425 | loss 3.96589\n",
      "| epoch 394 |    62/  158 batches | lr 0.00000 | ms/batch 28.79914 | loss 3.70153\n",
      "| epoch 394 |    93/  158 batches | lr 0.00000 | ms/batch 29.22093 | loss 3.79976\n",
      "| epoch 394 |   124/  158 batches | lr 0.00000 | ms/batch 28.96389 | loss 3.58905\n",
      "| epoch 394 |   155/  158 batches | lr 0.00000 | ms/batch 29.15618 | loss 3.97070\n",
      "-----------------------------------------------------------------------------------------\n",
      "| end of epoch 394 | time:  4.94s | valid loss 7.7949 | mean loss   3.8058\n",
      "-----------------------------------------------------------------------------------------\n",
      "Epoch #395\n"
     ]
    },
    {
     "data": {
      "application/vnd.jupyter.widget-view+json": {
       "model_id": "d4f410ec9f454553b7ed9d36ceed1966",
       "version_major": 2,
       "version_minor": 0
      },
      "text/plain": [
       "  0%|          | 0/158 [00:00<?, ?it/s]"
      ]
     },
     "metadata": {},
     "output_type": "display_data"
    },
    {
     "name": "stdout",
     "output_type": "stream",
     "text": [
      "| epoch 395 |    31/  158 batches | lr 0.00000 | ms/batch 30.29655 | loss 3.91385\n",
      "| epoch 395 |    62/  158 batches | lr 0.00000 | ms/batch 29.63083 | loss 3.93838\n",
      "| epoch 395 |    93/  158 batches | lr 0.00000 | ms/batch 29.87051 | loss 3.79074\n",
      "| epoch 395 |   124/  158 batches | lr 0.00000 | ms/batch 29.52131 | loss 3.77792\n",
      "| epoch 395 |   155/  158 batches | lr 0.00000 | ms/batch 29.49644 | loss 3.63235\n",
      "-----------------------------------------------------------------------------------------\n",
      "| end of epoch 395 | time:  4.96s | valid loss 7.7949 | mean loss   3.8058\n",
      "-----------------------------------------------------------------------------------------\n",
      "Epoch #396\n"
     ]
    },
    {
     "data": {
      "application/vnd.jupyter.widget-view+json": {
       "model_id": "da490bc584ff4127804dc3e15db754a0",
       "version_major": 2,
       "version_minor": 0
      },
      "text/plain": [
       "  0%|          | 0/158 [00:00<?, ?it/s]"
      ]
     },
     "metadata": {},
     "output_type": "display_data"
    },
    {
     "name": "stdout",
     "output_type": "stream",
     "text": [
      "| epoch 396 |    31/  158 batches | lr 0.00000 | ms/batch 31.39868 | loss 3.90048\n",
      "| epoch 396 |    62/  158 batches | lr 0.00000 | ms/batch 28.72835 | loss 3.87406\n",
      "| epoch 396 |    93/  158 batches | lr 0.00000 | ms/batch 29.90482 | loss 3.68359\n",
      "| epoch 396 |   124/  158 batches | lr 0.00000 | ms/batch 29.87346 | loss 3.72842\n",
      "| epoch 396 |   155/  158 batches | lr 0.00000 | ms/batch 29.59754 | loss 3.85622\n",
      "-----------------------------------------------------------------------------------------\n",
      "| end of epoch 396 | time:  5.00s | valid loss 7.7949 | mean loss   3.8057\n",
      "-----------------------------------------------------------------------------------------\n",
      "Epoch #397\n"
     ]
    },
    {
     "data": {
      "application/vnd.jupyter.widget-view+json": {
       "model_id": "27b86eac5c8e4339a1b13fa8d6d42755",
       "version_major": 2,
       "version_minor": 0
      },
      "text/plain": [
       "  0%|          | 0/158 [00:00<?, ?it/s]"
      ]
     },
     "metadata": {},
     "output_type": "display_data"
    },
    {
     "name": "stdout",
     "output_type": "stream",
     "text": [
      "| epoch 397 |    31/  158 batches | lr 0.00000 | ms/batch 31.07758 | loss 3.84602\n",
      "| epoch 397 |    62/  158 batches | lr 0.00000 | ms/batch 29.42820 | loss 3.86731\n",
      "| epoch 397 |    93/  158 batches | lr 0.00000 | ms/batch 29.23016 | loss 3.67996\n",
      "| epoch 397 |   124/  158 batches | lr 0.00000 | ms/batch 29.50524 | loss 3.88813\n",
      "| epoch 397 |   155/  158 batches | lr 0.00000 | ms/batch 32.68831 | loss 3.76637\n",
      "-----------------------------------------------------------------------------------------\n",
      "| end of epoch 397 | time:  5.06s | valid loss 7.7949 | mean loss   3.8056\n",
      "-----------------------------------------------------------------------------------------\n",
      "Epoch #398\n"
     ]
    },
    {
     "data": {
      "application/vnd.jupyter.widget-view+json": {
       "model_id": "679dc11bc8eb465bb759896e02f50808",
       "version_major": 2,
       "version_minor": 0
      },
      "text/plain": [
       "  0%|          | 0/158 [00:00<?, ?it/s]"
      ]
     },
     "metadata": {},
     "output_type": "display_data"
    },
    {
     "name": "stdout",
     "output_type": "stream",
     "text": [
      "| epoch 398 |    31/  158 batches | lr 0.00000 | ms/batch 30.44549 | loss 3.87565\n",
      "| epoch 398 |    62/  158 batches | lr 0.00000 | ms/batch 29.77081 | loss 3.80197\n",
      "| epoch 398 |    93/  158 batches | lr 0.00000 | ms/batch 29.23885 | loss 3.62302\n",
      "| epoch 398 |   124/  158 batches | lr 0.00000 | ms/batch 29.66253 | loss 4.01870\n",
      "| epoch 398 |   155/  158 batches | lr 0.00000 | ms/batch 29.02719 | loss 3.73888\n",
      "-----------------------------------------------------------------------------------------\n",
      "| end of epoch 398 | time:  4.95s | valid loss 7.7949 | mean loss   3.8056\n",
      "-----------------------------------------------------------------------------------------\n",
      "Epoch #399\n"
     ]
    },
    {
     "data": {
      "application/vnd.jupyter.widget-view+json": {
       "model_id": "8d39a75e0ee140b996491cb884521f74",
       "version_major": 2,
       "version_minor": 0
      },
      "text/plain": [
       "  0%|          | 0/158 [00:00<?, ?it/s]"
      ]
     },
     "metadata": {},
     "output_type": "display_data"
    },
    {
     "name": "stdout",
     "output_type": "stream",
     "text": [
      "| epoch 399 |    31/  158 batches | lr 0.00000 | ms/batch 30.91610 | loss 3.97484\n",
      "| epoch 399 |    62/  158 batches | lr 0.00000 | ms/batch 29.67858 | loss 3.81607\n",
      "| epoch 399 |    93/  158 batches | lr 0.00000 | ms/batch 29.49788 | loss 3.89997\n",
      "| epoch 399 |   124/  158 batches | lr 0.00000 | ms/batch 29.25111 | loss 3.65828\n",
      "| epoch 399 |   155/  158 batches | lr 0.00000 | ms/batch 30.10807 | loss 3.71870\n",
      "-----------------------------------------------------------------------------------------\n",
      "| end of epoch 399 | time:  4.98s | valid loss 7.7949 | mean loss   3.8055\n",
      "-----------------------------------------------------------------------------------------\n",
      "Epoch #400\n"
     ]
    },
    {
     "data": {
      "application/vnd.jupyter.widget-view+json": {
       "model_id": "aceb083474994285be741f197c31ec18",
       "version_major": 2,
       "version_minor": 0
      },
      "text/plain": [
       "  0%|          | 0/158 [00:00<?, ?it/s]"
      ]
     },
     "metadata": {},
     "output_type": "display_data"
    },
    {
     "name": "stdout",
     "output_type": "stream",
     "text": [
      "| epoch 400 |    31/  158 batches | lr 0.00000 | ms/batch 31.03199 | loss 3.94135\n",
      "| epoch 400 |    62/  158 batches | lr 0.00000 | ms/batch 28.50060 | loss 3.78875\n",
      "| epoch 400 |    93/  158 batches | lr 0.00000 | ms/batch 29.12695 | loss 3.57733\n",
      "| epoch 400 |   124/  158 batches | lr 0.00000 | ms/batch 29.64774 | loss 3.73473\n",
      "| epoch 400 |   155/  158 batches | lr 0.00000 | ms/batch 28.69079 | loss 4.00842\n",
      "-----------------------------------------------------------------------------------------\n",
      "| end of epoch 400 | time:  4.91s | valid loss 7.7949 | mean loss   3.8055\n",
      "-----------------------------------------------------------------------------------------\n"
     ]
    },
    {
     "data": {
      "image/png": "[encoded data removed]",
      "text/plain": [
       "<Figure size 640x480 with 1 Axes>"
      ]
     },
     "metadata": {},
     "output_type": "display_data"
    }
   ],
   "source": [
    "# Trainig\n",
    "#build live matplotlib fig\n",
    "\n",
    "fig = plt.figure()\n",
    "ax = fig.add_subplot(111)\n",
    "plt.ion()\n",
    "fig.show()\n",
    "fig.canvas.draw()\n",
    "\n",
    "LOAD_MODEL = True\n",
    "if LOAD_MODEL:\n",
    "    load_ckpt(\"{}/checkpoints/epoch_{}_batch_{}_ckpts.pt\".format(os.getcwd(), 50, batch_size), model, optimizer)\n",
    "lr = 0.1\n",
    "scaler = torch.cuda.amp.GradScaler()\n",
    "print(scaler)\n",
    "best_val_loss = float('inf')\n",
    "#writer = SummaryWriter(\"run/loss_plot\")\n",
    "step = 0\n",
    "\n",
    "\n",
    "for epoch in tqdm(range(1, epochs+1)):\n",
    "    print(f'Epoch #{epoch}')\n",
    "    epoch_start_time = time.time()\n",
    "    train_loss, sep_train_loss, train_pearsonr = train(model, train_dataloader, optimizer, scaler, None, step)\n",
    "#     print(train_loss)\n",
    "    train_losses.append(train_loss)\n",
    "    sep_train_losses.append(sep_train_loss)\n",
    "    mean_loss = sum(train_losses)/len(train_losses)\n",
    "    val_loss, sep_val_loss, val_pearsonr = validate(model, val_dataloader)\n",
    "    val_losses.append(val_loss)\n",
    "    sep_val_losses.append(sep_val_loss)\n",
    "    test_loss, sep_test_loss, test_pearsonr = validate(model, test_dataloader)\n",
    "    test_losses.append(test_loss)\n",
    "    sep_test_losses.append(sep_test_loss)\n",
    "    elapsed = time.time() - epoch_start_time\n",
    "    print('-' * 89)\n",
    "    print(f'| end of epoch {epoch:3d} | time: {elapsed:5.2f}s | '\n",
    "        f'valid loss {val_loss:5.4f} | mean loss {mean_loss:8.4f}')\n",
    "    print('-' * 89)\n",
    "    ax.clear()\n",
    "    ax.plot(mean_loss, label='train loss')\n",
    "    ax.plot(val_loss.cpu(), label='validation loss')\n",
    "    ax.set_title(\"Mean Squared Error\")\n",
    "    ax.legend()\n",
    "    fig.canvas.draw()\n",
    "    if val_loss < best_val_loss:\n",
    "        best_val_loss = val_loss\n",
    "        # save model\n",
    "#         save_ckpt(\"{}/checkpoints/epoch_{}_ckpts.pt\".format(os.getcwd(), epoch), model, optimizer,epochs, val_loss)\n",
    "        save_ckpt(\"{}/checkpoints\".format(os.getcwd(), epoch), model, optimizer,epochs, train_losses, val_losses)\n",
    "\n",
    "    # scheduler.step(mean_loss)\n",
    "    scheduler.step()\n",
    "# load_ckpt(\"/content/drive/MyDrive/checkpoints.pt\", model, optimizer)\n"
   ]
  },
  {
   "cell_type": "code",
   "execution_count": null,
   "metadata": {},
   "outputs": [],
   "source": [
    "sep_train_losses"
   ]
  },
  {
   "cell_type": "code",
   "execution_count": null,
   "metadata": {},
   "outputs": [],
   "source": []
  }
 ],
 "metadata": {
  "kernelspec": {
   "display_name": "fov_env",
   "language": "python",
   "name": "fov_env"
  },
  "language_info": {
   "codemirror_mode": {
    "name": "ipython",
    "version": 3
   },
   "file_extension": ".py",
   "mimetype": "text/x-python",
   "name": "python",
   "nbconvert_exporter": "python",
   "pygments_lexer": "ipython3",
   "version": "3.11.4"
  },
  "toc": {
   "base_numbering": 1,
   "nav_menu": {},
   "number_sections": true,
   "sideBar": true,
   "skip_h1_title": false,
   "title_cell": "Table of Contents",
   "title_sidebar": "Contents",
   "toc_cell": false,
   "toc_position": {},
   "toc_section_display": true,
   "toc_window_display": false
  }
 },
 "nbformat": 4,
 "nbformat_minor": 4
}
