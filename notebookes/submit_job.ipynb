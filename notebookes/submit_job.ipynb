{
 "cells": [
  {
   "cell_type": "markdown",
   "metadata": {},
   "source": [
    "### import gc, argparse, sys, os, errno\n",
    "%pylab inline\n",
    "import numpy as np\n",
    "import pandas as pd\n",
    "import matplotlib.pyplot as plt\n",
    "import seaborn as sns\n",
    "#sns.set()\n",
    "#sns.set_style('whitegrid')\n",
    "import h5py\n",
    "from PIL import Image\n",
    "import os\n",
    "from tqdm.notebook import tqdm\n",
    "import scipy\n",
    "import sklearn\n",
    "from scipy.stats import pearsonr\n",
    "import warnings\n",
    "warnings.filterwarnings('ignore')\n",
    "sys.path.append('/scratch/xc1490/projects/tmp/python_packages')\n",
    "sys.path.append('/scratch/xc1490/projects/tmp/python_packages/') #pip install --target=/home/xc1490/home/projects/tmp/python_packages package_name"
   ]
  },
  {
   "cell_type": "markdown",
   "metadata": {},
   "source": [
    "python main.py  --model iTransformer   --data_path processed_data --hist_time 2 \\\n",
    "--pred_time 1 --batch_size 16 --feature_names XYZ_FEATURE_NAMES \\\n",
    "--n_heads 3 --head_dim 3 --dim_val 9  --n_decoder_layers 2 --n_encoder_layers 2 --pe_mode standard\n",
    "\n",
    "python main.py  --model iTransformer   --data_path processed_data --hist_time 2 \\\n",
    "--pred_time 0.1 --batch_size 16 --feature_names XYZ_FEATURE_NAMES \\\n",
    "--n_heads 3 --head_dim 3 --d_model 9  --n_decoder_layers 2 --n_encoder_layers 2 --pe_mode standard\n",
    "\n",
    "python main.py  --model PatchTST   --data_path processed_data --hist_time 2 \\\n",
    "--pred_time 0.1 --batch_size 16 --feature_names XYZ_FEATURE_NAMES \\\n",
    "--n_heads 3 --head_dim 3 --d_model 9  --n_decoder_layers 2 --n_encoder_layers 2 --pe_mode standard\n",
    "\n",
    "python main.py  --model MyTransformer   --data_path processed_data --hist_time 2 \\\n",
    "--pred_time 0.1 --batch_size 16 --feature_names XYZ_FEATURE_NAMES \\\n",
    "--n_heads 3 --head_dim 3 --d_model 9  --n_decoder_layers 2 --n_encoder_layers 2 --pe_mode standard"
   ]
  },
  {
   "cell_type": "code",
   "execution_count": 24,
   "metadata": {},
   "outputs": [
    {
     "name": "stdout",
     "output_type": "stream",
     "text": [
      "Populating the interactive namespace from numpy and matplotlib\n"
     ]
    }
   ],
   "source": [
    "import gc, argparse, sys, os, errno\n",
    "%pylab inline\n",
    "import numpy as np\n",
    "import pandas as pd\n",
    "import matplotlib.pyplot as plt\n",
    "import seaborn as sns\n",
    "#sns.set()\n",
    "#sns.set_style('whitegrid')\n",
    "import h5py\n",
    "from PIL import Image\n",
    "import os\n",
    "from tqdm.notebook import tqdm\n",
    "import scipy\n",
    "import sklearn\n",
    "from scipy.stats import pearsonr\n",
    "import warnings\n",
    "from datetime import datetime\n",
    "warnings.filterwarnings('ignore')"
   ]
  },
  {
   "cell_type": "code",
   "execution_count": 2,
   "metadata": {},
   "outputs": [
    {
     "name": "stdout",
     "output_type": "stream",
     "text": [
      "/scratch/xc1490/projects/FoV\n"
     ]
    }
   ],
   "source": [
    "cd /scratch/xc1490/projects/FoV/"
   ]
  },
  {
   "cell_type": "code",
   "execution_count": 14,
   "metadata": {},
   "outputs": [],
   "source": [
    "def fov_prediction(model,hist_time, pred_time,batch_size , feature_names,n_heads,head_dim,\\\n",
    "                  d_model,n_decoder_layers,n_encoder_layers,pe_mode,out_suffix,num_epochs,printcommand=True):\n",
    "    text = '#!/bin/bash'\n",
    "    text += '\\n'\n",
    "    text += '\\n'\n",
    "    text += '#SBATCH --job-name=fov{}'.format(model)\n",
    "    text += '\\n'\n",
    "    text += '#SBATCH --nodes=1'\n",
    "    text += '\\n'\n",
    "    text += '#SBATCH --cpus-per-task=1'\n",
    "    text += '\\n'\n",
    "    text += '#SBATCH --mem=24GB'\n",
    "    text += '\\n'\n",
    "    text += '#SBATCH --time=8:00:00'\n",
    "    text += '\\n'\n",
    "    text += '#SBATCH --gres=gpu:1'\n",
    "    text += '\\n'\n",
    "    text += 'overlay_ext3=/home/xc1490/home/apps/ddsp.ext3'\n",
    "    text +='\\n'\n",
    "    text +='singularity exec --nv \\\\'\n",
    "    text +='\\n'\n",
    "    text +='    --overlay ${overlay_ext3}:ro \\\\'\n",
    "    text +='\\n'\n",
    "    text +='    /scratch/work/public/singularity/cuda11.0-cudnn8-devel-ubuntu18.04.sif \\\\'\n",
    "    text +='\\n'\n",
    "    text +='    /bin/bash -c \"'\n",
    "    text +='\\n'\n",
    "    text +='source /ext3/env.sh'\n",
    "    text +='\\n'\n",
    "    text +='cd /scratch/xc1490/projects/FoV/'\n",
    "    text +='\\n'\n",
    "    text1 ='python main.py  --model {} --data_path processed_data --hist_time {} \\\n",
    "                        --pred_time {} --batch_size {} --feature_names {} \\\n",
    "                        --n_heads {} --head_dim {} --d_model {}  --n_decoder_layers {} --n_encoder_layers {} --pe_mode {} \\\n",
    "                        --out_suffix {} --num_epochs {}\"'.format(\\\n",
    "                      model,hist_time, pred_time,batch_size , feature_names,n_heads,head_dim,\\\n",
    "                  d_model,n_decoder_layers,n_encoder_layers,pe_mode,out_suffix,num_epochs)\n",
    "    text += text1\n",
    "    text +='\\n'\n",
    "    \n",
    "    job_file = '/scratch/xc1490/projects/FoV/jobs/model_{}_hist_{}_pred_{}_bs_{}_feat_{}_n_heads_{}_hedim_{}_dmod_{}_declay_{}_enc_lay_{}_pe_{}_{}_epoch_{}'.format(\n",
    "                        model,hist_time, pred_time,batch_size , feature_names.split('_')[0],n_heads,head_dim,\\\n",
    "                  d_model,n_decoder_layers,n_encoder_layers,pe_mode,out_suffix,num_epochs)\n",
    "\n",
    "    f= open(job_file,\"w+\")\n",
    "    f.write(text)\n",
    "    f.close()\n",
    "    if printcommand:\n",
    "        print ('sbatch ',job_file)\n",
    "    return text1"
   ]
  },
  {
   "cell_type": "code",
   "execution_count": 10,
   "metadata": {
    "scrolled": true
   },
   "outputs": [
    {
     "name": "stdout",
     "output_type": "stream",
     "text": [
      "sbatch  /scratch/xc1490/projects/FoV/jobs/model_MyTransformer_hist_2_pred_0.1_bs_8_feat_XYZ_n_heads_3_hedim_3_dmod_9_declay_2_enc_lay_2_pe_standard_20240313_epoch_2000\n",
      "sbatch  /scratch/xc1490/projects/FoV/jobs/model_MyTransformer_hist_1_pred_0.1_bs_8_feat_XYZ_n_heads_3_hedim_3_dmod_9_declay_2_enc_lay_2_pe_standard_20240313_epoch_2000\n",
      "sbatch  /scratch/xc1490/projects/FoV/jobs/model_MyTransformer_hist_0.5_pred_0.1_bs_8_feat_XYZ_n_heads_3_hedim_3_dmod_9_declay_2_enc_lay_2_pe_standard_20240313_epoch_2000\n",
      "sbatch  /scratch/xc1490/projects/FoV/jobs/model_MyTransformer_hist_2_pred_0.5_bs_8_feat_XYZ_n_heads_3_hedim_3_dmod_9_declay_2_enc_lay_2_pe_standard_20240313_epoch_2000\n",
      "sbatch  /scratch/xc1490/projects/FoV/jobs/model_MyTransformer_hist_1_pred_0.5_bs_8_feat_XYZ_n_heads_3_hedim_3_dmod_9_declay_2_enc_lay_2_pe_standard_20240313_epoch_2000\n",
      "sbatch  /scratch/xc1490/projects/FoV/jobs/model_MyTransformer_hist_0.5_pred_0.5_bs_8_feat_XYZ_n_heads_3_hedim_3_dmod_9_declay_2_enc_lay_2_pe_standard_20240313_epoch_2000\n",
      "sbatch  /scratch/xc1490/projects/FoV/jobs/model_MyTransformer_hist_0.1_pred_0.1_bs_8_feat_XYZ_n_heads_3_hedim_3_dmod_9_declay_2_enc_lay_2_pe_standard_20240313_epoch_2000\n",
      "sbatch  /scratch/xc1490/projects/FoV/jobs/model_MyTransformer_hist_2_pred_2_bs_8_feat_XYZ_n_heads_3_hedim_3_dmod_9_declay_2_enc_lay_2_pe_standard_20240313_epoch_2000\n",
      "sbatch  /scratch/xc1490/projects/FoV/jobs/model_MyTransformer_hist_1_pred_1_bs_8_feat_XYZ_n_heads_3_hedim_3_dmod_9_declay_2_enc_lay_2_pe_standard_20240313_epoch_2000\n",
      "sbatch  /scratch/xc1490/projects/FoV/jobs/model_TimesNet_hist_2_pred_0.1_bs_8_feat_XYZ_n_heads_3_hedim_3_dmod_9_declay_2_enc_lay_2_pe_standard_20240313_epoch_2000\n",
      "sbatch  /scratch/xc1490/projects/FoV/jobs/model_TimesNet_hist_1_pred_0.1_bs_8_feat_XYZ_n_heads_3_hedim_3_dmod_9_declay_2_enc_lay_2_pe_standard_20240313_epoch_2000\n",
      "sbatch  /scratch/xc1490/projects/FoV/jobs/model_TimesNet_hist_0.5_pred_0.1_bs_8_feat_XYZ_n_heads_3_hedim_3_dmod_9_declay_2_enc_lay_2_pe_standard_20240313_epoch_2000\n",
      "sbatch  /scratch/xc1490/projects/FoV/jobs/model_TimesNet_hist_2_pred_0.5_bs_8_feat_XYZ_n_heads_3_hedim_3_dmod_9_declay_2_enc_lay_2_pe_standard_20240313_epoch_2000\n",
      "sbatch  /scratch/xc1490/projects/FoV/jobs/model_TimesNet_hist_1_pred_0.5_bs_8_feat_XYZ_n_heads_3_hedim_3_dmod_9_declay_2_enc_lay_2_pe_standard_20240313_epoch_2000\n",
      "sbatch  /scratch/xc1490/projects/FoV/jobs/model_TimesNet_hist_0.5_pred_0.5_bs_8_feat_XYZ_n_heads_3_hedim_3_dmod_9_declay_2_enc_lay_2_pe_standard_20240313_epoch_2000\n",
      "sbatch  /scratch/xc1490/projects/FoV/jobs/model_TimesNet_hist_0.1_pred_0.1_bs_8_feat_XYZ_n_heads_3_hedim_3_dmod_9_declay_2_enc_lay_2_pe_standard_20240313_epoch_2000\n",
      "sbatch  /scratch/xc1490/projects/FoV/jobs/model_TimesNet_hist_2_pred_2_bs_8_feat_XYZ_n_heads_3_hedim_3_dmod_9_declay_2_enc_lay_2_pe_standard_20240313_epoch_2000\n",
      "sbatch  /scratch/xc1490/projects/FoV/jobs/model_TimesNet_hist_1_pred_1_bs_8_feat_XYZ_n_heads_3_hedim_3_dmod_9_declay_2_enc_lay_2_pe_standard_20240313_epoch_2000\n",
      "sbatch  /scratch/xc1490/projects/FoV/jobs/model_iTransformer_hist_2_pred_0.1_bs_8_feat_XYZ_n_heads_3_hedim_3_dmod_9_declay_2_enc_lay_2_pe_standard_20240313_epoch_2000\n",
      "sbatch  /scratch/xc1490/projects/FoV/jobs/model_iTransformer_hist_1_pred_0.1_bs_8_feat_XYZ_n_heads_3_hedim_3_dmod_9_declay_2_enc_lay_2_pe_standard_20240313_epoch_2000\n",
      "sbatch  /scratch/xc1490/projects/FoV/jobs/model_iTransformer_hist_0.5_pred_0.1_bs_8_feat_XYZ_n_heads_3_hedim_3_dmod_9_declay_2_enc_lay_2_pe_standard_20240313_epoch_2000\n",
      "sbatch  /scratch/xc1490/projects/FoV/jobs/model_iTransformer_hist_2_pred_0.5_bs_8_feat_XYZ_n_heads_3_hedim_3_dmod_9_declay_2_enc_lay_2_pe_standard_20240313_epoch_2000\n",
      "sbatch  /scratch/xc1490/projects/FoV/jobs/model_iTransformer_hist_1_pred_0.5_bs_8_feat_XYZ_n_heads_3_hedim_3_dmod_9_declay_2_enc_lay_2_pe_standard_20240313_epoch_2000\n",
      "sbatch  /scratch/xc1490/projects/FoV/jobs/model_iTransformer_hist_0.5_pred_0.5_bs_8_feat_XYZ_n_heads_3_hedim_3_dmod_9_declay_2_enc_lay_2_pe_standard_20240313_epoch_2000\n",
      "sbatch  /scratch/xc1490/projects/FoV/jobs/model_iTransformer_hist_0.1_pred_0.1_bs_8_feat_XYZ_n_heads_3_hedim_3_dmod_9_declay_2_enc_lay_2_pe_standard_20240313_epoch_2000\n",
      "sbatch  /scratch/xc1490/projects/FoV/jobs/model_iTransformer_hist_2_pred_2_bs_8_feat_XYZ_n_heads_3_hedim_3_dmod_9_declay_2_enc_lay_2_pe_standard_20240313_epoch_2000\n",
      "sbatch  /scratch/xc1490/projects/FoV/jobs/model_iTransformer_hist_1_pred_1_bs_8_feat_XYZ_n_heads_3_hedim_3_dmod_9_declay_2_enc_lay_2_pe_standard_20240313_epoch_2000\n",
      "sbatch  /scratch/xc1490/projects/FoV/jobs/model_PatchTST_hist_2_pred_0.1_bs_8_feat_XYZ_n_heads_3_hedim_3_dmod_9_declay_2_enc_lay_2_pe_standard_20240313_epoch_2000\n",
      "sbatch  /scratch/xc1490/projects/FoV/jobs/model_PatchTST_hist_1_pred_0.1_bs_8_feat_XYZ_n_heads_3_hedim_3_dmod_9_declay_2_enc_lay_2_pe_standard_20240313_epoch_2000\n",
      "sbatch  /scratch/xc1490/projects/FoV/jobs/model_PatchTST_hist_0.5_pred_0.1_bs_8_feat_XYZ_n_heads_3_hedim_3_dmod_9_declay_2_enc_lay_2_pe_standard_20240313_epoch_2000\n",
      "sbatch  /scratch/xc1490/projects/FoV/jobs/model_PatchTST_hist_2_pred_0.5_bs_8_feat_XYZ_n_heads_3_hedim_3_dmod_9_declay_2_enc_lay_2_pe_standard_20240313_epoch_2000\n",
      "sbatch  /scratch/xc1490/projects/FoV/jobs/model_PatchTST_hist_1_pred_0.5_bs_8_feat_XYZ_n_heads_3_hedim_3_dmod_9_declay_2_enc_lay_2_pe_standard_20240313_epoch_2000\n",
      "sbatch  /scratch/xc1490/projects/FoV/jobs/model_PatchTST_hist_0.5_pred_0.5_bs_8_feat_XYZ_n_heads_3_hedim_3_dmod_9_declay_2_enc_lay_2_pe_standard_20240313_epoch_2000\n",
      "sbatch  /scratch/xc1490/projects/FoV/jobs/model_PatchTST_hist_0.1_pred_0.1_bs_8_feat_XYZ_n_heads_3_hedim_3_dmod_9_declay_2_enc_lay_2_pe_standard_20240313_epoch_2000\n",
      "sbatch  /scratch/xc1490/projects/FoV/jobs/model_PatchTST_hist_2_pred_2_bs_8_feat_XYZ_n_heads_3_hedim_3_dmod_9_declay_2_enc_lay_2_pe_standard_20240313_epoch_2000\n",
      "sbatch  /scratch/xc1490/projects/FoV/jobs/model_PatchTST_hist_1_pred_1_bs_8_feat_XYZ_n_heads_3_hedim_3_dmod_9_declay_2_enc_lay_2_pe_standard_20240313_epoch_2000\n",
      "sbatch  /scratch/xc1490/projects/FoV/jobs/model_Reformer_hist_2_pred_0.1_bs_8_feat_XYZ_n_heads_3_hedim_3_dmod_9_declay_2_enc_lay_2_pe_standard_20240313_epoch_2000\n",
      "sbatch  /scratch/xc1490/projects/FoV/jobs/model_Reformer_hist_1_pred_0.1_bs_8_feat_XYZ_n_heads_3_hedim_3_dmod_9_declay_2_enc_lay_2_pe_standard_20240313_epoch_2000\n",
      "sbatch  /scratch/xc1490/projects/FoV/jobs/model_Reformer_hist_0.5_pred_0.1_bs_8_feat_XYZ_n_heads_3_hedim_3_dmod_9_declay_2_enc_lay_2_pe_standard_20240313_epoch_2000\n",
      "sbatch  /scratch/xc1490/projects/FoV/jobs/model_Reformer_hist_2_pred_0.5_bs_8_feat_XYZ_n_heads_3_hedim_3_dmod_9_declay_2_enc_lay_2_pe_standard_20240313_epoch_2000\n",
      "sbatch  /scratch/xc1490/projects/FoV/jobs/model_Reformer_hist_1_pred_0.5_bs_8_feat_XYZ_n_heads_3_hedim_3_dmod_9_declay_2_enc_lay_2_pe_standard_20240313_epoch_2000\n",
      "sbatch  /scratch/xc1490/projects/FoV/jobs/model_Reformer_hist_0.5_pred_0.5_bs_8_feat_XYZ_n_heads_3_hedim_3_dmod_9_declay_2_enc_lay_2_pe_standard_20240313_epoch_2000\n",
      "sbatch  /scratch/xc1490/projects/FoV/jobs/model_Reformer_hist_0.1_pred_0.1_bs_8_feat_XYZ_n_heads_3_hedim_3_dmod_9_declay_2_enc_lay_2_pe_standard_20240313_epoch_2000\n",
      "sbatch  /scratch/xc1490/projects/FoV/jobs/model_Reformer_hist_2_pred_2_bs_8_feat_XYZ_n_heads_3_hedim_3_dmod_9_declay_2_enc_lay_2_pe_standard_20240313_epoch_2000\n",
      "sbatch  /scratch/xc1490/projects/FoV/jobs/model_Reformer_hist_1_pred_1_bs_8_feat_XYZ_n_heads_3_hedim_3_dmod_9_declay_2_enc_lay_2_pe_standard_20240313_epoch_2000\n"
     ]
    }
   ],
   "source": [
    "model='MyTransformer'\n",
    "hist_time, pred_time = 2,0.1\n",
    "batch_size = 8\n",
    "feature_names = 'XYZ_FEATURE_NAMES'\n",
    "n_heads = 3\n",
    "head_dim = 3\n",
    "d_model = 9\n",
    "n_decoder_layers = 2\n",
    "n_encoder_layers = 2\n",
    "pe_mode = 'standard'\n",
    "out_suffix = '20240313'\n",
    "num_epochs = 2000\n",
    "for model in ['MyTransformer','TimesNet','iTransformer','PatchTST','Reformer']:\n",
    "    for times in [[2,0.1],[1,0.1],[0.5,0.1],[2,0.5],[1,0.5],[0.5,0.5],[0.1,0.1],[2,2],[1,1]]:\n",
    "        hist_time, pred_time = times\n",
    "        text  = fov_prediction(model,hist_time, pred_time,batch_size , feature_names,n_heads,head_dim,\\\n",
    "                      d_model,n_decoder_layers,n_encoder_layers,pe_mode,out_suffix,num_epochs)"
   ]
  },
  {
   "cell_type": "code",
   "execution_count": 11,
   "metadata": {},
   "outputs": [
    {
     "data": {
      "text/plain": [
       "'python main.py  --model Reformer --data_path processed_data --hist_time 1                         --pred_time 1 --batch_size 8 --feature_names XYZ_FEATURE_NAMES                         --n_heads 3 --head_dim 3 --d_model 9  --n_decoder_layers 2 --n_encoder_layers 2 --pe_mode standard                         --out_suffix 20240313 --num_epochs 2000\"'"
      ]
     },
     "execution_count": 11,
     "metadata": {},
     "output_type": "execute_result"
    }
   ],
   "source": [
    "text"
   ]
  },
  {
   "cell_type": "code",
   "execution_count": 37,
   "metadata": {},
   "outputs": [],
   "source": [
    "def fov_prediction_multiple(python_commands,suffix=''):\n",
    "    text = '#!/bin/bash'\n",
    "    text += '\\n'\n",
    "    text += '\\n'\n",
    "    text += '#SBATCH --job-name=fov{}'.format(model)\n",
    "    text += '\\n'\n",
    "    text += '#SBATCH --nodes=1'\n",
    "    text += '\\n'\n",
    "    text += '#SBATCH --cpus-per-task=1'\n",
    "    text += '\\n'\n",
    "    text += '#SBATCH --mem=24GB'\n",
    "    text += '\\n'\n",
    "    text += '#SBATCH --time=16:00:00'\n",
    "    text += '\\n'\n",
    "    text += '#SBATCH --gres=gpu:1'\n",
    "    text += '\\n'\n",
    "    text += 'overlay_ext3=/scratch/xc1490/apps/ddsp.ext3'\n",
    "    text +='\\n'\n",
    "    text +='singularity exec --nv \\\\'\n",
    "    text +='\\n'\n",
    "    text +='    --overlay ${overlay_ext3}:ro \\\\'\n",
    "    text +='\\n'\n",
    "    text +='    /scratch/work/public/singularity/cuda11.0-cudnn8-devel-ubuntu18.04.sif \\\\'\n",
    "    text +='\\n'\n",
    "    text +='    /bin/bash -c \"'\n",
    "    text +='\\n'\n",
    "    text +='source /ext3/env.sh'\n",
    "    text +='\\n'\n",
    "    text +='cd /scratch/xc1490/projects/FoV/'\n",
    "    text +='\\n'\n",
    "    for python_command in python_commands:\n",
    "        text +=  python_command + ' &' + '\\n'\n",
    "    text +='\\n'\n",
    "    text += 'wait'\n",
    "    job_file = '/scratch/xc1490/projects/FoV/jobs/{}_{}.sbatch'.format(datetime.now().strftime(\"%m-%d-%Y-%H\"),suffix)\n",
    "\n",
    "    f= open(job_file,\"w+\")\n",
    "    f.write(text)\n",
    "    f.close()\n",
    "    print ('sbatch ',job_file)"
   ]
  },
  {
   "cell_type": "code",
   "execution_count": 38,
   "metadata": {
    "scrolled": true
   },
   "outputs": [],
   "source": [
    "model='MyTransformer'\n",
    "hist_time, pred_time = 2,0.1\n",
    "batch_size = 16\n",
    "feature_names = 'XYZ_FEATURE_NAMES'\n",
    "n_heads = 3\n",
    "head_dim = 3\n",
    "d_model = 9\n",
    "n_decoder_layers = 2\n",
    "n_encoder_layers = 2\n",
    "pe_mode = 'standard'\n",
    "out_suffix = '20240313'\n",
    "num_epochs = 2000\n",
    "texts = []\n",
    "for model in ['MyTransformer','TimesNet','iTransformer','PatchTST','Reformer']:\n",
    "    for times in [[2,0.1],[1,0.1],[0.5,0.1],[2,0.5],[1,0.5],[0.5,0.5],[0.1,0.1],[2,2],[1,1]]:\n",
    "        hist_time, pred_time = times\n",
    "        text  = fov_prediction(model,hist_time, pred_time,batch_size , feature_names,n_heads,head_dim,\\\n",
    "                      d_model,n_decoder_layers,n_encoder_layers,pe_mode,out_suffix,num_epochs,printcommand=False)\n",
    "        texts.append(text[:-1])"
   ]
  },
  {
   "cell_type": "code",
   "execution_count": 39,
   "metadata": {},
   "outputs": [
    {
     "name": "stdout",
     "output_type": "stream",
     "text": [
      "sbatch  /scratch/xc1490/projects/FoV/jobs/03-13-2024-20_0.sbatch\n",
      "sbatch  /scratch/xc1490/projects/FoV/jobs/03-13-2024-20_1.sbatch\n",
      "sbatch  /scratch/xc1490/projects/FoV/jobs/03-13-2024-20_2.sbatch\n",
      "sbatch  /scratch/xc1490/projects/FoV/jobs/03-13-2024-20_3.sbatch\n",
      "sbatch  /scratch/xc1490/projects/FoV/jobs/03-13-2024-20_4.sbatch\n",
      "sbatch  /scratch/xc1490/projects/FoV/jobs/03-13-2024-20_5.sbatch\n",
      "sbatch  /scratch/xc1490/projects/FoV/jobs/03-13-2024-20_6.sbatch\n",
      "sbatch  /scratch/xc1490/projects/FoV/jobs/03-13-2024-20_7.sbatch\n",
      "sbatch  /scratch/xc1490/projects/FoV/jobs/03-13-2024-20_8.sbatch\n",
      "sbatch  /scratch/xc1490/projects/FoV/jobs/03-13-2024-20_9.sbatch\n",
      "sbatch  /scratch/xc1490/projects/FoV/jobs/03-13-2024-20_10.sbatch\n"
     ]
    }
   ],
   "source": [
    "for i in range(len(texts)//4):\n",
    "    #print (i, texts[i*4:min(i*4+4,len(texts))])\n",
    "    fov_prediction_multiple(texts[i*4:min(i*4+4,len(texts))],suffix=str(i))"
   ]
  },
  {
   "cell_type": "code",
   "execution_count": 40,
   "metadata": {},
   "outputs": [
    {
     "name": "stdout",
     "output_type": "stream",
     "text": [
      "#!/bin/bash\r\n",
      "\r\n",
      "#SBATCH --job-name=fovReformer\r\n",
      "#SBATCH --nodes=1\r\n",
      "#SBATCH --cpus-per-task=1\r\n",
      "#SBATCH --mem=24GB\r\n",
      "#SBATCH --time=12:00:00\r\n",
      "#SBATCH --gres=gpu:1\r\n",
      "overlay_ext3=/scratch/xc1490/apps/ddsp.ext3\r\n",
      "singularity exec --nv \\\r\n",
      "    --overlay ${overlay_ext3}:ro \\\r\n",
      "    /scratch/work/public/singularity/cuda11.0-cudnn8-devel-ubuntu18.04.sif \\\r\n",
      "    /bin/bash -c \"\r\n",
      "source /ext3/env.sh\r\n",
      "cd /scratch/xc1490/projects/FoV/\r\n",
      "python main.py  --model MyTransformer --data_path processed_data --hist_time 2                         --pred_time 0.1 --batch_size 16 --feature_names XYZ_FEATURE_NAMES                         --n_heads 3 --head_dim 3 --d_model 9  --n_decoder_layers 2 --n_encoder_layers 2 --pe_mode standard                         --out_suffix 20240313 --num_epochs 2000 &\r\n",
      "python main.py  --model MyTransformer --data_path processed_data --hist_time 1                         --pred_time 0.1 --batch_size 16 --feature_names XYZ_FEATURE_NAMES                         --n_heads 3 --head_dim 3 --d_model 9  --n_decoder_layers 2 --n_encoder_layers 2 --pe_mode standard                         --out_suffix 20240313 --num_epochs 2000 &\r\n",
      "python main.py  --model MyTransformer --data_path processed_data --hist_time 0.5                         --pred_time 0.1 --batch_size 16 --feature_names XYZ_FEATURE_NAMES                         --n_heads 3 --head_dim 3 --d_model 9  --n_decoder_layers 2 --n_encoder_layers 2 --pe_mode standard                         --out_suffix 20240313 --num_epochs 2000 &\r\n",
      "python main.py  --model MyTransformer --data_path processed_data --hist_time 2                         --pred_time 0.5 --batch_size 16 --feature_names XYZ_FEATURE_NAMES                         --n_heads 3 --head_dim 3 --d_model 9  --n_decoder_layers 2 --n_encoder_layers 2 --pe_mode standard                         --out_suffix 20240313 --num_epochs 2000 &\r\n",
      "\r\n",
      "wait"
     ]
    }
   ],
   "source": [
    "cat /scratch/xc1490/projects/FoV/jobs/03-13-2024-20_0.sbatch"
   ]
  },
  {
   "cell_type": "code",
   "execution_count": null,
   "metadata": {},
   "outputs": [],
   "source": []
  }
 ],
 "metadata": {
  "kernelspec": {
   "display_name": "Python 3",
   "language": "python",
   "name": "python3"
  },
  "language_info": {
   "codemirror_mode": {
    "name": "ipython",
    "version": 3
   },
   "file_extension": ".py",
   "mimetype": "text/x-python",
   "name": "python",
   "nbconvert_exporter": "python",
   "pygments_lexer": "ipython3",
   "version": "3.7.9"
  },
  "toc": {
   "base_numbering": 1,
   "nav_menu": {},
   "number_sections": true,
   "sideBar": true,
   "skip_h1_title": false,
   "title_cell": "Table of Contents",
   "title_sidebar": "Contents",
   "toc_cell": false,
   "toc_position": {},
   "toc_section_display": true,
   "toc_window_display": false
  }
 },
 "nbformat": 4,
 "nbformat_minor": 4
}
